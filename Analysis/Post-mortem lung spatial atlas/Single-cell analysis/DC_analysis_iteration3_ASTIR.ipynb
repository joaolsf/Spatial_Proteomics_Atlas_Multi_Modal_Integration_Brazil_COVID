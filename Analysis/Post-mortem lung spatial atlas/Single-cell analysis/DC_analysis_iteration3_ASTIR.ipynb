{
 "cells": [
  {
   "cell_type": "markdown",
   "id": "f93400a9",
   "metadata": {},
   "source": [
    "# Import libraries and setup"
   ]
  },
  {
   "cell_type": "code",
   "execution_count": null,
   "id": "389cfa0b",
   "metadata": {},
   "outputs": [],
   "source": [
    "# Import libraries we may need\n",
    "import scanpy as sc\n",
    "import numpy as np\n",
    "import scipy as sp\n",
    "import pandas as pd\n",
    "import matplotlib.pyplot as plt\n",
    "from matplotlib import rcParams\n",
    "from matplotlib import colors\n",
    "import seaborn as sb\n",
    "import scanpy.external as sce\n",
    "import wget\n",
    "import yaml\n",
    "import wget\n",
    "import astir\n",
    "import dill\n",
    "import umap\n",
    "reducer = umap.UMAP()\n",
    "\n",
    "#My module for importing IMC data into AnnData format\n",
    "import mikeimc as mimc"
   ]
  },
  {
   "cell_type": "code",
   "execution_count": null,
   "id": "26a8b227",
   "metadata": {},
   "outputs": [],
   "source": [
    "# Set up output figure settings\n",
    "plt.rcParams['figure.figsize']=(64,64) #rescale figures, increase sizehere\n",
    "\n",
    "# Set up scanpy settings\n",
    "sc.settings.verbosity = 3\n",
    "sc.set_figure_params(dpi=100, dpi_save=300) #Increase DPI for better resolution figures\n",
    "#sc.logging.print_versions()"
   ]
  },
  {
   "cell_type": "markdown",
   "id": "dc0281c4",
   "metadata": {},
   "source": [
    "# Save / restore environemnt\n",
    "Use these functions to either save or load the environmental variables, otherwise you will lose all the objects between opening/closing Jupyter sessions!"
   ]
  },
  {
   "cell_type": "code",
   "execution_count": null,
   "id": "ecfe3dc8",
   "metadata": {},
   "outputs": [],
   "source": [
    "#load the session\n",
    "dill.load_session('DC_notebook_env_iteration3_ASTIR.db')"
   ]
  },
  {
   "cell_type": "code",
   "execution_count": null,
   "id": "591176c1",
   "metadata": {},
   "outputs": [],
   "source": [
    "#save the session\n",
    "dill.dump_session('DC_notebook_env_iteration3_ASTIR.db')"
   ]
  },
  {
   "cell_type": "markdown",
   "id": "b0d100f2",
   "metadata": {},
   "source": [
    "# Importing data and setup"
   ]
  },
  {
   "cell_type": "code",
   "execution_count": null,
   "id": "e282b3f1",
   "metadata": {},
   "outputs": [],
   "source": [
    "#This approach of generating adata is different from the approach below and it uses different input files.\n",
    "\n",
    "from importlib import reload\n",
    "mimc = reload(mimc)\n",
    "\n",
    "adata, df_misc = mimc.celltable_to_adata(column_properties='./columns.csv', #Contents define how the columns in the cell table should be handled\n",
    "                                                cell_table='./cells.csv', #The full cell table as exported by whatever cell segmentation pipeline\n",
    "                                                dictionary='./dictionary.csv', #If this is specified, it will add extra observations based upon the ROI, e.g. what group/patient/treatment it came from\n",
    "                                                marker_normalisation='99th', #Marker normalisation, by default will be None\n",
    "                                                misc_table=True) #Whether or not a second dataframe of 'misc' findings will be imported"
   ]
  },
  {
   "cell_type": "code",
   "execution_count": null,
   "id": "7fb651fe",
   "metadata": {},
   "outputs": [],
   "source": [
    "adata"
   ]
  },
  {
   "cell_type": "code",
   "execution_count": null,
   "id": "c0d45899",
   "metadata": {},
   "outputs": [],
   "source": [
    "all_markers = adata.var_names.tolist()\n",
    "print ('List of all markers found:')\n",
    "print (all_markers,end= '\\n\\n')\n",
    "\n",
    "#skipe this step: Change this with a list of the markers you'd like to be remove entirely from the dataset, e.g. DNA stains\n",
    "markers_to_remove = ['Solidity']\n",
    "markers_to_remove2 = ['DNA1', 'DNA2', 'Area','Extent', 'Eccentricity','NN', 'Solidity']\n",
    "\n",
    "#Remove markers from list\n",
    "markers_limited = [m for m in all_markers if m not in markers_to_remove]\n",
    "markers_limited2 = [m for m in all_markers if m not in markers_to_remove2]\n",
    "\n",
    "#print ('List of all markers with removed items:')\n",
    "print (markers_limited)\n",
    "print (markers_limited2)"
   ]
  },
  {
   "cell_type": "code",
   "execution_count": null,
   "id": "21388b19",
   "metadata": {},
   "outputs": [],
   "source": [
    "#Filter to only markers specified above\n",
    "adata_filtered = adata[:,markers_limited]\n",
    "#The .copy() makes a completely seperate copy\n",
    "adata_subset = adata_filtered.copy()\n",
    "#This code further filters the data by removing cells from C10, C31 ROIs and C21_ROI3\n",
    "adata_subset = adata_filtered[~adata_filtered.obs['ROI'].isin(['C10_ROI1','C10_ROI2','C10_ROI3', 'C10_ROI4', 'C21_ROI3', 'C31_ROI1', 'C31_ROI2', 'C31_ROI3', 'C31_ROI4']),:].copy()\n",
    "\n",
    "adata_filtered2 = adata[:,markers_limited2]\n",
    "#The .copy() makes a completely seperate copy\n",
    "adata_subset2 = adata_filtered2.copy()\n",
    "#This code further filters the data by removing cells from C10, C31 ROIs and C21_ROI3\n",
    "adata_subset2 = adata_filtered2[~adata_filtered2.obs['ROI'].isin(['C10_ROI1','C10_ROI2','C10_ROI3', 'C10_ROI4', 'C21_ROI3', 'C31_ROI1', 'C31_ROI2', 'C31_ROI3', 'C31_ROI4']),:].copy()\n",
    "\n",
    "adata_subset2.var_names"
   ]
  },
  {
   "cell_type": "markdown",
   "id": "22c33341",
   "metadata": {},
   "source": [
    "# QC Checking data"
   ]
  },
  {
   "cell_type": "code",
   "execution_count": null,
   "id": "6e08426f",
   "metadata": {},
   "outputs": [],
   "source": [
    "sc.pl.matrixplot(adata_subset2, adata_subset2.var_names, groupby='ROI', save='_QC_matrixplot_ROIs.pdf')\n",
    "\n",
    "#Number of cells per ROI\n",
    "print(adata_subset2.obs['ROI'].value_counts())"
   ]
  },
  {
   "cell_type": "code",
   "execution_count": null,
   "id": "dd2e338a",
   "metadata": {},
   "outputs": [],
   "source": [
    "sc.pl.matrixplot(adata_subset2, adata_subset2.var_names, groupby='Case')\n",
    "\n",
    "#Number of cells per ROI\n",
    "print (adata_subset2.obs['Case'].value_counts())"
   ]
  },
  {
   "cell_type": "markdown",
   "id": "9e6a311a",
   "metadata": {},
   "source": [
    "# PCA analyses"
   ]
  },
  {
   "cell_type": "code",
   "execution_count": null,
   "id": "31f19dc8",
   "metadata": {},
   "outputs": [],
   "source": [
    "#Show those markers that yield the highest fraction of counts in each single cell, across all cells.\\\n",
    "sc.pl.highest_expr_genes(adata_subset2, n_top=20, )\n",
    "\n",
    "#Identify highly-variable markers:\n",
    "sc.pp.highly_variable_genes(adata_subset2, min_mean=0.0125, max_mean=3, min_disp=0.5)\n",
    "sc.pl.highly_variable_genes(adata_subset2)    "
   ]
  },
  {
   "cell_type": "code",
   "execution_count": null,
   "id": "e1a22cbb",
   "metadata": {},
   "outputs": [],
   "source": [
    "#Calculate PCA - this must be done first\n",
    "sc.tl.pca(adata_subset2, svd_solver='arpack')\n",
    "\n",
    "#Inspect the contribution of single PCs to the total variance in the data. \n",
    "#This gives us information about how many PCs we should consider in order to compute the neighborhood relations of cells,\n",
    "#e.g. used in the clustering function \n",
    "sc.pl.pca_variance_ratio(adata_subset2, log=False, save='PCA_iteration2.pdf')\n",
    "\n",
    "#Visualise all PCAs\n",
    "sc.pl.pca(adata_subset2, color='Type', components = ['1,2', '3,4', '5,6', '7,8'], ncols=2, size=0.5, save='PCA_iteration2_v2.pdf')"
   ]
  },
  {
   "cell_type": "code",
   "execution_count": null,
   "id": "9fe03192",
   "metadata": {},
   "outputs": [],
   "source": [
    "#Inspect the contribution of single PCs to the total variance in the data. \n",
    "#This gives us information about how many PCs we should consider in order to compute the neighborhood relations of cells,\n",
    "#e.g. used in the clustering function \n",
    "sc.pl.pca_variance_ratio(adata_subset2, log=False)\n",
    "\n",
    "#Visualise all PCAs\n",
    "sc.pl.pca(adata_subset2, color='Type', components = ['1,2', '3,4', '5,6', '7,8'], ncols=2, size=0.5, save='_iteration2_v3.pdf')"
   ]
  },
  {
   "cell_type": "code",
   "execution_count": null,
   "id": "e9a0feec",
   "metadata": {},
   "outputs": [],
   "source": [
    "#Plot loadings of PCA to figure out what is contributing to variability\n",
    "sc.pl.pca_loadings(adata_subset2, components=[1,2,3,4,5,6,7,8], save = '_iteration2_v4.pdf')"
   ]
  },
  {
   "cell_type": "markdown",
   "id": "bf8f6c2a",
   "metadata": {},
   "source": [
    "Marker selection"
   ]
  },
  {
   "cell_type": "markdown",
   "id": "ce789de7",
   "metadata": {},
   "source": [
    "Filtering anndata"
   ]
  },
  {
   "cell_type": "markdown",
   "id": "246053e1",
   "metadata": {},
   "source": [
    "# Supervised cell type identification using Astir\n",
    "\n",
    "This uses Astir (https://github.com/camlab-bioml/astir) to do 'semi-supervised' cell identification using a neural network. You specify the populations and markers in hte 'markers.yml' file - see the Astir documentation for full details"
   ]
  },
  {
   "cell_type": "markdown",
   "id": "51da2903",
   "metadata": {},
   "source": [
    "Import markers file and data file"
   ]
  },
  {
   "cell_type": "code",
   "execution_count": null,
   "id": "7abe715a",
   "metadata": {},
   "outputs": [],
   "source": [
    "# Read in the YAML file with a list of the expected marker pairs\n",
    "with open(r'markers.yml') as file:\n",
    "  cell_types = yaml.load(file, Loader=yaml.FullLoader)\n",
    "\n",
    "#View the contents of the YML file\n",
    "!head markers.yml\n",
    "print(cell_types['cell_types'])"
   ]
  },
  {
   "cell_type": "code",
   "execution_count": null,
   "id": "7a944f07",
   "metadata": {},
   "outputs": [],
   "source": [
    "adata_subset.write(filename='adata_subset_iteration3_astir')\n",
    "adata_subset2.write(filename='adata_subset2_iteration3_astir')\n",
    "\n",
    "import os\n",
    "import warnings\n",
    "from typing import Any\n",
    "\n",
    "import anndata\n",
    "import loompy\n",
    "import matplotlib.cbook\n",
    "import numpy as np\n",
    "import pandas as pd\n",
    "import torch\n",
    "import yaml\n",
    "from sklearn.preprocessing import OneHotEncoder"
   ]
  },
  {
   "cell_type": "code",
   "execution_count": null,
   "id": "84c6e435",
   "metadata": {},
   "outputs": [],
   "source": [
    "from astir.data import from_anndata_yaml\n",
    "#the name of the anndata file below has to be as saved above!!\n",
    "\n",
    "ast = from_anndata_yaml(\"adata_subset_iteration3_astir\", \"markers.yml\", batch_name=None)\n",
    "ast\n",
    "\n",
    "ast2 = from_anndata_yaml(\"adata_subset2_iteration3_astir\", \"markers.yml\", batch_name=None)\n",
    "ast2"
   ]
  },
  {
   "cell_type": "markdown",
   "id": "e7b79fa9",
   "metadata": {},
   "source": [
    "Set training parameters\n",
    "\n",
    "I've left these all as the default for now"
   ]
  },
  {
   "cell_type": "code",
   "execution_count": null,
   "id": "31fe6e30",
   "metadata": {},
   "outputs": [],
   "source": [
    "# Create batch size proportional to the number of cells\n",
    "N = ast2.get_type_dataset().get_exprs_df().shape[0]\n",
    "batch_size = int(N/100)\n",
    "\n",
    "# Number of training epochs\n",
    "max_epochs = 1000\n",
    "\n",
    "# Set learning rate\n",
    "learning_rate = 2e-3\n",
    "\n",
    "# Set initial epochs\n",
    "initial_epochs = 3"
   ]
  },
  {
   "cell_type": "code",
   "execution_count": null,
   "id": "f61c6250",
   "metadata": {},
   "outputs": [],
   "source": [
    "#Run the cell type identification\n",
    "ast2.fit_type(max_epochs = max_epochs,\n",
    "             batch_size = batch_size,\n",
    "             learning_rate = learning_rate,\n",
    "             n_init_epochs = initial_epochs)"
   ]
  },
  {
   "cell_type": "markdown",
   "id": "2654458c",
   "metadata": {},
   "source": [
    "Number of cells of each type found"
   ]
  },
  {
   "cell_type": "code",
   "execution_count": null,
   "id": "2016ddfa",
   "metadata": {},
   "outputs": [],
   "source": [
    "ast2.get_celltypes().value_counts()"
   ]
  },
  {
   "cell_type": "code",
   "execution_count": null,
   "id": "9eacab34",
   "metadata": {},
   "outputs": [],
   "source": [
    "df = ast2.diagnostics_celltype().head(n=10)\n",
    "df"
   ]
  },
  {
   "cell_type": "code",
   "execution_count": null,
   "id": "f7228c74",
   "metadata": {},
   "outputs": [],
   "source": [
    "#plot the losses to assess convergence\n",
    "plt.figure(figsize=(5,4))\n",
    "plt.plot(np.arange(len(ast2.get_type_losses())), ast2.get_type_losses())\n",
    "plt.ylabel(\"Loss\")\n",
    "plt.xlabel(\"Epoch\")"
   ]
  },
  {
   "cell_type": "code",
   "execution_count": null,
   "id": "75b44e14",
   "metadata": {},
   "outputs": [],
   "source": [
    "#get cell type assignment probabilities\n",
    "assignments = ast2.get_celltype_probabilities()\n",
    "assignments"
   ]
  },
  {
   "cell_type": "code",
   "execution_count": null,
   "id": "e6c28b28",
   "metadata": {},
   "outputs": [],
   "source": [
    "assignments.to_csv(\"../assignments_probabilities.csv\")"
   ]
  },
  {
   "cell_type": "code",
   "execution_count": null,
   "id": "8be8a2d2",
   "metadata": {},
   "outputs": [],
   "source": [
    "sb.heatmap(assignments, annot=False, xticklabels=1, yticklabels=False)"
   ]
  },
  {
   "cell_type": "code",
   "execution_count": null,
   "id": "44dfe070",
   "metadata": {},
   "outputs": [],
   "source": [
    "ast2.get_celltypes()"
   ]
  },
  {
   "cell_type": "code",
   "execution_count": null,
   "id": "87b0493f",
   "metadata": {},
   "outputs": [],
   "source": [
    "ast2.type_to_csv(\"../cell-types.csv\")"
   ]
  },
  {
   "cell_type": "markdown",
   "id": "d615efcc",
   "metadata": {},
   "source": [
    "Add hierarchy and cell type data to original Adata"
   ]
  },
  {
   "cell_type": "code",
   "execution_count": null,
   "id": "13a52d20",
   "metadata": {},
   "outputs": [],
   "source": [
    "# Check that the hierarchy dictionary have been loaded correctly\n",
    "ast2.get_hierarchy_dict()"
   ]
  },
  {
   "cell_type": "code",
   "execution_count": null,
   "id": "5b582fc4",
   "metadata": {},
   "outputs": [],
   "source": [
    "#Retrieve the table of probabilites\n",
    "hierarchy_table =  ast2.assign_celltype_hierarchy(depth = 1)\n",
    "\n",
    "cell_types = hierarchy_table.columns.tolist()\n",
    "\n",
    "#This is  the threshold as above - probably best to keep the same!\n",
    "threshold_for_classification = 0.5\n",
    "\n",
    "#Start a new list that will store the hierarchy data\n",
    "hierarchy = []\n",
    "\n",
    "#This will work down each row and figure out which hierarchy type have the highest probability\n",
    "for index, row in hierarchy_table.iterrows():\n",
    "    row_values = row.values\n",
    "    max_prob = np.max(row_values)\n",
    "    \n",
    "    if max_prob < threshold_for_classification:\n",
    "        #If the cell doesn't fit into any category, return Unknown\n",
    "        hierarchy.append('Other')\n",
    "    else:\n",
    "        #Add to the list the \n",
    "        hierarchy.append(cell_types[np.argmax(row_values)])\n",
    "\n",
    "adata_subset2.obs[\"cell_type\"] = ast2.get_celltypes(threshold=threshold_for_classification)['cell_type']\n",
    "adata_subset2.obs[\"hierarchy\"] = hierarchy"
   ]
  },
  {
   "cell_type": "code",
   "execution_count": null,
   "id": "e458f2af",
   "metadata": {},
   "outputs": [],
   "source": [
    "adata_subset2"
   ]
  },
  {
   "cell_type": "code",
   "execution_count": null,
   "id": "3fc67cdc",
   "metadata": {},
   "outputs": [],
   "source": [
    "#This code further filters the data by removing cells from C10, C31 ROIs and C21_ROI3\n",
    "\n",
    "#The .copy() makes a completely seperate copy\n",
    "adata_subset3 = adata_subset2.copy()\n",
    "adata_subset3 = adata_subset3[~adata_subset3.obs['cell_type'].isin(['Other','Unknown']),:].copy()\n",
    "adata_subset3\n"
   ]
  },
  {
   "cell_type": "code",
   "execution_count": null,
   "id": "010b6cf5",
   "metadata": {},
   "outputs": [],
   "source": [
    "#Plot a heatmap grouped by hierarchy\n",
    "sc.pl.heatmap(adata_subset3, adata_subset3.var_names, groupby='hierarchy',vmax=0.75, swap_axes=True) #save='_ASTIR_hierarchy.pdf')"
   ]
  },
  {
   "cell_type": "code",
   "execution_count": null,
   "id": "98de264a",
   "metadata": {},
   "outputs": [],
   "source": [
    "#stack bar code and extracting number of cells, distribution of each cluster per case or the cluster composition per case\n",
    "#for number of cells - don't use normalize\n",
    "#for distribution of each case per cluster - use normalize = \"index\"\n",
    "#for cluster composition per case - use normalize = \"columns\"\n",
    "tmp = pd.crosstab(adata_subset3.obs['cell_type'], adata_subset3.obs['ROI'], margins=True, margins_name='Total')"
   ]
  },
  {
   "cell_type": "code",
   "execution_count": null,
   "id": "a5ab9f4a",
   "metadata": {},
   "outputs": [],
   "source": [
    "tmp"
   ]
  },
  {
   "cell_type": "code",
   "execution_count": null,
   "id": "3089111d",
   "metadata": {},
   "outputs": [],
   "source": [
    "compression_opts = dict(method='zip',\n",
    "                         archive_name='Metaclusters_number_per_ROI.csv') \n",
    "tmp.to_csv('out.zip', index=False, compression=compression_opts)"
   ]
  },
  {
   "cell_type": "code",
   "execution_count": null,
   "id": "62546736",
   "metadata": {},
   "outputs": [],
   "source": [
    "#Plot a heatmap grouped by cell types\n",
    "sc.pl.heatmap(adata_subset3, adata_subset3.var_names, groupby='cell_type', vmax=0.75, swap_axes=True) #save='_ASTIR_celltype.pdf')"
   ]
  },
  {
   "cell_type": "code",
   "execution_count": null,
   "id": "cbfb0d15",
   "metadata": {},
   "outputs": [],
   "source": [
    "#Plot a heatmap grouped by ASTIR\n",
    "sc.pl.matrixplot(adata_subset3, adata_subset3.var_names, groupby='cell_type', swap_axes=False, cmap='magma', save='_ASTIR_celltype.pdf')"
   ]
  },
  {
   "cell_type": "code",
   "execution_count": null,
   "id": "9fdec38b",
   "metadata": {},
   "outputs": [],
   "source": [
    "#Plot heatmap\n",
    "adata_subset4 = adata_subset3.copy()\n",
    "sc.tl.dendrogram(adata_subset4, groupby = 'cell_type')\n",
    "sc.pl.heatmap(adata_subset4, adata_subset4.var_names, groupby='cell_type', vmax=0.75, swap_axes=True,dendrogram=True, figsize=(16,8), save='_ASTIR_celltype_clustered.pdf')"
   ]
  },
  {
   "cell_type": "code",
   "execution_count": null,
   "id": "b04711a2",
   "metadata": {},
   "outputs": [],
   "source": [
    "#scale data for heatmap\n",
    "adata_subset4 = adata_subset3.copy()\n",
    "sc.pp.scale(adata_subset4, max_value=2,  zero_center=True)\n",
    "sc.tl.dendrogram(adata_subset4, groupby = 'cell_type')\n",
    "sc.pl.heatmap(adata_subset4, adata_subset4.var_names, groupby='cell_type', figsize=(16,8), dendrogram=True, swap_axes=True, cmap='viridis', save='scaled_ASTIR_celltype_clustered.pdf')"
   ]
  },
  {
   "cell_type": "code",
   "execution_count": null,
   "id": "7f718e95",
   "metadata": {},
   "outputs": [],
   "source": [
    "#Population distribution\n",
    "\n",
    "from importlib import reload\n",
    "\n",
    "mimc = reload(mimc)\n",
    "mimc.pop_distribution(adata_subset3,'cell_type',['ROI','Case','Type'])"
   ]
  },
  {
   "cell_type": "markdown",
   "id": "021ecd17",
   "metadata": {},
   "source": [
    "# Create new adatas for all cell types for unsupervised analyses"
   ]
  },
  {
   "cell_type": "markdown",
   "id": "e369daf7",
   "metadata": {},
   "source": [
    "# Myeloid cells"
   ]
  },
  {
   "cell_type": "code",
   "execution_count": null,
   "id": "3ecd48a2",
   "metadata": {
    "scrolled": true
   },
   "outputs": [],
   "source": [
    "adata_myeloid = adata_subset3[adata_subset3.obs['hierarchy'].isin(['Myeloid'])].copy()\n",
    "sc.pl.heatmap(adata_myeloid, adata_myeloid.var_names, groupby='cell_type', vmax=0.75, swap_axes=True, save='_ASTIR_myeloid.pdf')"
   ]
  },
  {
   "cell_type": "code",
   "execution_count": null,
   "id": "1d959c40",
   "metadata": {},
   "outputs": [],
   "source": [
    "#Plot clustered heatmap\n",
    "sc.tl.dendrogram(adata_myeloid, groupby = 'cell_type')\n",
    "sc.pl.heatmap(adata_myeloid, adata_myeloid.var_names, groupby='cell_type', vmax=0.75, swap_axes=True,dendrogram=True, save='_ASTIR_myeloid_clustered.pdf')"
   ]
  },
  {
   "cell_type": "code",
   "execution_count": null,
   "id": "663b62e4",
   "metadata": {},
   "outputs": [],
   "source": [
    "#Plot scaled heatmap\n",
    "adata_myeloid_norm = adata_myeloid.copy()\n",
    "sc.pp.scale(adata_myeloid_norm, max_value=2,  zero_center=True)\n",
    "sc.pl.heatmap(adata_myeloid_norm, adata_myeloid_norm.var_names, groupby='cell_type', swap_axes=True, save='_scaled_ASTIR_myeloid.pdf')"
   ]
  },
  {
   "cell_type": "markdown",
   "id": "6ba5cc6a",
   "metadata": {},
   "source": [
    "# Lymphoid cells"
   ]
  },
  {
   "cell_type": "code",
   "execution_count": null,
   "id": "ed4ed319",
   "metadata": {},
   "outputs": [],
   "source": [
    "#Plot heatmap\n",
    "adata_lymphoid = adata_subset3[adata_subset3.obs['hierarchy'].isin(['Lymphoid'])].copy()\n",
    "sc.pl.heatmap(adata_lymphoid, adata_lymphoid.var_names, groupby='cell_type', vmax=0.75, swap_axes=True, save='_ASTIR_lymphoid.pdf')"
   ]
  },
  {
   "cell_type": "code",
   "execution_count": null,
   "id": "339e39c6",
   "metadata": {},
   "outputs": [],
   "source": [
    "#Plot scaled heatmap\n",
    "adata_lymphoid_norm = adata_lymphoid.copy()\n",
    "sc.pp.scale(adata_lymphoid_norm, max_value=1.5,  zero_center=True)\n",
    "sc.pl.heatmap(adata_lymphoid_norm, adata_lymphoid_norm.var_names, groupby='cell_type', swap_axes=True, save='_scaled_ASTIR_lymphoid.pdf')"
   ]
  },
  {
   "cell_type": "markdown",
   "id": "044959b0",
   "metadata": {},
   "source": [
    "# Vascular and Stromal cells"
   ]
  },
  {
   "cell_type": "code",
   "execution_count": null,
   "id": "6f385bcb",
   "metadata": {},
   "outputs": [],
   "source": [
    "adata_vascular = adata_subset3[adata_subset3.obs['hierarchy'].isin(['Vascular'])].copy()\n",
    "sc.pl.heatmap(adata_vascular, adata_vascular.var_names, groupby='cell_type', vmax=0.75, swap_axes=True, save='_ASTIR_vascular.pdf')\n",
    "\n",
    "adata_endothelium = adata_subset3[adata_subset3.obs['cell_type'].isin(['Endothelium'])].copy()\n",
    "sc.pl.heatmap(adata_endothelium, adata_endothelium.var_names, groupby='cell_type', swap_axes=True, vmax=0.75, save='_ASTIR_endothelium.pdf')\n",
    "\n",
    "adata_RBC = adata_subset3[adata_subset3.obs['cell_type'].isin(['RBCs'])].copy()\n",
    "sc.pl.heatmap(adata_RBC, adata_RBC.var_names, groupby='cell_type', swap_axes=True, vmax=0.75, save='_ASTIR_RBC.pdf')\n",
    "\n",
    "#Plot scaled heatmap\n",
    "adata_vascular_norm = adata_vascular.copy()\n",
    "sc.pp.scale(adata_vascular_norm, max_value=0.5,  zero_center=True)\n",
    "sc.pl.heatmap(adata_vascular_norm, adata_vascular_norm.var_names, groupby='cell_type', swap_axes=True, save='_scaled_ASTIR_vascular.pdf')"
   ]
  },
  {
   "cell_type": "code",
   "execution_count": null,
   "id": "ad7c9cf3",
   "metadata": {},
   "outputs": [],
   "source": [
    "adata_stromal = adata_subset3[adata_subset3.obs['hierarchy'].isin(['Stromal'])].copy()\n",
    "sc.pl.heatmap(adata_stromal, adata_stromal.var_names, groupby='cell_type', swap_axes=True, vmax=0.75, save='_ASTIR_stromal.pdf' )\n",
    "\n",
    "adata_epithelial = adata_subset3[adata_subset3.obs['cell_type'].isin(['Epithelial'])].copy()\n",
    "sc.pl.heatmap(adata_epithelial, adata_epithelial.var_names, groupby='cell_type', swap_axes=True, vmax=0.75, save='_ASTIR_epithelial.pdf')\n",
    "\n",
    "adata_fibroblast = adata_subset3[adata_subset3.obs['cell_type'].isin(['Fibroblast', 'Myofibroblast'])].copy()\n",
    "sc.pl.heatmap(adata_fibroblast, adata_fibroblast.var_names, groupby='cell_type', swap_axes=True, vmax=0.75, save='_ASTIR_fibroblast.pdf')"
   ]
  },
  {
   "cell_type": "markdown",
   "id": "1971e1cf",
   "metadata": {},
   "source": [
    "# Unsupervised analyses on cellular types - ASTIR output"
   ]
  },
  {
   "cell_type": "markdown",
   "id": "932c3560",
   "metadata": {},
   "source": [
    "# ASTIR - clustering analysis including functional markers"
   ]
  },
  {
   "cell_type": "markdown",
   "id": "3500d2f9",
   "metadata": {},
   "source": [
    "# Analysis of Myeloid cells"
   ]
  },
  {
   "cell_type": "code",
   "execution_count": null,
   "id": "7459f77c",
   "metadata": {},
   "outputs": [],
   "source": [
    "#including functional markers\n",
    "myeloid_markers2 = ['CD11b','CD11c','CD14','CD163','CD16','CD206','CD45','CD66b','CD68','Iba1', 'CD74','MHCII','MHCI','Vista', \n",
    "                   'iNOS', 'CD107a','GranzymeB', 'ClvCaspase3', 'SARSCoV2']\n",
    "adata_myeloid_3 = adata_myeloid[:,myeloid_markers2].copy()\n",
    "\n",
    "lymphoid_markers2 = ['CD3','CD4','CD8', 'CD20','CD38','CD74','MHCII','MHCI', 'Foxp3','CD107a','GranzymeB','ClvCaspase3','SARSCoV2']\n",
    "adata_lymphoid_3 = adata_lymphoid[:,lymphoid_markers2].copy()\n",
    "\n",
    "epithelial_markers2 = ['PanCK','CD74','MHCII','MHCI','CD107a','GranzymeB','ClvCaspase3','SARSCoV2']\n",
    "adata_epithelial_3 = adata_epithelial[:,epithelial_markers2].copy()\n",
    "\n",
    "fibroblast_markers2 = ['Collagen1','SMA', 'Fibrinogen','ClvCaspase3','SARSCoV2']\n",
    "adata_fibroblast_3 = adata_fibroblast[:,fibroblast_markers2].copy()\n",
    "\n",
    "endothelial_markers2 = ['CD31','ICAM1','vWF','CD74','MHCII','MHCI','CD107a','GranzymeB','SARSCoV2']\n",
    "adata_endothelium_3 = adata_endothelium[:,endothelial_markers2].copy()\n",
    "\n",
    "RBC_markers2 = ['CD235ab','SARSCoV2']\n",
    "adata_RBC_3 = adata_RBC[:,RBC_markers2].copy()"
   ]
  },
  {
   "cell_type": "code",
   "execution_count": null,
   "id": "9033e629",
   "metadata": {},
   "outputs": [],
   "source": [
    "#Calculate neighbors\n",
    "sc.pp.neighbors(adata_myeloid_3, n_neighbors=100)\n",
    "\n",
    "#Calculate UMAP\n",
    "sc.tl.umap(adata_myeloid_3)"
   ]
  },
  {
   "cell_type": "code",
   "execution_count": null,
   "id": "0deb2570",
   "metadata": {},
   "outputs": [],
   "source": [
    "adata_myeloid_3"
   ]
  },
  {
   "cell_type": "code",
   "execution_count": null,
   "id": "ee16e8a8",
   "metadata": {},
   "outputs": [],
   "source": [
    "#Plot UMAP\n",
    "sc.pl.umap(adata_myeloid_3, color=['ROI'], save='_myeloid_ROI_v2.pdf')"
   ]
  },
  {
   "cell_type": "code",
   "execution_count": null,
   "id": "361e3338",
   "metadata": {},
   "outputs": [],
   "source": [
    "#Plot UMAP\n",
    "sc.pl.umap(adata_myeloid_3, color=['Type'], save='_myeloid_Type_v2.pdf')"
   ]
  },
  {
   "cell_type": "code",
   "execution_count": null,
   "id": "cd9fdc22",
   "metadata": {},
   "outputs": [],
   "source": [
    "#Plot UMAP for each marker\n",
    "sc.pl.umap(adata_myeloid_3, color=adata_myeloid_3.var_names, save='_myeloid_Markers_v2.pdf')"
   ]
  },
  {
   "cell_type": "code",
   "execution_count": null,
   "id": "323ebfd3",
   "metadata": {},
   "outputs": [],
   "source": [
    "#Run PCA\n",
    "sc.tl.pca(adata_myeloid_3)\n",
    "\n",
    "#Calculate tSNE\n",
    "sc.tl.tsne(adata_myeloid_3)"
   ]
  },
  {
   "cell_type": "code",
   "execution_count": null,
   "id": "0eadd80d",
   "metadata": {},
   "outputs": [],
   "source": [
    "#Plot tSNE \n",
    "sc.pl.tsne(adata_myeloid_3, color=['ROI'], save='_myeloid_ROI_v2.pdf')"
   ]
  },
  {
   "cell_type": "code",
   "execution_count": null,
   "id": "a9c990d9",
   "metadata": {},
   "outputs": [],
   "source": [
    "#Plot tSNE \n",
    "sc.pl.tsne(adata_myeloid_3, color=['Type'], save='_myeloid_cases_v2.pdf')"
   ]
  },
  {
   "cell_type": "code",
   "execution_count": null,
   "id": "95ddce7c",
   "metadata": {},
   "outputs": [],
   "source": [
    "#Plot tSNE for each marker\n",
    "sc.pl.tsne(adata_myeloid_3, color=adata_myeloid_3.var_names, save='_myeloid_Markers_v2.pdf')"
   ]
  },
  {
   "cell_type": "code",
   "execution_count": null,
   "id": "041f633b",
   "metadata": {},
   "outputs": [],
   "source": [
    "#Run PhenoGraph\n",
    "sce.tl.phenograph(adata_myeloid_3, clustering_algo=\"louvain\", k=200, seed=1)"
   ]
  },
  {
   "cell_type": "code",
   "execution_count": null,
   "id": "df639728",
   "metadata": {},
   "outputs": [],
   "source": [
    "#Plot PhenoGraph on tSNE\n",
    "sc.pl.tsne(adata_myeloid_3, color = \"pheno_louvain\", s = 100, legend_fontsize = 10, size=2, save='_myeloid_PhenoLouvain_v2.pdf')"
   ]
  },
  {
   "cell_type": "code",
   "execution_count": null,
   "id": "7092ebab",
   "metadata": {},
   "outputs": [],
   "source": [
    "#Plot PhenoGraph on UMAP\n",
    "sc.pl.umap(adata_myeloid_3, color = \"pheno_louvain\", s = 100, legend_fontsize = 10, size=2, save='_myeloid_PhenoLouvain_v2.pdf')"
   ]
  },
  {
   "cell_type": "code",
   "execution_count": null,
   "id": "edda24fe",
   "metadata": {},
   "outputs": [],
   "source": [
    "#Plot heatmap of myeloid clusters\n",
    "sc.tl.dendrogram(adata_myeloid_3, groupby = 'pheno_louvain')\n",
    "sc.pl.heatmap(adata_myeloid_3, adata_myeloid_3.var_names, groupby='pheno_louvain', swap_axes=True, dendrogram=True, save='_myeloid_PhenoLouvain_clustered_v2.pdf')"
   ]
  },
  {
   "cell_type": "code",
   "execution_count": null,
   "id": "117b1867",
   "metadata": {},
   "outputs": [],
   "source": [
    "#Plot scaled heatmap\n",
    "adata_myeloid_norm3 = adata_myeloid_3.copy()\n",
    "sc.pp.scale(adata_myeloid_norm3, max_value=2,  zero_center=True)\n",
    "sc.tl.dendrogram(adata_myeloid_norm3, groupby = 'pheno_louvain')\n",
    "sc.pl.heatmap(adata_myeloid_norm3, adata_myeloid_norm3.var_names, groupby='pheno_louvain', swap_axes=True, dendrogram=True, save='_scaled_myeloid_PhenoLouvain_clustered_v2.pdf')"
   ]
  },
  {
   "cell_type": "code",
   "execution_count": null,
   "id": "c1153158",
   "metadata": {
    "scrolled": true
   },
   "outputs": [],
   "source": [
    "#Compute a ranking for the highly differential markers in each cluster\n",
    "sc.tl.rank_genes_groups(adata_myeloid_3, 'pheno_louvain', method='t-test')\n",
    "sc.pl.rank_genes_groups(adata_myeloid_3, n_genes=10, sharey=False, save='rank_markers_myeloid_PhenoLouvain_v2.pdf')"
   ]
  },
  {
   "cell_type": "code",
   "execution_count": null,
   "id": "023d98c4",
   "metadata": {
    "scrolled": true
   },
   "outputs": [],
   "source": [
    "#Population distribution\n",
    "\n",
    "from importlib import reload\n",
    "\n",
    "mimc = reload(mimc)\n",
    "mimc.pop_distribution(adata_myeloid_3,'pheno_louvain',['ROI','Type'])"
   ]
  },
  {
   "cell_type": "markdown",
   "id": "bccb7112",
   "metadata": {},
   "source": [
    "# Mapping new myeloid names after clusters have been merged\n",
    "I've merged several populations"
   ]
  },
  {
   "cell_type": "code",
   "execution_count": null,
   "id": "81f2a104",
   "metadata": {
    "scrolled": true
   },
   "outputs": [],
   "source": [
    "#Annotate clusters in a dictionary file\n",
    "#Load the merged clusters and map to the anndata file\n",
    "\n",
    "# Mapping the phenograph populations onto the new/merged population labels\n",
    "\n",
    "myeloid_dict = pd.read_csv('mikeimc_approach/covid_myeloid_dict.csv')\n",
    "m = myeloid_dict.set_index('pheno_louvain').to_dict()\n",
    "\n",
    "adata_myeloid_3.obs['myeloid_pop']=adata_myeloid_3.obs['pheno_louvain'].map(m['Myeloid_Class'])\n",
    "\n",
    "adata_myeloid_3.obs['myeloid_pop']=adata_myeloid_3.obs['myeloid_pop'].astype('category')"
   ]
  },
  {
   "cell_type": "code",
   "execution_count": null,
   "id": "0a14b84f",
   "metadata": {
    "scrolled": false
   },
   "outputs": [],
   "source": [
    "mimc.pop_distribution(adata_myeloid_3,'myeloid_pop',['ROI','Case','Type'])"
   ]
  },
  {
   "cell_type": "code",
   "execution_count": null,
   "id": "0f735bc3",
   "metadata": {},
   "outputs": [],
   "source": [
    "#Plot heatmap of myeloid clusters\n",
    "sc.tl.dendrogram(adata_myeloid_3, groupby = 'myeloid_pop')\n",
    "sc.pl.heatmap(adata_myeloid_3, adata_myeloid_3.var_names, groupby='myeloid_pop', swap_axes=False, dendrogram=True, save='_myeloid_annotated_clustered_v2.pdf')"
   ]
  },
  {
   "cell_type": "code",
   "execution_count": null,
   "id": "cb133dc9",
   "metadata": {},
   "outputs": [],
   "source": [
    "#Plot scaled heatmap\n",
    "adata_myeloid_norm3 = adata_myeloid_3.copy()\n",
    "sc.pp.scale(adata_myeloid_norm3, max_value=2,  zero_center=True)\n",
    "sc.tl.dendrogram(adata_myeloid_norm3, groupby = 'myeloid_pop')\n",
    "sc.pl.heatmap(adata_myeloid_norm3, adata_myeloid_norm3.var_names, groupby='myeloid_pop', swap_axes=False, dendrogram=True, save='_scaled_myeloid_annotated_clustered_v2.pdf')"
   ]
  },
  {
   "cell_type": "code",
   "execution_count": null,
   "id": "6672fcc0",
   "metadata": {},
   "outputs": [],
   "source": [
    "#Compute a ranking for the highly differential markers in each cluster\n",
    "sc.tl.rank_genes_groups(adata_myeloid_3, 'myeloid_pop', method='t-test')\n",
    "sc.pl.rank_genes_groups(adata_myeloid_3, n_genes=10, sharey=False, save='rank_markers_myeloid_annotated_v2.pdf')"
   ]
  },
  {
   "cell_type": "code",
   "execution_count": null,
   "id": "2219f8d3",
   "metadata": {
    "scrolled": true
   },
   "outputs": [],
   "source": [
    "#Plot PhenoGraph on UMAP\n",
    "sc.pl.umap(adata_myeloid_3, color = \"myeloid_pop\", s = 100, legend_fontsize = 10, size=2, save='_myeloid_annotated_v2.pdf')\n",
    "\n",
    "#Plot PhenoGraph on tSNE\n",
    "sc.pl.tsne(adata_myeloid_3, color = \"myeloid_pop\", s = 100, legend_fontsize = 10, size=2, save='_myeloid_annotated_v2.pdf')"
   ]
  },
  {
   "cell_type": "code",
   "execution_count": null,
   "id": "34eac4a8",
   "metadata": {},
   "outputs": [],
   "source": [
    "# export everything except the data using `.write_csvs`.\n",
    "# Set `skip_data=False` if you also want to export the data.\n",
    "adata_myeloid_3.write_csvs(dirname='./Analysis_iteration3/All_data_v2_noDNAphysicalparam/ASTIR/Myeloid_clusters_approach2/Annotated_myeloid_clusters_approach2', skip_data=False)"
   ]
  },
  {
   "cell_type": "markdown",
   "id": "0ea53456",
   "metadata": {},
   "source": [
    "# Analysis of Lymhoid cells"
   ]
  },
  {
   "cell_type": "code",
   "execution_count": null,
   "id": "8a03bc9d",
   "metadata": {},
   "outputs": [],
   "source": [
    "#Calculate neighbors\n",
    "sc.pp.neighbors(adata_lymphoid_3, n_neighbors=100)\n",
    "\n",
    "#Calculate UMAP\n",
    "sc.tl.umap(adata_lymphoid_3)"
   ]
  },
  {
   "cell_type": "code",
   "execution_count": null,
   "id": "b51c98ba",
   "metadata": {},
   "outputs": [],
   "source": [
    "#Plot UMAP\n",
    "sc.pl.umap(adata_lymphoid_3, color=['ROI'], save='_lymphoid_ROI_v2.pdf')"
   ]
  },
  {
   "cell_type": "code",
   "execution_count": null,
   "id": "73c386f4",
   "metadata": {},
   "outputs": [],
   "source": [
    "#Plot UMAP\n",
    "sc.pl.umap(adata_lymphoid_3, color=['Type'], save='_lymphoid_Type_v2.pdf')"
   ]
  },
  {
   "cell_type": "code",
   "execution_count": null,
   "id": "f3c536b4",
   "metadata": {},
   "outputs": [],
   "source": [
    "#Plot UMAP for each marker\n",
    "sc.pl.umap(adata_lymphoid_3, color=adata_lymphoid_3.var_names, save='_lymphoid_Markers_v2.pdf')"
   ]
  },
  {
   "cell_type": "code",
   "execution_count": null,
   "id": "cc3f2fbf",
   "metadata": {},
   "outputs": [],
   "source": [
    "#Run PCA\n",
    "sc.tl.pca(adata_lymphoid_3)\n",
    "\n",
    "#Calculate tSNE\n",
    "sc.tl.tsne(adata_lymphoid_3)"
   ]
  },
  {
   "cell_type": "code",
   "execution_count": null,
   "id": "2c093fba",
   "metadata": {},
   "outputs": [],
   "source": [
    "#Plot tSNE \n",
    "sc.pl.tsne(adata_lymphoid_3, color=['ROI'], save='_lymphoid_ROI_v2.pdf')"
   ]
  },
  {
   "cell_type": "code",
   "execution_count": null,
   "id": "c462b512",
   "metadata": {},
   "outputs": [],
   "source": [
    "#Plot tSNE \n",
    "sc.pl.tsne(adata_lymphoid_3, color=['Type'], save='_lymphoid_cases_v2.pdf')"
   ]
  },
  {
   "cell_type": "code",
   "execution_count": null,
   "id": "7d694c93",
   "metadata": {},
   "outputs": [],
   "source": [
    "#Plot tSNE for each marker\n",
    "sc.pl.tsne(adata_lymphoid_3, color=adata_lymphoid_3.var_names, save='_lymphoid_Markers_v2.pdf')"
   ]
  },
  {
   "cell_type": "code",
   "execution_count": null,
   "id": "011b7176",
   "metadata": {},
   "outputs": [],
   "source": [
    "#Run PhenoGraph\n",
    "sce.tl.phenograph(adata_lymphoid_3, clustering_algo=\"louvain\", k=200, seed=1)"
   ]
  },
  {
   "cell_type": "code",
   "execution_count": null,
   "id": "7cdfa452",
   "metadata": {},
   "outputs": [],
   "source": [
    "#Plot PhenoGraph on tSNE\n",
    "sc.pl.tsne(adata_lymphoid_3, color = \"pheno_louvain\", s = 100, legend_fontsize = 10, size=2, save='_lymphoid_PhenoLouvain_v2.pdf')"
   ]
  },
  {
   "cell_type": "code",
   "execution_count": null,
   "id": "83bfa88b",
   "metadata": {},
   "outputs": [],
   "source": [
    "#Plot PhenoGraph on UMAP\n",
    "sc.pl.umap(adata_lymphoid_3, color = \"pheno_louvain\", s = 100, legend_fontsize = 10, size=2, save='_lymphoid_PhenoLouvain_v2.pdf')"
   ]
  },
  {
   "cell_type": "code",
   "execution_count": null,
   "id": "f2bb9c91",
   "metadata": {},
   "outputs": [],
   "source": [
    "#Plot heatmap of myeloid clusters\n",
    "sc.tl.dendrogram(adata_lymphoid_3, groupby = 'pheno_louvain')\n",
    "sc.pl.heatmap(adata_lymphoid_3, adata_lymphoid_3.var_names, groupby='pheno_louvain', swap_axes=True, dendrogram=True, save='_lymphoid_PhenoLouvain_clustered_v2.pdf')"
   ]
  },
  {
   "cell_type": "code",
   "execution_count": null,
   "id": "0358865e",
   "metadata": {},
   "outputs": [],
   "source": [
    "#Plot scaled heatmap\n",
    "adata_lymphoid_norm2 = adata_lymphoid_3.copy()\n",
    "sc.pp.scale(adata_lymphoid_norm2, max_value=2,  zero_center=True)\n",
    "sc.tl.dendrogram(adata_lymphoid_norm2, groupby = 'pheno_louvain')\n",
    "sc.pl.heatmap(adata_lymphoid_norm2, adata_lymphoid_norm2.var_names, groupby='pheno_louvain', swap_axes=True, dendrogram=True, save='_scaled_lymphoid_PhenoLouvain_clustered_v2.pdf')"
   ]
  },
  {
   "cell_type": "code",
   "execution_count": null,
   "id": "755541ea",
   "metadata": {},
   "outputs": [],
   "source": [
    "#Compute a ranking for the highly differential markers in each cluster\n",
    "sc.tl.rank_genes_groups(adata_lymphoid_3, 'pheno_louvain', method='t-test')\n",
    "sc.pl.rank_genes_groups(adata_lymphoid_3, n_genes=10, sharey=False, save='rank_markers_lymphoid_PhenoLouvain_v2.pdf')"
   ]
  },
  {
   "cell_type": "code",
   "execution_count": null,
   "id": "ede6c10b",
   "metadata": {},
   "outputs": [],
   "source": [
    "#Population distribution\n",
    "\n",
    "from importlib import reload\n",
    "\n",
    "mimc = reload(mimc)\n",
    "mimc.pop_distribution(adata_lymphoid_3,'pheno_louvain',['ROI','Type'])"
   ]
  },
  {
   "cell_type": "code",
   "execution_count": null,
   "id": "f37b6d2d",
   "metadata": {},
   "outputs": [],
   "source": [
    "#Annotate clusters in a dictionary file\n",
    "#Load the merged clusters and map to the anndata file\n",
    "\n",
    "# Mapping the phenograph populations onto the new/merged population labels\n",
    "\n",
    "lymphoid_dict = pd.read_csv('mikeimc_approach/covid_lymphoid_dict.csv')\n",
    "l = lymphoid_dict.set_index('pheno_louvain').to_dict()\n",
    "\n",
    "adata_lymphoid_3.obs['lymphoid_pop']=adata_lymphoid_3.obs['pheno_louvain'].map(l['Lymphoid_Class'])\n",
    "\n",
    "adata_lymphoid_3.obs['lymphoid_pop']=adata_lymphoid_3.obs['lymphoid_pop'].astype('category')"
   ]
  },
  {
   "cell_type": "code",
   "execution_count": null,
   "id": "9b8eef0c",
   "metadata": {},
   "outputs": [],
   "source": [
    "mimc.pop_distribution(adata_lymphoid_3,'lymphoid_pop',['ROI','Case','Type'])"
   ]
  },
  {
   "cell_type": "code",
   "execution_count": null,
   "id": "14688133",
   "metadata": {},
   "outputs": [],
   "source": [
    "#Plot heatmap of lymphoid clusters\n",
    "sc.tl.dendrogram(adata_lymphoid_3, groupby = 'lymphoid_pop')\n",
    "sc.pl.heatmap(adata_lymphoid_3, adata_lymphoid_3.var_names, groupby='lymphoid_pop', swap_axes=False, dendrogram=True, save='_lymphoid_annotated_clustered_v2.pdf')"
   ]
  },
  {
   "cell_type": "code",
   "execution_count": null,
   "id": "922b9979",
   "metadata": {},
   "outputs": [],
   "source": [
    "#Plot scaled heatmap\n",
    "adata_lymphoid_norm3 = adata_lymphoid_3.copy()\n",
    "sc.pp.scale(adata_lymphoid_norm3, max_value=2,  zero_center=True)\n",
    "sc.tl.dendrogram(adata_lymphoid_norm3, groupby = 'lymphoid_pop')\n",
    "sc.pl.heatmap(adata_lymphoid_norm3, adata_lymphoid_norm3.var_names, groupby='lymphoid_pop', swap_axes=False, dendrogram=True, save='_scaled_lymphoid_annotated_clustered_v2.pdf')"
   ]
  },
  {
   "cell_type": "code",
   "execution_count": null,
   "id": "1189eea8",
   "metadata": {},
   "outputs": [],
   "source": [
    "#Compute a ranking for the highly differential markers in each cluster\n",
    "sc.tl.rank_genes_groups(adata_lymphoid_3, 'lymphoid_pop', method='t-test')\n",
    "sc.pl.rank_genes_groups(adata_lymphoid_3, n_genes=10, sharey=False, save='rank_markers_lymphoid_annotated_v2.pdf')"
   ]
  },
  {
   "cell_type": "code",
   "execution_count": null,
   "id": "af041036",
   "metadata": {},
   "outputs": [],
   "source": [
    "#Plot PhenoGraph on UMAP\n",
    "sc.pl.umap(adata_lymphoid_3, color = \"lymphoid_pop\", s = 100, legend_fontsize = 10, size=2, save='_lymphoid_annotated_v2.pdf')\n",
    "\n",
    "#Plot PhenoGraph on tSNE\n",
    "sc.pl.tsne(adata_lymphoid_3, color = \"lymphoid_pop\", s = 100, legend_fontsize = 10, size=2, save='_lymphoid_annotated_v2.pdf')"
   ]
  },
  {
   "cell_type": "code",
   "execution_count": null,
   "id": "53dd6c5b",
   "metadata": {},
   "outputs": [],
   "source": [
    "# export everything except the data using `.write_csvs`.\n",
    "# Set `skip_data=False` if you also want to export the data.\n",
    "adata_lymphoid_3.write_csvs(dirname='./Analysis_iteration3/All_data_v2_noDNAphysicalparam/ASTIR/Lymphoid_clusters_approach2/Annotated_Lymphoid_clusters', skip_data=False)"
   ]
  },
  {
   "cell_type": "markdown",
   "id": "06da1e94",
   "metadata": {},
   "source": [
    "# Analysis of Endothelial cells"
   ]
  },
  {
   "cell_type": "code",
   "execution_count": null,
   "id": "6c82bcf2",
   "metadata": {},
   "outputs": [],
   "source": [
    "#Calculate neighbors\n",
    "sc.pp.neighbors(adata_endothelium_3, n_neighbors=100)\n",
    "\n",
    "#Calculate UMAP\n",
    "sc.tl.umap(adata_endothelium_3)"
   ]
  },
  {
   "cell_type": "code",
   "execution_count": null,
   "id": "a3303401",
   "metadata": {},
   "outputs": [],
   "source": [
    "#Plot UMAP\n",
    "sc.pl.umap(adata_endothelium_3, color=['ROI'], save='_endothelium_ROI_v2.pdf')"
   ]
  },
  {
   "cell_type": "code",
   "execution_count": null,
   "id": "af449158",
   "metadata": {},
   "outputs": [],
   "source": [
    "#Plot UMAP\n",
    "sc.pl.umap(adata_endothelium_3, color=['Type'], save='_endothelium_Type_v2.pdf')"
   ]
  },
  {
   "cell_type": "code",
   "execution_count": null,
   "id": "e8a095dd",
   "metadata": {},
   "outputs": [],
   "source": [
    "#Plot UMAP for each marker\n",
    "sc.pl.umap(adata_endothelium_3, color=adata_endothelium_3.var_names, save='_endothelium_Markers_v2.pdf')"
   ]
  },
  {
   "cell_type": "code",
   "execution_count": null,
   "id": "964ebc60",
   "metadata": {},
   "outputs": [],
   "source": [
    "#Run PCA\n",
    "sc.tl.pca(adata_endothelium_3)\n",
    "\n",
    "#Calculate tSNE\n",
    "sc.tl.tsne(adata_endothelium_3)"
   ]
  },
  {
   "cell_type": "code",
   "execution_count": null,
   "id": "155c4683",
   "metadata": {},
   "outputs": [],
   "source": [
    "#Plot tSNE \n",
    "sc.pl.tsne(adata_endothelium_3, color=['ROI'], save='_enodthelium_ROI_v2.pdf')"
   ]
  },
  {
   "cell_type": "code",
   "execution_count": null,
   "id": "d32343f3",
   "metadata": {},
   "outputs": [],
   "source": [
    "#Plot tSNE \n",
    "sc.pl.tsne(adata_endothelium_3, color=['Type'], save='_endothelium_cases_v2.pdf')"
   ]
  },
  {
   "cell_type": "code",
   "execution_count": null,
   "id": "7ca12abb",
   "metadata": {},
   "outputs": [],
   "source": [
    "#Plot tSNE for each marker\n",
    "sc.pl.tsne(adata_endothelium_3, color=adata_endothelium_3.var_names, save='_endothelium_Markers_v2.pdf')"
   ]
  },
  {
   "cell_type": "code",
   "execution_count": null,
   "id": "f22d281a",
   "metadata": {},
   "outputs": [],
   "source": [
    "#Run PhenoGraph\n",
    "sce.tl.phenograph(adata_endothelium_3, clustering_algo=\"louvain\", k=200, seed=2)"
   ]
  },
  {
   "cell_type": "code",
   "execution_count": null,
   "id": "d16a10a2",
   "metadata": {},
   "outputs": [],
   "source": [
    "#Plot PhenoGraph on tSNE\n",
    "sc.pl.tsne(adata_endothelium_3, color = \"pheno_louvain\", s = 100, legend_fontsize = 10, size=2, save='_endothelium_PhenoLouvain_v2.pdf')"
   ]
  },
  {
   "cell_type": "code",
   "execution_count": null,
   "id": "bd2efd0e",
   "metadata": {},
   "outputs": [],
   "source": [
    "#Plot PhenoGraph on UMAP\n",
    "sc.pl.umap(adata_endothelium_3, color = \"pheno_louvain\", s = 100, legend_fontsize = 10, size=2, save='_endothelium_PhenoLouvain_v2.pdf')"
   ]
  },
  {
   "cell_type": "code",
   "execution_count": null,
   "id": "41b440cf",
   "metadata": {},
   "outputs": [],
   "source": [
    "#Plot heatmap of myeloid clusters\n",
    "sc.tl.dendrogram(adata_endothelium_3, groupby = 'pheno_louvain')\n",
    "sc.pl.heatmap(adata_endothelium_3, adata_endothelium_3.var_names, groupby='pheno_louvain', swap_axes=True, dendrogram=True, save='_endothelium_PhenoLouvain_clustered_v2.pdf')"
   ]
  },
  {
   "cell_type": "code",
   "execution_count": null,
   "id": "cfdbff28",
   "metadata": {},
   "outputs": [],
   "source": [
    "#Plot scaled heatmap\n",
    "adata_endothelium_norm2 = adata_endothelium_3.copy()\n",
    "sc.pp.scale(adata_endothelium_norm2, max_value=2,  zero_center=True)\n",
    "sc.tl.dendrogram(adata_endothelium_norm2, groupby = 'pheno_louvain')\n",
    "sc.pl.heatmap(adata_endothelium_norm2, adata_endothelium_norm2.var_names, groupby='pheno_louvain', swap_axes=True, dendrogram=True, save='_scaled_endothelium_PhenoLouvain_clustered_v2.pdf')"
   ]
  },
  {
   "cell_type": "code",
   "execution_count": null,
   "id": "c2970df8",
   "metadata": {},
   "outputs": [],
   "source": [
    "#Compute a ranking for the highly differential markers in each cluster\n",
    "sc.tl.rank_genes_groups(adata_endothelium_3, 'pheno_louvain', method='t-test')\n",
    "sc.pl.rank_genes_groups(adata_endothelium_3, n_genes=10, sharey=False, save='rank_markers_endothelium_PhenoLouvain_v2.pdf')"
   ]
  },
  {
   "cell_type": "code",
   "execution_count": null,
   "id": "e40122f4",
   "metadata": {
    "scrolled": true
   },
   "outputs": [],
   "source": [
    "#Population distribution\n",
    "\n",
    "from importlib import reload\n",
    "\n",
    "mimc = reload(mimc)\n",
    "mimc.pop_distribution(adata_endothelium_3,'pheno_louvain',['ROI','Type'])"
   ]
  },
  {
   "cell_type": "code",
   "execution_count": null,
   "id": "028d8800",
   "metadata": {},
   "outputs": [],
   "source": [
    "#Annotate clusters in a dictionary file\n",
    "#Load the merged clusters and map to the anndata file\n",
    "\n",
    "# Mapping the phenograph populations onto the new/merged population labels\n",
    "\n",
    "endothelial_dict = pd.read_csv('mikeimc_approach/covid_endothelial_dict.csv')\n",
    "e = endothelial_dict.set_index('pheno_louvain').to_dict()\n",
    "\n",
    "adata_endothelium_3.obs['endothelial_pop']=adata_endothelium_3.obs['pheno_louvain'].map(e['Endothelial_Class'])\n",
    "\n",
    "adata_endothelium_3.obs['endothelial_pop']=adata_endothelium_3.obs['endothelial_pop'].astype('category')"
   ]
  },
  {
   "cell_type": "code",
   "execution_count": null,
   "id": "faac6e09",
   "metadata": {},
   "outputs": [],
   "source": [
    "mimc.pop_distribution(adata_endothelium_3,'endothelial_pop',['ROI','Case','Type'])"
   ]
  },
  {
   "cell_type": "code",
   "execution_count": null,
   "id": "32cc457e",
   "metadata": {},
   "outputs": [],
   "source": [
    "#Plot heatmap of lymphoid clusters\n",
    "sc.tl.dendrogram(adata_endothelium_3, groupby = 'endothelial_pop')\n",
    "sc.pl.heatmap(adata_endothelium_3, adata_endothelium_3.var_names, groupby='endothelial_pop', swap_axes=False, dendrogram=True, save='_endothelial_annotated_clustered_v2.pdf')"
   ]
  },
  {
   "cell_type": "code",
   "execution_count": null,
   "id": "27727567",
   "metadata": {},
   "outputs": [],
   "source": [
    "#Plot scaled heatmap\n",
    "adata_endothelium_norm3 = adata_endothelium_3.copy()\n",
    "sc.pp.scale(adata_endothelium_norm3, max_value=2,  zero_center=True)\n",
    "sc.tl.dendrogram(adata_endothelium_norm3, groupby = 'endothelial_pop')\n",
    "sc.pl.heatmap(adata_endothelium_norm3, adata_endothelium_norm3.var_names, groupby='endothelial_pop', swap_axes=False, dendrogram=True, save='_scaled_endothelial_annotated_clustered_v2.pdf')"
   ]
  },
  {
   "cell_type": "code",
   "execution_count": null,
   "id": "ed6d5019",
   "metadata": {},
   "outputs": [],
   "source": [
    "#Compute a ranking for the highly differential markers in each cluster\n",
    "sc.tl.rank_genes_groups(adata_endothelium_3, 'endothelial_pop', method='t-test')\n",
    "sc.pl.rank_genes_groups(adata_endothelium_3, n_genes=10, sharey=False, save='rank_markers_endothelial_annotated_v2.pdf')"
   ]
  },
  {
   "cell_type": "code",
   "execution_count": null,
   "id": "9d2a8116",
   "metadata": {},
   "outputs": [],
   "source": [
    "#Plot PhenoGraph on UMAP\n",
    "sc.pl.umap(adata_endothelium_3, color = \"endothelial_pop\", s = 100, legend_fontsize = 10, size=2, save='_endothelial_annotated_v2.pdf')\n",
    "\n",
    "#Plot PhenoGraph on tSNE\n",
    "sc.pl.tsne(adata_endothelium_3, color = \"endothelial_pop\", s = 100, legend_fontsize = 10, size=2, save='_endothelial_annotated_v2.pdf')"
   ]
  },
  {
   "cell_type": "code",
   "execution_count": null,
   "id": "54402f8f",
   "metadata": {},
   "outputs": [],
   "source": [
    "# export everything except the data using `.write_csvs`.\n",
    "# Set `skip_data=False` if you also want to export the data.\n",
    "adata_endothelium_3.write_csvs(dirname='./Analysis_iteration3/All_data_v2_noDNAphysicalparam/ASTIR/EC_clusters_approach2/Annotated_EC_clusters', skip_data=False)"
   ]
  },
  {
   "cell_type": "markdown",
   "id": "db87c324",
   "metadata": {},
   "source": [
    "# Analysis of Epithelial cells"
   ]
  },
  {
   "cell_type": "code",
   "execution_count": null,
   "id": "95a2f926",
   "metadata": {},
   "outputs": [],
   "source": [
    "#Calculate neighbors\n",
    "sc.pp.neighbors(adata_epithelial_3, n_neighbors=100)\n",
    "\n",
    "#Calculate UMAP\n",
    "sc.tl.umap(adata_epithelial_3)"
   ]
  },
  {
   "cell_type": "code",
   "execution_count": null,
   "id": "71fd4609",
   "metadata": {},
   "outputs": [],
   "source": [
    "#Plot UMAP\n",
    "sc.pl.umap(adata_epithelial_3, color=['ROI'], save='_epithelial_ROI_v2.pdf')"
   ]
  },
  {
   "cell_type": "code",
   "execution_count": null,
   "id": "de7c5911",
   "metadata": {},
   "outputs": [],
   "source": [
    "#Plot UMAP\n",
    "sc.pl.umap(adata_epithelial_3, color=['Type'], save='_epithelial_Type_v2.pdf')"
   ]
  },
  {
   "cell_type": "code",
   "execution_count": null,
   "id": "4bf297f1",
   "metadata": {},
   "outputs": [],
   "source": [
    "#Plot UMAP for each marker\n",
    "sc.pl.umap(adata_epithelial_3, color=adata_epithelial_3.var_names, save='_epithelial_Markers_v2.pdf')"
   ]
  },
  {
   "cell_type": "code",
   "execution_count": null,
   "id": "ca922134",
   "metadata": {},
   "outputs": [],
   "source": [
    "#Run PCA\n",
    "sc.tl.pca(adata_epithelial_3)\n",
    "\n",
    "#Calculate tSNE\n",
    "sc.tl.tsne(adata_epithelial_3)"
   ]
  },
  {
   "cell_type": "code",
   "execution_count": null,
   "id": "77a6f74a",
   "metadata": {},
   "outputs": [],
   "source": [
    "#Plot tSNE \n",
    "sc.pl.tsne(adata_epithelial_3, color=['ROI'], save='_epithelial_ROI_v2.pdf')"
   ]
  },
  {
   "cell_type": "code",
   "execution_count": null,
   "id": "e1c2cf4f",
   "metadata": {},
   "outputs": [],
   "source": [
    "#Plot tSNE \n",
    "sc.pl.tsne(adata_epithelial_3, color=['Type'], save='_epithelial_cases_v2.pdf')"
   ]
  },
  {
   "cell_type": "code",
   "execution_count": null,
   "id": "9ceb4c7f",
   "metadata": {},
   "outputs": [],
   "source": [
    "#Plot tSNE for each marker\n",
    "sc.pl.tsne(adata_epithelial_3, color=adata_epithelial_3.var_names, save='_epithelial_Markers_v2.pdf')"
   ]
  },
  {
   "cell_type": "code",
   "execution_count": null,
   "id": "3f23f320",
   "metadata": {},
   "outputs": [],
   "source": [
    "#Run PhenoGraph\n",
    "sce.tl.phenograph(adata_epithelial_3, clustering_algo=\"louvain\", k=200, seed=1)"
   ]
  },
  {
   "cell_type": "code",
   "execution_count": null,
   "id": "b41be69f",
   "metadata": {},
   "outputs": [],
   "source": [
    "#Plot PhenoGraph on tSNE\n",
    "sc.pl.tsne(adata_epithelial_3, color = \"pheno_louvain\", s = 100, legend_fontsize = 10, size=2, save='_epithelial_PhenoLouvain_v2.pdf')"
   ]
  },
  {
   "cell_type": "code",
   "execution_count": null,
   "id": "3210007f",
   "metadata": {},
   "outputs": [],
   "source": [
    "#Plot PhenoGraph on UMAP\n",
    "sc.pl.umap(adata_epithelial_3, color = \"pheno_louvain\", s = 100, legend_fontsize = 10, size=2, save='_epithelial_PhenoLouvain_v2.pdf')"
   ]
  },
  {
   "cell_type": "code",
   "execution_count": null,
   "id": "6943bc41",
   "metadata": {},
   "outputs": [],
   "source": [
    "#Plot heatmap of myeloid clusters\n",
    "sc.tl.dendrogram(adata_epithelial_3, groupby = 'pheno_louvain')\n",
    "sc.pl.heatmap(adata_epithelial_3, adata_epithelial_3.var_names, groupby='pheno_louvain', vmax=0.75, swap_axes=True, dendrogram=True, save='_epithelial_PhenoLouvain_clustered_v2.pdf')"
   ]
  },
  {
   "cell_type": "code",
   "execution_count": null,
   "id": "ccdb9dd1",
   "metadata": {},
   "outputs": [],
   "source": [
    "#Plot scaled heatmap\n",
    "adata_epithelial_norm2 = adata_epithelial_3.copy()\n",
    "sc.pp.scale(adata_epithelial_norm2, max_value=2,  zero_center=True)\n",
    "sc.tl.dendrogram(adata_epithelial_norm2, groupby = 'pheno_louvain')\n",
    "sc.pl.heatmap(adata_epithelial_norm2, adata_epithelial_norm2.var_names, groupby='pheno_louvain', swap_axes=True, dendrogram=True, save='_scaled_epithelial_PhenoLouvain_clustered_v2.pdf')"
   ]
  },
  {
   "cell_type": "code",
   "execution_count": null,
   "id": "729af393",
   "metadata": {},
   "outputs": [],
   "source": [
    "#Compute a ranking for the highly differential markers in each cluster\n",
    "sc.tl.rank_genes_groups(adata_epithelial_3, 'pheno_louvain', method='t-test')\n",
    "sc.pl.rank_genes_groups(adata_epithelial_3, n_genes=10, sharey=False, save='rank_markers_epithelial_PhenoLouvain_v2.pdf')"
   ]
  },
  {
   "cell_type": "code",
   "execution_count": null,
   "id": "6e3e9ddb",
   "metadata": {},
   "outputs": [],
   "source": [
    "#Population distribution\n",
    "\n",
    "from importlib import reload\n",
    "\n",
    "mimc = reload(mimc)\n",
    "mimc.pop_distribution(adata_epithelial_3,'pheno_louvain',['ROI','Type'])"
   ]
  },
  {
   "cell_type": "code",
   "execution_count": null,
   "id": "98c65843",
   "metadata": {},
   "outputs": [],
   "source": [
    "#Annotate clusters in a dictionary file\n",
    "#Load the merged clusters and map to the anndata file\n",
    "\n",
    "# Mapping the phenograph populations onto the new/merged population labels\n",
    "\n",
    "epithelial_dict = pd.read_csv('mikeimc_approach/covid_epithelial_dict.csv')\n",
    "ep = epithelial_dict.set_index('pheno_louvain').to_dict()\n",
    "\n",
    "adata_epithelial_3.obs['epithelial_pop']=adata_epithelial_3.obs['pheno_louvain'].map(ep['Epithelial_Class'])\n",
    "\n",
    "adata_epithelial_3.obs['epithelial_pop']=adata_epithelial_3.obs['epithelial_pop'].astype('category')"
   ]
  },
  {
   "cell_type": "code",
   "execution_count": null,
   "id": "21c8c26c",
   "metadata": {},
   "outputs": [],
   "source": [
    "mimc.pop_distribution(adata_epithelial_3,'epithelial_pop',['ROI','Case','Type'])"
   ]
  },
  {
   "cell_type": "code",
   "execution_count": null,
   "id": "38a71969",
   "metadata": {},
   "outputs": [],
   "source": [
    "#Plot heatmap of epithelial clusters\n",
    "sc.tl.dendrogram(adata_epithelial_3, groupby = 'epithelial_pop')\n",
    "sc.pl.heatmap(adata_epithelial_3, adata_epithelial_3.var_names,vmax=0.75, groupby='epithelial_pop', swap_axes=False, dendrogram=True, save='_epithelial_annotated_clustered_v2.pdf')"
   ]
  },
  {
   "cell_type": "code",
   "execution_count": null,
   "id": "2c79043d",
   "metadata": {},
   "outputs": [],
   "source": [
    "#Plot scaled heatmap\n",
    "adata_epithelial_norm3 = adata_epithelial_3.copy()\n",
    "sc.pp.scale(adata_epithelial_norm3, max_value=2,  zero_center=True)\n",
    "sc.tl.dendrogram(adata_epithelial_norm3, groupby = 'epithelial_pop')\n",
    "sc.pl.heatmap(adata_epithelial_norm3, adata_epithelial_norm3.var_names, groupby='epithelial_pop', swap_axes=False, dendrogram=True, save='_scaled_epithelial_annotated_clustered_v2.pdf')"
   ]
  },
  {
   "cell_type": "code",
   "execution_count": null,
   "id": "be348c45",
   "metadata": {},
   "outputs": [],
   "source": [
    "#Compute a ranking for the highly differential markers in each cluster\n",
    "sc.tl.rank_genes_groups(adata_epithelial_3, 'epithelial_pop', method='t-test')\n",
    "sc.pl.rank_genes_groups(adata_epithelial_3, n_genes=10, sharey=False, save='rank_markers_epithelial_annotated_v2.pdf')"
   ]
  },
  {
   "cell_type": "code",
   "execution_count": null,
   "id": "d7ce3169",
   "metadata": {},
   "outputs": [],
   "source": [
    "#Plot PhenoGraph on UMAP\n",
    "sc.pl.umap(adata_epithelial_3, color = \"epithelial_pop\", s = 100, legend_fontsize = 10, size=2, save='_epithelial_annotated_v2.pdf')\n",
    "\n",
    "#Plot PhenoGraph on tSNE\n",
    "sc.pl.tsne(adata_epithelial_3, color = \"epithelial_pop\", s = 100, legend_fontsize = 10, size=2, save='_epithelial_annotated_v2.pdf')"
   ]
  },
  {
   "cell_type": "code",
   "execution_count": null,
   "id": "e7e8d646",
   "metadata": {},
   "outputs": [],
   "source": [
    "# export everything except the data using `.write_csvs`.\n",
    "# Set `skip_data=False` if you also want to export the data.\n",
    "adata_epithelial_3.write_csvs(dirname='./Analysis_iteration3/All_data_v2_noDNAphysicalparam/ASTIR/Epithelial_clusters_approach2/Annotated_Epithelial_clusters', skip_data=False)"
   ]
  },
  {
   "cell_type": "markdown",
   "id": "64843c57",
   "metadata": {},
   "source": [
    "# Analysis of Fibroblast cells"
   ]
  },
  {
   "cell_type": "code",
   "execution_count": null,
   "id": "cc6a3879",
   "metadata": {},
   "outputs": [],
   "source": [
    "#Calculate neighbors\n",
    "sc.pp.neighbors(adata_fibroblast_3, n_neighbors=100)\n",
    "\n",
    "#Calculate UMAP\n",
    "sc.tl.umap(adata_fibroblast_3)"
   ]
  },
  {
   "cell_type": "code",
   "execution_count": null,
   "id": "18509d35",
   "metadata": {},
   "outputs": [],
   "source": [
    "#Plot UMAP\n",
    "sc.pl.umap(adata_fibroblast_3, color=['ROI'], save='_fibroblast_ROI_v2.pdf')"
   ]
  },
  {
   "cell_type": "code",
   "execution_count": null,
   "id": "e519bdab",
   "metadata": {},
   "outputs": [],
   "source": [
    "#Plot UMAP\n",
    "sc.pl.umap(adata_fibroblast_3, color=['Type'], save='_fibroblast_Type_v2.pdf')"
   ]
  },
  {
   "cell_type": "code",
   "execution_count": null,
   "id": "bcd96435",
   "metadata": {},
   "outputs": [],
   "source": [
    "#Plot UMAP for each marker\n",
    "sc.pl.umap(adata_fibroblast_3, color=adata_fibroblast_3.var_names, save='_fibroblast_Markers_v2.pdf')"
   ]
  },
  {
   "cell_type": "code",
   "execution_count": null,
   "id": "5e2bb3f3",
   "metadata": {},
   "outputs": [],
   "source": [
    "#Run PCA\n",
    "sc.tl.pca(adata_fibroblast_3)\n",
    "\n",
    "#Calculate tSNE\n",
    "sc.tl.tsne(adata_fibroblast_3)"
   ]
  },
  {
   "cell_type": "code",
   "execution_count": null,
   "id": "eeb65792",
   "metadata": {},
   "outputs": [],
   "source": [
    "#Plot tSNE \n",
    "sc.pl.tsne(adata_fibroblast_3, color=['ROI'], save='_fibroblast_ROI_v2.pdf')"
   ]
  },
  {
   "cell_type": "code",
   "execution_count": null,
   "id": "2c0afc8c",
   "metadata": {},
   "outputs": [],
   "source": [
    "#Plot tSNE \n",
    "sc.pl.tsne(adata_fibroblast_3, color=['Type'], save='_fibroblast_cases_v2.pdf')"
   ]
  },
  {
   "cell_type": "code",
   "execution_count": null,
   "id": "ffade8d5",
   "metadata": {},
   "outputs": [],
   "source": [
    "#Plot tSNE for each marker\n",
    "sc.pl.tsne(adata_fibroblast_3, color=adata_fibroblast_3.var_names, save='_fibroblast_Markers_v2.pdf')"
   ]
  },
  {
   "cell_type": "code",
   "execution_count": null,
   "id": "54f44c8e",
   "metadata": {},
   "outputs": [],
   "source": [
    "#Run PhenoGraph\n",
    "sce.tl.phenograph(adata_fibroblast_3, clustering_algo=\"louvain\", k=200, seed=1)"
   ]
  },
  {
   "cell_type": "code",
   "execution_count": null,
   "id": "5d477411",
   "metadata": {},
   "outputs": [],
   "source": [
    "#Plot PhenoGraph on tSNE\n",
    "sc.pl.tsne(adata_fibroblast_3, color = \"pheno_louvain\", s = 100, legend_fontsize = 10, size=2, save='_fibroblast_PhenoLouvain_v2.pdf')"
   ]
  },
  {
   "cell_type": "code",
   "execution_count": null,
   "id": "a7168f6b",
   "metadata": {},
   "outputs": [],
   "source": [
    "#Plot PhenoGraph on UMAP\n",
    "sc.pl.umap(adata_fibroblast_3, color = \"pheno_louvain\", s = 100, legend_fontsize = 10, size=2, save='_fibroblast_PhenoLouvain_v2.pdf')"
   ]
  },
  {
   "cell_type": "code",
   "execution_count": null,
   "id": "91e58f7c",
   "metadata": {},
   "outputs": [],
   "source": [
    "#Plot heatmap of myeloid clusters\n",
    "sc.tl.dendrogram(adata_fibroblast_3, groupby = 'pheno_louvain')\n",
    "sc.pl.heatmap(adata_fibroblast_3, adata_fibroblast_3.var_names, groupby='pheno_louvain', vmax=0.75, swap_axes=True, dendrogram=True, save='_fibroblast_PhenoLouvain_clustered_v2.pdf')"
   ]
  },
  {
   "cell_type": "code",
   "execution_count": null,
   "id": "5f502b9d",
   "metadata": {},
   "outputs": [],
   "source": [
    "#Plot scaled heatmap\n",
    "adata_fibroblast_norm2 = adata_fibroblast_3.copy()\n",
    "sc.pp.scale(adata_fibroblast_norm2, max_value=2,  zero_center=True)\n",
    "sc.tl.dendrogram(adata_fibroblast_norm2, groupby = 'pheno_louvain')\n",
    "sc.pl.heatmap(adata_fibroblast_norm2, adata_fibroblast_norm2.var_names, groupby='pheno_louvain', swap_axes=True, dendrogram=True, save='_scaled_fibroblast_PhenoLouvain_clustered_v2.pdf')"
   ]
  },
  {
   "cell_type": "code",
   "execution_count": null,
   "id": "92976e78",
   "metadata": {},
   "outputs": [],
   "source": [
    "#Compute a ranking for the highly differential markers in each cluster\n",
    "sc.tl.rank_genes_groups(adata_fibroblast_3, 'pheno_louvain', method='t-test')\n",
    "sc.pl.rank_genes_groups(adata_fibroblast_3, n_genes=10, sharey=False, save='rank_markers_fibroblast_PhenoLouvain_v2.pdf')"
   ]
  },
  {
   "cell_type": "code",
   "execution_count": null,
   "id": "095ec998",
   "metadata": {},
   "outputs": [],
   "source": [
    "#Population distribution\n",
    "\n",
    "from importlib import reload\n",
    "\n",
    "mimc = reload(mimc)\n",
    "mimc.pop_distribution(adata_fibroblast_3,'pheno_louvain',['ROI','Type'])"
   ]
  },
  {
   "cell_type": "code",
   "execution_count": null,
   "id": "5a1d6f50",
   "metadata": {},
   "outputs": [],
   "source": [
    "#Annotate clusters in a dictionary file\n",
    "#Load the merged clusters and map to the anndata file\n",
    "\n",
    "# Mapping the phenograph populations onto the new/merged population labels\n",
    "\n",
    "fibroblast_dict = pd.read_csv('mikeimc_approach/covid_fibroblast_dict.csv')\n",
    "f = fibroblast_dict.set_index('pheno_louvain').to_dict()\n",
    "\n",
    "adata_fibroblast_3.obs['fibroblast_pop']=adata_fibroblast_3.obs['pheno_louvain'].map(f['Fibroblast_Class'])\n",
    "\n",
    "adata_fibroblast_3.obs['fibroblast_pop']=adata_fibroblast_3.obs['fibroblast_pop'].astype('category')"
   ]
  },
  {
   "cell_type": "code",
   "execution_count": null,
   "id": "e14dcab8",
   "metadata": {},
   "outputs": [],
   "source": [
    "#Population distribution\n",
    "\n",
    "from importlib import reload\n",
    "\n",
    "mimc = reload(mimc)\n",
    "mimc.pop_distribution(adata_fibroblast_3,'fibroblast_pop',['ROI', 'Case','Type'])"
   ]
  },
  {
   "cell_type": "code",
   "execution_count": null,
   "id": "5ba0ff35",
   "metadata": {},
   "outputs": [],
   "source": [
    "#Plot heatmap of epithelial clusters\n",
    "sc.tl.dendrogram(adata_fibroblast_3, groupby = 'fibroblast_pop')\n",
    "sc.pl.heatmap(adata_fibroblast_3, adata_fibroblast_3.var_names, groupby='fibroblast_pop', swap_axes=False, dendrogram=True, save='_fibroblast_annotated_clustered_v2.pdf')"
   ]
  },
  {
   "cell_type": "code",
   "execution_count": null,
   "id": "19c2beba",
   "metadata": {},
   "outputs": [],
   "source": [
    "#Plot scaled heatmap\n",
    "adata_fibroblast_norm3 = adata_fibroblast_3.copy()\n",
    "sc.pp.scale(adata_fibroblast_norm3, max_value=2,  zero_center=True)\n",
    "sc.tl.dendrogram(adata_fibroblast_norm3, groupby = 'fibroblast_pop')\n",
    "sc.pl.heatmap(adata_fibroblast_norm3, adata_fibroblast_norm3.var_names, groupby='fibroblast_pop', swap_axes=False, dendrogram=True, save='_scaled_fibroblast_annotated_clustered_v2.pdf')"
   ]
  },
  {
   "cell_type": "code",
   "execution_count": null,
   "id": "e5e8873a",
   "metadata": {},
   "outputs": [],
   "source": [
    "#Compute a ranking for the highly differential markers in each cluster\n",
    "sc.tl.rank_genes_groups(adata_fibroblast_3, 'fibroblast_pop', method='t-test')\n",
    "sc.pl.rank_genes_groups(adata_fibroblast_3, n_genes=10, sharey=False, save='rank_markers_fibroblast_annotated_v2.pdf')"
   ]
  },
  {
   "cell_type": "code",
   "execution_count": null,
   "id": "b77166bc",
   "metadata": {},
   "outputs": [],
   "source": [
    "#Plot PhenoGraph on UMAP\n",
    "sc.pl.umap(adata_fibroblast_3, color = \"fibroblast_pop\", s = 100, legend_fontsize = 10, size=2, save='_fibroblast_annotated_v2.pdf')\n",
    "\n",
    "#Plot PhenoGraph on tSNE\n",
    "sc.pl.tsne(adata_fibroblast_3, color = \"fibroblast_pop\", s = 100, legend_fontsize = 10, size=2, save='_fibroblast_annotated_v2.pdf')"
   ]
  },
  {
   "cell_type": "code",
   "execution_count": null,
   "id": "9503d287",
   "metadata": {},
   "outputs": [],
   "source": [
    "# export everything except the data using `.write_csvs`.\n",
    "# Set `skip_data=False` if you also want to export the data.\n",
    "adata_fibroblast_3.write_csvs(dirname='./Analysis_iteration3/All_data_v2_noDNAphysicalparam/ASTIR/Fibroblast_clusters_approach2/Annotated_Fibroblast_clusters', skip_data=False)"
   ]
  },
  {
   "cell_type": "markdown",
   "id": "b9650222",
   "metadata": {},
   "source": [
    "# Analysis of RBCs"
   ]
  },
  {
   "cell_type": "code",
   "execution_count": null,
   "id": "d7888b9c",
   "metadata": {},
   "outputs": [],
   "source": [
    "#Calculate neighbors\n",
    "sc.pp.neighbors(adata_RBC_3, n_neighbors=100)\n",
    "\n",
    "#Calculate UMAP\n",
    "sc.tl.umap(adata_RBC_3)"
   ]
  },
  {
   "cell_type": "code",
   "execution_count": null,
   "id": "3da3f30c",
   "metadata": {},
   "outputs": [],
   "source": [
    "#Plot UMAP\n",
    "sc.pl.umap(adata_RBC_3, color=['ROI'], save='_RBC_ROI_v2.pdf')\n",
    "#Plot UMAP\n",
    "sc.pl.umap(adata_RBC_3, color=['Type'], save='_RBC_Type_v2.pdf')\n",
    "#Plot UMAP for each marker\n",
    "sc.pl.umap(adata_RBC_3, color=adata_RBC_3.var_names, save='_RBC_Markers_v2.pdf')"
   ]
  },
  {
   "cell_type": "code",
   "execution_count": null,
   "id": "d39ce90e",
   "metadata": {},
   "outputs": [],
   "source": [
    "#Run PCA\n",
    "sc.tl.pca(adata_RBC_3)\n",
    "\n",
    "#Calculate tSNE\n",
    "sc.tl.tsne(adata_RBC_3)"
   ]
  },
  {
   "cell_type": "code",
   "execution_count": null,
   "id": "319c13cb",
   "metadata": {},
   "outputs": [],
   "source": [
    "#Run PhenoGraph\n",
    "sce.tl.phenograph(adata_RBC_3, clustering_algo=\"louvain\", k=200, seed=1)"
   ]
  },
  {
   "cell_type": "code",
   "execution_count": null,
   "id": "83327fbd",
   "metadata": {},
   "outputs": [],
   "source": [
    "#Plot heatmap of myeloid clusters\n",
    "sc.pl.heatmap(adata_RBC_3, adata_RBC_3.var_names, groupby='pheno_louvain', vmax=0.75, swap_axes=True, dendrogram=False, save='_RBC_PhenoLouvain_clustered_v2.pdf')"
   ]
  },
  {
   "cell_type": "code",
   "execution_count": null,
   "id": "f2f582dc",
   "metadata": {},
   "outputs": [],
   "source": [
    "#Annotate clusters in a dictionary file\n",
    "#Load the merged clusters and map to the anndata file\n",
    "\n",
    "# Mapping the phenograph populations onto the new/merged population labels\n",
    "\n",
    "RBC_dict = pd.read_csv('mikeimc_approach/covid_RBC_dict.csv')\n",
    "r = RBC_dict.set_index('pheno_louvain').to_dict()\n",
    "\n",
    "adata_RBC_3.obs['RBC_pop']=adata_RBC_3.obs['pheno_louvain'].map(r['RBC_Class'])\n",
    "\n",
    "adata_RBC_3.obs['RBC_pop']=adata_RBC_3.obs['RBC_pop'].astype('category')"
   ]
  },
  {
   "cell_type": "markdown",
   "id": "285ef181",
   "metadata": {},
   "source": [
    "# Mapping ASTIR/PhenoGraph-defined populations back onto entire adata_subset and combining them all"
   ]
  },
  {
   "cell_type": "markdown",
   "id": "977898cd",
   "metadata": {},
   "source": [
    "Extract the phenograph data from each cell type, and add on 'm' r 't' to distinguish them"
   ]
  },
  {
   "cell_type": "code",
   "execution_count": null,
   "id": "4220212e",
   "metadata": {},
   "outputs": [],
   "source": [
    "adata_myeloid_3.obs['final_cluster'] = adata_myeloid_3.obs['myeloid_pop'].astype(\"string\")\n",
    "adata_lymphoid_3.obs['final_cluster'] = adata_lymphoid_3.obs['lymphoid_pop'].astype(\"string\")\n",
    "adata_endothelium_3.obs['final_cluster']=adata_endothelium_3.obs['endothelial_pop'].astype(\"string\")\n",
    "adata_epithelial_3.obs['final_cluster']=adata_epithelial_3.obs['epithelial_pop'].astype(\"string\")\n",
    "adata_fibroblast_3.obs['final_cluster']=adata_fibroblast_3.obs['fibroblast_pop'].astype(\"string\")\n",
    "adata_RBC_3.obs['final_cluster']=adata_RBC_3.obs['RBC_pop'].astype(\"string\")"
   ]
  },
  {
   "cell_type": "markdown",
   "id": "17014e91",
   "metadata": {},
   "source": [
    "Add in the clusters to the original anndata"
   ]
  },
  {
   "cell_type": "code",
   "execution_count": null,
   "id": "ca696deb",
   "metadata": {},
   "outputs": [],
   "source": [
    "#Combine the cell clusters lists\n",
    "phenograph_ids = pd.concat([adata_myeloid_3.obs[['Master_Index','final_cluster']],adata_lymphoid_3.obs[['Master_Index','final_cluster']],\n",
    "                            adata_endothelium_3.obs[['Master_Index','final_cluster']], adata_epithelial_3.obs[['Master_Index','final_cluster']],\n",
    "                            adata_fibroblast_3.obs[['Master_Index','final_cluster']], adata_RBC_3.obs[['Master_Index','final_cluster']]])\n",
    "\n",
    "#Map the list back onto the original cell list - some cell in original list may may not appear in these? E.g. other/unknown?\n",
    "phenograph_final = pd.merge(adata_subset3.obs['Master_Index'],phenograph_ids,how='left')\n",
    "\n",
    "#Add in the new observation\n",
    "adata_subset3.obs['pheno_cluster']=phenograph_final['final_cluster'].tolist()\n",
    "\n",
    "#Change type to categorical\n",
    "adata_subset3.obs['pheno_cluster']=adata_subset3.obs['pheno_cluster'].astype('category')"
   ]
  },
  {
   "cell_type": "code",
   "execution_count": null,
   "id": "d8c2b966",
   "metadata": {},
   "outputs": [],
   "source": [
    "adata_subset3"
   ]
  },
  {
   "cell_type": "code",
   "execution_count": null,
   "id": "0d893d79",
   "metadata": {},
   "outputs": [],
   "source": [
    "#Convert column to string type so that we can add types\n",
    "#adata_subset3.obs['pheno_cluster'] = adata_subset3.obs['pheno_cluster'].astype('string')\n",
    "\n",
    "#Where pheno_clusters is blank, instead read from the 'hierarchy' type assigned by Astir in the earlier analysis\n",
    "#adata_subset3.obs['pheno_cluster'][adata_subset3.obs['pheno_cluster'].isnull()]=adata_subset3.obs['hierarchy'][adata_subset3.obs['pheno_cluster'].isnull()].astype('string')\n",
    "\n",
    "#Convert back to categorical\n",
    "#adata_subset3.obs['pheno_cluster'] = adata_subset3.obs['pheno_cluster'].astype('category')"
   ]
  },
  {
   "cell_type": "code",
   "execution_count": null,
   "id": "a0dbde7c",
   "metadata": {},
   "outputs": [],
   "source": [
    "#rename x and y observations\n",
    "adata_subset3.obs.rename(columns={\"X\": \"X_loc\", \"Y\": \"Y_loc\"},inplace=True)"
   ]
  },
  {
   "cell_type": "markdown",
   "id": "f30b5a08",
   "metadata": {},
   "source": [
    "Colour Palette"
   ]
  },
  {
   "cell_type": "code",
   "execution_count": null,
   "id": "829ed713",
   "metadata": {},
   "outputs": [],
   "source": [
    "col_df = pd.read_csv('pheno_cluster_colors.csv')\n",
    "colour_palette = col_df.set_index('pheno_cluster').to_dict()\n",
    "colour_palette['colour']"
   ]
  },
  {
   "cell_type": "code",
   "execution_count": null,
   "id": "6559ea47",
   "metadata": {},
   "outputs": [],
   "source": [
    "#Plot heatmap of all clusters\n",
    "sc.tl.dendrogram(adata_subset3, groupby = 'pheno_cluster')"
   ]
  },
  {
   "cell_type": "code",
   "execution_count": null,
   "id": "74775a3d",
   "metadata": {},
   "outputs": [],
   "source": [
    "sc.pl.heatmap(adata_subset3, adata_subset3.var_names, figsize=(32,16), groupby='pheno_cluster', swap_axes=False, dendrogram=True, save='_all_clusters_clustered_v2.pdf')"
   ]
  },
  {
   "cell_type": "code",
   "execution_count": null,
   "id": "eaffabf2",
   "metadata": {},
   "outputs": [],
   "source": [
    "#Plot scaled heatmap\n",
    "adata_subset_norm = adata_subset3.copy()\n",
    "sc.pp.scale(adata_subset_norm, max_value=2,  zero_center=True)"
   ]
  },
  {
   "cell_type": "code",
   "execution_count": null,
   "id": "ef382bdb",
   "metadata": {},
   "outputs": [],
   "source": [
    "sc.tl.dendrogram(adata_subset_norm, groupby = 'pheno_cluster')\n",
    "sc.pl.heatmap(adata_subset_norm, adata_subset_norm, groupby='pheno_cluster', swap_axes=False, dendrogram=True, save='_scaled_all_clusters_clustered_v2.pdf')"
   ]
  },
  {
   "cell_type": "code",
   "execution_count": null,
   "id": "96da92cd",
   "metadata": {},
   "outputs": [],
   "source": [
    "#Calculate neighbors\n",
    "#you can determined the number of pcs to use: for example n_pcs=40\n",
    "sc.pp.neighbors(adata_subset3, n_neighbors=100)"
   ]
  },
  {
   "cell_type": "code",
   "execution_count": null,
   "id": "b321e098",
   "metadata": {},
   "outputs": [],
   "source": [
    "#Calculate UMAP\n",
    "sc.tl.umap(adata_subset3)"
   ]
  },
  {
   "cell_type": "code",
   "execution_count": null,
   "id": "f1ef4f8d",
   "metadata": {},
   "outputs": [],
   "source": [
    "#Calculate tSNE\n",
    "sc.tl.tsne(adata_subset3)"
   ]
  },
  {
   "cell_type": "code",
   "execution_count": null,
   "id": "6b294c80",
   "metadata": {},
   "outputs": [],
   "source": [
    "#Plot UMAP\n",
    "sc.pl.umap(adata_subset3, color = \"ROI\", s = 100, legend_fontsize = 10, size=2, save='_ROI.pdf')\n",
    "sc.pl.umap(adata_subset3, color = \"Case\", s = 100, legend_fontsize = 10, size=2, save='_Case.pdf')\n",
    "sc.pl.umap(adata_subset3, color = \"Type\", s = 100, legend_fontsize = 10, size=2, save='_Type.pdf')\n",
    "sc.pl.umap(adata_subset3, color = \"HEClass\", s = 100, legend_fontsize = 10, size=2, save='_HEClass.pdf')"
   ]
  },
  {
   "cell_type": "code",
   "execution_count": null,
   "id": "4f71fbc0",
   "metadata": {
    "scrolled": true
   },
   "outputs": [],
   "source": [
    "#Plot PhenoGraph on UMAP\n",
    "sc.pl.umap(adata_subset3, color = \"cell_type\", s = 100, legend_loc='on data', title='', legend_fontsize = 10, size=2, save='_cell_type_v3.pdf')"
   ]
  },
  {
   "cell_type": "code",
   "execution_count": null,
   "id": "69a8c1de",
   "metadata": {},
   "outputs": [],
   "source": [
    "#Plot tSNE\n",
    "sc.pl.tsne(adata_subset3, color = \"ROI\", s = 100, legend_fontsize = 10, size=2, save='_ROI.pdf')\n",
    "sc.pl.tsne(adata_subset3, color = \"Case\", s = 100, legend_fontsize = 10, size=2, save='_Case.pdf')\n",
    "sc.pl.tsne(adata_subset3, color = \"Type\", s = 100, legend_fontsize = 10, size=2, save='_Type.pdf')\n",
    "sc.pl.tsne(adata_subset3, color = \"HEClass\", s = 100, legend_fontsize = 10, size=2, save='_HEClass.pdf')"
   ]
  },
  {
   "cell_type": "code",
   "execution_count": null,
   "id": "4249609b",
   "metadata": {},
   "outputs": [],
   "source": [
    "#Plot PhenoGraph on tSNE\n",
    "sc.pl.tsne(adata_subset3, color = \"hierarchy\", s = 100, legend_loc='on data', title='', legend_fontsize = 10, size=2, save='_hierarchy_v3.pdf')"
   ]
  },
  {
   "cell_type": "code",
   "execution_count": null,
   "id": "73465e58",
   "metadata": {},
   "outputs": [],
   "source": [
    "sc.pl.matrixplot(adata_subset3, adata_subset3.var_names, groupby='pheno_cluster', vmax=0.75, dendrogram=True, save=True)"
   ]
  },
  {
   "cell_type": "code",
   "execution_count": null,
   "id": "08cf80e5",
   "metadata": {},
   "outputs": [],
   "source": [
    "mimc.pop_distribution(adata_subset3,'pheno_cluster',['ROI','HEClass','Type','Case'])"
   ]
  },
  {
   "cell_type": "code",
   "execution_count": null,
   "id": "e77ee4b8",
   "metadata": {},
   "outputs": [],
   "source": [
    "#stack bar code\n",
    "tmp = pd.crosstab(adata_subset3.obs['pheno_cluster'],adata_subset3.obs['ROI'], normalize='index')\n",
    "tmp = tmp.sort_values('ROI', ascending=False)\n",
    "tmp.plot.bar(stacked=True, figsize=(16, 6)).legend(loc='upper right')"
   ]
  },
  {
   "cell_type": "code",
   "execution_count": null,
   "id": "8d28ec1d",
   "metadata": {},
   "outputs": [],
   "source": [
    "# Mapped populations code\n",
    "MappedPlots = sb.lmplot(data = adata_subset2.obs,x = 'X_loc',y='Y_loc',hue='pheno_cluster',palette = colour_palette['colour'],height = 8,col = 'ROI',col_wrap = 3,fit_reg = False)"
   ]
  },
  {
   "cell_type": "code",
   "execution_count": null,
   "id": "d942d914",
   "metadata": {},
   "outputs": [],
   "source": [
    "graph = sb.lmplot(data = adata_subset3.obs,x = 'X_loc',y='Y_loc',hue ='pheno_cluster',palette = 'bright',height = 8,col = 'ROI',col_wrap = 3,fit_reg = False)\n",
    "graph.savefig(\"MappedPlots.png\")"
   ]
  },
  {
   "cell_type": "markdown",
   "id": "2c16a8b8",
   "metadata": {},
   "source": [
    "# Export data"
   ]
  },
  {
   "cell_type": "code",
   "execution_count": null,
   "id": "e8754588",
   "metadata": {},
   "outputs": [],
   "source": [
    "#Make a simplified dataframe to export\n",
    "adata_export = adata_subset3.obs[['Case','ROI','Type','hierarchy','pheno_cluster']].copy()"
   ]
  },
  {
   "cell_type": "code",
   "execution_count": null,
   "id": "e4ee783c",
   "metadata": {},
   "outputs": [],
   "source": [
    "#Split up the X and Y columns from the adata\n",
    "adata_export['X'], adata_export['Y'] = np.split(adata_subset3.obsm['spatial'],[-1],axis=1)\n",
    "#Save to file\n",
    "adata_export.to_csv('adata_cluster_export.csv')"
   ]
  },
  {
   "cell_type": "code",
   "execution_count": null,
   "id": "b145c56d",
   "metadata": {},
   "outputs": [],
   "source": [
    "# export everything except the data using `.write_csvs`.\n",
    "# Set `skip_data=False` if you also want to export the data.\n",
    "adata_subset3.write_csvs(dirname='./', skip_data=False)"
   ]
  },
  {
   "cell_type": "markdown",
   "id": "98945159",
   "metadata": {},
   "source": [
    "# Squidpy - neighbourhood analysis"
   ]
  },
  {
   "cell_type": "code",
   "execution_count": null,
   "id": "4fd9751b",
   "metadata": {},
   "outputs": [],
   "source": [
    "import scanpy as sc\n",
    "import squidpy as sq"
   ]
  },
  {
   "cell_type": "code",
   "execution_count": null,
   "id": "4e2f84e9",
   "metadata": {},
   "outputs": [],
   "source": [
    "sq.gr.spatial_neighbors(adata_subset3)\n",
    "sq.gr.nhood_enrichment(adata_subset3, cluster_key=\"pheno_cluster\")\n",
    "sq.pl.nhood_enrichment(adata_subset3, cluster_key=\"pheno_cluster\", save='_neighbourhood_analysis.pdf')"
   ]
  },
  {
   "cell_type": "code",
   "execution_count": null,
   "id": "4adc6553",
   "metadata": {},
   "outputs": [],
   "source": [
    "fields=['C07_ROI1','C07_ROI2','C07_ROI3','C07_ROI4',\n",
    "       'C12_ROI1','C12_ROI2','C12_ROI3','C12_ROI4','C13_ROI1','C13_ROI2','C13_ROI3','C13_ROI4',\n",
    "       'C16_ROI1','C16_ROI2','C16_ROI3','C16_ROI4','C21_ROI1','C21_ROI2','C21_ROI4',\n",
    "       'C22_ROI1','C22_ROI2','C22_ROI3','C22_ROI4','C27_ROI1','C27_ROI2','C27_ROI3','C27_ROI4',\n",
    "       'C29_ROI2','C29_ROI3','C29_ROI4',\n",
    "       'N18_ROI1','N18_ROI2','N18_ROI3','N18_ROI4']\n",
    "for i in fields:\n",
    "    sc.pl.spatial(adata_subset3[adata_subset3.obs[\"ROI\"] == i], color=\"pheno_cluster\", spot_size=10, title=i)"
   ]
  },
  {
   "cell_type": "code",
   "execution_count": null,
   "id": "b5fd20ca",
   "metadata": {},
   "outputs": [],
   "source": []
  }
 ],
 "metadata": {
  "kernelspec": {
   "display_name": "Python 3 (ipykernel)",
   "language": "python",
   "name": "python3"
  },
  "language_info": {
   "codemirror_mode": {
    "name": "ipython",
    "version": 3
   },
   "file_extension": ".py",
   "mimetype": "text/x-python",
   "name": "python",
   "nbconvert_exporter": "python",
   "pygments_lexer": "ipython3",
   "version": "3.9.12"
  }
 },
 "nbformat": 4,
 "nbformat_minor": 5
}
