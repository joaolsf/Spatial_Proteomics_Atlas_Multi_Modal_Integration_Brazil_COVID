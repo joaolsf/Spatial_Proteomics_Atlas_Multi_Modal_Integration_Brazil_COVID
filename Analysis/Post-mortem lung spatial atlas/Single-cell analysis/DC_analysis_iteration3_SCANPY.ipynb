{
 "cells": [
  {
   "cell_type": "markdown",
   "id": "f93400a9",
   "metadata": {},
   "source": [
    "# Import libraries and setup"
   ]
  },
  {
   "cell_type": "code",
   "execution_count": null,
   "id": "389cfa0b",
   "metadata": {},
   "outputs": [],
   "source": [
    "# Import libraries we may need\n",
    "import scanpy as sc\n",
    "import numpy as np\n",
    "import scipy as sp\n",
    "import pandas as pd\n",
    "import matplotlib.pyplot as plt\n",
    "from matplotlib import rcParams\n",
    "from matplotlib import colors\n",
    "import seaborn as sb\n",
    "import scanpy.external as sce\n",
    "import wget\n",
    "import yaml\n",
    "import wget\n",
    "import astir\n",
    "import dill\n",
    "import umap\n",
    "import fa2\n",
    "reducer = umap.UMAP()\n",
    "\n",
    "#My module for importing IMC data into AnnData format\n",
    "import mikeimc as mimc\n",
    "import mikeimc_v2 as mikeimc_v2"
   ]
  },
  {
   "cell_type": "code",
   "execution_count": null,
   "id": "26a8b227",
   "metadata": {},
   "outputs": [],
   "source": [
    "# Set up output figure settings\n",
    "plt.rcParams['figure.figsize']=(64,64) #rescale figures, increase sizehere\n",
    "\n",
    "# Set up scanpy settings\n",
    "sc.settings.verbosity = 3\n",
    "sc.set_figure_params(dpi=100, dpi_save=300) #Increase DPI for better resolution figures\n",
    "#sc.logging.print_versions()"
   ]
  },
  {
   "cell_type": "markdown",
   "id": "dc0281c4",
   "metadata": {},
   "source": [
    "# Save / restore environemnt\n",
    "Use these functions to either save or load the environmental variables, otherwise you will lose all the objects between opening/closing Jupyter sessions!"
   ]
  },
  {
   "cell_type": "code",
   "execution_count": null,
   "id": "591176c1",
   "metadata": {},
   "outputs": [],
   "source": [
    "#save the session\n",
    "dill.dump_session('DC_notebook_iteration3_SCANPY2.db')"
   ]
  },
  {
   "cell_type": "code",
   "execution_count": null,
   "id": "12b6cc68",
   "metadata": {
    "scrolled": true
   },
   "outputs": [],
   "source": [
    "#load the session\n",
    "dill.load_session('DC_notebook_iteration3_SCANPY.db')"
   ]
  },
  {
   "cell_type": "code",
   "execution_count": null,
   "id": "7459f77c",
   "metadata": {},
   "outputs": [],
   "source": [
    "#including functional markers\n",
    "myeloid_markers2 = ['Arginase1', 'CD11b','CD11c','CD14','CD163','CD16','CD206','CD45','CD66b','CD68','Iba1', 'CD74','MHCII','MHCI','Vista', \n",
    "                   'iNOS', 'CD107a','GranzymeB', 'ClvCaspase3', 'SARSCoV2']\n",
    "adata_myeloid_3 = adata_myeloid[:,myeloid_markers2].copy()\n",
    "\n",
    "lymphoid_markers2 = ['CD3','CD4','CD8', 'CD20','CD38','CD74','MHCII','MHCI', 'Foxp3','CD107a','GranzymeB','ClvCaspase3','SARSCoV2']\n",
    "adata_lymphoid_3 = adata_lymphoid[:,lymphoid_markers2].copy()\n",
    "\n",
    "epithelial_markers2 = ['PanCK','CD74','MHCII','MHCI','CD107a','GranzymeB','ClvCaspase3','SARSCoV2']\n",
    "adata_epithelial_3 = adata_epithelial[:,epithelial_markers2].copy()\n",
    "\n",
    "fibroblast_markers2 = ['Collagen1','SMA', 'Fibrinogen','ClvCaspase3','SARSCoV2']\n",
    "adata_fibroblast_3 = adata_fibroblast[:,fibroblast_markers2].copy()\n",
    "\n",
    "endothelial_markers2 = ['CD31','ICAM1','vWF','CD74','MHCII','MHCI','CD107a','GranzymeB','SARSCoV2']\n",
    "adata_endothelium_3 = adata_endothelium[:,endothelial_markers2].copy()\n",
    "\n",
    "RBC_markers2 = ['CD235ab','SARSCoV2']\n",
    "adata_RBC_3 = adata_RBC[:,RBC_markers2].copy()"
   ]
  },
  {
   "cell_type": "markdown",
   "id": "3500d2f9",
   "metadata": {},
   "source": [
    "# Analysis of Myeloid cells"
   ]
  },
  {
   "cell_type": "code",
   "execution_count": null,
   "id": "9033e629",
   "metadata": {},
   "outputs": [],
   "source": [
    "#Calculate neighbors\n",
    "sc.pp.neighbors(adata_myeloid_3, n_neighbors=100)"
   ]
  },
  {
   "cell_type": "code",
   "execution_count": null,
   "id": "0ee17dde",
   "metadata": {},
   "outputs": [],
   "source": [
    "#Calculate UMAP - changed after running paga - see below\n",
    "sc.tl.umap(adata_myeloid_3)"
   ]
  },
  {
   "cell_type": "code",
   "execution_count": null,
   "id": "0deb2570",
   "metadata": {},
   "outputs": [],
   "source": [
    "adata_myeloid_3"
   ]
  },
  {
   "cell_type": "code",
   "execution_count": null,
   "id": "0e05a1b2",
   "metadata": {},
   "outputs": [],
   "source": [
    "adata_myeloid_3.var_names"
   ]
  },
  {
   "cell_type": "code",
   "execution_count": null,
   "id": "ee16e8a8",
   "metadata": {},
   "outputs": [],
   "source": [
    "#Plot UMAP\n",
    "sc.pl.umap(adata_myeloid_3, size=5, color=['ROI'], save='_myeloid_ROI_v2.pdf')"
   ]
  },
  {
   "cell_type": "code",
   "execution_count": null,
   "id": "361e3338",
   "metadata": {},
   "outputs": [],
   "source": [
    "#Plot UMAP\n",
    "sc.pl.umap(adata_myeloid_3, size=5, color=['Type'], save='_myeloid_Type_v2.pdf')"
   ]
  },
  {
   "cell_type": "code",
   "execution_count": null,
   "id": "cd9fdc22",
   "metadata": {},
   "outputs": [],
   "source": [
    "#Plot UMAP for each marker\n",
    "sc.pl.umap(adata_myeloid_3, size=5, color=['Arginase1','CD11b', 'CD66b', 'Vista', 'GranzymeB', 'ClvCaspase3','CD14', 'CD16', 'Iba1', 'CD68', 'CD163', 'CD206',\n",
    "                                           'SARSCoV2','MHCI', 'MHCII', 'CD74', 'CD107a'], save='_myeloid_Markers_v2.pdf')"
   ]
  },
  {
   "cell_type": "code",
   "execution_count": null,
   "id": "323ebfd3",
   "metadata": {},
   "outputs": [],
   "source": [
    "#Run PCA\n",
    "sc.tl.pca(adata_myeloid_3)\n",
    "\n",
    "#Calculate tSNE\n",
    "sc.tl.tsne(adata_myeloid_3)"
   ]
  },
  {
   "cell_type": "code",
   "execution_count": null,
   "id": "0eadd80d",
   "metadata": {},
   "outputs": [],
   "source": [
    "#Plot tSNE \n",
    "sc.pl.tsne(adata_myeloid_3, size=5, color=['ROI'], save='_myeloid_ROI_v2.pdf')"
   ]
  },
  {
   "cell_type": "code",
   "execution_count": null,
   "id": "a9c990d9",
   "metadata": {},
   "outputs": [],
   "source": [
    "#Plot tSNE \n",
    "sc.pl.tsne(adata_myeloid_3, size=5, color=['Type'], save='_myeloid_cases_v2.pdf')"
   ]
  },
  {
   "cell_type": "code",
   "execution_count": null,
   "id": "95ddce7c",
   "metadata": {},
   "outputs": [],
   "source": [
    "#Plot tSNE for each marker\n",
    "sc.pl.tsne(adata_myeloid_3, size=5, color=adata_myeloid_3.var_names, save='_myeloid_Markers_v2.pdf')"
   ]
  },
  {
   "cell_type": "code",
   "execution_count": null,
   "id": "041f633b",
   "metadata": {},
   "outputs": [],
   "source": [
    "#Run PhenoGraph\n",
    "sce.tl.phenograph(adata_myeloid_3, clustering_algo=\"louvain\", k=200, seed=1234)"
   ]
  },
  {
   "cell_type": "code",
   "execution_count": null,
   "id": "df639728",
   "metadata": {},
   "outputs": [],
   "source": [
    "#Plot PhenoGraph on tSNE\n",
    "sc.pl.tsne(adata_myeloid_3, color = \"pheno_louvain\", s = 100, legend_fontsize = 10, size=2, save='_myeloid_PhenoLouvain_v2.pdf')"
   ]
  },
  {
   "cell_type": "code",
   "execution_count": null,
   "id": "7092ebab",
   "metadata": {},
   "outputs": [],
   "source": [
    "#Plot PhenoGraph on UMAP\n",
    "sc.pl.umap(adata_myeloid_3, color = \"pheno_louvain\", s = 100, legend_fontsize = 10, size=2, save='_myeloid_PhenoLouvain_v2.pdf')"
   ]
  },
  {
   "cell_type": "code",
   "execution_count": null,
   "id": "edda24fe",
   "metadata": {},
   "outputs": [],
   "source": [
    "#Plot heatmap of myeloid clusters\n",
    "sc.tl.dendrogram(adata_myeloid_3, groupby = 'pheno_louvain')\n",
    "sc.pl.heatmap(adata_myeloid_3, adata_myeloid_3.var_names, groupby='pheno_louvain', swap_axes=True, dendrogram=True, save='_myeloid_PhenoLouvain_clustered_v2.pdf')"
   ]
  },
  {
   "cell_type": "code",
   "execution_count": null,
   "id": "117b1867",
   "metadata": {},
   "outputs": [],
   "source": [
    "#Plot scaled heatmap\n",
    "adata_myeloid_norm3 = adata_myeloid_3.copy()\n",
    "sc.pp.scale(adata_myeloid_norm3, max_value=2,  zero_center=True)\n",
    "sc.tl.dendrogram(adata_myeloid_norm3, groupby = 'pheno_louvain')\n",
    "sc.pl.heatmap(adata_myeloid_norm3, adata_myeloid_norm3.var_names, groupby='pheno_louvain', swap_axes=True, dendrogram=True, save='_scaled_myeloid_PhenoLouvain_clustered_v2.pdf')"
   ]
  },
  {
   "cell_type": "code",
   "execution_count": null,
   "id": "c1153158",
   "metadata": {
    "scrolled": true
   },
   "outputs": [],
   "source": [
    "#Compute a ranking for the highly differential markers in each cluster\n",
    "#differential testing using t-test,  Wilcoxon rank-sum (Mann-Whitney-U) or logistic regression \n",
    "#The essential difference is that here, we use a multi-variate approach whereas conventional differential tests are uni-variate. \n",
    "sc.tl.rank_genes_groups(adata_myeloid_3, 'pheno_louvain', reference='rest', method='wilcoxon', corr_method='benjamini-hochberg', pts=True)\n",
    "sc.pl.rank_genes_groups(adata_myeloid_3, n_genes=10, sharey=False, save='rank_markers_myeloid_PhenoLouvain_v2.pdf')"
   ]
  },
  {
   "cell_type": "code",
   "execution_count": null,
   "id": "ba59e91b",
   "metadata": {},
   "outputs": [],
   "source": [
    "#Get a table with the scores and groups. see p-values\n",
    "result = adata_myeloid_3.uns['rank_genes_groups']\n",
    "groups = result['names'].dtype.names\n",
    "pd.DataFrame(\n",
    "    {group + '_' + key[:1]: result[key][group]\n",
    "    for group in groups for key in ['names', 'pvals']}).head(10)"
   ]
  },
  {
   "cell_type": "code",
   "execution_count": null,
   "id": "023d98c4",
   "metadata": {
    "scrolled": true
   },
   "outputs": [],
   "source": [
    "#Population distribution\n",
    "\n",
    "from importlib import reload\n",
    "\n",
    "mimc = reload(mimc)\n",
    "mimc.pop_distribution(adata_myeloid_3,'pheno_louvain',['ROI','Type'])"
   ]
  },
  {
   "cell_type": "markdown",
   "id": "bccb7112",
   "metadata": {},
   "source": [
    "# Mapping new myeloid names after clusters have been merged\n",
    "I've merged several populations - REMEMBER OF THE NEW CLUSTER'S ANNOTATIONS"
   ]
  },
  {
   "cell_type": "code",
   "execution_count": null,
   "id": "81f2a104",
   "metadata": {
    "scrolled": true
   },
   "outputs": [],
   "source": [
    "#Annotate clusters in a dictionary file\n",
    "#Load the merged clusters and map to the anndata file\n",
    "\n",
    "# Mapping the phenograph populations onto the new/merged population labels\n",
    "\n",
    "myeloid_dict = pd.read_csv('mikeimc_approach/Dictionaries/covid_myeloid_dict.csv')\n",
    "m = myeloid_dict.set_index('pheno_louvain').to_dict()\n",
    "\n",
    "adata_myeloid_3.obs['myeloid_pop']=adata_myeloid_3.obs['pheno_louvain'].map(m['Myeloid_Class'])\n",
    "\n",
    "adata_myeloid_3.obs['myeloid_pop']=adata_myeloid_3.obs['myeloid_pop'].astype('category')"
   ]
  },
  {
   "cell_type": "code",
   "execution_count": null,
   "id": "0a14b84f",
   "metadata": {
    "scrolled": false
   },
   "outputs": [],
   "source": [
    "mimc.pop_distribution(adata_myeloid_3,'myeloid_pop',['ROI','Case','Type'])"
   ]
  },
  {
   "cell_type": "code",
   "execution_count": null,
   "id": "a757ed8b",
   "metadata": {},
   "outputs": [],
   "source": [
    "adata_myeloid_3.obs['Case']"
   ]
  },
  {
   "cell_type": "code",
   "execution_count": null,
   "id": "86d823f3",
   "metadata": {},
   "outputs": [],
   "source": [
    "adata_myeloid_4 = adata_myeloid_3[~adata_myeloid_3.obs['Type'].isin(['Non_COVID'])]"
   ]
  },
  {
   "cell_type": "code",
   "execution_count": null,
   "id": "fe4968e9",
   "metadata": {},
   "outputs": [],
   "source": [
    "#stack bar code and extracting number of cells, distribution of each cluster per case or the cluster composition per case\n",
    "#for number of cells - don't use normalize\n",
    "#for distribution of each case per cluster - use normalize = \"index\"\n",
    "#for cluster composition per case - use normalize = \"columns\"\n",
    "tmp = pd.crosstab(adata_myeloid_4.obs['myeloid_pop'],adata_myeloid_4.obs['Type'], margins=False, margins_name='Total', normalize='columns') \n",
    "#normalize='columns')"
   ]
  },
  {
   "cell_type": "code",
   "execution_count": null,
   "id": "52ff03a6",
   "metadata": {},
   "outputs": [],
   "source": [
    "tmp2 = pd.DataFrame.transpose(tmp)"
   ]
  },
  {
   "cell_type": "code",
   "execution_count": null,
   "id": "42fa4b19",
   "metadata": {},
   "outputs": [],
   "source": [
    "#color for stack bars for the disease groups matching the other bar graphs\n",
    "#F08080 - light coral\n",
    "#87CEFA - lightskyblue\n",
    "#D3D3D3 - lightgrey\n",
    "\n",
    "pretty_colors = ['#F08080','#87CEFA','#D3D3D3']\n",
    "color_pal = sb.color_palette('Paired')\n",
    "#colour_palette['colour']\n",
    "tmp2.plot.bar(stacked=True, color=colour_palette['colour'], rot=0, figsize=(6, 6)).legend(bbox_to_anchor=(1, 1)) #use figsize=(16,6) for ROI"
   ]
  },
  {
   "cell_type": "markdown",
   "id": "2479c59c",
   "metadata": {},
   "source": [
    "Abundances graphs with stats Example of case averaging abundance stats"
   ]
  },
  {
   "cell_type": "code",
   "execution_count": null,
   "id": "be87a51a",
   "metadata": {},
   "outputs": [],
   "source": [
    "adata_myeloid_4"
   ]
  },
  {
   "cell_type": "code",
   "execution_count": null,
   "id": "0248e4a4",
   "metadata": {},
   "outputs": [],
   "source": [
    "pretty_colors = ['#F08080','#87CEFA']\n",
    "pretty_colors2 = ['#FA8072','#92C7F9']\n",
    "color_pal = sb.color_palette(pretty_colors2)"
   ]
  },
  {
   "cell_type": "code",
   "execution_count": null,
   "id": "e5b97111",
   "metadata": {},
   "outputs": [],
   "source": [
    "tmp = pd.crosstab(adata_myeloid_4.obs['myeloid_pop'],adata_myeloid_4.obs['Type'], margins=False, margins_name='Total')"
   ]
  },
  {
   "cell_type": "code",
   "execution_count": null,
   "id": "a70a19ba",
   "metadata": {},
   "outputs": [],
   "source": [
    "#Grouped bar plot with Pandas\n",
    "tmp.plot.bar(stacked=False, color=pretty_colors2, width=0.8, figsize=(8, 4), rot=90).legend(bbox_to_anchor=(1, 1))\n",
    "plt.ylabel(\"No of cells/mm2\")"
   ]
  },
  {
   "cell_type": "code",
   "execution_count": null,
   "id": "face6ce9",
   "metadata": {},
   "outputs": [],
   "source": [
    "cells = pd.crosstab([adata_myeloid_4.obs['Type'], adata_myeloid_4.obs['ROI']],adata_myeloid_4.obs['myeloid_pop'])\n",
    "cells.columns=cells.columns.astype('str')        "
   ]
  },
  {
   "cell_type": "code",
   "execution_count": null,
   "id": "3bd340d0",
   "metadata": {},
   "outputs": [],
   "source": [
    "cells"
   ]
  },
  {
   "cell_type": "code",
   "execution_count": null,
   "id": "578124c0",
   "metadata": {},
   "outputs": [],
   "source": [
    "cells_long"
   ]
  },
  {
   "cell_type": "code",
   "execution_count": null,
   "id": "c6b86b48",
   "metadata": {},
   "outputs": [],
   "source": [
    "# Grouped bar plot with Pandas\n",
    "cells_long = cells.reset_index().melt(id_vars=['Type','ROI'])\n",
    "    \n",
    "fig, ax = plt.subplots(figsize=(8,4))\n",
    "sb.barplot(data = cells_long, y = \"value\", x = 'myeloid_pop', hue='Type', width=0.8, palette = pretty_colors2, ci=68, ax=ax, saturation=1, capsize=.1, errcolor=\".0\", linewidth=2, edgecolor=\".0\")\n",
    "ax.set_xticklabels(ax.get_xticklabels(),rotation = 90, fontsize = 18)\n",
    "ax.set_ylabel('Cells/mm2')\n",
    "ax.legend(bbox_to_anchor=(0.22, 1))"
   ]
  },
  {
   "cell_type": "code",
   "execution_count": null,
   "id": "771f4103",
   "metadata": {},
   "outputs": [],
   "source": [
    "# Alter this list with adata.obs variables that you want to plot against the resulting leiden population\n",
    "image_var = 'ROI'\n",
    "\n",
    "for i in ['Type']:\n",
    "\n",
    "    mikeimc_v2.grouped_graph(adata_myeloid_4,\n",
    "                             ROI_id=image_var,\n",
    "                             group_by_obs=i,\n",
    "                             x_axis='myeloid_pop',\n",
    "                             fig_size=(8, 4),\n",
    "                             log_scale=False, scale_factor=True,\n",
    "                            display_tables=True, crosstab_norm=False) #If you change display_tables to True, will also do stats on the groups\n",
    "    # use crosstab_norm='columns' to plot and do statistics based on cell frequencies per group\n",
    "    plt.show()"
   ]
  },
  {
   "cell_type": "code",
   "execution_count": null,
   "id": "0f735bc3",
   "metadata": {},
   "outputs": [],
   "source": [
    "#Plot heatmap of myeloid clusters\n",
    "sc.tl.dendrogram(adata_myeloid_3, groupby = 'myeloid_pop')\n",
    "sc.pl.heatmap(adata_myeloid_3, adata_myeloid_3.var_names, groupby='myeloid_pop', cmap='viridis', swap_axes=False, dendrogram=True, save='_myeloid_annotated_clustered_v2.pdf')"
   ]
  },
  {
   "cell_type": "code",
   "execution_count": null,
   "id": "cb133dc9",
   "metadata": {},
   "outputs": [],
   "source": [
    "#Plot scaled heatmap\n",
    "adata_myeloid_norm3 = adata_myeloid_3.copy()\n",
    "sc.pp.scale(adata_myeloid_norm3, max_value=2,  zero_center=True)\n",
    "sc.tl.dendrogram(adata_myeloid_norm3, groupby = 'myeloid_pop')\n",
    "sc.pl.heatmap(adata_myeloid_norm3, adata_myeloid_norm3.var_names, groupby='myeloid_pop', swap_axes=False, dendrogram=True, save='_scaled_myeloid_annotated_clustered_v2.pdf')"
   ]
  },
  {
   "cell_type": "code",
   "execution_count": null,
   "id": "6672fcc0",
   "metadata": {},
   "outputs": [],
   "source": [
    "#Compute a ranking for the highly differential markers in each cluster\n",
    "#To identify differentially expressed genes we run sc.tl.rank_genes_groups. \n",
    "#This function will take each group of cells and compare the distribution of each gene in a group against the distribution in all other cells not in the group. \n",
    "sc.tl.rank_genes_groups(adata_myeloid_3, 'myeloid_pop', reference='rest', method='wilcoxon', corr_method='benjamini-hochberg', pts=True)"
   ]
  },
  {
   "cell_type": "code",
   "execution_count": null,
   "id": "31895eab",
   "metadata": {},
   "outputs": [],
   "source": [
    "sc.pl.rank_genes_groups(adata_myeloid_3, n_genes=10, sharey=False, save='myeloid_annotated_wilcoxon.pdf')"
   ]
  },
  {
   "cell_type": "code",
   "execution_count": null,
   "id": "9988fe96",
   "metadata": {},
   "outputs": [],
   "source": [
    "#sc.tl.rank_genes_groups(adata_myeloid_3, 'Type', reference='Non_COVID', method='wilcoxon', corr_method='benjamini-hochberg', pts=True, )"
   ]
  },
  {
   "cell_type": "code",
   "execution_count": null,
   "id": "58921406",
   "metadata": {},
   "outputs": [],
   "source": [
    "sc.pl.rank_genes_groups(adata_myeloid_3, n_genes=10, sharey=False)"
   ]
  },
  {
   "cell_type": "code",
   "execution_count": null,
   "id": "02c22b3f",
   "metadata": {},
   "outputs": [],
   "source": [
    "adata_myeloid_3.uns['rank_genes_groups']"
   ]
  },
  {
   "cell_type": "code",
   "execution_count": null,
   "id": "98da42ba",
   "metadata": {},
   "outputs": [],
   "source": [
    "#Get a table with the scores and groups. see p-values\n",
    "result = adata_myeloid_3.uns['rank_genes_groups']\n",
    "groups = result['names'].dtype.names\n",
    "df = pd.DataFrame(\n",
    "    {group + '_' + key[:1]: result[key][group]\n",
    "    for group in groups for key in ['names', 'pvals_adj', 'scores','logfoldchanges']}).head(10)\n",
    "df"
   ]
  },
  {
   "cell_type": "code",
   "execution_count": null,
   "id": "615cc605",
   "metadata": {},
   "outputs": [],
   "source": [
    "compression_opts = dict(method='zip',\n",
    "                         archive_name='Rank_markers_myeloid_annotated_clusters.csv') \n",
    "df.to_csv('out.zip', index=False, compression=compression_opts)"
   ]
  },
  {
   "cell_type": "code",
   "execution_count": null,
   "id": "92c24b19",
   "metadata": {},
   "outputs": [],
   "source": [
    "sc.pl.rank_genes_groups_violin(adata_myeloid_3, n_genes=5, save='top5_DE_markers_wilcoxon.png')"
   ]
  },
  {
   "cell_type": "code",
   "execution_count": null,
   "id": "b35a9214",
   "metadata": {},
   "outputs": [],
   "source": [
    "sc.pl.rank_genes_groups_violin(adata_myeloid_3, split=False, groups=['Virus-infected Alveolar Macrophage'], gene_names=['CD74'], save='CD74_expression_wilcoxon.pdf')"
   ]
  },
  {
   "cell_type": "code",
   "execution_count": null,
   "id": "4a6b768d",
   "metadata": {},
   "outputs": [],
   "source": [
    "sc.pl.rank_genes_groups_violin(adata_myeloid_3, groups=['Virus-infected Alveolar Macrophage'], split=True, gene_names=['SARSCoV2','MHCI', 'MHCII', 'CD74', 'CD107a', 'GranzymeB']) "
   ]
  },
  {
   "cell_type": "code",
   "execution_count": null,
   "id": "ded0a6c3",
   "metadata": {},
   "outputs": [],
   "source": [
    "sc.pl.rank_genes_groups_heatmap(adata_myeloid_3, n_genes=3,use_raw=False, swap_axes=True, show_gene_labels=True,\n",
    "                                cmap='bwr') #save='myeloid_heatmap_wilcoxon.pdf')"
   ]
  },
  {
   "cell_type": "code",
   "execution_count": null,
   "id": "423801af",
   "metadata": {},
   "outputs": [],
   "source": [
    "sc.pl.rank_genes_groups_matrixplot(adata_myeloid_3, n_genes=6, values_to_plot='logfoldchanges', swap_axes=True, cmap='bwr', save='myeloid_logFC_wilcoxon_v2.pdf' )"
   ]
  },
  {
   "cell_type": "code",
   "execution_count": null,
   "id": "92c8dfb3",
   "metadata": {},
   "outputs": [],
   "source": [
    "sc.pl.rank_genes_groups_dotplot(adata_myeloid_3, n_genes=8, values_to_plot='logfoldchanges', swap_axes=True, cmap='bwr', save='myeloid_logFC_wilcoxon.pdf')"
   ]
  },
  {
   "cell_type": "code",
   "execution_count": null,
   "id": "21759cce",
   "metadata": {},
   "outputs": [],
   "source": [
    "sc.pl.rank_genes_groups_dotplot(adata_myeloid_3, groups=['Alveolar Macrophage', \n",
    "                                                 'Virus-infected Alveolar Macrophage', 'Interstitial Macrophage', 'CD14highCD16-, Classical Monocyte','CD14+CD16+, Intermediate Monocyte'], n_genes=8, values_to_plot='logfoldchanges', swap_axes=True, cmap='bwr', save='macrophage_logFC_wilcoxon.pdf')"
   ]
  },
  {
   "cell_type": "code",
   "execution_count": null,
   "id": "5c23e512",
   "metadata": {},
   "outputs": [],
   "source": [
    "sc.pl.rank_genes_groups_dotplot(adata_myeloid_3, var_names=['SARSCoV2','MHCI', 'MHCII', 'CD74', 'CD107a', 'GranzymeB'], values_to_plot='logfoldchanges', swap_axes=True, cmap='bwr', save='myeloid_specificmarkers_logFC_wilcoxon.pdf')"
   ]
  },
  {
   "cell_type": "code",
   "execution_count": null,
   "id": "d5fcddb8",
   "metadata": {},
   "outputs": [],
   "source": [
    "virus_mac = sc.tl.rank_genes_groups(adata_myeloid_3, 'myeloid_pop', groups=['Virus-infected Alveolar Macrophage'], reference='Alveolar Macrophage', method='wilcoxon')\n",
    "sc.pl.rank_genes_groups_violin(virus_mac, groups=['Virus-infected Alveolar Macrophage'], n_genes=6)"
   ]
  },
  {
   "cell_type": "code",
   "execution_count": null,
   "id": "1c868e11",
   "metadata": {},
   "outputs": [],
   "source": [
    "sc.pl.violin(adata_myeloid_3, ['SARSCoV2','MHCI', 'MHCII', 'CD74', 'CD107a', 'GranzymeB'], groupby='myeloid_pop', save='myeloid_specificmarkers_wilcoxon.pdf')"
   ]
  },
  {
   "cell_type": "code",
   "execution_count": null,
   "id": "137e3ba4",
   "metadata": {},
   "outputs": [],
   "source": [
    "sc.pl.dotplot(adata_myeloid_3, adata_myeloid_3.var_names, groupby='myeloid_pop', dendrogram=True)"
   ]
  },
  {
   "cell_type": "code",
   "execution_count": null,
   "id": "a08da071",
   "metadata": {},
   "outputs": [],
   "source": []
  },
  {
   "cell_type": "code",
   "execution_count": null,
   "id": "2219f8d3",
   "metadata": {
    "scrolled": true
   },
   "outputs": [],
   "source": [
    "#Plot PhenoGraph on UMAP\n",
    "sc.pl.umap(adata_myeloid_3, color = \"myeloid_pop\", s = 2, legend_fontsize=12, legend_fontweight='semibold',legend_loc='on data', size=2, frameon=False, save='_myeloid_annotated_v2.pdf')\n",
    "\n",
    "#Plot PhenoGraph on tSNE\n",
    "#sc.pl.tsne(adata_myeloid_3, color = \"myeloid_pop\", s = 100, legend_fontsize = 10, legend_fontweight='semibold',legend_loc='on data', size=3, frameon=True, save='_myeloid_annotated_v2.pdf')"
   ]
  },
  {
   "cell_type": "code",
   "execution_count": null,
   "id": "a877956c",
   "metadata": {},
   "outputs": [],
   "source": [
    "#Plot UMAP for each marker\n",
    "sc.pl.umap(adata_myeloid_3, color=adata_myeloid_3.var_names,size=5, cmap='viridis', vmax=1, save='_myeloid_Markers_v2.pdf')"
   ]
  },
  {
   "cell_type": "raw",
   "id": "ebaf0200",
   "metadata": {},
   "source": [
    "Trajectory inference - PAGA paths"
   ]
  },
  {
   "cell_type": "code",
   "execution_count": null,
   "id": "290d4213",
   "metadata": {},
   "outputs": [],
   "source": [
    "#Mapping out the coarse-grained connectivity structures of complex manifolds\n",
    "#By quantifying the connectivity of partitions (groups, clusters) of the single-cell graph, \n",
    "#partition-based graph abstraction (PAGA) generates a much simpler abstracted graph (PAGA graph) of partitions,\n",
    "#in which edge weights represent confidence in the presence of connections.\n",
    "\n",
    "#Calculate PAGA\n",
    "sc.tl.paga(adata_myeloid_3, groups='myeloid_pop')"
   ]
  },
  {
   "cell_type": "code",
   "execution_count": null,
   "id": "6632ed41",
   "metadata": {},
   "outputs": [],
   "source": [
    "adata_myeloid_3"
   ]
  },
  {
   "cell_type": "code",
   "execution_count": null,
   "id": "8ab52dbc",
   "metadata": {},
   "outputs": [],
   "source": [
    "#Plot PAGA\n",
    "#Plot the PAGA graph through thresholding low-connectivity edges.\n",
    "#Compute a coarse-grained layout of the data. \n",
    "#Reuse this by passing init_pos='paga' to umap() or draw_graph() and obtain embeddings with more meaningful global topology [Wolf19].\n",
    "#This uses ForceAtlas2 or igraph’s layout algorithms for most layouts\n",
    "#By tresholding this confidence in paga(), a much simpler representation of the manifold data is obtained, \n",
    "#which is nonetheless faithful to the topology of the manifold.\n",
    "#'SARSCoV2', 'MHCI', 'MHCII', 'CD74', 'CD107a', 'GranzymeB'\n",
    "sc.pl.paga(adata_myeloid_3, color=['myeloid_pop'], layout='fr', node_size_scale=1, node_size_power=1, edge_width_scale=0.8, fontweight='normal',fontsize=8,save='myeloid_pop.pdf', threshold=0.3)"
   ]
  },
  {
   "cell_type": "code",
   "execution_count": null,
   "id": "2e4ed961",
   "metadata": {},
   "outputs": [],
   "source": [
    "markers=['SARSCoV2','MHCI','MHCII','CD74',\n",
    "       'CD107a','GranzymeB']\n",
    "for i in markers:\n",
    "    sc.pl.paga(adata_myeloid_3, color=i, title=i, node_size_scale=1, node_size_power=1, edge_width_scale=0.8, fontweight='normal', fontsize=8, cmap='viridis', save=i, threshold=0.3)"
   ]
  },
  {
   "cell_type": "code",
   "execution_count": null,
   "id": "61d9a4f1",
   "metadata": {},
   "outputs": [],
   "source": [
    "#Force-directed graph drawing\n",
    "#An alternative to tSNE that often preserves the topology of the data better\n",
    "sc.tl.draw_graph(adata_myeloid_3, init_pos='paga', layout='fa')"
   ]
  },
  {
   "cell_type": "code",
   "execution_count": null,
   "id": "59365222",
   "metadata": {},
   "outputs": [],
   "source": [
    "# Single cell graph\n",
    "sc.pl.draw_graph(adata_myeloid_3, layout='fa', color=['myeloid_pop','SARSCoV2','MHCI','MHCII','CD74','CD107a','GranzymeB'], legend_fontsize=8, legend_fontweight='semibold',legend_loc='on data', ncols=1, size=3, frameon=True, save=\"_myeloid.pdf\")"
   ]
  },
  {
   "cell_type": "code",
   "execution_count": null,
   "id": "9d4d649f",
   "metadata": {},
   "outputs": [],
   "source": [
    "#Pseudo time attempt\n",
    "#Together with a random walk-based distance measure (e.g. scanpy.tl.dpt()) \n",
    "#this generates a partial coordinatization of data useful for exploring and explaining its variation.\n",
    "\n",
    "adata_myeloid_3.uns['iroot'] = np.flatnonzero(adata_myeloid_3.obs['myeloid_pop']  == 'Alveolar Macrophage')[0]\n",
    "sc.tl.dpt(adata_myeloid_3)\n",
    "sc.pl.draw_graph(adata_myeloid_3, color=['dpt_pseudotime'], legend_fontsize=8, legend_fontweight='semibold',legend_loc='on data', ncols=1, size=5, frameon=True, save='_pseudotime_myeloid.pdf')"
   ]
  },
  {
   "cell_type": "code",
   "execution_count": null,
   "id": "0442cc31",
   "metadata": {},
   "outputs": [],
   "source": [
    "scanpy.pl.dpt_groups_pseudotime"
   ]
  },
  {
   "cell_type": "code",
   "execution_count": null,
   "id": "0ae314b6",
   "metadata": {},
   "outputs": [],
   "source": [
    "scanpy.pl.dpt_timeseries"
   ]
  },
  {
   "cell_type": "raw",
   "id": "13c4bcba",
   "metadata": {},
   "source": [
    "Export everything except the data using `.write_csvs`."
   ]
  },
  {
   "cell_type": "code",
   "execution_count": null,
   "id": "34eac4a8",
   "metadata": {},
   "outputs": [],
   "source": [
    "# Set `skip_data=False` if you also want to export the data.\n",
    "adata_myeloid_3.write_csvs(dirname='./Analysis_iteration3/All_data_v2_noDNAphysicalparam/ASTIR/Myeloid_clusters/Annotated_clusters', skip_data=False)"
   ]
  },
  {
   "cell_type": "code",
   "execution_count": null,
   "id": "e84becab",
   "metadata": {},
   "outputs": [],
   "source": [
    "#see how to increase the size of the dots\n",
    "#edit dict colour\n",
    "graph = sb.lmplot(data = adata_myeloid_3.obs, x = 'X_loc',y='Y_loc',hue ='myeloid_pop', height = 6, col = 'ROI', col_wrap = 4,fit_reg = False)"
   ]
  },
  {
   "cell_type": "code",
   "execution_count": null,
   "id": "bc9167ba",
   "metadata": {},
   "outputs": [],
   "source": [
    "graph.savefig('1.png')"
   ]
  },
  {
   "cell_type": "markdown",
   "id": "89059cf6",
   "metadata": {},
   "source": [
    "# Analysis of Macrophages and Neutrophils separately"
   ]
  },
  {
   "cell_type": "code",
   "execution_count": null,
   "id": "cc5f74dc",
   "metadata": {},
   "outputs": [],
   "source": [
    "#load the session\n",
    "#dill.load_session('DC_notebook_env_iteration3_ASTIR.db')"
   ]
  },
  {
   "cell_type": "code",
   "execution_count": null,
   "id": "55df9a00",
   "metadata": {},
   "outputs": [],
   "source": [
    "#Analysis based on macrophage-virus+ vs macrophage-virus-\n",
    "adata_macrophage = adata_subset3[adata_subset3.obs['cell_type'].isin(['Macrophage'])].copy()\n",
    "sc.pl.heatmap(adata_macrophage, adata_macrophage.var_names, groupby='cell_type', swap_axes=True, vmax=0.75)\n",
    "\n",
    "adata_neutrophil = adata_subset3[adata_subset3.obs['cell_type'].isin(['Neutrophil'])].copy()\n",
    "sc.pl.heatmap(adata_neutrophil, adata_neutrophil.var_names, groupby='cell_type', swap_axes=True, vmax=0.75)"
   ]
  },
  {
   "cell_type": "code",
   "execution_count": null,
   "id": "3faabeaa",
   "metadata": {},
   "outputs": [],
   "source": [
    "#including functional markers\n",
    "macrophage_markers = ['CD11c','CD14','CD163','CD16','CD206','CD45','CD68','Iba1', 'CD74','MHCII','MHCI','Vista', \n",
    "                   'iNOS', 'CD107a','GranzymeB', 'ClvCaspase3', 'SARSCoV2']\n",
    "adata_macrophage_2 = adata_macrophage[:,macrophage_markers].copy()\n",
    "\n",
    "neutrophil_markers = ['Arginase1','CD11b','CD66b', 'CD16','CD74','MHCII','MHCI','Vista','iNOS', 'CD107a','GranzymeB', 'ClvCaspase3', 'SARSCoV2']\n",
    "adata_neutrophil_2 = adata_neutrophil[:,neutrophil_markers].copy()"
   ]
  },
  {
   "cell_type": "raw",
   "id": "eb526db9",
   "metadata": {},
   "source": [
    "Analysis of Macrophages"
   ]
  },
  {
   "cell_type": "code",
   "execution_count": null,
   "id": "799b18e7",
   "metadata": {},
   "outputs": [],
   "source": [
    "#Calculate neighbors\n",
    "sc.pp.neighbors(adata_macrophage_2, n_neighbors=100)\n",
    "\n",
    "#Calculate UMAP\n",
    "sc.tl.umap(adata_macrophage_2)"
   ]
  },
  {
   "cell_type": "code",
   "execution_count": null,
   "id": "d090c443",
   "metadata": {},
   "outputs": [],
   "source": [
    "#Run PCA\n",
    "sc.tl.pca(adata_macrophage_2)\n",
    "\n",
    "#Calculate tSNE\n",
    "sc.tl.tsne(adata_macrophage_2)"
   ]
  },
  {
   "cell_type": "code",
   "execution_count": null,
   "id": "dbf6ca9a",
   "metadata": {},
   "outputs": [],
   "source": [
    "#Plot UMAP\n",
    "sc.pl.umap(adata_macrophage_2, color=['ROI'], size=5, save='_macrophage_ROI.pdf')"
   ]
  },
  {
   "cell_type": "code",
   "execution_count": null,
   "id": "6ad7aa7e",
   "metadata": {},
   "outputs": [],
   "source": [
    "sc.pl.umap(adata_macrophage_2, color=['Type'], size=5, save='_macrophage_Type.pdf')"
   ]
  },
  {
   "cell_type": "code",
   "execution_count": null,
   "id": "05410585",
   "metadata": {},
   "outputs": [],
   "source": [
    "sc.pl.umap(adata_macrophage_2, color=adata_macrophage_2.var_names, size=20, save='_macrophage_Markers.pdf')"
   ]
  },
  {
   "cell_type": "code",
   "execution_count": null,
   "id": "27ba2ec5",
   "metadata": {},
   "outputs": [],
   "source": [
    "#Plot tSNE \n",
    "sc.pl.tsne(adata_macrophage_2, color=['ROI'], save='_macrophage_ROI.pdf')"
   ]
  },
  {
   "cell_type": "code",
   "execution_count": null,
   "id": "da6992c7",
   "metadata": {},
   "outputs": [],
   "source": [
    "#Plot tSNE \n",
    "sc.pl.tsne(adata_macrophage_2, color=['Type'], save='_macrophage_Type.pdf')"
   ]
  },
  {
   "cell_type": "code",
   "execution_count": null,
   "id": "95467322",
   "metadata": {},
   "outputs": [],
   "source": [
    "#Plot tSNE \n",
    "sc.pl.tsne(adata_macrophage_2, color=adata_macrophage_2.var_names, save='_macrophage_Markers.pdf')"
   ]
  },
  {
   "cell_type": "code",
   "execution_count": null,
   "id": "93669b57",
   "metadata": {},
   "outputs": [],
   "source": [
    "#Run PhenoGraph\n",
    "sce.tl.phenograph(adata_macrophage_2, clustering_algo=\"louvain\", k=200, seed=1)"
   ]
  },
  {
   "cell_type": "code",
   "execution_count": null,
   "id": "bb8dff3d",
   "metadata": {},
   "outputs": [],
   "source": [
    "#Plot heatmap of macrophage clusters\n",
    "sc.tl.dendrogram(adata_macrophage_2, groupby = 'pheno_louvain')\n",
    "sc.pl.heatmap(adata_macrophage_2, adata_macrophage_2.var_names, groupby='pheno_louvain', swap_axes=True, dendrogram=True, save='_macrophage_PhenoLouvain_clustered.pdf')"
   ]
  },
  {
   "cell_type": "code",
   "execution_count": null,
   "id": "ef10194b",
   "metadata": {},
   "outputs": [],
   "source": [
    "#Annotate clusters in a dictionary file\n",
    "#Load the merged clusters and map to the anndata file\n",
    "\n",
    "# Mapping the phenograph populations onto the new/merged population labels\n",
    "\n",
    "macrophage_dict = pd.read_csv('mikeimc_approach/covid_macrophage_dict.csv')\n",
    "mac = macrophage_dict.set_index('pheno_louvain').to_dict()\n",
    "\n",
    "adata_macrophage_2.obs['mac_pop']=adata_macrophage_2.obs['pheno_louvain'].map(mac['Myeloid_Class'])\n",
    "\n",
    "adata_macrophage_2.obs['mac_pop']=adata_macrophage_2.obs['mac_pop'].astype('category')"
   ]
  },
  {
   "cell_type": "code",
   "execution_count": null,
   "id": "e049b670",
   "metadata": {},
   "outputs": [],
   "source": [
    "#Plot heatmap of macrophage clusters\n",
    "sc.tl.dendrogram(adata_macrophage_2, groupby = 'mac_pop')\n",
    "sc.pl.heatmap(adata_macrophage_2, adata_macrophage_2.var_names, groupby='mac_pop', swap_axes=False, dendrogram=True, save='_macrophage_annotated.pdf')"
   ]
  },
  {
   "cell_type": "code",
   "execution_count": null,
   "id": "ae58948d",
   "metadata": {},
   "outputs": [],
   "source": [
    "#Calculate PAGA\n",
    "sc.tl.paga(adata_macrophage_2, groups='mac_pop')"
   ]
  },
  {
   "cell_type": "code",
   "execution_count": null,
   "id": "8234d622",
   "metadata": {},
   "outputs": [],
   "source": [
    "sc.pl.paga(adata_macrophage_2, color=['mac_pop'], layout='fr', node_size_scale=1, node_size_power=1, edge_width_scale=0.8, fontweight='normal',fontsize=8,save='mac_pop.pdf', threshold=0.3)"
   ]
  },
  {
   "cell_type": "code",
   "execution_count": null,
   "id": "9378816b",
   "metadata": {},
   "outputs": [],
   "source": [
    "#Force-directed graph drawing\n",
    "#An alternative to tSNE that often preserves the topology of the data better\n",
    "sc.tl.draw_graph(adata_macrophage_2, init_pos='paga', layout='fa')"
   ]
  },
  {
   "cell_type": "code",
   "execution_count": null,
   "id": "87522fdd",
   "metadata": {},
   "outputs": [],
   "source": [
    "# Single cell graph\n",
    "sc.pl.draw_graph(adata_macrophage_2, layout='fa', color=['mac_pop','SARSCoV2','MHCI','MHCII','CD74','CD107a','GranzymeB'], legend_fontsize=8, legend_fontweight='semibold',legend_loc='on data', ncols=1, size=3, frameon=True, save=\"_macrophage.pdf\")"
   ]
  },
  {
   "cell_type": "code",
   "execution_count": null,
   "id": "9fc2717f",
   "metadata": {},
   "outputs": [],
   "source": [
    "#Pseudo time attempt\n",
    "#Together with a random walk-based distance measure (e.g. scanpy.tl.dpt()) \n",
    "#this generates a partial coordinatization of data useful for exploring and explaining its variation.\n",
    "\n",
    "adata_macrophage_2.uns['iroot'] = np.flatnonzero(adata_macrophage_2.obs['mac_pop']  == 'Classical Monocyte')[0]\n",
    "sc.tl.dpt(adata_macrophage_2)\n",
    "sc.pl.draw_graph(adata_macrophage_2, color=['dpt_pseudotime'], legend_fontsize=8, legend_fontweight='semibold',legend_loc='on data', ncols=1, size=5, frameon=True, save='_pseudotime_macrophage.pdf')"
   ]
  },
  {
   "cell_type": "raw",
   "id": "2b50fbde",
   "metadata": {},
   "source": [
    "Analysis of Neutrophils"
   ]
  },
  {
   "cell_type": "code",
   "execution_count": null,
   "id": "f49505f5",
   "metadata": {},
   "outputs": [],
   "source": [
    "#Calculate neighbors\n",
    "sc.pp.neighbors(adata_neutrophil_2, n_neighbors=100)\n",
    "\n",
    "#Calculate UMAP\n",
    "sc.tl.umap(adata_neutrophil_2)"
   ]
  },
  {
   "cell_type": "code",
   "execution_count": null,
   "id": "2f48be71",
   "metadata": {},
   "outputs": [],
   "source": [
    "#Run PCA\n",
    "sc.tl.pca(adata_neutrophil_2)\n",
    "\n",
    "#Calculate tSNE\n",
    "sc.tl.tsne(adata_neutrophil_2)"
   ]
  },
  {
   "cell_type": "code",
   "execution_count": null,
   "id": "9bba22c4",
   "metadata": {},
   "outputs": [],
   "source": [
    "#Run PhenoGraph\n",
    "sce.tl.phenograph(adata_neutrophil_2, clustering_algo=\"louvain\", k=200, seed=1)"
   ]
  },
  {
   "cell_type": "code",
   "execution_count": null,
   "id": "d33c3a15",
   "metadata": {},
   "outputs": [],
   "source": [
    "#Plot heatmap of myeloid clusters\n",
    "sc.tl.dendrogram(adata_neutrophil_2, groupby = 'pheno_louvain')\n",
    "sc.pl.heatmap(adata_neutrophil_2, adata_neutrophil_2.var_names, groupby='pheno_louvain', swap_axes=True, dendrogram=True, save='_neutrophils_PhenoLouvain_clustered.pdf')"
   ]
  },
  {
   "cell_type": "code",
   "execution_count": null,
   "id": "c1a79515",
   "metadata": {},
   "outputs": [],
   "source": [
    "#Annotate clusters in a dictionary file\n",
    "#Load the merged clusters and map to the anndata file\n",
    "\n",
    "# Mapping the phenograph populations onto the new/merged population labels\n",
    "\n",
    "neutro_dict = pd.read_csv('mikeimc_approach/covid_neutro_dict.csv')\n",
    "n = neutro_dict.set_index('pheno_louvain').to_dict()\n",
    "\n",
    "adata_neutrophil_2.obs['neutro_pop']=adata_neutrophil_2.obs['pheno_louvain'].map(n['Myeloid_Class'])\n",
    "\n",
    "adata_neutrophil_2.obs['neutro_pop']=adata_neutrophil_2.obs['neutro_pop'].astype('category')"
   ]
  },
  {
   "cell_type": "code",
   "execution_count": null,
   "id": "4e4e4871",
   "metadata": {},
   "outputs": [],
   "source": [
    "#Plot heatmap of myeloid clusters\n",
    "sc.tl.dendrogram(adata_neutrophil_2, groupby = 'neutro_pop')\n",
    "sc.pl.heatmap(adata_neutrophil_2, adata_neutrophil_2.var_names, groupby='neutro_pop', swap_axes=False, dendrogram=True, save='_neutrophils_annotated.pdf')"
   ]
  },
  {
   "cell_type": "code",
   "execution_count": null,
   "id": "ba4385ee",
   "metadata": {},
   "outputs": [],
   "source": [
    "#Calculate PAGA\n",
    "sc.tl.paga(adata_neutrophil_2, groups='neutro_pop')"
   ]
  },
  {
   "cell_type": "code",
   "execution_count": null,
   "id": "0f5ba80b",
   "metadata": {},
   "outputs": [],
   "source": [
    "sc.pl.paga(adata_neutrophil_2, color=['neutro_pop'], layout='fr', node_size_scale=1, node_size_power=1, edge_width_scale=0.8, fontweight='normal',fontsize=8,save='neutro_pop.pdf', threshold=0.3)"
   ]
  },
  {
   "cell_type": "code",
   "execution_count": null,
   "id": "435a2543",
   "metadata": {},
   "outputs": [],
   "source": [
    "#Force-directed graph drawing\n",
    "#An alternative to tSNE that often preserves the topology of the data better\n",
    "sc.tl.draw_graph(adata_neutrophil_2, init_pos='paga', layout='fa')"
   ]
  },
  {
   "cell_type": "code",
   "execution_count": null,
   "id": "08e6c168",
   "metadata": {},
   "outputs": [],
   "source": [
    "# Single cell graph\n",
    "sc.pl.draw_graph(adata_neutrophil_2, layout='fa', color=['neutro_pop','SARSCoV2','MHCI','MHCII','CD74','CD107a','GranzymeB'], legend_fontsize=8, legend_fontweight='semibold',legend_loc='on data', ncols=1, size=3, frameon=True, save=\"_neutrophil.pdf\")"
   ]
  },
  {
   "cell_type": "code",
   "execution_count": null,
   "id": "e29036ec",
   "metadata": {},
   "outputs": [],
   "source": [
    "#Pseudo time attempt\n",
    "#Together with a random walk-based distance measure (e.g. scanpy.tl.dpt()) \n",
    "#this generates a partial coordinatization of data useful for exploring and explaining its variation.\n",
    "\n",
    "adata_neutrophil_2.uns['iroot'] = np.flatnonzero(adata_neutrophil_2.obs['neutro_pop']  == 'CD66blow Neutrophil')[0]\n",
    "sc.tl.dpt(adata_neutrophil_2)\n",
    "sc.pl.draw_graph(adata_neutrophil_2, color=['dpt_pseudotime'], legend_fontsize=8, legend_fontweight='semibold',legend_loc='on data', ncols=1, size=5, frameon=True, save='_pseudotime_neutrophil.pdf')"
   ]
  },
  {
   "cell_type": "raw",
   "id": "9192a00a",
   "metadata": {},
   "source": [
    "Analysis of virus+ vs virus- myeloid cells"
   ]
  },
  {
   "cell_type": "code",
   "execution_count": null,
   "id": "752a538f",
   "metadata": {},
   "outputs": [],
   "source": [
    "#Annotate clusters in a dictionary file\n",
    "#Load the merged clusters and map to the anndata file\n",
    "\n",
    "# Mapping the phenograph populations onto the new/merged population labels\n",
    "\n",
    "virus_myeloid_dict = pd.read_csv('mikeimc_approach/virus_myeloid_dict.csv')\n",
    "vm = virus_myeloid_dict.set_index('pheno_louvain').to_dict()\n",
    "\n",
    "adata_myeloid_3.obs['virus_pop']=adata_myeloid_3.obs['pheno_louvain'].map(vm['Myeloid_Class'])\n",
    "\n",
    "adata_myeloid_3.obs['virus_pop']=adata_myeloid_3.obs['virus_pop'].astype('category')"
   ]
  },
  {
   "cell_type": "code",
   "execution_count": null,
   "id": "e654dce1",
   "metadata": {},
   "outputs": [],
   "source": [
    "#Plot heatmap of myeloid clusters\n",
    "sc.tl.dendrogram(adata_myeloid_3, groupby = 'virus_pop')\n",
    "sc.pl.heatmap(adata_myeloid_3, adata_myeloid_3.var_names, groupby='virus_pop', swap_axes=False, dendrogram=True, save='_virus_myeloid_annotated_clustered.pdf')"
   ]
  },
  {
   "cell_type": "code",
   "execution_count": null,
   "id": "10d4190c",
   "metadata": {},
   "outputs": [],
   "source": [
    "#Plot scaled heatmap\n",
    "adata_myeloid_norm3 = adata_myeloid_3.copy()\n",
    "sc.pp.scale(adata_myeloid_norm3, max_value=2,  zero_center=True)\n",
    "sc.tl.dendrogram(adata_myeloid_norm3, groupby = 'virus_pop')\n",
    "sc.pl.heatmap(adata_myeloid_norm3, adata_myeloid_norm3.var_names, groupby='virus_pop', swap_axes=False, dendrogram=True, save='_scaled_virus_myeloid_annotated_clustered.pdf')"
   ]
  },
  {
   "cell_type": "code",
   "execution_count": null,
   "id": "398504e0",
   "metadata": {},
   "outputs": [],
   "source": [
    "mimc.pop_distribution(adata_myeloid_3,'virus_pop',['ROI','Case','Type'])"
   ]
  },
  {
   "cell_type": "code",
   "execution_count": null,
   "id": "eb00dbeb",
   "metadata": {},
   "outputs": [],
   "source": [
    "#Compute a ranking for the highly differential markers in each cluster\n",
    "#To identify differentially expressed genes we run sc.tl.rank_genes_groups. \n",
    "#This function will take each group of cells and compare the distribution of each gene in a group against the distribution in all other cells not in the group. \n",
    "sc.tl.rank_genes_groups(adata_myeloid_3, 'virus_pop', reference='rest', method='wilcoxon', corr_method='benjamini-hochberg', pts=True)"
   ]
  },
  {
   "cell_type": "code",
   "execution_count": null,
   "id": "8c48733f",
   "metadata": {},
   "outputs": [],
   "source": [
    "#Get a table with the scores and groups. see p-values\n",
    "result = adata_myeloid_3.uns['rank_genes_groups']\n",
    "groups = result['names'].dtype.names\n",
    "df = pd.DataFrame(\n",
    "    {group + '_' + key[:1]: result[key][group]\n",
    "    for group in groups for key in ['names', 'pvals_adj', 'scores','logfoldchanges']}).head(10)\n",
    "df"
   ]
  },
  {
   "cell_type": "code",
   "execution_count": null,
   "id": "c2d3cecc",
   "metadata": {},
   "outputs": [],
   "source": [
    "compression_opts = dict(method='zip',\n",
    "                         archive_name='Rank_virus_myeloid_clusters.csv') \n",
    "df.to_csv('out.zip', index=False, compression=compression_opts)"
   ]
  },
  {
   "cell_type": "code",
   "execution_count": null,
   "id": "e464f04a",
   "metadata": {},
   "outputs": [],
   "source": [
    "sc.pl.rank_genes_groups_violin(adata_myeloid_3, split=False, gene_names=['SARSCoV2','MHCI', 'MHCII', 'CD74', 'CD107a', 'GranzymeB'], save='_virus_myeloid_functional_markers_wilcoxon.pdf') "
   ]
  },
  {
   "cell_type": "code",
   "execution_count": null,
   "id": "5ce38343",
   "metadata": {},
   "outputs": [],
   "source": [
    "sc.pl.violin(adata_myeloid_3, ['SARSCoV2','MHCI', 'MHCII', 'CD74', 'CD107a', 'GranzymeB'], groupby='virus_pop', save='_virus_myeloid_functional_markers_wilcoxon_v2.pdf')"
   ]
  },
  {
   "cell_type": "code",
   "execution_count": null,
   "id": "2cc91821",
   "metadata": {},
   "outputs": [],
   "source": [
    "adata_myeloid_3"
   ]
  },
  {
   "cell_type": "raw",
   "id": "e9d6dd9a",
   "metadata": {},
   "source": [
    "Extraction of cluster compositions and absolute numbers of cells/cluster per ROI"
   ]
  },
  {
   "cell_type": "code",
   "execution_count": null,
   "id": "14f21fe5",
   "metadata": {},
   "outputs": [],
   "source": [
    "#stack bar code and extracting number of cells, distribution of each cluster per case or the cluster composition per case\n",
    "#for number of cells - don't use normalize\n",
    "#for distribution of each case per cluster - use normalize = \"index\"\n",
    "#for cluster composition per case - use normalize = \"columns\"\n",
    "tmp = pd.crosstab(adata_myeloid_3.obs['myeloid_pop'], adata_myeloid_3.obs['Type'], margins=False, margins_name='Total', normalize=\"index\")"
   ]
  },
  {
   "cell_type": "code",
   "execution_count": null,
   "id": "2e23ce9c",
   "metadata": {},
   "outputs": [],
   "source": [
    "tmp"
   ]
  },
  {
   "cell_type": "code",
   "execution_count": null,
   "id": "5930e2a8",
   "metadata": {},
   "outputs": [],
   "source": [
    "tmp2 = tmp.reindex(['Apoptotic Neutrophil','CD66bHigh Neutrophil', 'CD66bLow Neutrophil','Alveolar Macrophage','Virus-infected Alveolar Macrophage', 'Classical Monocyte', 'Interstitial Macrophage'])"
   ]
  },
  {
   "cell_type": "code",
   "execution_count": null,
   "id": "b84cc43f",
   "metadata": {},
   "outputs": [],
   "source": [
    "tmp2"
   ]
  },
  {
   "cell_type": "code",
   "execution_count": null,
   "id": "90fc5804",
   "metadata": {
    "scrolled": true
   },
   "outputs": [],
   "source": [
    "#color for stack bars for the disease groups matching the other bar graphs\n",
    "#F08080 - light coral\n",
    "#87CEFA - lightskyblue\n",
    "#D3D3D3 - lightgrey\n",
    "\n",
    "pretty_colors = ['#F08080','#87CEFA','#D3D3D3']\n",
    "color_pal = sb.color_palette(pretty_colors)\n",
    "\n",
    "tmp2.plot.bar(stacked=True,color=color_pal, figsize=(16, 6)).legend(bbox_to_anchor=(1, 1))"
   ]
  },
  {
   "cell_type": "code",
   "execution_count": null,
   "id": "f6689b00",
   "metadata": {},
   "outputs": [],
   "source": [
    "#stack bar code and extracting number of cells, distribution of each cluster per case or the cluster composition per case\n",
    "#for number of cells - don't use normalize\n",
    "#for distribution of each case per cluster - use normalize = \"index\"\n",
    "#for cluster composition per case - use normalize = \"columns\"\n",
    "tmp3 = pd.crosstab(adata_myeloid_3.obs['myeloid_pop'], adata_myeloid_3.obs['Case'], margins=False, margins_name='Total', normalize=\"index\")"
   ]
  },
  {
   "cell_type": "code",
   "execution_count": null,
   "id": "0fb1e51e",
   "metadata": {},
   "outputs": [],
   "source": [
    "tmp3"
   ]
  },
  {
   "cell_type": "code",
   "execution_count": null,
   "id": "ec6f3b9d",
   "metadata": {},
   "outputs": [],
   "source": [
    "tmp3 = tmp3.reindex(['Apoptotic neutrophil','CD66bhigh Neutrophil', 'CD66blow Neutrophil','Alveolar Macrophage','Virus-infected Alveolar Macrophage', 'Classical Monocyte', 'Interstitial Macrophage'])"
   ]
  },
  {
   "cell_type": "code",
   "execution_count": null,
   "id": "ff3c3e47",
   "metadata": {},
   "outputs": [],
   "source": [
    "color_pal = sb.color_palette('Paired')\n",
    "\n",
    "tmp3.plot.bar(stacked=True,color=color_pal, figsize=(16, 6)).legend(bbox_to_anchor=(1, 1))"
   ]
  },
  {
   "cell_type": "code",
   "execution_count": null,
   "id": "209527d2",
   "metadata": {},
   "outputs": [],
   "source": [
    "#stack bar code and extracting number of cells, distribution of each cluster per case or the cluster composition per case\n",
    "#for number of cells - don't use normalize\n",
    "#for distribution of each case per cluster - use normalize = \"index\"\n",
    "#for cluster composition per case - use normalize = \"columns\"\n",
    "tmp3 = pd.crosstab(adata_myeloid_3.obs['myeloid_pop'], adata_myeloid_3.obs['ROI'], margins=False, margins_name='Total', normalize=\"index\")\n",
    "tmp4 = pd.crosstab(adata_myeloid_3.obs['myeloid_pop'], adata_myeloid_3.obs['ROI'], margins=False, margins_name='Total', normalize=\"columns\")\n",
    "tmp5 = pd.crosstab(adata_myeloid_3.obs['myeloid_pop'], adata_myeloid_3.obs['ROI'], margins=True, margins_name='Total')"
   ]
  },
  {
   "cell_type": "code",
   "execution_count": null,
   "id": "654f164e",
   "metadata": {},
   "outputs": [],
   "source": [
    "tmp3 = tmp3.reindex(['Apoptotic Neutrophil','CD66bHigh Neutrophil', 'CD66bLow Neutrophil','Alveolar Macrophage','Virus-infected Alveolar Macrophage', 'Classical Monocyte', 'Interstitial Macrophage'])\n",
    "tmp4 = tmp4.reindex(['Apoptotic Neutrophil','CD66bHigh Neutrophil', 'CD66bLow Neutrophil','Alveolar Macrophage','Virus-infected Alveolar Macrophage', 'Classical Monocyte', 'Interstitial Macrophage'])\n",
    "tmp5 = tmp5.reindex(['Apoptotic Neutrophil','CD66bHigh Neutrophil', 'CD66bLow Neutrophil','Alveolar Macrophage','Virus-infected Alveolar Macrophage', 'Classical Monocyte', 'Interstitial Macrophage'])"
   ]
  },
  {
   "cell_type": "code",
   "execution_count": null,
   "id": "9ba5fe68",
   "metadata": {},
   "outputs": [],
   "source": [
    "tmp3\n",
    "tmp4\n",
    "tmp5"
   ]
  },
  {
   "cell_type": "code",
   "execution_count": null,
   "id": "c5320fb0",
   "metadata": {},
   "outputs": [],
   "source": [
    "compression_opts = dict(method='zip',\n",
    "                         archive_name='Myeloid_ROI_composition_per_cluster.csv') \n",
    "tmp3.to_csv('Myeloid1.zip', index=True, compression=compression_opts)"
   ]
  },
  {
   "cell_type": "code",
   "execution_count": null,
   "id": "45dab6d1",
   "metadata": {},
   "outputs": [],
   "source": [
    "compression_opts = dict(method='zip',\n",
    "                         archive_name='Myeloid_cluster_composition_per_ROI.csv') \n",
    "tmp4.to_csv('Myeloid2.zip', index=True, compression=compression_opts)"
   ]
  },
  {
   "cell_type": "code",
   "execution_count": null,
   "id": "d5ed05dc",
   "metadata": {},
   "outputs": [],
   "source": [
    "compression_opts = dict(method='zip',\n",
    "                         archive_name='Myeloid_number_cells_per_ROI.csv') \n",
    "tmp5.to_csv('Myeloid3.zip', index=True, compression=compression_opts)"
   ]
  },
  {
   "cell_type": "markdown",
   "id": "0ea53456",
   "metadata": {},
   "source": [
    "# Analysis of Lymhoid cells"
   ]
  },
  {
   "cell_type": "code",
   "execution_count": null,
   "id": "8a03bc9d",
   "metadata": {},
   "outputs": [],
   "source": [
    "#Calculate neighbors\n",
    "sc.pp.neighbors(adata_lymphoid_3, n_neighbors=100)\n",
    "\n",
    "#Calculate UMAP\n",
    "sc.tl.umap(adata_lymphoid_3)"
   ]
  },
  {
   "cell_type": "code",
   "execution_count": null,
   "id": "752dd9ac",
   "metadata": {},
   "outputs": [],
   "source": [
    "adata_lymphoid_3"
   ]
  },
  {
   "cell_type": "code",
   "execution_count": null,
   "id": "b51c98ba",
   "metadata": {},
   "outputs": [],
   "source": [
    "#Plot UMAP\n",
    "sc.pl.umap(adata_lymphoid_3, size=5, color=['ROI'], save='_lymphoid_ROI_v2.pdf')"
   ]
  },
  {
   "cell_type": "code",
   "execution_count": null,
   "id": "73c386f4",
   "metadata": {},
   "outputs": [],
   "source": [
    "#Plot UMAP\n",
    "sc.pl.umap(adata_lymphoid_3, size=5, color=['Type'], save='_lymphoid_Type_v2.pdf')"
   ]
  },
  {
   "cell_type": "code",
   "execution_count": null,
   "id": "f3c536b4",
   "metadata": {},
   "outputs": [],
   "source": [
    "#Plot UMAP for each marker\n",
    "sc.pl.umap(adata_lymphoid_3, size=20, color=adata_lymphoid_3.var_names, save='_lymphoid_Markers_v2.pdf')"
   ]
  },
  {
   "cell_type": "code",
   "execution_count": null,
   "id": "cc3f2fbf",
   "metadata": {},
   "outputs": [],
   "source": [
    "#Run PCA\n",
    "sc.tl.pca(adata_lymphoid_3)\n",
    "\n",
    "#Calculate tSNE\n",
    "sc.tl.tsne(adata_lymphoid_3)"
   ]
  },
  {
   "cell_type": "code",
   "execution_count": null,
   "id": "2c093fba",
   "metadata": {},
   "outputs": [],
   "source": [
    "#Plot tSNE \n",
    "sc.pl.tsne(adata_lymphoid_3, color=['ROI'], save='_lymphoid_ROI_v2.pdf')"
   ]
  },
  {
   "cell_type": "code",
   "execution_count": null,
   "id": "c462b512",
   "metadata": {},
   "outputs": [],
   "source": [
    "#Plot tSNE \n",
    "sc.pl.tsne(adata_lymphoid_3, color=['Type'], save='_lymphoid_cases_v2.pdf')"
   ]
  },
  {
   "cell_type": "code",
   "execution_count": null,
   "id": "7d694c93",
   "metadata": {},
   "outputs": [],
   "source": [
    "#Plot tSNE for each marker\n",
    "sc.pl.tsne(adata_lymphoid_3, color=adata_lymphoid_3.var_names, save='_lymphoid_Markers_v2.pdf')"
   ]
  },
  {
   "cell_type": "code",
   "execution_count": null,
   "id": "011b7176",
   "metadata": {},
   "outputs": [],
   "source": [
    "#Run PhenoGraph\n",
    "sce.tl.phenograph(adata_lymphoid_3, clustering_algo=\"louvain\", k=200, seed=1)"
   ]
  },
  {
   "cell_type": "code",
   "execution_count": null,
   "id": "7cdfa452",
   "metadata": {},
   "outputs": [],
   "source": [
    "#Plot PhenoGraph on tSNE\n",
    "sc.pl.tsne(adata_lymphoid_3, color = \"pheno_louvain\", s = 100, legend_fontsize = 10, size=2, save='_lymphoid_PhenoLouvain_v2.pdf')"
   ]
  },
  {
   "cell_type": "code",
   "execution_count": null,
   "id": "83bfa88b",
   "metadata": {},
   "outputs": [],
   "source": [
    "#Plot PhenoGraph on UMAP\n",
    "sc.pl.umap(adata_lymphoid_3, color = \"pheno_louvain\", s = 100, legend_fontsize = 10, size=2, save='_lymphoid_PhenoLouvain_v2.pdf')"
   ]
  },
  {
   "cell_type": "code",
   "execution_count": null,
   "id": "f2bb9c91",
   "metadata": {},
   "outputs": [],
   "source": [
    "#Plot heatmap of lymphoidclusters\n",
    "sc.tl.dendrogram(adata_lymphoid_3, groupby = 'pheno_louvain')\n",
    "sc.pl.heatmap(adata_lymphoid_3, adata_lymphoid_3.var_names, groupby='pheno_louvain', swap_axes=True, dendrogram=True, save='_lymphoid_PhenoLouvain_clustered_v2.pdf')"
   ]
  },
  {
   "cell_type": "code",
   "execution_count": null,
   "id": "0358865e",
   "metadata": {},
   "outputs": [],
   "source": [
    "#Plot scaled heatmap\n",
    "adata_lymphoid_norm2 = adata_lymphoid_3.copy()\n",
    "sc.pp.scale(adata_lymphoid_norm2, max_value=2,  zero_center=True)\n",
    "sc.tl.dendrogram(adata_lymphoid_norm2, groupby = 'pheno_louvain')\n",
    "sc.pl.heatmap(adata_lymphoid_norm2, adata_lymphoid_norm2.var_names, groupby='pheno_louvain', swap_axes=True, dendrogram=True, save='_scaled_lymphoid_PhenoLouvain_clustered_v2.pdf')"
   ]
  },
  {
   "cell_type": "code",
   "execution_count": null,
   "id": "755541ea",
   "metadata": {},
   "outputs": [],
   "source": [
    "#Compute a ranking for the highly differential markers in each cluster\n",
    "sc.tl.rank_genes_groups(adata_lymphoid_3, 'pheno_louvain', method='t-test')\n",
    "sc.pl.rank_genes_groups(adata_lymphoid_3, n_genes=10, sharey=False, save='rank_markers_lymphoid_PhenoLouvain_v2.pdf')"
   ]
  },
  {
   "cell_type": "code",
   "execution_count": null,
   "id": "ede6c10b",
   "metadata": {},
   "outputs": [],
   "source": [
    "#Population distribution\n",
    "\n",
    "from importlib import reload\n",
    "\n",
    "mimc = reload(mimc)\n",
    "mimc.pop_distribution(adata_lymphoid_3,'pheno_louvain',['ROI','Type'])"
   ]
  },
  {
   "cell_type": "code",
   "execution_count": null,
   "id": "f37b6d2d",
   "metadata": {},
   "outputs": [],
   "source": [
    "#Annotate clusters in a dictionary file\n",
    "#Load the merged clusters and map to the anndata file\n",
    "\n",
    "# Mapping the phenograph populations onto the new/merged population labels\n",
    "\n",
    "lymphoid_dict = pd.read_csv('mikeimc_approach/Dictionaries/covid_lymphoid_dict.csv')\n",
    "l = lymphoid_dict.set_index('pheno_louvain').to_dict()\n",
    "\n",
    "adata_lymphoid_3.obs['lymphoid_pop']=adata_lymphoid_3.obs['pheno_louvain'].map(l['Lymphoid_Class'])\n",
    "\n",
    "adata_lymphoid_3.obs['lymphoid_pop']=adata_lymphoid_3.obs['lymphoid_pop'].astype('category')"
   ]
  },
  {
   "cell_type": "code",
   "execution_count": null,
   "id": "9b8eef0c",
   "metadata": {},
   "outputs": [],
   "source": [
    "mimc.pop_distribution(adata_lymphoid_3,'lymphoid_pop',['ROI','Case','Type'])"
   ]
  },
  {
   "cell_type": "code",
   "execution_count": null,
   "id": "14688133",
   "metadata": {},
   "outputs": [],
   "source": [
    "#Plot heatmap of lymphoid clusters\n",
    "sc.tl.dendrogram(adata_lymphoid_3, groupby = 'lymphoid_pop')\n",
    "sc.pl.heatmap(adata_lymphoid_3, adata_lymphoid_3.var_names, groupby='lymphoid_pop', swap_axes=False, dendrogram=True, save='_lymphoid_annotated_clustered_v2.pdf')"
   ]
  },
  {
   "cell_type": "code",
   "execution_count": null,
   "id": "922b9979",
   "metadata": {},
   "outputs": [],
   "source": [
    "#Plot scaled heatmap\n",
    "adata_lymphoid_norm3 = adata_lymphoid_3.copy()\n",
    "sc.pp.scale(adata_lymphoid_norm3, max_value=2,  zero_center=True)\n",
    "sc.tl.dendrogram(adata_lymphoid_norm3, groupby = 'lymphoid_pop')\n",
    "sc.pl.heatmap(adata_lymphoid_norm3, adata_lymphoid_norm3.var_names, groupby='lymphoid_pop', swap_axes=False, dendrogram=True, save='_scaled_lymphoid_annotated_clustered_v2.pdf')"
   ]
  },
  {
   "cell_type": "code",
   "execution_count": null,
   "id": "1189eea8",
   "metadata": {},
   "outputs": [],
   "source": [
    "#Compute a ranking for the highly differential markers in each cluster\n",
    "sc.tl.rank_genes_groups(adata_lymphoid_3, 'lymphoid_pop', method='t-test')\n",
    "sc.pl.rank_genes_groups(adata_lymphoid_3, n_genes=10, sharey=False, save='rank_markers_lymphoid_annotated_v2.pdf')"
   ]
  },
  {
   "cell_type": "code",
   "execution_count": null,
   "id": "255cb5dd",
   "metadata": {},
   "outputs": [],
   "source": [
    "#Get a table with the scores and groups. see p-values\n",
    "result = adata_lymphoid_3.uns['rank_genes_groups']\n",
    "groups = result['names'].dtype.names\n",
    "df = pd.DataFrame(\n",
    "    {group + '_' + key[:1]: result[key][group]\n",
    "    for group in groups for key in ['names', 'pvals_adj', 'scores','logfoldchanges']}).head(10)\n",
    "df\n",
    "\n",
    "compression_opts = dict(method='zip',\n",
    "                         archive_name='Rank_markers_lymphoid_annotated_clusters.csv') \n",
    "df.to_csv('out.zip', index=False, compression=compression_opts)"
   ]
  },
  {
   "cell_type": "code",
   "execution_count": null,
   "id": "bd328898",
   "metadata": {},
   "outputs": [],
   "source": [
    "sc.pl.rank_genes_groups_violin(adata_lymphoid_3, n_genes=5, save='top5_DE_markers_wilcoxon.png')"
   ]
  },
  {
   "cell_type": "code",
   "execution_count": null,
   "id": "b0de58f3",
   "metadata": {},
   "outputs": [],
   "source": [
    "sc.pl.rank_genes_groups_matrixplot(adata_lymphoid_3, n_genes=6, values_to_plot='logfoldchanges', swap_axes=True, cmap='bwr', save='lymphoid_logFC_wilcoxon_v2.pdf' )"
   ]
  },
  {
   "cell_type": "code",
   "execution_count": null,
   "id": "af041036",
   "metadata": {},
   "outputs": [],
   "source": [
    "#Plot PhenoGraph on UMAP\n",
    "sc.pl.umap(adata_lymphoid_3, color = \"lymphoid_pop\", s = 5, legend_fontsize = 12, legend_fontweight='semibold',legend_loc='on data', size=5, frameon=False,save='_lymphoid_annotated_v2.pdf')\n",
    "\n",
    "#Plot PhenoGraph on tSNE\n",
    "#sc.pl.tsne(adata_lymphoid_3, color = \"lymphoid_pop\", s = 100, legend_fontsize = 10, legend_fontweight='semibold',legend_loc='on data', size=10, save='_lymphoid_annotated_v2.pdf')"
   ]
  },
  {
   "cell_type": "code",
   "execution_count": null,
   "id": "b8e9de36",
   "metadata": {},
   "outputs": [],
   "source": [
    "adata_lymphoid_4 = adata_lymphoid_3[~adata_lymphoid_3.obs['Type'].isin(['Non_COVID'])]"
   ]
  },
  {
   "cell_type": "code",
   "execution_count": null,
   "id": "6f17ae6f",
   "metadata": {},
   "outputs": [],
   "source": [
    "#stack bar code and extracting number of cells, distribution of each cluster per case or the cluster composition per case\n",
    "#for number of cells - don't use normalize\n",
    "#for distribution of each case per cluster - use normalize = \"index\"\n",
    "#for cluster composition per case - use normalize = \"columns\"\n",
    "tmp1 = pd.crosstab(adata_lymphoid_3.obs['lymphoid_pop'],adata_lymphoid_3.obs['Case'], margins=False, margins_name='Total', normalize=\"index\")\n",
    "tmp2 = pd.crosstab(adata_lymphoid_4.obs['lymphoid_pop'],adata_lymphoid_4.obs['Type'], margins=False, margins_name='Total', normalize=\"columns\")\n",
    "tmp3 = pd.crosstab(adata_lymphoid_3.obs['lymphoid_pop'],adata_lymphoid_3.obs['ROI'], margins=True, margins_name='Total')"
   ]
  },
  {
   "cell_type": "code",
   "execution_count": null,
   "id": "5d3b1111",
   "metadata": {},
   "outputs": [],
   "source": [
    "tmp1"
   ]
  },
  {
   "cell_type": "code",
   "execution_count": null,
   "id": "fe083baa",
   "metadata": {},
   "outputs": [],
   "source": [
    "tmp2"
   ]
  },
  {
   "cell_type": "code",
   "execution_count": null,
   "id": "412d9086",
   "metadata": {},
   "outputs": [],
   "source": [
    "tmp3"
   ]
  },
  {
   "cell_type": "code",
   "execution_count": null,
   "id": "7bc6d174",
   "metadata": {},
   "outputs": [],
   "source": [
    "tmp1 = tmp1.reindex(['CD8 T cell','CD38+ CD4 T cell','CD3+ cell','CD4 T cell'])\n",
    "tmp2 = tmp2.reindex(['CD8 T cell','CD38+ CD4 T cell','CD3+ cell','CD4 T cell'])\n",
    "tmp3 = tmp3.reindex(['CD8 T cell','CD38+ CD4 T cell','CD3+ cell','CD4 T cell']) "
   ]
  },
  {
   "cell_type": "code",
   "execution_count": null,
   "id": "d7eed7ec",
   "metadata": {},
   "outputs": [],
   "source": [
    "tmp4 = pd.DataFrame.transpose(tmp2)"
   ]
  },
  {
   "cell_type": "code",
   "execution_count": null,
   "id": "10e3d9d2",
   "metadata": {},
   "outputs": [],
   "source": [
    "compression_opts = dict(method='zip',\n",
    "                         archive_name='Lymphoid_ROI_composition_per_cluster.csv') \n",
    "tmp1.to_csv('Lymphoid1.zip', index=False, compression=compression_opts)"
   ]
  },
  {
   "cell_type": "code",
   "execution_count": null,
   "id": "7c78059e",
   "metadata": {},
   "outputs": [],
   "source": [
    "compression_opts = dict(method='zip',\n",
    "                         archive_name='Lymphoid_cluster_composition_per_ROI.csv') \n",
    "tmp2.to_csv('Lymphoid2.zip', index=False, compression=compression_opts)"
   ]
  },
  {
   "cell_type": "code",
   "execution_count": null,
   "id": "ac0bfe98",
   "metadata": {},
   "outputs": [],
   "source": [
    "compression_opts = dict(method='zip',\n",
    "                         archive_name='Lymphoid_number_cells_per_ROI.csv') \n",
    "tmp3.to_csv('Lymphoid3.zip', index=False, compression=compression_opts)"
   ]
  },
  {
   "cell_type": "code",
   "execution_count": null,
   "id": "56b1faf9",
   "metadata": {},
   "outputs": [],
   "source": [
    "#color for stack bars for the disease groups matching the other bar graphs\n",
    "#F08080 - light coral\n",
    "#87CEFA - lightskyblue\n",
    "#D3D3D3 - lightgrey\n",
    "\n",
    "pretty_colors = ['#F08080','#87CEFA','#D3D3D3']\n",
    "color_pal = sb.color_palette('Paired')\n",
    "\n",
    "tmp4.plot.bar(stacked=True,color=colour_palette['colour'], rot=0, figsize=(4, 4)).legend(bbox_to_anchor=(1, 1)) #use figsize=(16,6) for ROI"
   ]
  },
  {
   "cell_type": "code",
   "execution_count": null,
   "id": "7b5cf16b",
   "metadata": {},
   "outputs": [],
   "source": [
    "# Grouped bar plot with Pandas\n",
    "cells = pd.crosstab([adata_lymphoid_4.obs['Type'], adata_lymphoid_4.obs['ROI']],adata_lymphoid_4.obs['lymphoid_pop'])\n",
    "cells.columns=cells.columns.astype('str')     \n",
    "cells_long = cells.reset_index().melt(id_vars=['Type','ROI'])\n",
    "    \n",
    "fig, ax = plt.subplots(figsize=(4,4))\n",
    "sb.barplot(data = cells_long, y = \"value\", x = 'lymphoid_pop', hue='Type', width=0.8, palette = pretty_colors2, ci=68, ax=ax, saturation=1, capsize=.1, errcolor=\".0\", linewidth=2, edgecolor=\".0\")\n",
    "ax.set_xticklabels(ax.get_xticklabels(),rotation = 90, fontsize = 18)\n",
    "ax.set_ylabel('Cells/mm2')\n",
    "ax.legend(bbox_to_anchor=(0.43, 1))"
   ]
  },
  {
   "cell_type": "code",
   "execution_count": null,
   "id": "d65f2f0d",
   "metadata": {},
   "outputs": [],
   "source": [
    "# Alter this list with adata.obs variables that you want to plot against the resulting leiden population\n",
    "image_var = 'ROI'\n",
    "\n",
    "for i in ['Type']:\n",
    "\n",
    "    mikeimc_v2.grouped_graph(adata_lymphoid_4,\n",
    "                             ROI_id=image_var,\n",
    "                             group_by_obs=i,\n",
    "                             x_axis='lymphoid_pop',\n",
    "                             fig_size=(8, 4),\n",
    "                             log_scale=False, scale_factor=True,\n",
    "                            display_tables=True) #If you change display_tables to True, will also do stats on the groups\n",
    "    plt.show()"
   ]
  },
  {
   "cell_type": "code",
   "execution_count": null,
   "id": "74ff3620",
   "metadata": {},
   "outputs": [],
   "source": []
  },
  {
   "cell_type": "code",
   "execution_count": null,
   "id": "023ccf36",
   "metadata": {},
   "outputs": [],
   "source": []
  },
  {
   "cell_type": "code",
   "execution_count": null,
   "id": "f225597e",
   "metadata": {},
   "outputs": [],
   "source": []
  },
  {
   "cell_type": "code",
   "execution_count": null,
   "id": "dc53beb1",
   "metadata": {},
   "outputs": [],
   "source": []
  },
  {
   "cell_type": "code",
   "execution_count": null,
   "id": "caaaea70",
   "metadata": {},
   "outputs": [],
   "source": [
    "graph = sb.lmplot(data = adata_lymphoid_3.obs, x = 'X_loc',y='Y_loc',hue ='lymphoid_pop', height = 6, col = 'ROI', col_wrap = 4,fit_reg = False)"
   ]
  },
  {
   "cell_type": "code",
   "execution_count": null,
   "id": "68ce9de1",
   "metadata": {},
   "outputs": [],
   "source": [
    "graph.savefig('Lymphoid_spatial_mapping.png')"
   ]
  },
  {
   "cell_type": "code",
   "execution_count": null,
   "id": "53dd6c5b",
   "metadata": {},
   "outputs": [],
   "source": [
    "# export everything except the data using `.write_csvs`.\n",
    "# Set `skip_data=False` if you also want to export the data.\n",
    "adata_lymphoid_3.write_csvs(dirname='./Analysis_iteration3/All_data_v2_noDNAphysicalparam/ASTIR/Lymphoid_clusters/Annotated_Lymphoid_clusters', skip_data=False)"
   ]
  },
  {
   "cell_type": "markdown",
   "id": "06da1e94",
   "metadata": {},
   "source": [
    "# Analysis of Endothelial cells"
   ]
  },
  {
   "cell_type": "code",
   "execution_count": null,
   "id": "6c82bcf2",
   "metadata": {},
   "outputs": [],
   "source": [
    "#Calculate neighbors\n",
    "sc.pp.neighbors(adata_endothelium_3, n_neighbors=100)\n",
    "\n",
    "#Calculate UMAP\n",
    "sc.tl.umap(adata_endothelium_3)"
   ]
  },
  {
   "cell_type": "code",
   "execution_count": null,
   "id": "a3303401",
   "metadata": {},
   "outputs": [],
   "source": [
    "#Plot UMAP\n",
    "sc.pl.umap(adata_endothelium_3, color=['ROI'], size=20, save='_endothelium_ROI_v2.pdf')"
   ]
  },
  {
   "cell_type": "code",
   "execution_count": null,
   "id": "af449158",
   "metadata": {},
   "outputs": [],
   "source": [
    "#Plot UMAP\n",
    "sc.pl.umap(adata_endothelium_3, color=['Type'], size=20, save='_endothelium_Type_v2.pdf')"
   ]
  },
  {
   "cell_type": "code",
   "execution_count": null,
   "id": "e8a095dd",
   "metadata": {
    "scrolled": true
   },
   "outputs": [],
   "source": [
    "#Plot UMAP for each marker\n",
    "sc.pl.umap(adata_endothelium_3, color=adata_endothelium_3.var_names, size=40, save='_endothelium_Markers_v2.pdf')"
   ]
  },
  {
   "cell_type": "code",
   "execution_count": null,
   "id": "964ebc60",
   "metadata": {},
   "outputs": [],
   "source": [
    "#Run PCA\n",
    "sc.tl.pca(adata_endothelium_3)\n",
    "\n",
    "#Calculate tSNE\n",
    "sc.tl.tsne(adata_endothelium_3)"
   ]
  },
  {
   "cell_type": "code",
   "execution_count": null,
   "id": "155c4683",
   "metadata": {},
   "outputs": [],
   "source": [
    "#Plot tSNE \n",
    "sc.pl.tsne(adata_endothelium_3, color=['ROI'], save='_enodthelium_ROI_v2.pdf')"
   ]
  },
  {
   "cell_type": "code",
   "execution_count": null,
   "id": "d32343f3",
   "metadata": {},
   "outputs": [],
   "source": [
    "#Plot tSNE \n",
    "sc.pl.tsne(adata_endothelium_3, color=['Type'], save='_endothelium_cases_v2.pdf')"
   ]
  },
  {
   "cell_type": "code",
   "execution_count": null,
   "id": "7ca12abb",
   "metadata": {},
   "outputs": [],
   "source": [
    "#Plot tSNE for each marker\n",
    "sc.pl.tsne(adata_endothelium_3, color=adata_endothelium_3.var_names, save='_endothelium_Markers_v2.pdf')"
   ]
  },
  {
   "cell_type": "code",
   "execution_count": null,
   "id": "f22d281a",
   "metadata": {},
   "outputs": [],
   "source": [
    "#Run PhenoGraph\n",
    "sce.tl.phenograph(adata_endothelium_3, clustering_algo=\"louvain\", k=200, seed=2)"
   ]
  },
  {
   "cell_type": "code",
   "execution_count": null,
   "id": "d16a10a2",
   "metadata": {},
   "outputs": [],
   "source": [
    "#Plot PhenoGraph on tSNE\n",
    "sc.pl.tsne(adata_endothelium_3, color = \"pheno_louvain\", s = 100, legend_fontsize = 10, size=2, save='_endothelium_PhenoLouvain_v2.pdf')"
   ]
  },
  {
   "cell_type": "code",
   "execution_count": null,
   "id": "bd2efd0e",
   "metadata": {},
   "outputs": [],
   "source": [
    "#Plot PhenoGraph on UMAP\n",
    "sc.pl.umap(adata_endothelium_3, color = \"pheno_louvain\", s = 100, legend_fontsize = 10, size=2, save='_endothelium_PhenoLouvain_v2.pdf')"
   ]
  },
  {
   "cell_type": "code",
   "execution_count": null,
   "id": "41b440cf",
   "metadata": {},
   "outputs": [],
   "source": [
    "#Plot heatmap of EC clusters\n",
    "sc.tl.dendrogram(adata_endothelium_3, groupby = 'pheno_louvain')\n",
    "sc.pl.heatmap(adata_endothelium_3, adata_endothelium_3.var_names, groupby='pheno_louvain', swap_axes=True, dendrogram=True, save='_endothelium_PhenoLouvain_clustered_v2.pdf')"
   ]
  },
  {
   "cell_type": "code",
   "execution_count": null,
   "id": "cfdbff28",
   "metadata": {},
   "outputs": [],
   "source": [
    "#Plot scaled heatmap\n",
    "adata_endothelium_norm2 = adata_endothelium_3.copy()\n",
    "sc.pp.scale(adata_endothelium_norm2, max_value=2,  zero_center=True)\n",
    "sc.tl.dendrogram(adata_endothelium_norm2, groupby = 'pheno_louvain')\n",
    "sc.pl.heatmap(adata_endothelium_norm2, adata_endothelium_norm2.var_names, groupby='pheno_louvain', swap_axes=True, dendrogram=True, save='_scaled_endothelium_PhenoLouvain_clustered_v2.pdf')"
   ]
  },
  {
   "cell_type": "code",
   "execution_count": null,
   "id": "c2970df8",
   "metadata": {},
   "outputs": [],
   "source": [
    "#Compute a ranking for the highly differential markers in each cluster\n",
    "sc.tl.rank_genes_groups(adata_endothelium_3, 'pheno_louvain', method='t-test')\n",
    "sc.pl.rank_genes_groups(adata_endothelium_3, n_genes=10, sharey=False, save='rank_markers_endothelium_PhenoLouvain_v2.pdf')"
   ]
  },
  {
   "cell_type": "code",
   "execution_count": null,
   "id": "e40122f4",
   "metadata": {
    "scrolled": true
   },
   "outputs": [],
   "source": [
    "#Population distribution\n",
    "\n",
    "from importlib import reload\n",
    "\n",
    "mimc = reload(mimc)\n",
    "mimc.pop_distribution(adata_endothelium_3,'pheno_louvain',['ROI','Type'])"
   ]
  },
  {
   "cell_type": "code",
   "execution_count": null,
   "id": "028d8800",
   "metadata": {},
   "outputs": [],
   "source": [
    "#Annotate clusters in a dictionary file\n",
    "#Load the merged clusters and map to the anndata file\n",
    "\n",
    "# Mapping the phenograph populations onto the new/merged population labels\n",
    "\n",
    "endothelial_dict = pd.read_csv('mikeimc_approach/Dictionaries/covid_endothelial_dict.csv')\n",
    "e = endothelial_dict.set_index('pheno_louvain').to_dict()\n",
    "\n",
    "adata_endothelium_3.obs['endothelial_pop']=adata_endothelium_3.obs['pheno_louvain'].map(e['Endothelial_Class'])\n",
    "\n",
    "adata_endothelium_3.obs['endothelial_pop']=adata_endothelium_3.obs['endothelial_pop'].astype('category')"
   ]
  },
  {
   "cell_type": "code",
   "execution_count": null,
   "id": "faac6e09",
   "metadata": {},
   "outputs": [],
   "source": [
    "mimc.pop_distribution(adata_endothelium_3,'endothelial_pop',['ROI','Case','Type'])"
   ]
  },
  {
   "cell_type": "code",
   "execution_count": null,
   "id": "32cc457e",
   "metadata": {},
   "outputs": [],
   "source": [
    "#Plot heatmap of lymphoid clusters\n",
    "sc.tl.dendrogram(adata_endothelium_3, groupby = 'endothelial_pop')\n",
    "sc.pl.heatmap(adata_endothelium_3, adata_endothelium_3.var_names, groupby='endothelial_pop', swap_axes=False, dendrogram=True, save='_endothelial_annotated_clustered_v2.pdf')"
   ]
  },
  {
   "cell_type": "code",
   "execution_count": null,
   "id": "27727567",
   "metadata": {},
   "outputs": [],
   "source": [
    "#Plot scaled heatmap\n",
    "adata_endothelium_norm3 = adata_endothelium_3.copy()\n",
    "sc.pp.scale(adata_endothelium_norm3, max_value=2,  zero_center=True)\n",
    "sc.tl.dendrogram(adata_endothelium_norm3, groupby = 'endothelial_pop')\n",
    "sc.pl.heatmap(adata_endothelium_norm3, adata_endothelium_norm3.var_names, groupby='endothelial_pop', swap_axes=False, dendrogram=True, save='_scaled_endothelial_annotated_clustered_v2.pdf')"
   ]
  },
  {
   "cell_type": "code",
   "execution_count": null,
   "id": "3790f4ec",
   "metadata": {},
   "outputs": [],
   "source": [
    "#Compute a ranking for the highly differential markers in each cluster\n",
    "#To identify differentially expressed genes we run sc.tl.rank_genes_groups. \n",
    "#This function will take each group of cells and compare the distribution of each gene in a group against the distribution in all other cells not in the group. \n",
    "sc.tl.rank_genes_groups(adata_endothelium_3, 'endothelial_pop', reference='rest', method='wilcoxon', corr_method='benjamini-hochberg', pts=True)"
   ]
  },
  {
   "cell_type": "code",
   "execution_count": null,
   "id": "ed6d5019",
   "metadata": {},
   "outputs": [],
   "source": [
    "sc.pl.rank_genes_groups(adata_endothelium_3, n_genes=10, sharey=False, save='rank_markers_endothelial_annotated.pdf')"
   ]
  },
  {
   "cell_type": "code",
   "execution_count": null,
   "id": "e2c0bbd5",
   "metadata": {},
   "outputs": [],
   "source": [
    "adata_endothelium_3.uns['rank_genes_groups']"
   ]
  },
  {
   "cell_type": "code",
   "execution_count": null,
   "id": "a7630c10",
   "metadata": {},
   "outputs": [],
   "source": [
    "#Get a table with the scores and groups. see p-values\n",
    "result = adata_endothelium_3.uns['rank_genes_groups']\n",
    "groups = result['names'].dtype.names\n",
    "df_ec = pd.DataFrame(\n",
    "    {group + '_' + key[:1]: result[key][group]\n",
    "    for group in groups for key in ['names', 'pvals_adj', 'scores','logfoldchanges']}).head(10)\n",
    "df_ec"
   ]
  },
  {
   "cell_type": "code",
   "execution_count": null,
   "id": "cce10890",
   "metadata": {},
   "outputs": [],
   "source": [
    "compression_opts = dict(method='zip',\n",
    "                         archive_name='Rank_markers_EC_annotated_clusters.csv') \n",
    "df_ec.to_csv('out.zip', index=False, compression=compression_opts)"
   ]
  },
  {
   "cell_type": "code",
   "execution_count": null,
   "id": "9f4a819c",
   "metadata": {},
   "outputs": [],
   "source": [
    "sc.pl.rank_genes_groups_violin(adata_endothelium_3, n_genes=5, save='top5_DE_markers_wilcoxon.png')"
   ]
  },
  {
   "cell_type": "code",
   "execution_count": null,
   "id": "76c053c8",
   "metadata": {},
   "outputs": [],
   "source": [
    "sc.pl.rank_genes_groups_violin(adata_endothelium_3, split=False, groups = ['Activated Endothelial cell'], gene_names=['vWF'], save='vWF_expression_wilcoxon.pdf')"
   ]
  },
  {
   "cell_type": "code",
   "execution_count": null,
   "id": "1e8a95ff",
   "metadata": {},
   "outputs": [],
   "source": [
    "sc.pl.rank_genes_groups_matrixplot(adata_endothelium_3, n_genes=6, values_to_plot='logfoldchanges', swap_axes=True, cmap='bwr', save='EC_logFC_wilcoxon.pdf')"
   ]
  },
  {
   "cell_type": "code",
   "execution_count": null,
   "id": "3637c734",
   "metadata": {},
   "outputs": [],
   "source": [
    "sc.pl.rank_genes_groups_dotplot(adata_endothelium_3, var_names=['ICAM1', 'vWF','SARSCoV2','MHCI', 'MHCII', 'CD74', 'CD107a', 'GranzymeB'], values_to_plot='logfoldchanges', swap_axes=True, cmap='bwr', save='EC_specificmarkers_logFC_wilcoxon.pdf')"
   ]
  },
  {
   "cell_type": "code",
   "execution_count": null,
   "id": "9d2a8116",
   "metadata": {},
   "outputs": [],
   "source": [
    "#Plot PhenoGraph on UMAP\n",
    "sc.pl.umap(adata_endothelium_3, color = \"endothelial_pop\", s = 5, legend_fontsize = 12, legend_fontweight='semibold',legend_loc='on data', frameon=False, size=8, save='_endothelial_annotated_v2.pdf')\n",
    "\n",
    "#Plot PhenoGraph on tSNE\n",
    "#sc.pl.tsne(adata_endothelium_3, color = \"endothelial_pop\", s = 100, legend_fontsize = 10, size=5, save='_endothelial_annotated_v2.pdf')"
   ]
  },
  {
   "cell_type": "code",
   "execution_count": null,
   "id": "449ec3c0",
   "metadata": {},
   "outputs": [],
   "source": [
    "#Mapping out the coarse-grained connectivity structures of complex manifolds\n",
    "#By quantifying the connectivity of partitions (groups, clusters) of the single-cell graph, \n",
    "#partition-based graph abstraction (PAGA) generates a much simpler abstracted graph (PAGA graph) of partitions,\n",
    "#in which edge weights represent confidence in the presence of connections.\n",
    "\n",
    "#Calculate PAGA\n",
    "sc.tl.paga(adata_endothelium_3, groups='endothelial_pop')"
   ]
  },
  {
   "cell_type": "code",
   "execution_count": null,
   "id": "a16641c7",
   "metadata": {},
   "outputs": [],
   "source": [
    "sc.pl.paga(adata_endothelium_3, color=['endothelial_pop'], node_size_scale=1, node_size_power=1, edge_width_scale=0.8, fontweight='normal',fontsize=8,save='EC_pop.pdf', threshold=0)"
   ]
  },
  {
   "cell_type": "code",
   "execution_count": null,
   "id": "683355e5",
   "metadata": {},
   "outputs": [],
   "source": [
    "markers=['SARSCoV2','MHCI','MHCII','CD74',\n",
    "       'CD107a','GranzymeB', 'ICAM1']\n",
    "for i in markers:\n",
    "    sc.pl.paga(adata_endothelium_3, color=i, title=i, node_size_scale=1, node_size_power=1, edge_width_scale=0.8, fontweight='normal', fontsize=8, cmap='viridis', save=i, threshold=0)"
   ]
  },
  {
   "cell_type": "code",
   "execution_count": null,
   "id": "a81efa9e",
   "metadata": {},
   "outputs": [],
   "source": [
    "#Force-directed graph drawing\n",
    "#An alternative to tSNE that often preserves the topology of the data better\n",
    "sc.tl.draw_graph(adata_endothelium_3, init_pos='paga', layout='fa')"
   ]
  },
  {
   "cell_type": "code",
   "execution_count": null,
   "id": "ea535a8a",
   "metadata": {},
   "outputs": [],
   "source": [
    "# Single cell graph\n",
    "sc.pl.draw_graph(adata_endothelium_3, layout='fa', color=['endothelial_pop','SARSCoV2','MHCI','MHCII','CD74','CD107a','GranzymeB', 'ICAM1'], legend_fontsize=8, legend_fontweight='semibold',legend_loc='on data', ncols=1, size=20, frameon=True, save=\"_EC.pdf\")"
   ]
  },
  {
   "cell_type": "code",
   "execution_count": null,
   "id": "af4ed7cf",
   "metadata": {},
   "outputs": [],
   "source": [
    "adata_endothelium_3.uns['iroot'] = np.flatnonzero(adata_endothelium_3.obs['endothelial_pop']  == 'Endothelial cell')[0]\n",
    "sc.tl.dpt(adata_endothelium_3)\n",
    "sc.pl.draw_graph(adata_endothelium_3, color=['dpt_pseudotime'], legend_fontsize=8, legend_fontweight='semibold',legend_loc='on data', ncols=1, size=20,vmax=0.75, frameon=True, save='_pseudotime_EC.pdf')"
   ]
  },
  {
   "cell_type": "code",
   "execution_count": null,
   "id": "3c7623c4",
   "metadata": {},
   "outputs": [],
   "source": [
    "adata_endothelium_4 = adata_endothelium_3[~adata_endothelium_3.obs['Type'].isin(['Non_COVID'])]"
   ]
  },
  {
   "cell_type": "code",
   "execution_count": null,
   "id": "c391f17e",
   "metadata": {},
   "outputs": [],
   "source": [
    "#stack bar code and extracting number of cells, distribution of each cluster per case or the cluster composition per case\n",
    "#for number of cells - don't use normalize\n",
    "#for distribution of each case per cluster - use normalize = \"index\"\n",
    "#for cluster composition per case - use normalize = \"columns\"\n",
    "tmp1 = pd.crosstab(adata_endothelium_3.obs['endothelial_pop'],adata_endothelium_3.obs['Type'], margins=False, margins_name='Total', normalize=\"index\")\n",
    "tmp2 = pd.crosstab(adata_endothelium_4.obs['endothelial_pop'],adata_endothelium_4.obs['Type'], margins=False, margins_name='Total', normalize=\"columns\")\n",
    "tmp3 = pd.crosstab(adata_endothelium_3.obs['endothelial_pop'],adata_endothelium_3.obs['ROI'], margins=True, margins_name='Total')"
   ]
  },
  {
   "cell_type": "code",
   "execution_count": null,
   "id": "7e06c433",
   "metadata": {},
   "outputs": [],
   "source": [
    "tmp1"
   ]
  },
  {
   "cell_type": "code",
   "execution_count": null,
   "id": "b8ba0571",
   "metadata": {},
   "outputs": [],
   "source": [
    "tmp2"
   ]
  },
  {
   "cell_type": "code",
   "execution_count": null,
   "id": "95341098",
   "metadata": {},
   "outputs": [],
   "source": [
    "tmp4 = pd.DataFrame.transpose(tmp2)"
   ]
  },
  {
   "cell_type": "code",
   "execution_count": null,
   "id": "d5fcbc67",
   "metadata": {},
   "outputs": [],
   "source": [
    "tmp3"
   ]
  },
  {
   "cell_type": "code",
   "execution_count": null,
   "id": "9fae09d9",
   "metadata": {},
   "outputs": [],
   "source": [
    "#color for stack bars for the disease groups matching the other bar graphs\n",
    "#F08080 - light coral\n",
    "#87CEFA - lightskyblue\n",
    "#D3D3D3 - lightgrey\n",
    "\n",
    "pretty_colors = ['#F08080','#87CEFA','#D3D3D3']\n",
    "color_pal = sb.color_palette(pretty_colors)\n",
    "\n",
    "tmp4.plot.bar(stacked=True,color=colour_palette['colour'], rot=0, figsize=(4, 4)).legend(bbox_to_anchor=(1, 1)) #use figsize=(16,6) for ROI"
   ]
  },
  {
   "cell_type": "code",
   "execution_count": null,
   "id": "913d6279",
   "metadata": {},
   "outputs": [],
   "source": [
    "compression_opts = dict(method='zip',\n",
    "                         archive_name='EC_ROI_composition_per_cluster.csv') \n",
    "tmp1.to_csv('EC1.zip', index=True, compression=compression_opts)\n",
    "\n",
    "compression_opts = dict(method='zip',\n",
    "                         archive_name='EC_cluster_composition_per_ROI.csv') \n",
    "tmp2.to_csv('EC2.zip', index=True, compression=compression_opts)\n",
    "\n",
    "compression_opts = dict(method='zip',\n",
    "                         archive_name='EC_number_per_cluster.csv') \n",
    "tmp3.to_csv('EC3.zip', index=True, compression=compression_opts)"
   ]
  },
  {
   "cell_type": "code",
   "execution_count": null,
   "id": "b849147b",
   "metadata": {},
   "outputs": [],
   "source": [
    "graph = sb.lmplot(data = adata_endothelium_3.obs, x = 'X_loc',y='Y_loc',hue ='endothelial_pop', height = 6, col = 'ROI', col_wrap = 4,fit_reg = False)"
   ]
  },
  {
   "cell_type": "code",
   "execution_count": null,
   "id": "c8f4707b",
   "metadata": {},
   "outputs": [],
   "source": [
    "graph.savefig('Endothelial_mapping.png')"
   ]
  },
  {
   "cell_type": "code",
   "execution_count": null,
   "id": "54402f8f",
   "metadata": {},
   "outputs": [],
   "source": [
    "# export everything except the data using `.write_csvs`.\n",
    "# Set `skip_data=False` if you also want to export the data.\n",
    "adata_endothelium_3.write_csvs(dirname='./Analysis_iteration3/All_data_v2_noDNAphysicalparam/ASTIR/EC_clusters/Annotated_EC_clusters', skip_data=False)"
   ]
  },
  {
   "cell_type": "code",
   "execution_count": null,
   "id": "238433df",
   "metadata": {},
   "outputs": [],
   "source": [
    "adata_endothelium_3.write"
   ]
  },
  {
   "cell_type": "code",
   "execution_count": null,
   "id": "59842f61",
   "metadata": {},
   "outputs": [],
   "source": [
    "# Grouped bar plot with Pandas\n",
    "cells = pd.crosstab([adata_endothelium_4.obs['Type'], adata_endothelium_4.obs['ROI']],adata_endothelium_4.obs['endothelial_pop'])\n",
    "cells.columns=cells.columns.astype('str')     \n",
    "cells_long = cells.reset_index().melt(id_vars=['Type','ROI'])\n",
    "    \n",
    "fig, ax = plt.subplots(figsize=(4,4))\n",
    "sb.barplot(data = cells_long, y = \"value\", x = 'endothelial_pop', hue='Type', width=0.8, palette = pretty_colors2, ci=68, ax=ax, saturation=1, capsize=.1, errcolor=\".0\", linewidth=2, edgecolor=\".0\")\n",
    "ax.set_xticklabels(ax.get_xticklabels(),rotation = 90, fontsize = 18)\n",
    "ax.set_ylabel('Cells/mm2')\n",
    "ax.legend(bbox_to_anchor=(1.01, 1))"
   ]
  },
  {
   "cell_type": "code",
   "execution_count": null,
   "id": "cd51271e",
   "metadata": {},
   "outputs": [],
   "source": [
    "# Alter this list with adata.obs variables that you want to plot against the resulting leiden population\n",
    "image_var = 'ROI'\n",
    "\n",
    "for i in ['Type']:\n",
    "\n",
    "    mikeimc_v2.grouped_graph(adata_endothelium_4,\n",
    "                             ROI_id=image_var,\n",
    "                             group_by_obs=i,\n",
    "                             x_axis='endothelial_pop',\n",
    "                             fig_size=(8, 4),\n",
    "                             log_scale=False, scale_factor=True,\n",
    "                            display_tables=True) #If you change display_tables to True, will also do stats on the groups\n",
    "    plt.show()"
   ]
  },
  {
   "cell_type": "code",
   "execution_count": null,
   "id": "02735461",
   "metadata": {},
   "outputs": [],
   "source": []
  },
  {
   "cell_type": "markdown",
   "id": "db87c324",
   "metadata": {},
   "source": [
    "# Analysis of Epithelial cells"
   ]
  },
  {
   "cell_type": "code",
   "execution_count": null,
   "id": "95a2f926",
   "metadata": {},
   "outputs": [],
   "source": [
    "#Calculate neighbors\n",
    "sc.pp.neighbors(adata_epithelial_3, n_neighbors=100)\n",
    "\n",
    "#Calculate UMAP\n",
    "sc.tl.umap(adata_epithelial_3)"
   ]
  },
  {
   "cell_type": "code",
   "execution_count": null,
   "id": "71fd4609",
   "metadata": {},
   "outputs": [],
   "source": [
    "#Plot UMAP\n",
    "sc.pl.umap(adata_epithelial_3, color=['ROI'], size=20, save='_epithelial_ROI_v2.pdf')"
   ]
  },
  {
   "cell_type": "code",
   "execution_count": null,
   "id": "de7c5911",
   "metadata": {},
   "outputs": [],
   "source": [
    "#Plot UMAP\n",
    "sc.pl.umap(adata_epithelial_3, color=['Type'], size=20, save='_epithelial_Type_v2.pdf')"
   ]
  },
  {
   "cell_type": "code",
   "execution_count": null,
   "id": "4bf297f1",
   "metadata": {},
   "outputs": [],
   "source": [
    "#Plot UMAP for each marker\n",
    "sc.pl.umap(adata_epithelial_3, color=adata_epithelial_3.var_names, size=40, save='_epithelial_Markers_v2.pdf')"
   ]
  },
  {
   "cell_type": "code",
   "execution_count": null,
   "id": "ca922134",
   "metadata": {},
   "outputs": [],
   "source": [
    "#Run PCA\n",
    "sc.tl.pca(adata_epithelial_3)\n",
    "\n",
    "#Calculate tSNE\n",
    "sc.tl.tsne(adata_epithelial_3)"
   ]
  },
  {
   "cell_type": "code",
   "execution_count": null,
   "id": "77a6f74a",
   "metadata": {},
   "outputs": [],
   "source": [
    "#Plot tSNE \n",
    "sc.pl.tsne(adata_epithelial_3, color=['ROI'], save='_epithelial_ROI_v2.pdf')"
   ]
  },
  {
   "cell_type": "code",
   "execution_count": null,
   "id": "e1c2cf4f",
   "metadata": {},
   "outputs": [],
   "source": [
    "#Plot tSNE \n",
    "sc.pl.tsne(adata_epithelial_3, color=['Type'], save='_epithelial_cases_v2.pdf')"
   ]
  },
  {
   "cell_type": "code",
   "execution_count": null,
   "id": "9ceb4c7f",
   "metadata": {},
   "outputs": [],
   "source": [
    "#Plot tSNE for each marker\n",
    "sc.pl.tsne(adata_epithelial_3, color=adata_epithelial_3.var_names, save='_epithelial_Markers_v2.pdf')"
   ]
  },
  {
   "cell_type": "code",
   "execution_count": null,
   "id": "3f23f320",
   "metadata": {},
   "outputs": [],
   "source": [
    "#Run PhenoGraph\n",
    "sce.tl.phenograph(adata_epithelial_3, clustering_algo=\"louvain\", k=200, seed=1234)"
   ]
  },
  {
   "cell_type": "code",
   "execution_count": null,
   "id": "b41be69f",
   "metadata": {},
   "outputs": [],
   "source": [
    "#Plot PhenoGraph on tSNE\n",
    "sc.pl.tsne(adata_epithelial_3, color = \"pheno_louvain\", s = 100, legend_fontsize = 10, size=2, save='_epithelial_PhenoLouvain_v2.pdf')"
   ]
  },
  {
   "cell_type": "code",
   "execution_count": null,
   "id": "3210007f",
   "metadata": {},
   "outputs": [],
   "source": [
    "#Plot PhenoGraph on UMAP\n",
    "sc.pl.umap(adata_epithelial_3, color = \"pheno_louvain\", s = 100, legend_fontsize = 10, size=2, save='_epithelial_PhenoLouvain_v2.pdf')"
   ]
  },
  {
   "cell_type": "code",
   "execution_count": null,
   "id": "6943bc41",
   "metadata": {},
   "outputs": [],
   "source": [
    "#Plot heatmap of epithelial clusters\n",
    "sc.tl.dendrogram(adata_epithelial_3, groupby = 'pheno_louvain')\n",
    "sc.pl.heatmap(adata_epithelial_3, adata_epithelial_3.var_names, groupby='pheno_louvain', vmax=0.75, swap_axes=True, dendrogram=True, save='_epithelial_PhenoLouvain_clustered_v2.pdf')"
   ]
  },
  {
   "cell_type": "code",
   "execution_count": null,
   "id": "ccdb9dd1",
   "metadata": {},
   "outputs": [],
   "source": [
    "#Plot scaled heatmap\n",
    "adata_epithelial_norm2 = adata_epithelial_3.copy()\n",
    "sc.pp.scale(adata_epithelial_norm2, max_value=2,  zero_center=True)\n",
    "sc.tl.dendrogram(adata_epithelial_norm2, groupby = 'pheno_louvain')\n",
    "sc.pl.heatmap(adata_epithelial_norm2, adata_epithelial_norm2.var_names, groupby='pheno_louvain', swap_axes=True, dendrogram=True, save='_scaled_epithelial_PhenoLouvain_clustered_v2.pdf')"
   ]
  },
  {
   "cell_type": "code",
   "execution_count": null,
   "id": "729af393",
   "metadata": {},
   "outputs": [],
   "source": [
    "#Compute a ranking for the highly differential markers in each cluster\n",
    "sc.tl.rank_genes_groups(adata_epithelial_3, 'pheno_louvain', method='t-test')\n",
    "sc.pl.rank_genes_groups(adata_epithelial_3, n_genes=10, sharey=False, save='rank_markers_epithelial_PhenoLouvain_v2.pdf')"
   ]
  },
  {
   "cell_type": "code",
   "execution_count": null,
   "id": "6e3e9ddb",
   "metadata": {},
   "outputs": [],
   "source": [
    "#Population distribution\n",
    "\n",
    "from importlib import reload\n",
    "\n",
    "mimc = reload(mimc)\n",
    "mimc.pop_distribution(adata_epithelial_3,'pheno_louvain',['ROI','Type'])"
   ]
  },
  {
   "cell_type": "code",
   "execution_count": null,
   "id": "98c65843",
   "metadata": {},
   "outputs": [],
   "source": [
    "#Annotate clusters in a dictionary file\n",
    "#Load the merged clusters and map to the anndata file\n",
    "\n",
    "# Mapping the phenograph populations onto the new/merged population labels\n",
    "\n",
    "epithelial_dict = pd.read_csv('mikeimc_approach/Dictionaries/covid_epithelial_dict.csv')\n",
    "ep = epithelial_dict.set_index('pheno_louvain').to_dict()\n",
    "\n",
    "adata_epithelial_3.obs['epithelial_pop']=adata_epithelial_3.obs['pheno_louvain'].map(ep['Epithelial_Class'])\n",
    "\n",
    "adata_epithelial_3.obs['epithelial_pop']=adata_epithelial_3.obs['epithelial_pop'].astype('category')"
   ]
  },
  {
   "cell_type": "code",
   "execution_count": null,
   "id": "21c8c26c",
   "metadata": {},
   "outputs": [],
   "source": [
    "mimc.pop_distribution(adata_epithelial_3,'epithelial_pop',['ROI','Case','Type'])"
   ]
  },
  {
   "cell_type": "code",
   "execution_count": null,
   "id": "38a71969",
   "metadata": {},
   "outputs": [],
   "source": [
    "#Plot heatmap of epithelial clusters\n",
    "sc.tl.dendrogram(adata_epithelial_3, groupby = 'epithelial_pop')\n",
    "sc.pl.heatmap(adata_epithelial_3, adata_epithelial_3.var_names,vmax=0.75, groupby='epithelial_pop', swap_axes=False, dendrogram=True, save='_epithelial_annotated_clustered_v2.pdf')"
   ]
  },
  {
   "cell_type": "code",
   "execution_count": null,
   "id": "2c79043d",
   "metadata": {},
   "outputs": [],
   "source": [
    "#Plot scaled heatmap\n",
    "adata_epithelial_norm3 = adata_epithelial_3.copy()\n",
    "sc.pp.scale(adata_epithelial_norm3, max_value=2,  zero_center=True)\n",
    "sc.tl.dendrogram(adata_epithelial_norm3, groupby = 'epithelial_pop')\n",
    "sc.pl.heatmap(adata_epithelial_norm3, adata_epithelial_norm3.var_names, groupby='epithelial_pop', swap_axes=False, dendrogram=True, save='_scaled_epithelial_annotated_clustered_v2.pdf')"
   ]
  },
  {
   "cell_type": "code",
   "execution_count": null,
   "id": "be348c45",
   "metadata": {},
   "outputs": [],
   "source": [
    "#Compute a ranking for the highly differential markers in each cluster\n",
    "sc.tl.rank_genes_groups(adata_epithelial_3, 'epithelial_pop', reference='rest', method='wilcoxon', corr_method='benjamini-hochberg', pts=True)\n",
    "sc.pl.rank_genes_groups(adata_epithelial_3, n_genes=10, sharey=False, save='rank_markers_epithelial_annotated.pdf')"
   ]
  },
  {
   "cell_type": "code",
   "execution_count": null,
   "id": "f0e5259b",
   "metadata": {},
   "outputs": [],
   "source": [
    "#Get a table with the scores and groups. see p-values\n",
    "result = adata_epithelial_3.uns['rank_genes_groups']\n",
    "groups = result['names'].dtype.names\n",
    "df_ec = pd.DataFrame(\n",
    "    {group + '_' + key[:1]: result[key][group]\n",
    "    for group in groups for key in ['names', 'pvals_adj', 'scores','logfoldchanges']}).head(10)\n",
    "df_ec"
   ]
  },
  {
   "cell_type": "code",
   "execution_count": null,
   "id": "3bbf8502",
   "metadata": {},
   "outputs": [],
   "source": [
    "compression_opts = dict(method='zip',\n",
    "                         archive_name='Rank_markers_epithelial_annotated_clusters.csv') \n",
    "df_ec.to_csv('out.zip', index=False, compression=compression_opts)"
   ]
  },
  {
   "cell_type": "code",
   "execution_count": null,
   "id": "8b3057ad",
   "metadata": {},
   "outputs": [],
   "source": [
    "sc.pl.rank_genes_groups_violin(adata_epithelial_3, n_genes=5, save='top5_DE_markers_wilcoxon.png')"
   ]
  },
  {
   "cell_type": "code",
   "execution_count": null,
   "id": "a1f2b076",
   "metadata": {},
   "outputs": [],
   "source": [
    "sc.pl.rank_genes_groups_violin(adata_epithelial_3, groups=['Virus-infected Epithelial cell'], split=False, gene_names=['GranzymeB'], save='GranzymeB_expression_wilcoxon.pdf')"
   ]
  },
  {
   "cell_type": "code",
   "execution_count": null,
   "id": "7d51cd31",
   "metadata": {
    "scrolled": true
   },
   "outputs": [],
   "source": [
    "sc.pl.rank_genes_groups_matrixplot(adata_epithelial_3, n_genes=6, values_to_plot='logfoldchanges', swap_axes=True, cmap='bwr', save='epithelial_logFC_wilcoxon.png')"
   ]
  },
  {
   "cell_type": "code",
   "execution_count": null,
   "id": "3a68fb7d",
   "metadata": {},
   "outputs": [],
   "source": [
    "sc.pl.rank_genes_groups_dotplot(adata_epithelial_3, var_names=['SARSCoV2','MHCI', 'MHCII', 'CD74', 'CD107a', 'GranzymeB'], values_to_plot='logfoldchanges', swap_axes=True, cmap='bwr', save='epithelial_specificmarkers_logFC_wilcoxon.pdf')"
   ]
  },
  {
   "cell_type": "code",
   "execution_count": null,
   "id": "d7ce3169",
   "metadata": {},
   "outputs": [],
   "source": [
    "#Plot PhenoGraph on UMAP\n",
    "sc.pl.umap(adata_epithelial_3, color = \"epithelial_pop\", s = 5, legend_fontsize = 12, legend_fontweight='semibold',legend_loc='on data',frameon=False, size=10, save='_epithelial_annotated_v2.pdf')\n",
    "\n",
    "#Plot henoGraph on tSNE\n",
    "#sc.pl.tsne(adata_epithelial_3, color = \"epithelial_pop\", s = 100, legend_fontsize = 10, legend_fontweight='semibold',legend_loc='on data', size=2, save='_epithelial_annotated_v2.pdf')"
   ]
  },
  {
   "cell_type": "code",
   "execution_count": null,
   "id": "1820f228",
   "metadata": {},
   "outputs": [],
   "source": [
    "#Mapping out the coarse-grained connectivity structures of complex manifolds\n",
    "#By quantifying the connectivity of partitions (groups, clusters) of the single-cell graph, \n",
    "#partition-based graph abstraction (PAGA) generates a much simpler abstracted graph (PAGA graph) of partitions,\n",
    "#in which edge weights represent confidence in the presence of connections.\n",
    "\n",
    "#Calculate PAGA\n",
    "sc.tl.paga(adata_epithelial_3, groups='epithelial_pop')"
   ]
  },
  {
   "cell_type": "code",
   "execution_count": null,
   "id": "83edd1e2",
   "metadata": {},
   "outputs": [],
   "source": [
    "sc.pl.paga(adata_epithelial_3, color=['epithelial_pop'], node_size_scale=1, node_size_power=1, edge_width_scale=0.8, fontweight='normal',fontsize=8, save='Epithelial_pop.pdf', threshold=0.15)"
   ]
  },
  {
   "cell_type": "code",
   "execution_count": null,
   "id": "8eb4acca",
   "metadata": {},
   "outputs": [],
   "source": [
    "markers=['SARSCoV2','MHCI','MHCII','CD74',\n",
    "       'CD107a','GranzymeB']\n",
    "for i in markers:\n",
    "    sc.pl.paga(adata_epithelial_3, color=i, title=i, node_size_scale=1, node_size_power=1, edge_width_scale=0.8, fontweight='normal', fontsize=8, cmap='viridis', save=i, threshold=0.15)"
   ]
  },
  {
   "cell_type": "code",
   "execution_count": null,
   "id": "41af3271",
   "metadata": {},
   "outputs": [],
   "source": [
    "#Force-directed graph drawing\n",
    "#An alternative to tSNE that often preserves the topology of the data better\n",
    "sc.tl.draw_graph(adata_epithelial_3, init_pos='paga', layout='fa')"
   ]
  },
  {
   "cell_type": "code",
   "execution_count": null,
   "id": "3f7575e2",
   "metadata": {},
   "outputs": [],
   "source": [
    "# Single cell graph\n",
    "sc.pl.draw_graph(adata_epithelial_3, layout='fa', color=['epithelial_pop','SARSCoV2','MHCI','MHCII','CD74','CD107a','GranzymeB', 'ClvCaspase3'], legend_fontsize=10, legend_fontweight='semibold',legend_loc='on data', ncols=1, size=20, frameon=True, save=\"_Epithelial.pdf\")"
   ]
  },
  {
   "cell_type": "code",
   "execution_count": null,
   "id": "da5b7e56",
   "metadata": {},
   "outputs": [],
   "source": [
    "adata_epithelial_3.uns['iroot'] = np.flatnonzero(adata_epithelial_3.obs['epithelial_pop']  == 'Epithelial cell')[0]\n",
    "sc.tl.dpt(adata_epithelial_3)\n",
    "sc.pl.draw_graph(adata_epithelial_3, color=['dpt_pseudotime'], legend_fontsize=8, legend_fontweight='semibold',legend_loc='on data', ncols=1, size=20,vmax=0.75, frameon=True, save='_pseudotime_ve_EC.pdf')"
   ]
  },
  {
   "cell_type": "code",
   "execution_count": null,
   "id": "abdfbb2c",
   "metadata": {},
   "outputs": [],
   "source": [
    "adata_epithelial_4 = adata_epithelial_3[~adata_epithelial_3.obs['Type'].isin(['Non_COVID'])]"
   ]
  },
  {
   "cell_type": "code",
   "execution_count": null,
   "id": "feb45b6b",
   "metadata": {},
   "outputs": [],
   "source": [
    "#stack bar code and extracting number of cells, distribution of each cluster per case or the cluster composition per case\n",
    "#for number of cells - don't use normalize\n",
    "#for distribution of each case per cluster - use normalize = \"index\"\n",
    "#for cluster composition per case - use normalize = \"columns\"\n",
    "tmp1 = pd.crosstab(adata_epithelial_3.obs['epithelial_pop'],adata_epithelial_3.obs['ROI'], margins=False, margins_name='Total', normalize=\"index\")\n",
    "tmp2 = pd.crosstab(adata_epithelial_4.obs['epithelial_pop'],adata_epithelial_4.obs['Type'], margins=False, margins_name='Total', normalize=\"columns\")\n",
    "tmp3 = pd.crosstab(adata_epithelial_3.obs['epithelial_pop'],adata_epithelial_3.obs['ROI'], margins=True, margins_name='Total')"
   ]
  },
  {
   "cell_type": "code",
   "execution_count": null,
   "id": "3df2587d",
   "metadata": {},
   "outputs": [],
   "source": [
    "tmp1"
   ]
  },
  {
   "cell_type": "code",
   "execution_count": null,
   "id": "55bcc9cf",
   "metadata": {},
   "outputs": [],
   "source": [
    "tmp2"
   ]
  },
  {
   "cell_type": "code",
   "execution_count": null,
   "id": "35512c9b",
   "metadata": {},
   "outputs": [],
   "source": [
    "tmp4 = pd.DataFrame.transpose(tmp2)"
   ]
  },
  {
   "cell_type": "code",
   "execution_count": null,
   "id": "63c8b056",
   "metadata": {},
   "outputs": [],
   "source": [
    "tmp3"
   ]
  },
  {
   "cell_type": "code",
   "execution_count": null,
   "id": "f61566bc",
   "metadata": {},
   "outputs": [],
   "source": [
    "compression_opts = dict(method='zip',\n",
    "                         archive_name='Epithelial_ROI_composition_cluster.csv') \n",
    "tmp1.to_csv('Epithelial1.zip', index=True, compression=compression_opts)\n",
    "\n",
    "compression_opts = dict(method='zip',\n",
    "                         archive_name='Epithelial_cluster_composition_ROI.csv') \n",
    "tmp2.to_csv('Epithelial2.zip', index=True, compression=compression_opts)\n",
    "\n",
    "compression_opts = dict(method='zip',\n",
    "                         archive_name='Epithelial_number_epithelial_cell_per_ROI.csv') \n",
    "tmp3.to_csv('Epithelial3.zip', index=True, compression=compression_opts)"
   ]
  },
  {
   "cell_type": "code",
   "execution_count": null,
   "id": "d30783c4",
   "metadata": {
    "scrolled": true
   },
   "outputs": [],
   "source": [
    "#color for stack bars for the disease groups matching the other bar graphs\n",
    "#F08080 - light coral\n",
    "#87CEFA - lightskyblue\n",
    "#D3D3D3 - lightgrey\n",
    "\n",
    "pretty_colors = ['#F08080','#87CEFA','#D3D3D3']\n",
    "color_pal = sb.color_palette('Paired')\n",
    "\n",
    "tmp4.plot.bar(stacked=True,color=colour_palette['colour'], rot=0, figsize=(4, 4)).legend(bbox_to_anchor=(1, 1)) #use figsize=(16,6) for ROI"
   ]
  },
  {
   "cell_type": "code",
   "execution_count": null,
   "id": "f0ef58ae",
   "metadata": {},
   "outputs": [],
   "source": [
    "graph = sb.lmplot(data = adata_epithelial_3.obs, x = 'X_loc',y='Y_loc',hue ='epithelial_pop', height = 6, col = 'ROI', col_wrap = 4,fit_reg = False)"
   ]
  },
  {
   "cell_type": "code",
   "execution_count": null,
   "id": "e020615b",
   "metadata": {},
   "outputs": [],
   "source": [
    "graph.savefig('Epithelial_mapping.png')"
   ]
  },
  {
   "cell_type": "code",
   "execution_count": null,
   "id": "e7e8d646",
   "metadata": {},
   "outputs": [],
   "source": [
    "# export everything except the data using `.write_csvs`.\n",
    "# Set `skip_data=False` if you also want to export the data.\n",
    "adata_epithelial_3.write_csvs(dirname='./Analysis_iteration3/All_data_v2_noDNAphysicalparam/ASTIR/Epithelial_clusters/Annotated_Epithelial_clusters', skip_data=False)"
   ]
  },
  {
   "cell_type": "code",
   "execution_count": null,
   "id": "73be66d0",
   "metadata": {},
   "outputs": [],
   "source": [
    "# Grouped bar plot with Pandas\n",
    "cells = pd.crosstab([adata_epithelial_4.obs['Type'], adata_epithelial_4.obs['ROI']],adata_epithelial_4.obs['epithelial_pop'])\n",
    "cells.columns=cells.columns.astype('str')     \n",
    "cells_long = cells.reset_index().melt(id_vars=['Type','ROI'])\n",
    "    \n",
    "fig, ax = plt.subplots(figsize=(4,4))\n",
    "sb.barplot(data = cells_long, y = \"value\", x = 'epithelial_pop', hue='Type', width=0.8, palette = pretty_colors2, ci=68, ax=ax, saturation=1, capsize=.1, errcolor=\".0\", linewidth=2, edgecolor=\".0\")\n",
    "ax.set_xticklabels(ax.get_xticklabels(),rotation = 90, fontsize = 18)\n",
    "ax.set_ylabel('Cells/mm2')\n",
    "ax.legend(bbox_to_anchor=(0.42, 1))"
   ]
  },
  {
   "cell_type": "code",
   "execution_count": null,
   "id": "5b39b79b",
   "metadata": {},
   "outputs": [],
   "source": [
    "# Alter this list with adata.obs variables that you want to plot against the resulting leiden population\n",
    "image_var = 'ROI'\n",
    "\n",
    "for i in ['Type']:\n",
    "\n",
    "    mikeimc_v2.grouped_graph(adata_epithelial_4,\n",
    "                             ROI_id=image_var,\n",
    "                             group_by_obs=i,\n",
    "                             x_axis='epithelial_pop',\n",
    "                             fig_size=(8, 4),\n",
    "                             log_scale=False, scale_factor=True,\n",
    "                            display_tables=True) #If you change display_tables to True, will also do stats on the groups\n",
    "    plt.show()"
   ]
  },
  {
   "cell_type": "code",
   "execution_count": null,
   "id": "885045f6",
   "metadata": {},
   "outputs": [],
   "source": []
  },
  {
   "cell_type": "markdown",
   "id": "64843c57",
   "metadata": {},
   "source": [
    "# Analysis of Fibroblast cells"
   ]
  },
  {
   "cell_type": "code",
   "execution_count": null,
   "id": "55082043",
   "metadata": {},
   "outputs": [],
   "source": [
    "adata_fibroblast_3"
   ]
  },
  {
   "cell_type": "code",
   "execution_count": null,
   "id": "cc6a3879",
   "metadata": {},
   "outputs": [],
   "source": [
    "#Calculate neighbors\n",
    "sc.pp.neighbors(adata_fibroblast_3, n_neighbors=100)\n",
    "\n",
    "#Calculate UMAP\n",
    "sc.tl.umap(adata_fibroblast_3)"
   ]
  },
  {
   "cell_type": "code",
   "execution_count": null,
   "id": "18509d35",
   "metadata": {},
   "outputs": [],
   "source": [
    "#Plot UMAP\n",
    "sc.pl.umap(adata_fibroblast_3, color=['ROI'], size=5, save='_fibroblast_ROI_v2.pdf')"
   ]
  },
  {
   "cell_type": "code",
   "execution_count": null,
   "id": "e519bdab",
   "metadata": {},
   "outputs": [],
   "source": [
    "#Plot UMAP\n",
    "sc.pl.umap(adata_fibroblast_3, color=['Type'], size=5, save='_fibroblast_Type_v2.pdf')"
   ]
  },
  {
   "cell_type": "code",
   "execution_count": null,
   "id": "bcd96435",
   "metadata": {},
   "outputs": [],
   "source": [
    "#Plot UMAP for each marker\n",
    "sc.pl.umap(adata_fibroblast_3, color=adata_fibroblast_3.var_names, size=20, save='_fibroblast_Markers_v2.pdf')"
   ]
  },
  {
   "cell_type": "code",
   "execution_count": null,
   "id": "5e2bb3f3",
   "metadata": {},
   "outputs": [],
   "source": [
    "#Run PCA\n",
    "sc.tl.pca(adata_fibroblast_3)\n",
    "\n",
    "#Calculate tSNE\n",
    "sc.tl.tsne(adata_fibroblast_3)"
   ]
  },
  {
   "cell_type": "code",
   "execution_count": null,
   "id": "eeb65792",
   "metadata": {},
   "outputs": [],
   "source": [
    "#Plot tSNE \n",
    "sc.pl.tsne(adata_fibroblast_3, color=['ROI'], save='_fibroblast_ROI_v2.pdf')"
   ]
  },
  {
   "cell_type": "code",
   "execution_count": null,
   "id": "2c0afc8c",
   "metadata": {},
   "outputs": [],
   "source": [
    "#Plot tSNE \n",
    "sc.pl.tsne(adata_fibroblast_3, color=['Type'], save='_fibroblast_cases_v2.pdf')"
   ]
  },
  {
   "cell_type": "code",
   "execution_count": null,
   "id": "ffade8d5",
   "metadata": {},
   "outputs": [],
   "source": [
    "#Plot tSNE for each marker\n",
    "sc.pl.tsne(adata_fibroblast_3, color=adata_fibroblast_3.var_names, save='_fibroblast_Markers_v2.pdf')"
   ]
  },
  {
   "cell_type": "code",
   "execution_count": null,
   "id": "54f44c8e",
   "metadata": {},
   "outputs": [],
   "source": [
    "#Run PhenoGraph\n",
    "sce.tl.phenograph(adata_fibroblast_3, clustering_algo=\"louvain\", k=200, seed=1)"
   ]
  },
  {
   "cell_type": "code",
   "execution_count": null,
   "id": "5d477411",
   "metadata": {},
   "outputs": [],
   "source": [
    "#Plot PhenoGraph on tSNE\n",
    "sc.pl.tsne(adata_fibroblast_3, color = \"pheno_louvain\", s = 100, legend_fontsize = 10, size=2, save='_fibroblast_PhenoLouvain_v2.pdf')"
   ]
  },
  {
   "cell_type": "code",
   "execution_count": null,
   "id": "a7168f6b",
   "metadata": {},
   "outputs": [],
   "source": [
    "#Plot PhenoGraph on UMAP\n",
    "sc.pl.umap(adata_fibroblast_3, color = \"pheno_louvain\", s = 100, legend_fontsize = 10, size=40, save='_fibroblast_PhenoLouvain_v2.pdf')"
   ]
  },
  {
   "cell_type": "code",
   "execution_count": null,
   "id": "91e58f7c",
   "metadata": {},
   "outputs": [],
   "source": [
    "#Plot heatmap of fibroblast clusters\n",
    "sc.tl.dendrogram(adata_fibroblast_3, groupby = 'pheno_louvain')\n",
    "sc.pl.heatmap(adata_fibroblast_3, adata_fibroblast_3.var_names, groupby='pheno_louvain', vmax=0.75, swap_axes=True, dendrogram=True, save='_fibroblast_PhenoLouvain_clustered_v2.pdf')"
   ]
  },
  {
   "cell_type": "code",
   "execution_count": null,
   "id": "5f502b9d",
   "metadata": {},
   "outputs": [],
   "source": [
    "#Plot scaled heatmap\n",
    "adata_fibroblast_norm2 = adata_fibroblast_3.copy()\n",
    "sc.pp.scale(adata_fibroblast_norm2, max_value=2,  zero_center=True)\n",
    "sc.tl.dendrogram(adata_fibroblast_norm2, groupby = 'pheno_louvain')\n",
    "sc.pl.heatmap(adata_fibroblast_norm2, adata_fibroblast_norm2.var_names, groupby='pheno_louvain', swap_axes=True, dendrogram=True, save='_scaled_fibroblast_PhenoLouvain_clustered_v2.pdf')"
   ]
  },
  {
   "cell_type": "code",
   "execution_count": null,
   "id": "92976e78",
   "metadata": {},
   "outputs": [],
   "source": [
    "#Compute a ranking for the highly differential markers in each cluster\n",
    "sc.tl.rank_genes_groups(adata_fibroblast_3, 'pheno_louvain', method='t-test')\n",
    "sc.pl.rank_genes_groups(adata_fibroblast_3, n_genes=10, sharey=False, save='rank_markers_fibroblast_PhenoLouvain_v2.pdf')"
   ]
  },
  {
   "cell_type": "code",
   "execution_count": null,
   "id": "095ec998",
   "metadata": {},
   "outputs": [],
   "source": [
    "#Population distribution\n",
    "\n",
    "from importlib import reload\n",
    "\n",
    "mimc = reload(mimc)\n",
    "mimc.pop_distribution(adata_fibroblast_3,'pheno_louvain',['ROI','Type'])"
   ]
  },
  {
   "cell_type": "code",
   "execution_count": null,
   "id": "5a1d6f50",
   "metadata": {},
   "outputs": [],
   "source": [
    "#Annotate clusters in a dictionary file\n",
    "#Load the merged clusters and map to the anndata file\n",
    "\n",
    "# Mapping the phenograph populations onto the new/merged population labels\n",
    "\n",
    "fibroblast_dict = pd.read_csv('mikeimc_approach/Dictionaries/covid_fibroblast_dict.csv')\n",
    "f = fibroblast_dict.set_index('pheno_louvain').to_dict()\n",
    "\n",
    "adata_fibroblast_3.obs['fibroblast_pop']=adata_fibroblast_3.obs['pheno_louvain'].map(f['Fibroblast_Class'])\n",
    "\n",
    "adata_fibroblast_3.obs['fibroblast_pop']=adata_fibroblast_3.obs['fibroblast_pop'].astype('category')"
   ]
  },
  {
   "cell_type": "code",
   "execution_count": null,
   "id": "e14dcab8",
   "metadata": {},
   "outputs": [],
   "source": [
    "#Population distribution\n",
    "\n",
    "from importlib import reload\n",
    "\n",
    "mimc = reload(mimc)\n",
    "mimc.pop_distribution(adata_fibroblast_3,'fibroblast_pop',['ROI', 'Case','Type'])"
   ]
  },
  {
   "cell_type": "code",
   "execution_count": null,
   "id": "5ba0ff35",
   "metadata": {},
   "outputs": [],
   "source": [
    "#Plot heatmap of fibroblast clusters\n",
    "sc.tl.dendrogram(adata_fibroblast_3, groupby = 'fibroblast_pop')\n",
    "sc.pl.heatmap(adata_fibroblast_3, adata_fibroblast_3.var_names, groupby='fibroblast_pop', swap_axes=False, dendrogram=True, save='_fibroblast_annotated_clustered_v2.pdf')"
   ]
  },
  {
   "cell_type": "code",
   "execution_count": null,
   "id": "19c2beba",
   "metadata": {},
   "outputs": [],
   "source": [
    "#Plot scaled heatmap\n",
    "adata_fibroblast_norm3 = adata_fibroblast_3.copy()\n",
    "sc.pp.scale(adata_fibroblast_norm3, max_value=2,  zero_center=True)\n",
    "sc.tl.dendrogram(adata_fibroblast_norm3, groupby = 'fibroblast_pop')\n",
    "sc.pl.heatmap(adata_fibroblast_norm3, adata_fibroblast_norm3.var_names, groupby='fibroblast_pop', swap_axes=False, dendrogram=True, save='_scaled_fibroblast_annotated_clustered_v2.pdf')"
   ]
  },
  {
   "cell_type": "code",
   "execution_count": null,
   "id": "e5e8873a",
   "metadata": {},
   "outputs": [],
   "source": [
    "#Compute a ranking for the highly differential markers in each cluster\n",
    "sc.tl.rank_genes_groups(adata_fibroblast_3, 'fibroblast_pop', reference='rest', method='wilcoxon', corr_method='benjamini-hochberg', pts=True)\n",
    "sc.pl.rank_genes_groups(adata_fibroblast_3, n_genes=10, sharey=False, save='rank_markers_fibroblast_annotated_v2.pdf')"
   ]
  },
  {
   "cell_type": "code",
   "execution_count": null,
   "id": "8a633d45",
   "metadata": {},
   "outputs": [],
   "source": [
    "#Get a table with the scores and groups. see p-values\n",
    "result = adata_fibroblast_3.uns['rank_genes_groups']\n",
    "groups = result['names'].dtype.names\n",
    "df_fb = pd.DataFrame(\n",
    "    {group + '_' + key[:1]: result[key][group]\n",
    "    for group in groups for key in ['names', 'pvals_adj', 'scores','logfoldchanges']}).head(10)\n",
    "df_fb"
   ]
  },
  {
   "cell_type": "code",
   "execution_count": null,
   "id": "6b1a1e5c",
   "metadata": {},
   "outputs": [],
   "source": [
    "adata_fibroblast_3.uns['rank_genes_groups']"
   ]
  },
  {
   "cell_type": "code",
   "execution_count": null,
   "id": "32905292",
   "metadata": {},
   "outputs": [],
   "source": [
    "compression_opts = dict(method='zip',\n",
    "                         archive_name='Rank_markers_fibroblast_annotated_clusters.csv') \n",
    "df_ec.to_csv('out.zip', index=False, compression=compression_opts)"
   ]
  },
  {
   "cell_type": "code",
   "execution_count": null,
   "id": "84977461",
   "metadata": {},
   "outputs": [],
   "source": [
    "sc.pl.rank_genes_groups_violin(adata_fibroblast_3, n_genes=5, save='top5_DE_markers_wilcoxon.pdf')"
   ]
  },
  {
   "cell_type": "code",
   "execution_count": null,
   "id": "38c6e4ad",
   "metadata": {},
   "outputs": [],
   "source": [
    "sc.pl.rank_genes_groups_violin(adata_fibroblast_3, split=False, gene_names=['SARSCoV2'], save='SARSCoV2_expression_wilcoxon.pdf')"
   ]
  },
  {
   "cell_type": "code",
   "execution_count": null,
   "id": "012a4553",
   "metadata": {},
   "outputs": [],
   "source": [
    "sc.pl.rank_genes_groups_matrixplot(adata_fibroblast_3, n_genes=6, values_to_plot='logfoldchanges', swap_axes=True, cmap='bwr', save='fibroblast_logFC_wilcoxon.pdf')"
   ]
  },
  {
   "cell_type": "code",
   "execution_count": null,
   "id": "62c5faea",
   "metadata": {},
   "outputs": [],
   "source": [
    "sc.pl.rank_genes_groups_dotplot(adata_fibroblast_3, var_names=['Collagen1', 'SMA','SARSCoV2', 'ClvCaspase3'], values_to_plot='logfoldchanges', swap_axes=True, cmap='bwr', save='fibroblast_specificmarkers_logFC_wilcoxon.pdf')"
   ]
  },
  {
   "cell_type": "code",
   "execution_count": null,
   "id": "b77166bc",
   "metadata": {},
   "outputs": [],
   "source": [
    "#Plot PhenoGraph on UMAP\n",
    "sc.pl.umap(adata_fibroblast_3, color = \"fibroblast_pop\", s = 5, legend_fontsize = 12, legend_fontweight='semibold',legend_loc='on data', size=5, frameon=False, save='_fibroblast_annotated_v2.pdf')\n",
    "\n",
    "#Plot PhenoGraph on tSNE\n",
    "#sc.pl.tsne(adata_fibroblast_3, color = \"fibroblast_pop\", s = 100, legend_fontsize = 10, legend_fontweight='semibold',legend_loc='on data', size=3, save='_fibroblast_annotated_v2.pdf')"
   ]
  },
  {
   "cell_type": "code",
   "execution_count": null,
   "id": "00d48f9a",
   "metadata": {},
   "outputs": [],
   "source": [
    "adata_fibroblast_4 = adata_fibroblast_3[~adata_fibroblast_3.obs['Type'].isin(['Non_COVID'])]"
   ]
  },
  {
   "cell_type": "code",
   "execution_count": null,
   "id": "d9011b6c",
   "metadata": {},
   "outputs": [],
   "source": [
    "#stack bar code and extracting number of cells, distribution of each cluster per case or the cluster composition per case\n",
    "#for number of cells - don't use normalize\n",
    "#for distribution of each case per cluster - use normalize = \"index\"\n",
    "#for cluster composition per case - use normalize = \"columns\"\n",
    "tmp1 = pd.crosstab(adata_fibroblast_3.obs['fibroblast_pop'],adata_fibroblast_3.obs['ROI'], margins=False, margins_name='Total', normalize=\"index\")\n",
    "tmp2 = pd.crosstab(adata_fibroblast_4.obs['fibroblast_pop'],adata_fibroblast_4.obs['Type'], margins=False, margins_name='Total', normalize=\"columns\")\n",
    "tmp3 = pd.crosstab(adata_fibroblast_3.obs['fibroblast_pop'],adata_fibroblast_3.obs['ROI'], margins=True, margins_name='Total')"
   ]
  },
  {
   "cell_type": "code",
   "execution_count": null,
   "id": "f0f326b1",
   "metadata": {},
   "outputs": [],
   "source": [
    "tmp1"
   ]
  },
  {
   "cell_type": "code",
   "execution_count": null,
   "id": "9b183fd4",
   "metadata": {},
   "outputs": [],
   "source": [
    "tmp2"
   ]
  },
  {
   "cell_type": "code",
   "execution_count": null,
   "id": "3c5875b7",
   "metadata": {},
   "outputs": [],
   "source": [
    "tmp4 = pd.DataFrame.transpose(tmp2)"
   ]
  },
  {
   "cell_type": "code",
   "execution_count": null,
   "id": "f8e64873",
   "metadata": {},
   "outputs": [],
   "source": [
    "tmp3"
   ]
  },
  {
   "cell_type": "code",
   "execution_count": null,
   "id": "ca33e5b6",
   "metadata": {},
   "outputs": [],
   "source": [
    "tmp1 = tmp1.reindex(['Apoptotic Fibroblast','ColHigh Fibroblast','ColLow Fibroblast','Apoptotic Myofibroblast', 'Myofibroblast'])\n",
    "tmp2 = tmp2.reindex(['Apoptotic Fibroblast','ColHigh Fibroblast','ColLow Fibroblast','Apoptotic Myofibroblast', 'Myofibroblast'])\n",
    "tmp3 = tmp3.reindex(['Apoptotic Fibroblast','ColHigh Fibroblast','ColLow Fibroblast','Apoptotic Myofibroblast', 'Myofibroblast']) "
   ]
  },
  {
   "cell_type": "code",
   "execution_count": null,
   "id": "abba2248",
   "metadata": {},
   "outputs": [],
   "source": [
    "compression_opts = dict(method='zip',\n",
    "                         archive_name='Fibroblast_ROI_composition_per_cluster.csv') \n",
    "tmp1.to_csv('Fibro1.zip', index=False, compression=compression_opts)"
   ]
  },
  {
   "cell_type": "code",
   "execution_count": null,
   "id": "625addd7",
   "metadata": {},
   "outputs": [],
   "source": [
    "compression_opts = dict(method='zip',\n",
    "                         archive_name='Fibroblast_cluster_composition_per_ROI.csv') \n",
    "tmp2.to_csv('Fibro2.zip', index=False, compression=compression_opts)"
   ]
  },
  {
   "cell_type": "code",
   "execution_count": null,
   "id": "87ee6f89",
   "metadata": {},
   "outputs": [],
   "source": [
    "compression_opts = dict(method='zip',\n",
    "                         archive_name='Fibroblast_number_per_cluster.csv') \n",
    "tmp3.to_csv('Fibro3.zip', index=False, compression=compression_opts)"
   ]
  },
  {
   "cell_type": "code",
   "execution_count": null,
   "id": "ec484f67",
   "metadata": {},
   "outputs": [],
   "source": [
    "#color for stack bars for the disease groups matching the other bar graphs\n",
    "#F08080 - light coral\n",
    "#87CEFA - lightskyblue\n",
    "#D3D3D3 - lightgrey\n",
    "\n",
    "pretty_colors = ['#F08080','#87CEFA','#D3D3D3']\n",
    "color_pal = sb.color_palette('Paired')\n",
    "\n",
    "tmp4.plot.bar(stacked=True,color=colour_palette['colour'], rot=0, figsize=(4, 4)).legend(bbox_to_anchor=(1, 1)) #use figsize=(16,6) for ROI"
   ]
  },
  {
   "cell_type": "code",
   "execution_count": null,
   "id": "d5b6aa86",
   "metadata": {},
   "outputs": [],
   "source": [
    "# Grouped bar plot with Pandas\n",
    "cells = pd.crosstab([adata_fibroblast_4.obs['Type'], adata_fibroblast_4.obs['ROI']],adata_fibroblast_4.obs['fibroblast_pop'])\n",
    "cells.columns=cells.columns.astype('str')     \n",
    "cells_long = cells.reset_index().melt(id_vars=['Type','ROI'])\n",
    "    \n",
    "fig, ax = plt.subplots(figsize=(4,4))\n",
    "sb.barplot(data = cells_long, y = \"value\", x = 'fibroblast_pop', hue='Type', width=0.8, palette = pretty_colors2, ci=68, ax=ax, saturation=1, capsize=.1, errcolor=\".0\", linewidth=2, edgecolor=\".0\")\n",
    "ax.set_xticklabels(ax.get_xticklabels(),rotation = 90, fontsize = 18)\n",
    "ax.set_ylabel('Cells/mm2')\n",
    "ax.legend(bbox_to_anchor=(0.42, 1))"
   ]
  },
  {
   "cell_type": "code",
   "execution_count": null,
   "id": "a35c91b7",
   "metadata": {},
   "outputs": [],
   "source": [
    "# Alter this list with adata.obs variables that you want to plot against the resulting leiden population\n",
    "image_var = 'ROI'\n",
    "\n",
    "for i in ['Type']:\n",
    "\n",
    "    mikeimc_v2.grouped_graph(adata_fibroblast_4,\n",
    "                             ROI_id=image_var,\n",
    "                             group_by_obs=i,\n",
    "                             x_axis='fibroblast_pop',\n",
    "                             fig_size=(8, 4),\n",
    "                             log_scale=False, scale_factor=True,\n",
    "                            display_tables=True) #If you change display_tables to True, will also do stats on the groups\n",
    "    plt.show()"
   ]
  },
  {
   "cell_type": "code",
   "execution_count": null,
   "id": "c3673754",
   "metadata": {},
   "outputs": [],
   "source": []
  },
  {
   "cell_type": "code",
   "execution_count": null,
   "id": "7fb4c849",
   "metadata": {},
   "outputs": [],
   "source": [
    "graph = sb.lmplot(data = adata_fibroblast_3.obs, x = 'X_loc',y='Y_loc',hue ='fibroblast_pop', height = 6, col = 'ROI', col_wrap = 4,fit_reg = False)"
   ]
  },
  {
   "cell_type": "code",
   "execution_count": null,
   "id": "cdc8808c",
   "metadata": {},
   "outputs": [],
   "source": [
    "graph.savefig('Fibroblast_spatial_mapping.png')"
   ]
  },
  {
   "cell_type": "code",
   "execution_count": null,
   "id": "9503d287",
   "metadata": {},
   "outputs": [],
   "source": [
    "# export everything except the data using `.write_csvs`.\n",
    "# Set `skip_data=False` if you also want to export the data.\n",
    "adata_fibroblast_3.write_csvs(dirname='./Analysis_iteration3/All_data_v2_noDNAphysicalparam/ASTIR/Fibroblasts_clusters/Annotated_Fibroblast_clusters', skip_data=False)"
   ]
  },
  {
   "cell_type": "markdown",
   "id": "b9650222",
   "metadata": {},
   "source": [
    "# Analysis of RBCs"
   ]
  },
  {
   "cell_type": "code",
   "execution_count": null,
   "id": "d7888b9c",
   "metadata": {},
   "outputs": [],
   "source": [
    "#Calculate neighbors\n",
    "sc.pp.neighbors(adata_RBC_3, n_neighbors=100)\n",
    "\n",
    "#Calculate UMAP\n",
    "sc.tl.umap(adata_RBC_3)"
   ]
  },
  {
   "cell_type": "code",
   "execution_count": null,
   "id": "3da3f30c",
   "metadata": {},
   "outputs": [],
   "source": [
    "#Plot UMAP\n",
    "sc.pl.umap(adata_RBC_3, color=['ROI'], save='_RBC_ROI_v2.pdf')\n",
    "#Plot UMAP\n",
    "sc.pl.umap(adata_RBC_3, color=['Type'], save='_RBC_Type_v2.pdf')\n",
    "#Plot UMAP for each marker\n",
    "sc.pl.umap(adata_RBC_3, color=adata_RBC_3.var_names, save='_RBC_Markers_v2.pdf')"
   ]
  },
  {
   "cell_type": "code",
   "execution_count": null,
   "id": "d39ce90e",
   "metadata": {},
   "outputs": [],
   "source": [
    "#Run PCA\n",
    "sc.tl.pca(adata_RBC_3)\n",
    "\n",
    "#Calculate tSNE\n",
    "sc.tl.tsne(adata_RBC_3)"
   ]
  },
  {
   "cell_type": "code",
   "execution_count": null,
   "id": "319c13cb",
   "metadata": {},
   "outputs": [],
   "source": [
    "#Run PhenoGraph\n",
    "sce.tl.phenograph(adata_RBC_3, clustering_algo=\"louvain\", k=200, seed=1)"
   ]
  },
  {
   "cell_type": "code",
   "execution_count": null,
   "id": "83327fbd",
   "metadata": {},
   "outputs": [],
   "source": [
    "#Plot heatmap of myeloid clusters\n",
    "sc.pl.heatmap(adata_RBC_3, adata_RBC_3.var_names, groupby='RBC_pop', vmax=0.75, swap_axes=True, dendrogram=False, save='_RBC_PhenoLouvain_clustered_v2.pdf')"
   ]
  },
  {
   "cell_type": "code",
   "execution_count": null,
   "id": "f2f582dc",
   "metadata": {},
   "outputs": [],
   "source": [
    "#Annotate clusters in a dictionary file\n",
    "#Load the merged clusters and map to the anndata file\n",
    "\n",
    "# Mapping the phenograph populations onto the new/merged population labels\n",
    "\n",
    "RBC_dict = pd.read_csv('mikeimc_approach/Dictionaries/covid_RBC_dict.csv')\n",
    "r = RBC_dict.set_index('pheno_louvain').to_dict()\n",
    "\n",
    "adata_RBC_3.obs['RBC_pop']=adata_RBC_3.obs['pheno_louvain'].map(r['RBC_Class'])\n",
    "\n",
    "adata_RBC_3.obs['RBC_pop']=adata_RBC_3.obs['RBC_pop'].astype('category')"
   ]
  },
  {
   "cell_type": "markdown",
   "id": "1d5fccbe",
   "metadata": {},
   "source": [
    "# Mapping all clusters back onto entire adata_subset and combining them all"
   ]
  },
  {
   "cell_type": "markdown",
   "id": "cd91a412",
   "metadata": {},
   "source": [
    "Extract the phenograph data from each cell type, and add on 'm' r 't' to distinguish them"
   ]
  },
  {
   "cell_type": "code",
   "execution_count": null,
   "id": "35de6458",
   "metadata": {},
   "outputs": [],
   "source": [
    "adata_myeloid_3.obs['final_cluster'] = adata_myeloid_3.obs['myeloid_pop'].astype(\"string\")\n",
    "adata_lymphoid_3.obs['final_cluster'] = adata_lymphoid_3.obs['lymphoid_pop'].astype(\"string\")\n",
    "adata_endothelium_3.obs['final_cluster']=adata_endothelium_3.obs['endothelial_pop'].astype(\"string\")\n",
    "adata_epithelial_3.obs['final_cluster']=adata_epithelial_3.obs['epithelial_pop'].astype(\"string\")\n",
    "adata_fibroblast_3.obs['final_cluster']=adata_fibroblast_3.obs['fibroblast_pop'].astype(\"string\")\n",
    "adata_RBC_3.obs['final_cluster']=adata_RBC_3.obs['RBC_pop'].astype(\"string\")"
   ]
  },
  {
   "cell_type": "markdown",
   "id": "3b974cb9",
   "metadata": {},
   "source": [
    "Add in the clusters to the original anndata"
   ]
  },
  {
   "cell_type": "code",
   "execution_count": null,
   "id": "64124efb",
   "metadata": {},
   "outputs": [],
   "source": [
    "#Combine the cell clusters lists\n",
    "phenograph_ids = pd.concat([adata_myeloid_3.obs[['Master_Index','final_cluster', ]],adata_lymphoid_3.obs[['Master_Index','final_cluster']],\n",
    "                            adata_endothelium_3.obs[['Master_Index','final_cluster']], adata_epithelial_3.obs[['Master_Index','final_cluster']],\n",
    "                            adata_fibroblast_3.obs[['Master_Index','final_cluster']], adata_RBC_3.obs[['Master_Index','final_cluster']]])\n",
    "\n",
    "#Map the list back onto the original cell list - some cell in original list may may not appear in these? E.g. other/unknown?\n",
    "phenograph_final = pd.merge(adata_subset3.obs['Master_Index'],phenograph_ids,how='left')\n",
    "\n",
    "#Add in the new observation\n",
    "adata_subset3.obs['pheno_cluster']=phenograph_final['final_cluster'].tolist()\n",
    "\n",
    "#Change type to categorical\n",
    "adata_subset3.obs['pheno_cluster']=adata_subset3.obs['pheno_cluster'].astype('category')"
   ]
  },
  {
   "cell_type": "code",
   "execution_count": null,
   "id": "c7695937",
   "metadata": {},
   "outputs": [],
   "source": [
    "adata_subset3"
   ]
  },
  {
   "cell_type": "code",
   "execution_count": null,
   "id": "1d2c6b48",
   "metadata": {},
   "outputs": [],
   "source": [
    "#rename x and y observations\n",
    "adata_subset3.obs.rename(columns={\"X\": \"X_loc\", \"Y\": \"Y_loc\"},inplace=True)"
   ]
  },
  {
   "cell_type": "code",
   "execution_count": null,
   "id": "12822f27",
   "metadata": {},
   "outputs": [],
   "source": [
    "#Re-annotation of the clusters in a dictionary file\n",
    "\n",
    "covid_dict = pd.read_csv('mikeimc_approach/Dictionaries/covid_pheno_cluster_edited_dict.csv')\n",
    "ep = covid_dict.set_index('pheno_cluster').to_dict()\n",
    "\n",
    "adata_subset3.obs['pheno_cluster_edited']=adata_subset3.obs['pheno_cluster'].map(ep['Cell_Class'])\n",
    "\n",
    "adata_subset3.obs['pheno_cluster_edited']=adata_subset3.obs['pheno_cluster_edited'].astype('category')"
   ]
  },
  {
   "cell_type": "code",
   "execution_count": null,
   "id": "e8761ca3",
   "metadata": {},
   "outputs": [],
   "source": [
    "col_df = pd.read_csv('mikeimc_approach/colours/pheno_colours2.csv')\n",
    "colour_palette = col_df.set_index('pheno_cluster_edited').to_dict()\n",
    "colour_palette['colour2']"
   ]
  },
  {
   "cell_type": "code",
   "execution_count": null,
   "id": "3e5ca9de",
   "metadata": {
    "scrolled": true
   },
   "outputs": [],
   "source": [
    "#Plot heatmap of all clusters\n",
    "sc.tl.dendrogram(adata_subset3, groupby = 'pheno_cluster')"
   ]
  },
  {
   "cell_type": "code",
   "execution_count": null,
   "id": "a88a52ef",
   "metadata": {},
   "outputs": [],
   "source": [
    "sc.pl.heatmap(adata_subset3, adata_subset3.var_names, figsize=(32,16), groupby='pheno_cluster', swap_axes=False, dendrogram=True, cmap=\"viridis\", save='_all_clusters_clustered.pdf')"
   ]
  },
  {
   "cell_type": "code",
   "execution_count": null,
   "id": "d57e7baf",
   "metadata": {},
   "outputs": [],
   "source": [
    "#Plot scaled heatmap\n",
    "adata_subset_norm = adata_subset3.copy()\n",
    "sc.pp.scale(adata_subset_norm, max_value=2,  zero_center=True)"
   ]
  },
  {
   "cell_type": "code",
   "execution_count": null,
   "id": "86079bf5",
   "metadata": {},
   "outputs": [],
   "source": [
    "sc.pl.heatmap(adata_subset_norm, adata_subset_norm, groupby='pheno_cluster', swap_axes=False, dendrogram=False, save='_scaled_all_clusters_clustered_v2.pdf')"
   ]
  },
  {
   "cell_type": "code",
   "execution_count": null,
   "id": "72cdac1c",
   "metadata": {},
   "outputs": [],
   "source": [
    "sc.pl.matrixplot(adata_subset3, adata_subset3.var_names, groupby='pheno_cluster_edited', vmax=0.75, dendrogram=True, save=True)"
   ]
  },
  {
   "cell_type": "code",
   "execution_count": null,
   "id": "3b1b711c",
   "metadata": {},
   "outputs": [],
   "source": [
    "mimc.pop_distribution(adata_subset3,'cell_type',['ROI','HEClass','Type','Case'])"
   ]
  },
  {
   "cell_type": "code",
   "execution_count": null,
   "id": "c2e23d03",
   "metadata": {},
   "outputs": [],
   "source": [
    "#Compute a ranking for the highly differential markers in each cluster\n",
    "sc.tl.rank_genes_groups(adata_subset3, 'pheno_cluster', reference='rest', method='wilcoxon', corr_method='benjamini-hochberg', pts=True)\n",
    "sc.pl.rank_genes_groups(adata_subset3, n_genes=10, sharey=False, save='rank_markers_clusters.pdf')"
   ]
  },
  {
   "cell_type": "code",
   "execution_count": null,
   "id": "19ba7c1c",
   "metadata": {},
   "outputs": [],
   "source": [
    "#Get a table with the scores and groups. see p-values\n",
    "result = adata_subset3.uns['rank_genes_groups']\n",
    "groups = result['names'].dtype.names\n",
    "df = pd.DataFrame(\n",
    "    {group + '_' + key[:1]: result[key][group]\n",
    "    for group in groups for key in ['names', 'pvals_adj', 'scores','logfoldchanges']}).head(10)\n",
    "df"
   ]
  },
  {
   "cell_type": "code",
   "execution_count": null,
   "id": "e91e01db",
   "metadata": {},
   "outputs": [],
   "source": [
    "compression_opts = dict(method='zip',\n",
    "                         archive_name='Rank_markers_all_clusters.csv') \n",
    "df.to_csv('out.zip', index=False, compression=compression_opts)"
   ]
  },
  {
   "cell_type": "code",
   "execution_count": null,
   "id": "903aaf54",
   "metadata": {},
   "outputs": [],
   "source": [
    "sc.pl.rank_genes_groups_violin(adata_subset3, n_genes=5, save='top5_DE_markers_wilcoxon.pdf')"
   ]
  },
  {
   "cell_type": "code",
   "execution_count": null,
   "id": "87034e32",
   "metadata": {},
   "outputs": [],
   "source": [
    "sc.pl.rank_genes_groups_violin(adata_subset3, split=False, gene_names=['SARSCoV2'], save='SARSCoV2_expression_wilcoxon.pdf')"
   ]
  },
  {
   "cell_type": "code",
   "execution_count": null,
   "id": "b374734a",
   "metadata": {},
   "outputs": [],
   "source": [
    "sc.pl.rank_genes_groups_matrixplot(adata_subset3, n_genes=6, values_to_plot='logfoldchanges', swap_axes=True, cmap='bwr', save='_logFC_wilcoxon.pdf')"
   ]
  },
  {
   "cell_type": "code",
   "execution_count": null,
   "id": "f1589b66",
   "metadata": {},
   "outputs": [],
   "source": [
    "sc.pl.rank_genes_groups_dotplot(adata_subset3, var_names=['SARSCoV2', 'MHCI', 'MHCII', 'CD74', 'CD107a', 'GranzymeB', 'ClvCaspase3'], values_to_plot='logfoldchanges', swap_axes=True, cmap='bwr', save='_specificmarkers_logFC_wilcoxon.pdf')"
   ]
  },
  {
   "cell_type": "code",
   "execution_count": null,
   "id": "eb5a302d",
   "metadata": {},
   "outputs": [],
   "source": [
    "adata_subset4 = adata_subset3[~adata_subset3.obs['Type'].isin(['Non_COVID'])]"
   ]
  },
  {
   "cell_type": "code",
   "execution_count": null,
   "id": "db961941",
   "metadata": {},
   "outputs": [],
   "source": [
    "adata_subset4 = adata_subset4[~adata_subset4.obs['pheno_cluster_edited'].isin(['RBC']),:].copy()"
   ]
  },
  {
   "cell_type": "code",
   "execution_count": null,
   "id": "39db476b",
   "metadata": {},
   "outputs": [],
   "source": [
    "#stack bar code and extracting number of cells, distribution of each cluster per case or the cluster composition per case\n",
    "#for number of cells - don't use normalize\n",
    "#for distribution of each case per cluster - use normalize = \"index\"\n",
    "#for cluster composition per case - use normalize = \"columns\"\n",
    "tmp = pd.crosstab(adata_subset4.obs['pheno_cluster_edited'],adata_subset4.obs['ROI'], margins=True, margins_name='Total', normalize='columns')"
   ]
  },
  {
   "cell_type": "code",
   "execution_count": null,
   "id": "53fc179e",
   "metadata": {},
   "outputs": [],
   "source": [
    "tmp"
   ]
  },
  {
   "cell_type": "code",
   "execution_count": null,
   "id": "8b066265",
   "metadata": {},
   "outputs": [],
   "source": [
    "tmp2 = tmp.reindex(['SARSCoV2+ Alveolar Macrophage','SARSCoV2+ Epithelial cell', 'Activated Endothelial cell', 'Alveolar Macrophage', 'Interstitial Macrophage', 'Classical Monocyte', 'CD4 T cell', 'CD38+ CD4 T cell', 'CD8 T cell', 'ColLow Fibroblast', \n",
    "                    'ColHigh Fibroblast', 'CD66bHigh Neutrophil','CD66bLow Neutrophil', 'Smooth Muscle Cell', 'Apoptotic Epithelial cell',  'Apoptotic Smooth Muscle Cell', 'Apoptotic Neutrophil', 'Apoptotic Fibroblast','Epithelial cell', 'Endothelial cell', 'CD3+ cell'])"
   ]
  },
  {
   "cell_type": "code",
   "execution_count": null,
   "id": "b4aa5f11",
   "metadata": {},
   "outputs": [],
   "source": [
    "# reorder to follow the order of the cells in the bar plot figure in the ppt file for the paper\n",
    "tmp2 = tmp.reindex(['CD3+ cell', 'Endothelial cell', 'Epithelial cell', 'Alveolar Macrophage','Apoptotic Neutrophil', \n",
    "                    'Apoptotic Smooth Muscle Cell', 'Apoptotic Fibroblast', 'Apoptotic Epithelial cell',\n",
    "                    'Smooth Muscle Cell', 'CD66bLow Neutrophil',  'CD66bHigh Neutrophil',  'ColHigh Fibroblast',\n",
    "                    'ColLow Fibroblast', 'CD8 T cell', 'CD38+ CD4 T cell', 'CD4 T cell',  'Interstitial Macrophage', 'Classical Monocyte',\n",
    "                    'Activated Endothelial cell',  \n",
    "                    'SARSCoV2+ Epithelial cell', 'SARSCoV2+ Alveolar Macrophage'])\n"
   ]
  },
  {
   "cell_type": "code",
   "execution_count": null,
   "id": "4a00d018",
   "metadata": {},
   "outputs": [],
   "source": [
    "tmp3 = pd.DataFrame.transpose(tmp2)"
   ]
  },
  {
   "cell_type": "code",
   "execution_count": null,
   "id": "dd061c02",
   "metadata": {},
   "outputs": [],
   "source": [
    "tmp3"
   ]
  },
  {
   "cell_type": "code",
   "execution_count": null,
   "id": "1bccd537",
   "metadata": {},
   "outputs": [],
   "source": [
    "#color for stack bars for the disease groups matching the other bar graphs\n",
    "#F08080 - light coral\n",
    "#87CEFA - lightskyblue\n",
    "#D3D3D3 - lightgrey\n",
    "\n",
    "pretty_colors = ['#F08080','#87CEFA','#D3D3D3']\n",
    "color_pal = sb.color_palette('Paired')\n",
    "\n",
    "tmp3.plot.bar(stacked=True, color=colour_palette['colour2'], figsize=(16, 6)).legend(bbox_to_anchor=(1, 1))"
   ]
  },
  {
   "cell_type": "code",
   "execution_count": null,
   "id": "7908fe7a",
   "metadata": {},
   "outputs": [],
   "source": [
    "compression_opts = dict(method='zip',\n",
    "                         archive_name='All_clusters_number_per_ROI.csv') \n",
    "tmp.to_csv('out.zip', index=False, compression=compression_opts)"
   ]
  },
  {
   "cell_type": "code",
   "execution_count": null,
   "id": "f918ae3c",
   "metadata": {},
   "outputs": [],
   "source": [
    "# Alter this list with adata.obs variables that you want to plot against the resulting leiden population\n",
    "image_var = 'ROI'\n",
    "\n",
    "for i in ['Type']:\n",
    "\n",
    "    mikeimc_v2.grouped_graph(adata_subset4,\n",
    "                             ROI_id=image_var,\n",
    "                             group_by_obs=i,\n",
    "                             x_axis='pheno_cluster_edited',\n",
    "                             fig_size=(8, 4),\n",
    "                             log_scale=False, scale_factor=True,\n",
    "                            display_tables=True, crosstab_norm='columns') #If you change display_tables to True, will also do stats on the groups\n",
    "    # use crosstab_norm='columns' to plot and do statistics based on cell frequencies per group\n",
    "    plt.show()"
   ]
  },
  {
   "cell_type": "code",
   "execution_count": null,
   "id": "22f95bec",
   "metadata": {},
   "outputs": [],
   "source": [
    "#Plot PhenoGraph on UMAP\n",
    "sc.pl.umap(adata_subset3, color = \"pheno_cluster_edited\", palette = colour_palette['colour2'], legend_fontsize = 5, legend_loc='on data', legend_fontweight='bold', size=2, frameon=False, save='_all_clusters.pdf')\n",
    "\n",
    "#Plot PhenoGraph on tSNE\n",
    "#sc.pl.tsne(adata_subset3, color = \"pheno_cluster\", legend_fontsize = 10, size=2, save='_all_clusters.pdf')"
   ]
  },
  {
   "cell_type": "code",
   "execution_count": null,
   "id": "09b0d98c",
   "metadata": {},
   "outputs": [],
   "source": [
    "#Plot PhenoGraph on UMAP\n",
    "sc.pl.umap(adata_subset3, color = \"Type\", title='', legend_fontsize = 12, legend_loc='right margin', legend_fontweight='light', size=2, frameon=False, save='_cell_type.pdf')\n",
    "#Plot PhenoGraph on tSNE\n",
    "sc.pl.tsne(adata_subset3, color = \"cell_type\", legend_loc='on data', title='', legend_fontsize = 10, size=2, save='_cell_type.pdf')"
   ]
  },
  {
   "cell_type": "code",
   "execution_count": null,
   "id": "fd940b22",
   "metadata": {},
   "outputs": [],
   "source": [
    "col_df = pd.read_csv('mikeimc_approach/colours/pheno_colours.csv')\n",
    "colour_palette = col_df.set_index('pheno_cluster').to_dict()\n",
    "colour_palette['colour']"
   ]
  },
  {
   "cell_type": "code",
   "execution_count": null,
   "id": "ab817629",
   "metadata": {},
   "outputs": [],
   "source": [
    "#see how to increase the size of the dots\n",
    "#edit dict colour\n",
    "graph = sb.lmplot(data = adata_subset3.obs, x = 'X_loc',y='Y_loc',hue ='pheno_cluster', palette = colour_palette['colour'], height = 8, col = 'ROI', col_wrap = 4,fit_reg = False)"
   ]
  },
  {
   "cell_type": "code",
   "execution_count": null,
   "id": "fcac1dc6",
   "metadata": {},
   "outputs": [],
   "source": [
    "graph.savefig('Mapped_all_clusters.png')"
   ]
  },
  {
   "cell_type": "markdown",
   "id": "53e88b5c",
   "metadata": {},
   "source": [
    "# Export data"
   ]
  },
  {
   "cell_type": "code",
   "execution_count": null,
   "id": "d891d0d2",
   "metadata": {},
   "outputs": [],
   "source": [
    "adata_subset4.write('adata_subset4')"
   ]
  },
  {
   "cell_type": "code",
   "execution_count": null,
   "id": "e2586ec3",
   "metadata": {},
   "outputs": [],
   "source": [
    "## Save the binary connectivity matrix\n",
    "knn_adjacency = adata_subset4.obsp[\"connectivities\"]"
   ]
  },
  {
   "cell_type": "code",
   "execution_count": null,
   "id": "bde1862e",
   "metadata": {},
   "outputs": [],
   "source": [
    "knn_adjacency"
   ]
  },
  {
   "cell_type": "code",
   "execution_count": null,
   "id": "97b5f432",
   "metadata": {},
   "outputs": [],
   "source": [
    "#Make a simplified dataframe to export\n",
    "adata_export = adata_subset3.obs[['Case','ROI','Type','hierarchy','pheno_cluster']].copy()"
   ]
  },
  {
   "cell_type": "code",
   "execution_count": null,
   "id": "f8d8e9d6",
   "metadata": {},
   "outputs": [],
   "source": [
    "#Split up the X and Y columns from the adata\n",
    "adata_export['X'], adata_export['Y'] = np.split(adata_subset3.obsm['spatial'],[-1],axis=1)\n",
    "#Save to file\n",
    "adata_export.to_csv('adata_cluster_export.csv')"
   ]
  },
  {
   "cell_type": "code",
   "execution_count": null,
   "id": "21b1d157",
   "metadata": {},
   "outputs": [],
   "source": [
    "# export everything except the data using `.write_csvs`.\n",
    "# Set `skip_data=False` if you also want to export the data.\n",
    "adata_subset3.write_csvs(dirname='./', skip_data=False)"
   ]
  }
 ],
 "metadata": {
  "kernelspec": {
   "display_name": "Python 3 (ipykernel)",
   "language": "python",
   "name": "python3"
  },
  "language_info": {
   "codemirror_mode": {
    "name": "ipython",
    "version": 3
   },
   "file_extension": ".py",
   "mimetype": "text/x-python",
   "name": "python",
   "nbconvert_exporter": "python",
   "pygments_lexer": "ipython3",
   "version": "3.9.12"
  }
 },
 "nbformat": 4,
 "nbformat_minor": 5
}
