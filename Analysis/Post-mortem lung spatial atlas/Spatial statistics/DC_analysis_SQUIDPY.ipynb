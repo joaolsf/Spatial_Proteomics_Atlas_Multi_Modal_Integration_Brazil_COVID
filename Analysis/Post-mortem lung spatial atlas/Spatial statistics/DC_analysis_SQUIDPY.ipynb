{
 "cells": [
  {
   "cell_type": "markdown",
   "id": "47de7662",
   "metadata": {},
   "source": [
    "# Import libraries and setup"
   ]
  },
  {
   "cell_type": "code",
   "execution_count": null,
   "id": "2d068d52",
   "metadata": {},
   "outputs": [],
   "source": [
    "# Import libraries we may need\n",
    "import scanpy as sc\n",
    "import numpy as np\n",
    "import scipy as sp\n",
    "import pandas as pd\n",
    "import matplotlib.pyplot as plt\n",
    "from matplotlib import rcParams\n",
    "from matplotlib import colors\n",
    "import seaborn as sb\n",
    "import scanpy.external as sce\n",
    "import wget\n",
    "import yaml\n",
    "import wget\n",
    "import astir\n",
    "import dill\n",
    "import umap\n",
    "import fa2\n",
    "reducer = umap.UMAP()\n",
    "import squidpy as sq\n",
    "import anndata as ad\n",
    "from scipy.sparse import block_diag\n",
    "\n",
    "#My module for importing IMC data into AnnData format\n",
    "import mikeimc as mimc"
   ]
  },
  {
   "cell_type": "code",
   "execution_count": null,
   "id": "a95e24c1",
   "metadata": {},
   "outputs": [],
   "source": [
    "# Set up output figure settings\n",
    "plt.rcParams['figure.figsize']=(64,64) #rescale figures, increase sizehere\n",
    "\n",
    "# Set up scanpy settings\n",
    "sc.settings.verbosity = 3\n",
    "sc.set_figure_params(dpi=100, dpi_save=300) #Increase DPI for better resolution figures\n",
    "#sc.logging.print_versions()"
   ]
  },
  {
   "cell_type": "code",
   "execution_count": null,
   "id": "ce03f9ba",
   "metadata": {},
   "outputs": [],
   "source": [
    "#load the session\n",
    "dill.load_session('DC_SQUIDPY2.db')"
   ]
  },
  {
   "cell_type": "code",
   "execution_count": null,
   "id": "c58deb5b",
   "metadata": {},
   "outputs": [],
   "source": [
    "#save the session\n",
    "dill.dump_session('DC_SQUIDPY2.db')"
   ]
  },
  {
   "cell_type": "markdown",
   "id": "5aeaa9dd",
   "metadata": {},
   "source": [
    "# Squidpy - neighbourhood analysis"
   ]
  },
  {
   "cell_type": "code",
   "execution_count": null,
   "id": "819347c9",
   "metadata": {},
   "outputs": [],
   "source": [
    "col_df = pd.read_csv('mikeimc_approach/colours/pheno_colours.csv')\n",
    "colour_palette = col_df.set_index('pheno_cluster').to_dict()\n",
    "colour_palette['colour']"
   ]
  },
  {
   "cell_type": "code",
   "execution_count": null,
   "id": "12e5151b",
   "metadata": {},
   "outputs": [],
   "source": [
    "#The .copy() makes a completely seperate copy for neigh analysis\n",
    "adata_subset3 = adata_subset2.copy()"
   ]
  },
  {
   "cell_type": "code",
   "execution_count": null,
   "id": "eddc8e37",
   "metadata": {},
   "outputs": [],
   "source": [
    "adata_subset3.obs['Type']"
   ]
  },
  {
   "cell_type": "code",
   "execution_count": null,
   "id": "e48ec934",
   "metadata": {},
   "outputs": [],
   "source": [
    "#This code further filters the data by removing other groups\n",
    "adata_NL = adata_subset3[~adata_subset3.obs['Type'].isin(['Early death', 'Late death']),:].copy()"
   ]
  },
  {
   "cell_type": "code",
   "execution_count": null,
   "id": "347a463a",
   "metadata": {},
   "outputs": [],
   "source": [
    "#create a copy of anndata and remove the RBC cluster\n",
    "adata_NL = adata_NL[~adata_NL.obs['pheno_cluster'].isin(['IL1IL6 Virus-infected AT2 cell', 'Virus-Infected Monocyte', 'Virus-infected AT2 cell', 'Virus-infected Alveolar Macrophage', 'Virus-infected CD56High NK cell', 'Virus-infected CD56LowNK cell', 'Virus-infected Epithelial cell', 'Virus-infected Interstitial Macrophage', 'Virus-infected Neutrophil', 'Mesenchymal']),:].copy()"
   ]
  },
  {
   "cell_type": "code",
   "execution_count": null,
   "id": "76e38fc6",
   "metadata": {},
   "outputs": [],
   "source": [
    "#This code further filters the data by removing other groups\n",
    "adata_covid = adata_subset3[~adata_subset3.obs['Type'].isin(['NL']),:].copy()"
   ]
  },
  {
   "cell_type": "code",
   "execution_count": null,
   "id": "5ed030fc",
   "metadata": {},
   "outputs": [],
   "source": [
    "#This code further filters the data by removing other groups\n",
    "adata_early_death = adata_subset3[~adata_subset3.obs['Type'].isin(['NL', 'Late death']),:].copy()"
   ]
  },
  {
   "cell_type": "code",
   "execution_count": null,
   "id": "98440800",
   "metadata": {},
   "outputs": [],
   "source": [
    "#adata_subset2.write('./adata_subset2')#This code further filters the data by removing other groups\n",
    "adata_late_death = adata_subset3[~adata_subset3.obs['Type'].isin(['NL', 'Early death']),:].copy()"
   ]
  },
  {
   "cell_type": "code",
   "execution_count": null,
   "id": "262c5fae",
   "metadata": {},
   "outputs": [],
   "source": [
    "adata_subset3.write('./h5ad_files/adata_subset3')"
   ]
  },
  {
   "cell_type": "code",
   "execution_count": null,
   "id": "324442f0",
   "metadata": {},
   "outputs": [],
   "source": [
    "adata_NL.write('./h5ad_files/adata_NL')\n",
    "adata_covid.write('./h5ad_files/adata_covid')\n",
    "adata_early_death.write('./h5ad_files/adata_early_death')\n",
    "adata_late_death.write('./h5ad_files/adata_late_death')"
   ]
  },
  {
   "cell_type": "markdown",
   "id": "ecfba215",
   "metadata": {},
   "source": [
    "# Subset anndata to run Squidpy analysis in batch"
   ]
  },
  {
   "cell_type": "code",
   "execution_count": null,
   "id": "db6ed521",
   "metadata": {},
   "outputs": [],
   "source": [
    "adata_NL"
   ]
  },
  {
   "cell_type": "code",
   "execution_count": null,
   "id": "cb166ef2",
   "metadata": {},
   "outputs": [],
   "source": [
    "adata_NL.obs['ROI']"
   ]
  },
  {
   "cell_type": "code",
   "execution_count": null,
   "id": "88dc1b08",
   "metadata": {},
   "outputs": [],
   "source": [
    "adata_NL1 = adata_NL[adata_NL.obs['ROI'].isin(['NL114_ROI1'])].copy()\n",
    "adata_NL2 = adata_NL[adata_NL.obs['ROI'].isin(['NL114_ROI2'])].copy()\n",
    "adata_NL3 = adata_NL[adata_NL.obs['ROI'].isin(['NL114_ROI3'])].copy()\n",
    "adata_NL4 = adata_NL[adata_NL.obs['ROI'].isin(['NL114_ROI4'])].copy()\n",
    "adata_NL5 = adata_NL[adata_NL.obs['ROI'].isin(['NL114_ROI5'])].copy()\n",
    "adata_NL6 = adata_NL[adata_NL.obs['ROI'].isin(['NL114_ROI6'])].copy()\n",
    "adata_NL7 = adata_NL[adata_NL.obs['ROI'].isin(['NL114_ROI7'])].copy()\n",
    "adata_NL8 = adata_NL[adata_NL.obs['ROI'].isin(['NL114_ROI8'])].copy()\n",
    "adata_NL9 = adata_NL[adata_NL.obs['ROI'].isin(['NL114_ROI9'])].copy()\n",
    "adata_NL10 = adata_NL[adata_NL.obs['ROI'].isin(['NL1915A_ROI1'])].copy()\n",
    "adata_NL11 = adata_NL[adata_NL.obs['ROI'].isin(['NL1915A_ROI2'])].copy()\n",
    "adata_NL12 = adata_NL[adata_NL.obs['ROI'].isin(['NL1915A_ROI3'])].copy()\n",
    "adata_NL13 = adata_NL[adata_NL.obs['ROI'].isin(['NL1915A_ROI4'])].copy()\n",
    "adata_NL14 = adata_NL[adata_NL.obs['ROI'].isin(['NL1915A_ROI5'])].copy()\n",
    "adata_NL15 = adata_NL[adata_NL.obs['ROI'].isin(['NL1915A_ROI6'])].copy()\n",
    "adata_NL16 = adata_NL[adata_NL.obs['ROI'].isin(['NL1915A_ROI7'])].copy()\n",
    "adata_NL17 = adata_NL[adata_NL.obs['ROI'].isin(['NL1915A_ROI8'])].copy()\n",
    "adata_NL18 = adata_NL[adata_NL.obs['ROI'].isin(['NL1915A_ROI9'])].copy()\n",
    "adata_NL19 = adata_NL[adata_NL.obs['ROI'].isin(['NL1933A_ROI1'])].copy()\n",
    "adata_NL20 = adata_NL[adata_NL.obs['ROI'].isin(['NL1933A_ROI2'])].copy()\n",
    "adata_NL21 = adata_NL[adata_NL.obs['ROI'].isin(['NL1933A_ROI4'])].copy()\n",
    "adata_NL22 = adata_NL[adata_NL.obs['ROI'].isin(['NL1933A_ROI6'])].copy()\n",
    "adata_NL23 = adata_NL[adata_NL.obs['ROI'].isin(['NL6699_ROI1'])].copy()\n",
    "adata_NL24 = adata_NL[adata_NL.obs['ROI'].isin(['NL6699_ROI2'])].copy()\n",
    "adata_NL25 = adata_NL[adata_NL.obs['ROI'].isin(['NL6699_ROI3'])].copy()\n",
    "adata_NL26 = adata_NL[adata_NL.obs['ROI'].isin(['NL6699_ROI4'])].copy()\n",
    "adata_NL27 = adata_NL[adata_NL.obs['ROI'].isin(['NL6699_ROI5'])].copy()\n",
    "adata_NL28 = adata_NL[adata_NL.obs['ROI'].isin(['NL6699_ROI6'])].copy()\n",
    "adata_NL29 = adata_NL[adata_NL.obs['ROI'].isin(['NL6699_ROI7'])].copy()\n",
    "adata_NL30 = adata_NL[adata_NL.obs['ROI'].isin(['NL6699_ROI8'])].copy()"
   ]
  },
  {
   "cell_type": "code",
   "execution_count": null,
   "id": "b371c2a3",
   "metadata": {},
   "outputs": [],
   "source": [
    "adata_list = (adata_NL1, adata_NL2, adata_NL3, adata_NL4, adata_NL5, adata_NL6, adata_NL7, adata_NL8, adata_NL9, adata_NL10, adata_NL11, adata_NL12, adata_NL13,\n",
    "              adata_NL14, adata_NL15, adata_NL16, adata_NL17, adata_NL18, adata_NL19, adata_NL20, adata_NL21, adata_NL22, adata_NL23, adata_NL24, adata_NL25, adata_NL26,\n",
    "              adata_NL27, adata_NL28, adata_NL29, adata_NL30)"
   ]
  },
  {
   "cell_type": "code",
   "execution_count": null,
   "id": "2e97d107",
   "metadata": {},
   "outputs": [],
   "source": [
    "for a in adata_list:\n",
    "    sq.gr.spatial_neighbors(a, coord_type = 'generic', n_neighs=4)"
   ]
  },
  {
   "cell_type": "code",
   "execution_count": null,
   "id": "5f77a702",
   "metadata": {},
   "outputs": [],
   "source": [
    "adata_NL_merge = ad.concat(adata_list, uns_merge='same')"
   ]
  },
  {
   "cell_type": "code",
   "execution_count": null,
   "id": "940ab478",
   "metadata": {},
   "outputs": [],
   "source": [
    "adata_NL_merge.obsp['spatial_connectivities'] = block_diag([a.obsp['spatial_connectivities'] for a in adata_list]).tocsr()\n",
    "adata_NL_merge.obsp['spatial_distances'] = block_diag([a.obsp['spatial_distances'] for a in adata_list]).tocsr()"
   ]
  },
  {
   "cell_type": "code",
   "execution_count": null,
   "id": "84c3ab1d",
   "metadata": {},
   "outputs": [],
   "source": [
    "#Change type to categorical\n",
    "adata_NL_merge.obs['pheno_cluster']=adata_NL_merge.obs['pheno_cluster'].astype('category')"
   ]
  },
  {
   "cell_type": "code",
   "execution_count": null,
   "id": "5d2fd877",
   "metadata": {},
   "outputs": [],
   "source": [
    "adata_NL_merge"
   ]
  },
  {
   "cell_type": "code",
   "execution_count": null,
   "id": "ba80d2ed",
   "metadata": {},
   "outputs": [],
   "source": [
    "adata_NL_merge.obs['ROI']"
   ]
  },
  {
   "cell_type": "code",
   "execution_count": null,
   "id": "67122b5b",
   "metadata": {},
   "outputs": [],
   "source": [
    "adata_early_death"
   ]
  },
  {
   "cell_type": "code",
   "execution_count": null,
   "id": "7e6801ae",
   "metadata": {},
   "outputs": [],
   "source": [
    "adata_early_death.obs['ROI']"
   ]
  },
  {
   "cell_type": "code",
   "execution_count": null,
   "id": "7dadbcb9",
   "metadata": {},
   "outputs": [],
   "source": [
    "adata_early_death1 = adata_early_death[adata_early_death.obs['ROI'].isin(['C1_ROI1'])].copy()\n",
    "adata_early_death2 = adata_early_death[adata_early_death.obs['ROI'].isin(['C1_ROI2'])].copy()\n",
    "adata_early_death3 = adata_early_death[adata_early_death.obs['ROI'].isin(['C1_ROI3'])].copy()\n",
    "adata_early_death4 = adata_early_death[adata_early_death.obs['ROI'].isin(['C1_ROI4'])].copy()\n",
    "adata_early_death5 = adata_early_death[adata_early_death.obs['ROI'].isin(['C1_ROI5'])].copy()\n",
    "adata_early_death6 = adata_early_death[adata_early_death.obs['ROI'].isin(['C1_ROI6'])].copy()\n",
    "adata_early_death7 = adata_early_death[adata_early_death.obs['ROI'].isin(['C1_ROI7'])].copy()\n",
    "adata_early_death8 = adata_early_death[adata_early_death.obs['ROI'].isin(['C1_ROI8'])].copy()\n",
    "adata_early_death9 = adata_early_death[adata_early_death.obs['ROI'].isin(['C3_ROI1'])].copy()\n",
    "adata_early_death10 = adata_early_death[adata_early_death.obs['ROI'].isin(['C3_ROI2'])].copy()\n",
    "adata_early_death11 = adata_early_death[adata_early_death.obs['ROI'].isin(['C3_ROI3'])].copy()\n",
    "adata_early_death12 = adata_early_death[adata_early_death.obs['ROI'].isin(['C3_ROI4'])].copy()\n",
    "adata_early_death13 = adata_early_death[adata_early_death.obs['ROI'].isin(['C3_ROI5'])].copy()\n",
    "adata_early_death14 = adata_early_death[adata_early_death.obs['ROI'].isin(['C3_ROI6'])].copy()\n",
    "adata_early_death15 = adata_early_death[adata_early_death.obs['ROI'].isin(['C3_ROI7'])].copy()\n",
    "adata_early_death16 = adata_early_death[adata_early_death.obs['ROI'].isin(['C3_ROI8'])].copy()\n",
    "adata_early_death17 = adata_early_death[adata_early_death.obs['ROI'].isin(['C3_ROI9'])].copy()\n",
    "adata_early_death18 = adata_early_death[adata_early_death.obs['ROI'].isin(['C3_ROI10'])].copy()\n",
    "adata_early_death19 = adata_early_death[adata_early_death.obs['ROI'].isin(['C3_ROI11'])].copy()\n",
    "adata_early_death20 = adata_early_death[adata_early_death.obs['ROI'].isin(['C3_ROI12'])].copy()\n",
    "adata_early_death21 = adata_early_death[adata_early_death.obs['ROI'].isin(['C3_ROI13'])].copy()\n",
    "adata_early_death22 = adata_early_death[adata_early_death.obs['ROI'].isin(['C10_ROI1'])].copy()\n",
    "adata_early_death23 = adata_early_death[adata_early_death.obs['ROI'].isin(['C10_ROI2'])].copy()\n",
    "adata_early_death24 = adata_early_death[adata_early_death.obs['ROI'].isin(['C10_ROI3'])].copy()\n",
    "adata_early_death25 = adata_early_death[adata_early_death.obs['ROI'].isin(['C10_ROI4'])].copy()\n",
    "adata_early_death26 = adata_early_death[adata_early_death.obs['ROI'].isin(['C10_ROI5'])].copy()\n",
    "adata_early_death27 = adata_early_death[adata_early_death.obs['ROI'].isin(['C10_ROI6'])].copy()\n",
    "adata_early_death28 = adata_early_death[adata_early_death.obs['ROI'].isin(['C10_ROI7'])].copy()\n",
    "adata_early_death29 = adata_early_death[adata_early_death.obs['ROI'].isin(['C10_ROI8'])].copy()\n",
    "adata_early_death30 = adata_early_death[adata_early_death.obs['ROI'].isin(['C12_ROI1'])].copy()\n",
    "adata_early_death31 = adata_early_death[adata_early_death.obs['ROI'].isin(['C12_ROI2'])].copy()\n",
    "adata_early_death32 = adata_early_death[adata_early_death.obs['ROI'].isin(['C12_ROI3'])].copy()\n",
    "adata_early_death33 = adata_early_death[adata_early_death.obs['ROI'].isin(['C12_ROI4'])].copy()\n",
    "adata_early_death34 = adata_early_death[adata_early_death.obs['ROI'].isin(['C12_ROI5'])].copy()\n",
    "adata_early_death35 = adata_early_death[adata_early_death.obs['ROI'].isin(['C12_ROI6'])].copy()\n",
    "adata_early_death36 = adata_early_death[adata_early_death.obs['ROI'].isin(['C12_ROI7'])].copy()\n",
    "adata_early_death37 = adata_early_death[adata_early_death.obs['ROI'].isin(['C12_ROI8'])].copy()\n",
    "adata_early_death38 = adata_early_death[adata_early_death.obs['ROI'].isin(['C12_ROI9'])].copy()\n",
    "adata_early_death39 = adata_early_death[adata_early_death.obs['ROI'].isin(['C12_ROI10'])].copy()\n",
    "adata_early_death40 = adata_early_death[adata_early_death.obs['ROI'].isin(['C12_ROI11'])].copy()\n",
    "adata_early_death41 = adata_early_death[adata_early_death.obs['ROI'].isin(['C12_ROI12'])].copy()\n",
    "adata_early_death42 = adata_early_death[adata_early_death.obs['ROI'].isin(['C12_ROI13'])].copy()\n",
    "adata_early_death43 = adata_early_death[adata_early_death.obs['ROI'].isin(['C12_ROI14'])].copy()"
   ]
  },
  {
   "cell_type": "code",
   "execution_count": null,
   "id": "df3426b2",
   "metadata": {},
   "outputs": [],
   "source": [
    "adata_list2 = (adata_early_death1, adata_early_death2, adata_early_death3, adata_early_death4, adata_early_death5, adata_early_death6, adata_early_death7, adata_early_death8, adata_early_death9, adata_early_death10, adata_early_death11, adata_early_death12, adata_early_death13,\n",
    "              adata_early_death14, adata_early_death15, adata_early_death16, adata_early_death17, adata_early_death18, adata_early_death19, adata_early_death20, adata_early_death21, adata_early_death22, adata_early_death23, adata_early_death24, adata_early_death25, adata_early_death26,\n",
    "              adata_early_death27, adata_early_death28, adata_early_death29, adata_early_death30, adata_early_death31, adata_early_death32, adata_early_death33, adata_early_death34, adata_early_death35, adata_early_death36, adata_early_death37,\n",
    "              adata_early_death38, adata_early_death39, adata_early_death40, adata_early_death41, adata_early_death42, adata_early_death43)"
   ]
  },
  {
   "cell_type": "code",
   "execution_count": null,
   "id": "e22d3cc3",
   "metadata": {},
   "outputs": [],
   "source": [
    "for a in adata_list2:\n",
    "    sq.gr.spatial_neighbors(a, coord_type = 'generic', n_neighs=4)"
   ]
  },
  {
   "cell_type": "code",
   "execution_count": null,
   "id": "cca5c250",
   "metadata": {},
   "outputs": [],
   "source": [
    "adata_early_death_merge = ad.concat(adata_list2, uns_merge='same')"
   ]
  },
  {
   "cell_type": "code",
   "execution_count": null,
   "id": "aa27edd4",
   "metadata": {},
   "outputs": [],
   "source": [
    "adata_early_death_merge.obsp['spatial_connectivities'] = block_diag([a.obsp['spatial_connectivities'] for a in adata_list2]).tocsr()\n",
    "adata_early_death_merge.obsp['spatial_distances'] = block_diag([a.obsp['spatial_distances'] for a in adata_list2]).tocsr()"
   ]
  },
  {
   "cell_type": "code",
   "execution_count": null,
   "id": "f97e44b5",
   "metadata": {},
   "outputs": [],
   "source": [
    "#Change type to categorical\n",
    "adata_early_death_merge.obs['pheno_cluster']=adata_early_death_merge.obs['pheno_cluster'].astype('category')"
   ]
  },
  {
   "cell_type": "code",
   "execution_count": null,
   "id": "6b2d999c",
   "metadata": {},
   "outputs": [],
   "source": [
    "adata_early_death_merge"
   ]
  },
  {
   "cell_type": "code",
   "execution_count": null,
   "id": "00f58bfc",
   "metadata": {},
   "outputs": [],
   "source": [
    "adata_late_death"
   ]
  },
  {
   "cell_type": "code",
   "execution_count": null,
   "id": "35078b5a",
   "metadata": {},
   "outputs": [],
   "source": [
    "adata_late_death.obs['ROI']"
   ]
  },
  {
   "cell_type": "code",
   "execution_count": null,
   "id": "52e1c1f2",
   "metadata": {},
   "outputs": [],
   "source": [
    "adata_late_death1 = adata_late_death[adata_late_death.obs['ROI'].isin(['C11_ROI2'])].copy()\n",
    "adata_late_death2 = adata_late_death[adata_late_death.obs['ROI'].isin(['C11_ROI3'])].copy()\n",
    "adata_late_death3 = adata_late_death[adata_late_death.obs['ROI'].isin(['C11_ROI4'])].copy()\n",
    "adata_late_death4 = adata_late_death[adata_late_death.obs['ROI'].isin(['C11_ROI5'])].copy()\n",
    "adata_late_death5 = adata_late_death[adata_late_death.obs['ROI'].isin(['C11_ROI6'])].copy()\n",
    "adata_late_death6 = adata_late_death[adata_late_death.obs['ROI'].isin(['C11_ROI7'])].copy()\n",
    "adata_late_death7 = adata_late_death[adata_late_death.obs['ROI'].isin(['C11_ROI8'])].copy()\n",
    "adata_late_death8 = adata_late_death[adata_late_death.obs['ROI'].isin(['C11_ROI11'])].copy()\n",
    "adata_late_death9 = adata_late_death[adata_late_death.obs['ROI'].isin(['C21_ROI1'])].copy()\n",
    "adata_late_death10 = adata_late_death[adata_late_death.obs['ROI'].isin(['C21_ROI2'])].copy()\n",
    "adata_late_death11 = adata_late_death[adata_late_death.obs['ROI'].isin(['C21_ROI3'])].copy()\n",
    "adata_late_death12 = adata_late_death[adata_late_death.obs['ROI'].isin(['C21_ROI4'])].copy()\n",
    "adata_late_death13 = adata_late_death[adata_late_death.obs['ROI'].isin(['C21_ROI5'])].copy()\n",
    "adata_late_death14 = adata_late_death[adata_late_death.obs['ROI'].isin(['C21_ROI7'])].copy()\n",
    "adata_late_death15 = adata_late_death[adata_late_death.obs['ROI'].isin(['C21_ROI8'])].copy()\n",
    "adata_late_death16 = adata_late_death[adata_late_death.obs['ROI'].isin(['C21_ROI9'])].copy()\n",
    "adata_late_death17 = adata_late_death[adata_late_death.obs['ROI'].isin(['C21_ROI10'])].copy()\n",
    "adata_late_death18 = adata_late_death[adata_late_death.obs['ROI'].isin(['C21_ROI11'])].copy()\n",
    "adata_late_death19 = adata_late_death[adata_late_death.obs['ROI'].isin(['C21_ROI12'])].copy()\n",
    "adata_late_death20 = adata_late_death[adata_late_death.obs['ROI'].isin(['C21_ROI13'])].copy()\n",
    "adata_late_death21 = adata_late_death[adata_late_death.obs['ROI'].isin(['C21_ROI14'])].copy()\n",
    "adata_late_death22 = adata_late_death[adata_late_death.obs['ROI'].isin(['C21_ROI15'])].copy()\n",
    "adata_late_death23 = adata_late_death[adata_late_death.obs['ROI'].isin(['C21_ROI16'])].copy()\n",
    "adata_late_death24 = adata_late_death[adata_late_death.obs['ROI'].isin(['C21_ROI17'])].copy()\n",
    "adata_late_death25 = adata_late_death[adata_late_death.obs['ROI'].isin(['C24_ROI1'])].copy()\n",
    "adata_late_death26 = adata_late_death[adata_late_death.obs['ROI'].isin(['C24_ROI2'])].copy()\n",
    "adata_late_death27 = adata_late_death[adata_late_death.obs['ROI'].isin(['C24_ROI3'])].copy()\n",
    "adata_late_death28 = adata_late_death[adata_late_death.obs['ROI'].isin(['C24_ROI4'])].copy()\n",
    "adata_late_death29 = adata_late_death[adata_late_death.obs['ROI'].isin(['C24_ROI5'])].copy()\n",
    "adata_late_death30 = adata_late_death[adata_late_death.obs['ROI'].isin(['C24_ROI6'])].copy()\n",
    "adata_late_death31 = adata_late_death[adata_late_death.obs['ROI'].isin(['C24_ROI7'])].copy()\n",
    "adata_late_death32 = adata_late_death[adata_late_death.obs['ROI'].isin(['C24_ROI8'])].copy()\n",
    "adata_late_death33 = adata_late_death[adata_late_death.obs['ROI'].isin(['C24_ROI9'])].copy()\n",
    "adata_late_death34 = adata_late_death[adata_late_death.obs['ROI'].isin(['C24_ROI10'])].copy()\n",
    "adata_late_death35 = adata_late_death[adata_late_death.obs['ROI'].isin(['C24_ROI11'])].copy()"
   ]
  },
  {
   "cell_type": "code",
   "execution_count": null,
   "id": "4ea6b7c0",
   "metadata": {},
   "outputs": [],
   "source": [
    "adata_list3 = (adata_late_death1, adata_late_death2, adata_late_death3, adata_late_death4, adata_late_death5, adata_late_death6, adata_late_death7, adata_late_death8, adata_late_death9, adata_late_death10, adata_late_death11, adata_late_death12, adata_late_death13,\n",
    "              adata_late_death14, adata_late_death15, adata_late_death16, adata_late_death17, adata_late_death18, adata_late_death19, adata_late_death20, adata_late_death21, adata_late_death22, adata_late_death23, adata_late_death24, adata_late_death25, adata_late_death26,\n",
    "              adata_late_death27, adata_late_death28, adata_late_death29, adata_late_death30, adata_late_death31, adata_late_death32, adata_late_death33, adata_late_death34, adata_late_death35)"
   ]
  },
  {
   "cell_type": "code",
   "execution_count": null,
   "id": "2274404e",
   "metadata": {},
   "outputs": [],
   "source": [
    "for a in adata_list3:\n",
    "    sq.gr.spatial_neighbors(a, coord_type = 'generic', n_neighs=4)"
   ]
  },
  {
   "cell_type": "code",
   "execution_count": null,
   "id": "9870b6b3",
   "metadata": {},
   "outputs": [],
   "source": [
    "adata_late_death_merge = ad.concat(adata_list3, uns_merge='same')"
   ]
  },
  {
   "cell_type": "code",
   "execution_count": null,
   "id": "66049b84",
   "metadata": {},
   "outputs": [],
   "source": [
    "adata_late_death_merge.obsp['spatial_connectivities'] = block_diag([a.obsp['spatial_connectivities'] for a in adata_list3]).tocsr()\n",
    "adata_late_death_merge.obsp['spatial_distances'] = block_diag([a.obsp['spatial_distances'] for a in adata_list3]).tocsr()"
   ]
  },
  {
   "cell_type": "code",
   "execution_count": null,
   "id": "b25b0ed2",
   "metadata": {},
   "outputs": [],
   "source": [
    "#Change type to categorical\n",
    "adata_late_death_merge.obs['pheno_cluster']=adata_late_death_merge.obs['pheno_cluster'].astype('category')"
   ]
  },
  {
   "cell_type": "code",
   "execution_count": null,
   "id": "7231965c",
   "metadata": {},
   "outputs": [],
   "source": [
    "adata_late_death_merge"
   ]
  },
  {
   "cell_type": "markdown",
   "id": "a8bd7823",
   "metadata": {},
   "source": [
    "# Run Squidpy in batch"
   ]
  },
  {
   "cell_type": "code",
   "execution_count": null,
   "id": "84e69455",
   "metadata": {
    "scrolled": true
   },
   "outputs": [],
   "source": [
    "import nhood_enrich as ne\n",
    "ne.nhood_enrichment_hyperion(adata_early_death_merge,'pheno_cluster','ROI',average_over_rois=True, misc_table=True)"
   ]
  },
  {
   "cell_type": "code",
   "execution_count": null,
   "id": "1f22d9e0",
   "metadata": {
    "scrolled": true
   },
   "outputs": [],
   "source": [
    "sq.pl.nhood_enrichment(adata_early_death_merge, cluster_key=\"pheno_cluster\", palette=colour_palette['colour'], cmap='bwr', mode='zscore', vmin=-2, vmax=2, save='NE_ED_zscore_pheno_cluster_average.pdf')\n",
    "\n"
   ]
  },
  {
   "cell_type": "code",
   "execution_count": null,
   "id": "3d5be2c6",
   "metadata": {},
   "outputs": [],
   "source": [
    "adata_early_death_merge.uns['pheno_cluster_nhood_enrichment']"
   ]
  },
  {
   "cell_type": "code",
   "execution_count": null,
   "id": "d2a2d0d6",
   "metadata": {},
   "outputs": [],
   "source": [
    "tmp = pd.crosstab(adata_early_death_merge.uns['pheno_cluster_nhood_enrichment'], adata_early_death_merge.uns['pheno_cluster_nhood_enrichment'])"
   ]
  },
  {
   "cell_type": "code",
   "execution_count": null,
   "id": "6ad733c4",
   "metadata": {},
   "outputs": [],
   "source": [
    "tmp"
   ]
  },
  {
   "cell_type": "code",
   "execution_count": null,
   "id": "a98563fb",
   "metadata": {},
   "outputs": [],
   "source": []
  },
  {
   "cell_type": "code",
   "execution_count": null,
   "id": "9278ea00",
   "metadata": {},
   "outputs": [],
   "source": []
  },
  {
   "cell_type": "markdown",
   "id": "e52c357e",
   "metadata": {},
   "source": [
    "# # Spatial neighbors and neighborhood enrichment"
   ]
  },
  {
   "cell_type": "code",
   "execution_count": null,
   "id": "30c2b540",
   "metadata": {},
   "outputs": [],
   "source": [
    "#sq.gr.spatial_neighbors(adata_late_death, coord_type = 'generic', n_neighs=4)\n",
    "#n_neighs=4, radius=2\n",
    "#delaunay"
   ]
  },
  {
   "cell_type": "code",
   "execution_count": null,
   "id": "b9bebd49",
   "metadata": {},
   "outputs": [],
   "source": [
    "sq.gr.nhood_enrichment(adata_early_death, cluster_key=\"pheno_cluster\", seed=1234, copy=False)"
   ]
  },
  {
   "cell_type": "code",
   "execution_count": null,
   "id": "978401f6",
   "metadata": {},
   "outputs": [],
   "source": [
    "sq.pl.nhood_enrichment(adata_early_death, cluster_key=\"pheno_cluster\", cmap='bwr', method='ward', mode='zscore', vmin=-4, vmax=4, save='NE_ED_zscore_pheno_cluster_ward.png') "
   ]
  },
  {
   "cell_type": "code",
   "execution_count": null,
   "id": "73e8b6fc",
   "metadata": {},
   "outputs": [],
   "source": [
    "sq.pl.nhood_enrichment(adata_early_death_merge, cluster_key=\"pheno_cluster\", vmax=4000, cmap='bwr', mode='count', save='NE_ED_count_pheno_cluster.png')"
   ]
  },
  {
   "cell_type": "markdown",
   "id": "aea03c3c",
   "metadata": {},
   "source": [
    "# Interaction Matrix"
   ]
  },
  {
   "cell_type": "code",
   "execution_count": null,
   "id": "c058d37b",
   "metadata": {},
   "outputs": [],
   "source": [
    "#The function computes the number of shared edges in the neighbor graph between clusters.\n",
    "sq.gr.interaction_matrix(adata_early_death_merge, cluster_key=\"pheno_cluster\", normalized=False)"
   ]
  },
  {
   "cell_type": "code",
   "execution_count": null,
   "id": "7b797b5e",
   "metadata": {},
   "outputs": [],
   "source": [
    "sq.pl.interaction_matrix(adata_early_death_merge, cluster_key=\"pheno_cluster\", vmax=4000, cmap='inferno',save='ED_interaction_matrix_pheno_cluster.pdf' )"
   ]
  },
  {
   "cell_type": "markdown",
   "id": "116b4559",
   "metadata": {},
   "source": [
    "# Ripley’s statistics"
   ]
  },
  {
   "cell_type": "code",
   "execution_count": null,
   "id": "8946113d",
   "metadata": {},
   "outputs": [],
   "source": [
    "mode = \"L\"\n",
    "sq.gr.ripley(adata_late_death_merge, cluster_key=\"pheno_cluster\", mode='L', max_dist=500, copy=False, seed=1234)"
   ]
  },
  {
   "cell_type": "code",
   "execution_count": null,
   "id": "92524536",
   "metadata": {},
   "outputs": [],
   "source": [
    "sq.pl.ripley(adata_late_death_merge, cluster_key=\"pheno_cluster\", mode=mode, save='LD_ripley_pheno_cluster.png')\n"
   ]
  },
  {
   "cell_type": "markdown",
   "id": "a75cd91f",
   "metadata": {},
   "source": [
    "# Centrality Scores"
   ]
  },
  {
   "cell_type": "code",
   "execution_count": null,
   "id": "4ddb9819",
   "metadata": {},
   "outputs": [],
   "source": [
    "sq.gr.centrality_scores(\n",
    "    adata_late_death_merge,\n",
    "    cluster_key=\"pheno_cluster\", copy=False\n",
    ")"
   ]
  },
  {
   "cell_type": "code",
   "execution_count": null,
   "id": "c5732c67",
   "metadata": {},
   "outputs": [],
   "source": [
    "sq.pl.centrality_scores(adata_late_death_merge, cluster_key=\"pheno_cluster\", figsize=(20, 10), s=500, save='LD_centrality_scores_pheno_cluster.png')\n"
   ]
  },
  {
   "cell_type": "markdown",
   "id": "ccec2c98",
   "metadata": {},
   "source": [
    "# Co-occurrence across spatial dimensions"
   ]
  },
  {
   "cell_type": "code",
   "execution_count": null,
   "id": "6ee9d765",
   "metadata": {},
   "outputs": [],
   "source": [
    "#Plot co-occurence score to visualize cluster co-occurrence in spatial dimensions using the original spatial coordinates. \n",
    "#We visualize the result for two conditional groups, here use the virus-infected cells.\n",
    "sq.gr.co_occurrence(adata_late_death_merge, cluster_key='pheno_cluster', spatial_key='spatial', n_steps=50, copy=False)"
   ]
  },
  {
   "cell_type": "code",
   "execution_count": null,
   "id": "a2292e7d",
   "metadata": {},
   "outputs": [],
   "source": [
    "#from matplotlib.colors import ListedColormap\n",
    "\n",
    "sq.pl.co_occurrence(\n",
    "    adata_late_death_merge,\n",
    "    cluster_key='pheno_cluster',\n",
    "    clusters=['Virus-infected Neutrophil'],\n",
    "    figsize=(20, 10), save='LD_ve_neutro_co_ocurrence.png'\n",
    ")\n",
    "\n",
    "#palette=colour_palette['colour']"
   ]
  },
  {
   "cell_type": "markdown",
   "id": "6c00e346",
   "metadata": {},
   "source": [
    "# Spatially variable proteins with spatial autocorrelation statistics"
   ]
  },
  {
   "cell_type": "code",
   "execution_count": null,
   "id": "21ab6551",
   "metadata": {},
   "outputs": [],
   "source": [
    "#two spatial autocorrelation statistics: Moran’s I and Geary’s C*. \n",
    "#They provide a score on the degree of spatial variability of gene expression. \n",
    "#The statistic as well as the p-value are computed for each gene, and FDR correction is performed. \n",
    "df = sq.gr.spatial_autocorr(adata_covid, mode=\"moran\")\n",
    "adata_covid.uns[\"moranI\"].head(50)"
   ]
  },
  {
   "cell_type": "markdown",
   "id": "772e53e9",
   "metadata": {},
   "source": [
    "# Voroni plots"
   ]
  },
  {
   "cell_type": "code",
   "execution_count": null,
   "id": "5f8644dd",
   "metadata": {},
   "outputs": [],
   "source": [
    "from voronoi_imc import draw_voronoi_scatter\n",
    "\n",
    "for i in adata_covid.obs['ROI'].unique().tolist():\n",
    "\n",
    "    spot = adata_late_death.obs[adata_late_death.obs['ROI']==i]\n",
    "\n",
    "    _ = draw_voronoi_scatter(spot=spot,\n",
    "                             c=[],\n",
    "                             voronoi_palette = 'pheno_cluster',\n",
    "                             X='X_loc',\n",
    "                             Y='Y_loc',\n",
    "                             voronoi_hue='pheno_cluster')\n",
    "    plt.savefig(str(i)+'.png')"
   ]
  },
  {
   "cell_type": "code",
   "execution_count": null,
   "id": "8b6fd9d6",
   "metadata": {},
   "outputs": [],
   "source": [
    "#stack bar code and extracting number of cells, distribution of each cluster per case or the cluster composition per case\n",
    "#for number of cells - don't use normalize\n",
    "#for distribution of each case per cluster - use normalize = \"index\"\n",
    "#for cluster composition per case - use normalize = \"columns\"\n",
    "tmp = pd.crosstab(adata_subset3.obs['pheno_cluster'],adata_subset3.obs['Type'], margins=False, margins_name='Total', normalize='columns')"
   ]
  },
  {
   "cell_type": "code",
   "execution_count": null,
   "id": "6220ef5b",
   "metadata": {},
   "outputs": [],
   "source": [
    "tmp"
   ]
  },
  {
   "cell_type": "code",
   "execution_count": null,
   "id": "b9be1c32",
   "metadata": {},
   "outputs": [],
   "source": [
    "tmp2 = tmp.reindex(['Virus-infected Epithelial cell', 'Virus-infected AT2 cell', 'IL1IL6 Virus-infected AT2 cell','Virus-infected Alveolar Macrophage','Virus-infected Interstitial Macrophage', 'Virus-Infected Monocyte', 'Virus-infected Neutrophil',\n",
    "                   'Virus-infected CD56LowNK cell', 'Virus-infected CD56High NK cell', 'AT2 cell', 'Epithelial cell', 'EC', 'Activated EC', \n",
    "                   'Alveolar Macrophage', 'Interstitial Macrophage', 'Monocyte', 'Neutrophil', 'Mast cell','Dendritic cell', 'NK cell', 'CD4 T cell', 'CD8 T cell', 'Proliferative CD8 T cell', 'B cell', \n",
    "                   'Fibroblast', 'SM cell','Mesenchymal'])"
   ]
  },
  {
   "cell_type": "code",
   "execution_count": null,
   "id": "ba2ab381",
   "metadata": {},
   "outputs": [],
   "source": [
    "tmp3 = pd.DataFrame.transpose(tmp2)"
   ]
  },
  {
   "cell_type": "code",
   "execution_count": null,
   "id": "d1805259",
   "metadata": {},
   "outputs": [],
   "source": [
    "#color for stack bars for the disease groups matching the other bar graphs\n",
    "#F08080 - light coral\n",
    "#87CEFA - lightskyblue\n",
    "#D3D3D3 - lightgrey\n",
    "\n",
    "pretty_colors = ['#F08080','#87CEFA','#D3D3D3']\n",
    "color_pal = sb.color_palette('Spectral', 28)\n",
    "\n",
    "tmp3.plot.bar(stacked=True,color=color_pal, figsize=(4, 4)).legend(bbox_to_anchor=(1, 1))"
   ]
  },
  {
   "cell_type": "code",
   "execution_count": null,
   "id": "97bb5799",
   "metadata": {},
   "outputs": [],
   "source": []
  }
 ],
 "metadata": {
  "kernelspec": {
   "display_name": "Python 3 (ipykernel)",
   "language": "python",
   "name": "python3"
  },
  "language_info": {
   "codemirror_mode": {
    "name": "ipython",
    "version": 3
   },
   "file_extension": ".py",
   "mimetype": "text/x-python",
   "name": "python",
   "nbconvert_exporter": "python",
   "pygments_lexer": "ipython3",
   "version": "3.9.13"
  }
 },
 "nbformat": 4,
 "nbformat_minor": 5
}
