{
 "cells": [
  {
   "cell_type": "markdown",
   "id": "47de7662",
   "metadata": {},
   "source": [
    "# Import libraries and setup"
   ]
  },
  {
   "cell_type": "code",
   "execution_count": null,
   "id": "2d068d52",
   "metadata": {
    "scrolled": true
   },
   "outputs": [],
   "source": [
    "# Import libraries we may need\n",
    "import scanpy as sc\n",
    "import numpy as np\n",
    "import scipy as sp\n",
    "import pandas as pd\n",
    "import matplotlib.pyplot as plt\n",
    "from matplotlib import rcParams\n",
    "from matplotlib import colors\n",
    "import seaborn as sb\n",
    "import scanpy.external as sce\n",
    "import wget\n",
    "import yaml\n",
    "import wget\n",
    "import astir\n",
    "import dill\n",
    "#import umap\n",
    "#import fa2\n",
    "#reducer = umap.UMAP()\n",
    "import squidpy as sq\n",
    "import anndata as ad\n",
    "from scipy.sparse import block_diag\n",
    "from mofapy2.run.entry_point import entry_point\n",
    "\n",
    "#My module for importing IMC data into AnnData format\n",
    "import mikeimc as mimc"
   ]
  },
  {
   "cell_type": "code",
   "execution_count": null,
   "id": "a95e24c1",
   "metadata": {
    "scrolled": true
   },
   "outputs": [],
   "source": [
    "# Set up output figure settings\n",
    "plt.rcParams['figure.figsize']=(64,64) #rescale figures, increase sizehere\n",
    "\n",
    "# Set up scanpy settings\n",
    "sc.settings.verbosity = 3\n",
    "sc.set_figure_params(dpi=100, dpi_save=300) #Increase DPI for better resolution figures\n",
    "#sc.logging.print_versions()"
   ]
  },
  {
   "cell_type": "code",
   "execution_count": null,
   "id": "ce03f9ba",
   "metadata": {
    "scrolled": true
   },
   "outputs": [],
   "source": [
    "#load the session\n",
    "dill.load_session('DC_notebook_iteration3_SQUIDPY.db')"
   ]
  },
  {
   "cell_type": "code",
   "execution_count": null,
   "id": "c58deb5b",
   "metadata": {
    "scrolled": true
   },
   "outputs": [],
   "source": [
    "#save the session\n",
    "dill.dump_session('DC_notebook_iteration3_SQUIDPY.db')"
   ]
  },
  {
   "cell_type": "code",
   "execution_count": null,
   "id": "aadb1c54",
   "metadata": {},
   "outputs": [],
   "source": [
    "#this object does not contain RBCs and non-covid ROIs\n",
    "adata_subset4 = ad.read('./Analysis/9_SpOOx/adata_subset4.h5ad')"
   ]
  },
  {
   "cell_type": "markdown",
   "id": "5aeaa9dd",
   "metadata": {},
   "source": [
    "# Squidpy - neighbourhood analysis"
   ]
  },
  {
   "cell_type": "code",
   "execution_count": null,
   "id": "12e5151b",
   "metadata": {
    "scrolled": true
   },
   "outputs": [],
   "source": [
    "#The .copy() makes a completely seperate copy for neigh analysis\n",
    "adata_subset4 = adata_subset3.copy()"
   ]
  },
  {
   "cell_type": "code",
   "execution_count": null,
   "id": "9771c164",
   "metadata": {},
   "outputs": [],
   "source": [
    "adata_subset4 = ad.read('adata_subset4.h5ad')"
   ]
  },
  {
   "cell_type": "code",
   "execution_count": null,
   "id": "497bdd1d",
   "metadata": {
    "scrolled": true
   },
   "outputs": [],
   "source": [
    "adata_subset4"
   ]
  },
  {
   "cell_type": "code",
   "execution_count": null,
   "id": "3892f38b",
   "metadata": {
    "scrolled": true
   },
   "outputs": [],
   "source": [
    "adata_subset4.obs['pheno_cluster']"
   ]
  },
  {
   "cell_type": "code",
   "execution_count": null,
   "id": "3ed0a158",
   "metadata": {
    "scrolled": true
   },
   "outputs": [],
   "source": [
    "col_df = pd.read_csv('mikeimc_approach/colours/pheno_colours.csv')\n",
    "colour_palette = col_df.set_index('pheno_cluster').to_dict()\n",
    "colour_palette['colour']"
   ]
  },
  {
   "cell_type": "code",
   "execution_count": null,
   "id": "2be70c5a",
   "metadata": {
    "scrolled": true
   },
   "outputs": [],
   "source": [
    "#create a copy of anndata and remove the RBC cluster\n",
    "adata_subset5 = adata_subset4.copy()\n",
    "adata_subset5 = adata_subset5[~adata_subset5.obs['pheno_cluster'].isin(['RBC']),:].copy()"
   ]
  },
  {
   "cell_type": "code",
   "execution_count": null,
   "id": "c05e6b0e",
   "metadata": {
    "scrolled": true
   },
   "outputs": [],
   "source": [
    "#save anndata objects\n",
    "adata_subset4.write('adata_subset4')\n",
    "adata_subset5.write('adata_subset5')"
   ]
  },
  {
   "cell_type": "code",
   "execution_count": null,
   "id": "483fdd7d",
   "metadata": {
    "scrolled": true
   },
   "outputs": [],
   "source": [
    "adata_subset5 = ad.read('adata_subset5')"
   ]
  },
  {
   "cell_type": "code",
   "execution_count": null,
   "id": "76e38fc6",
   "metadata": {
    "scrolled": true
   },
   "outputs": [],
   "source": [
    "#This code further filters the data by removing other groups\n",
    "#The ~ sign indicates to the code to not include what is in the selection\n",
    "#remove the ~ sign to include what is in the selection\n",
    "adata_non_covid = adata_subset5[~adata_subset5.obs['Type'].isin(['Early death', 'Late death']),:].copy()\n",
    "adata_non_covid = adata_non_covid[~adata_non_covid.obs['pheno_cluster'].isin(['Virus-infected Epithelial cell']),:].copy()"
   ]
  },
  {
   "cell_type": "code",
   "execution_count": null,
   "id": "3b80285f",
   "metadata": {
    "scrolled": true
   },
   "outputs": [],
   "source": [
    "#keep all covid cases\n",
    "adata_covid = adata_subset5[~adata_subset5.obs['Type'].isin(['Non_COVID']),:].copy()"
   ]
  },
  {
   "cell_type": "code",
   "execution_count": null,
   "id": "5ed030fc",
   "metadata": {
    "scrolled": true
   },
   "outputs": [],
   "source": [
    "#This code further filters the data by removing other groups\n",
    "adata_early_death = adata_subset4[~adata_subset4.obs['Type'].isin(['Non_COVID', 'Late death']),:].copy()"
   ]
  },
  {
   "cell_type": "code",
   "execution_count": null,
   "id": "98440800",
   "metadata": {
    "scrolled": true
   },
   "outputs": [],
   "source": [
    "#This code further filters the data by removing other groups\n",
    "adata_late_death = adata_subset4[~adata_subset4.obs['Type'].isin(['Non_COVID', 'Early death']),:].copy()"
   ]
  },
  {
   "cell_type": "code",
   "execution_count": null,
   "id": "5900e511",
   "metadata": {
    "scrolled": true
   },
   "outputs": [],
   "source": [
    "adata_late_death"
   ]
  },
  {
   "cell_type": "code",
   "execution_count": null,
   "id": "320f3560",
   "metadata": {},
   "outputs": [],
   "source": [
    "adata_early_death"
   ]
  },
  {
   "cell_type": "code",
   "execution_count": null,
   "id": "248e483e",
   "metadata": {},
   "outputs": [],
   "source": [
    "#save anndata objects\n",
    "adata_early_death.write('adata_ED.h5ad')\n",
    "adata_late_death.write('adata_LD.h5ad')"
   ]
  },
  {
   "cell_type": "code",
   "execution_count": null,
   "id": "4fe3aba6",
   "metadata": {},
   "outputs": [],
   "source": [
    "adata_early_death = ad.read('./Analysis/6_imcrtools/adata_ED.h5ad')\n",
    "adata_late_death = ad.read('./Analysis/6_imcrtools/adata_LD.h5ad')"
   ]
  },
  {
   "cell_type": "code",
   "execution_count": null,
   "id": "5e628308",
   "metadata": {},
   "outputs": [],
   "source": [
    "adata_early_death.write_csvs(dirname='./adata_ED', skip_data=False)\n",
    "adata_late_death.write_csvs(dirname='./adata_LD', skip_data=False)"
   ]
  },
  {
   "cell_type": "markdown",
   "id": "8e1adab8",
   "metadata": {},
   "source": [
    "# Subset anndata to run Squidpy analysis in batch"
   ]
  },
  {
   "cell_type": "code",
   "execution_count": null,
   "id": "a7eb1a4e",
   "metadata": {
    "scrolled": true
   },
   "outputs": [],
   "source": [
    "adata_non_covid.obs[\"ROI\"]"
   ]
  },
  {
   "cell_type": "code",
   "execution_count": null,
   "id": "b7ef9159",
   "metadata": {
    "scrolled": true
   },
   "outputs": [],
   "source": [
    "adata_non_covid1 = adata_non_covid[adata_non_covid.obs['ROI'].isin(['N18_ROI1'])].copy()\n",
    "adata_non_covid2 = adata_non_covid[adata_non_covid.obs['ROI'].isin(['N18_ROI2'])].copy()\n",
    "adata_non_covid3 = adata_non_covid[adata_non_covid.obs['ROI'].isin(['N18_ROI3'])].copy()\n",
    "adata_non_covid4 = adata_non_covid[adata_non_covid.obs['ROI'].isin(['N18_ROI4'])].copy()"
   ]
  },
  {
   "cell_type": "code",
   "execution_count": null,
   "id": "d3fef947",
   "metadata": {
    "scrolled": true
   },
   "outputs": [],
   "source": [
    "adata_list = adata_non_covid1, adata_non_covid2, adata_non_covid3, adata_non_covid4\n",
    "\n",
    "for a in adata_list:\n",
    "    sq.gr.spatial_neighbors(a, coord_type = 'generic', n_neighs=4)"
   ]
  },
  {
   "cell_type": "code",
   "execution_count": null,
   "id": "7f52959e",
   "metadata": {
    "scrolled": true
   },
   "outputs": [],
   "source": [
    "adata_non_covid_merge = ad.concat(adata_list, uns_merge='same')"
   ]
  },
  {
   "cell_type": "code",
   "execution_count": null,
   "id": "7d3d88da",
   "metadata": {
    "scrolled": true
   },
   "outputs": [],
   "source": [
    "adata_non_covid_merge.obsp['spatial_connectivities'] = block_diag([a.obsp['spatial_connectivities'] for a in adata_list]).tocsr()\n",
    "adata_non_covid_merge.obsp['spatial_distances'] = block_diag([a.obsp['spatial_distances'] for a in adata_list]).tocsr()"
   ]
  },
  {
   "cell_type": "code",
   "execution_count": null,
   "id": "b4b74df5",
   "metadata": {
    "scrolled": true
   },
   "outputs": [],
   "source": [
    "#Change type to categorical\n",
    "adata_non_covid_merge.obs['pheno_cluster']=adata_non_covid_merge.obs['pheno_cluster'].astype('category')"
   ]
  },
  {
   "cell_type": "code",
   "execution_count": null,
   "id": "b1e5a8c4",
   "metadata": {
    "scrolled": true
   },
   "outputs": [],
   "source": [
    "adata_covid.obs[\"ROI\"]"
   ]
  },
  {
   "cell_type": "code",
   "execution_count": null,
   "id": "7459f227",
   "metadata": {
    "scrolled": true
   },
   "outputs": [],
   "source": [
    "adata_covid1 = adata_covid[adata_covid.obs['ROI'].isin(['C07_ROI1'])].copy()\n",
    "adata_covid2 = adata_covid[adata_covid.obs['ROI'].isin(['C07_ROI2'])].copy()\n",
    "adata_covid3 = adata_covid[adata_covid.obs['ROI'].isin(['C07_ROI3'])].copy()\n",
    "adata_covid4 = adata_covid[adata_covid.obs['ROI'].isin(['C07_ROI4'])].copy()\n",
    "adata_covid5 = adata_covid[adata_covid.obs['ROI'].isin(['C16_ROI1'])].copy()\n",
    "adata_covid6 = adata_covid[adata_covid.obs['ROI'].isin(['C16_ROI2'])].copy()\n",
    "adata_covid7 = adata_covid[adata_covid.obs['ROI'].isin(['C16_ROI3'])].copy()\n",
    "adata_covid8 = adata_covid[adata_covid.obs['ROI'].isin(['C16_ROI4'])].copy()\n",
    "adata_covid9 = adata_covid[adata_covid.obs['ROI'].isin(['C12_ROI1'])].copy()\n",
    "adata_covid10 = adata_covid[adata_covid.obs['ROI'].isin(['C12_ROI2'])].copy()\n",
    "adata_covid11 = adata_covid[adata_covid.obs['ROI'].isin(['C12_ROI3'])].copy()\n",
    "adata_covid12 = adata_covid[adata_covid.obs['ROI'].isin(['C12_ROI4'])].copy()\n",
    "adata_covid13 = adata_covid[adata_covid.obs['ROI'].isin(['C13_ROI1'])].copy()\n",
    "adata_covid14 = adata_covid[adata_covid.obs['ROI'].isin(['C13_ROI2'])].copy()\n",
    "adata_covid15 = adata_covid[adata_covid.obs['ROI'].isin(['C13_ROI3'])].copy()\n",
    "adata_covid16 = adata_covid[adata_covid.obs['ROI'].isin(['C13_ROI4'])].copy()\n",
    "adata_covid17 = adata_covid[adata_covid.obs['ROI'].isin(['C21_ROI1'])].copy()\n",
    "adata_covid18 = adata_covid[adata_covid.obs['ROI'].isin(['C21_ROI2'])].copy()\n",
    "adata_covid19 = adata_covid[adata_covid.obs['ROI'].isin(['C21_ROI4'])].copy()\n",
    "adata_covid20 = adata_covid[adata_covid.obs['ROI'].isin(['C22_ROI1'])].copy()\n",
    "adata_covid21 = adata_covid[adata_covid.obs['ROI'].isin(['C22_ROI2'])].copy()\n",
    "adata_covid22 = adata_covid[adata_covid.obs['ROI'].isin(['C22_ROI3'])].copy()\n",
    "adata_covid23 = adata_covid[adata_covid.obs['ROI'].isin(['C22_ROI4'])].copy()\n",
    "adata_covid24 = adata_covid[adata_covid.obs['ROI'].isin(['C27_ROI1'])].copy()\n",
    "adata_covid25 = adata_covid[adata_covid.obs['ROI'].isin(['C27_ROI2'])].copy()\n",
    "adata_covid26 = adata_covid[adata_covid.obs['ROI'].isin(['C27_ROI3'])].copy()\n",
    "adata_covid27 = adata_covid[adata_covid.obs['ROI'].isin(['C27_ROI4'])].copy()\n",
    "adata_covid28 = adata_covid[adata_covid.obs['ROI'].isin(['C29_ROI2'])].copy()\n",
    "adata_covid29 = adata_covid[adata_covid.obs['ROI'].isin(['C29_ROI3'])].copy()\n",
    "adata_covid30 = adata_covid[adata_covid.obs['ROI'].isin(['C29_ROI4'])].copy()"
   ]
  },
  {
   "cell_type": "code",
   "execution_count": null,
   "id": "a57f951d",
   "metadata": {
    "scrolled": true
   },
   "outputs": [],
   "source": [
    "#save adata for specific ROIs to play in the ATHENA package\n",
    "#adata_covid13.write('adata_C13_ROI1')\n",
    "#adata_covid14.write('adata_C13_ROI2')\n",
    "#adata_covid15.write('adata_C13_ROI3')\n",
    "#adata_covid16.write('adata_C13_ROI4')\n",
    "\n",
    "adata_covid1.write('adata_C07_ROI1')\n",
    "adata_covid2.write('adata_C07_ROI2')\n",
    "adata_covid3.write('adata_C07_ROI3')\n",
    "adata_covid4.write('adata_C07_ROI4')\n",
    "adata_covid5.write('adata_C16_ROI1')\n",
    "adata_covid6.write('adata_C16_ROI2')\n",
    "adata_covid7.write('adata_C16_ROI3')\n",
    "adata_covid8.write('adata_C16_ROI4')\n",
    "adata_covid9.write('adata_C12_ROI1')\n",
    "adata_covid10.write('adata_C12_ROI2')\n",
    "adata_covid11.write('adata_C12_ROI3')\n",
    "adata_covid12.write('adata_C12_ROI4')\n",
    "adata_covid17.write('adata_C21_ROI1')\n",
    "adata_covid18.write('adata_C21_ROI2')\n",
    "adata_covid19.write('adata_C21_ROI4')\n",
    "adata_covid20.write('adata_C22_ROI1')\n",
    "adata_covid21.write('adata_C22_ROI2')\n",
    "adata_covid22.write('adata_C22_ROI3')\n",
    "adata_covid23.write('adata_C22_ROI4')\n",
    "adata_covid24.write('adata_C27_ROI1')\n",
    "adata_covid25.write('adata_C27_ROI2')\n",
    "adata_covid26.write('adata_C27_ROI3')\n",
    "adata_covid27.write('adata_C27_ROI4')\n",
    "adata_covid28.write('adata_C29_ROI2')\n",
    "adata_covid29.write('adata_C29_ROI3')\n",
    "adata_covid30.write('adata_C29_ROI4')"
   ]
  },
  {
   "cell_type": "code",
   "execution_count": null,
   "id": "cd368029",
   "metadata": {
    "scrolled": false
   },
   "outputs": [],
   "source": [
    "adata_list2 = adata_covid1, adata_covid2, adata_covid3, adata_covid4, adata_covid5, adata_covid6, adata_covid7, adata_covid8, adata_covid9, adata_covid10, adata_covid11, adata_covid12, adata_covid13, adata_covid14, adata_covid15, adata_covid16, adata_covid17, adata_covid18, adata_covid19, adata_covid20, adata_covid21, adata_covid22, adata_covid23, adata_covid24, adata_covid25, adata_covid26, adata_covid27, adata_covid28, adata_covid29, adata_covid30\n",
    "for a in adata_list2:\n",
    "    sq.gr.spatial_neighbors(a, coord_type = 'generic', n_neighs=4)"
   ]
  },
  {
   "cell_type": "code",
   "execution_count": null,
   "id": "b404f0a4",
   "metadata": {
    "scrolled": false
   },
   "outputs": [],
   "source": [
    "adata_covid_merge = ad.concat(adata_list2, uns_merge='same')"
   ]
  },
  {
   "cell_type": "code",
   "execution_count": null,
   "id": "b6b27e28",
   "metadata": {
    "scrolled": false
   },
   "outputs": [],
   "source": [
    "adata_covid_merge.obsp['spatial_connectivities'] = block_diag([a.obsp['spatial_connectivities'] for a in adata_list2]).tocsr()\n",
    "adata_covid_merge.obsp['spatial_distances'] = block_diag([a.obsp['spatial_distances'] for a in adata_list2]).tocsr()"
   ]
  },
  {
   "cell_type": "code",
   "execution_count": null,
   "id": "25662bdf",
   "metadata": {
    "scrolled": true
   },
   "outputs": [],
   "source": [
    "#Change type to categorical\n",
    "adata_covid_merge.obs['pheno_cluster']=adata_covid_merge.obs['pheno_cluster'].astype('category')"
   ]
  },
  {
   "cell_type": "code",
   "execution_count": null,
   "id": "5df1a345",
   "metadata": {
    "scrolled": true
   },
   "outputs": [],
   "source": [
    "adata_late_death1 = adata_late_death[adata_late_death.obs['ROI'].isin(['C07_ROI1'])].copy()\n",
    "adata_late_death2 = adata_late_death[adata_late_death.obs['ROI'].isin(['C07_ROI2'])].copy()\n",
    "adata_late_death3 = adata_late_death[adata_late_death.obs['ROI'].isin(['C07_ROI3'])].copy()\n",
    "adata_late_death4 = adata_late_death[adata_late_death.obs['ROI'].isin(['C07_ROI4'])].copy()\n",
    "adata_late_death5 = adata_late_death[adata_late_death.obs['ROI'].isin(['C16_ROI1'])].copy()\n",
    "adata_late_death6 = adata_late_death[adata_late_death.obs['ROI'].isin(['C16_ROI2'])].copy()\n",
    "adata_late_death7 = adata_late_death[adata_late_death.obs['ROI'].isin(['C16_ROI3'])].copy()\n",
    "adata_late_death8 = adata_late_death[adata_late_death.obs['ROI'].isin(['C16_ROI4'])].copy()"
   ]
  },
  {
   "cell_type": "code",
   "execution_count": null,
   "id": "cbd602b4",
   "metadata": {
    "scrolled": true
   },
   "outputs": [],
   "source": [
    "adata_list3 = adata_late_death1, adata_late_death2, adata_late_death3, adata_late_death4, adata_late_death5, adata_late_death6, adata_late_death7, adata_late_death8\n",
    "for a in adata_list3:\n",
    "    sq.gr.spatial_neighbors(a, coord_type = 'generic', n_neighs=4)\n",
    "    sq.gr.nhood_enrichment(a, cluster_key=\"pheno_cluster\", seed=1234, copy=False)"
   ]
  },
  {
   "cell_type": "code",
   "execution_count": null,
   "id": "961b2289",
   "metadata": {
    "scrolled": true
   },
   "outputs": [],
   "source": [
    "adata_late_death_merge = ad.concat(adata_list3, uns_merge='same')"
   ]
  },
  {
   "cell_type": "code",
   "execution_count": null,
   "id": "ff791b70",
   "metadata": {
    "scrolled": true
   },
   "outputs": [],
   "source": [
    "adata_late_death_merge.obsp['spatial_connectivities'] = block_diag([a.obsp['spatial_connectivities'] for a in adata_list3]).tocsr()\n",
    "adata_late_death_merge.obsp['spatial_distances'] = block_diag([a.obsp['spatial_distances'] for a in adata_list3]).tocsr()"
   ]
  },
  {
   "cell_type": "code",
   "execution_count": null,
   "id": "174d262c",
   "metadata": {
    "scrolled": true
   },
   "outputs": [],
   "source": [
    "#Change type to categorical\n",
    "adata_late_death_merge.obs['pheno_cluster'] = adata_late_death_merge.obs['pheno_cluster'].astype('category')"
   ]
  },
  {
   "cell_type": "code",
   "execution_count": null,
   "id": "2e36d65c",
   "metadata": {},
   "outputs": [],
   "source": [
    "#Re-annotation of the clusters in a dictionary file\n",
    "\n",
    "covid_dict = pd.read_csv('mikeimc_approach/Dictionaries/covid_pheno_cluster_edited_dict.csv')\n",
    "ep = covid_dict.set_index('pheno_cluster').to_dict()\n",
    "\n",
    "adata_late_death_merge.obs['pheno_cluster_edited']=adata_late_death_merge.obs['pheno_cluster'].map(ep['Cell_Class'])\n",
    "\n",
    "adata_late_death_merge.obs['pheno_cluster_edited']=adata_late_death_merge.obs['pheno_cluster_edited'].astype('category')"
   ]
  },
  {
   "cell_type": "code",
   "execution_count": null,
   "id": "cdc0bfcd",
   "metadata": {},
   "outputs": [],
   "source": []
  },
  {
   "cell_type": "code",
   "execution_count": null,
   "id": "597e957b",
   "metadata": {
    "scrolled": true
   },
   "outputs": [],
   "source": [
    "adata_early_death1 = adata_early_death[adata_early_death.obs['ROI'].isin(['C12_ROI1'])].copy()\n",
    "adata_early_death2 = adata_early_death[adata_early_death.obs['ROI'].isin(['C12_ROI2'])].copy()\n",
    "adata_early_death3 = adata_early_death[adata_early_death.obs['ROI'].isin(['C12_ROI3'])].copy()\n",
    "adata_early_death4 = adata_early_death[adata_early_death.obs['ROI'].isin(['C12_ROI4'])].copy()\n",
    "adata_early_death5 = adata_early_death[adata_early_death.obs['ROI'].isin(['C13_ROI1'])].copy()\n",
    "adata_early_death6 = adata_early_death[adata_early_death.obs['ROI'].isin(['C13_ROI2'])].copy()\n",
    "adata_early_death7 = adata_early_death[adata_early_death.obs['ROI'].isin(['C13_ROI3'])].copy()\n",
    "adata_early_death8 = adata_early_death[adata_early_death.obs['ROI'].isin(['C13_ROI4'])].copy()\n",
    "adata_early_death9 = adata_early_death[adata_early_death.obs['ROI'].isin(['C21_ROI1'])].copy()\n",
    "adata_early_death10 = adata_early_death[adata_early_death.obs['ROI'].isin(['C21_ROI2'])].copy()\n",
    "adata_early_death11 = adata_early_death[adata_early_death.obs['ROI'].isin(['C21_ROI4'])].copy()\n",
    "adata_early_death12 = adata_early_death[adata_early_death.obs['ROI'].isin(['C22_ROI1'])].copy()\n",
    "adata_early_death13 = adata_early_death[adata_early_death.obs['ROI'].isin(['C22_ROI2'])].copy()\n",
    "adata_early_death14 = adata_early_death[adata_early_death.obs['ROI'].isin(['C22_ROI3'])].copy()\n",
    "adata_early_death15 = adata_early_death[adata_early_death.obs['ROI'].isin(['C22_ROI4'])].copy()\n",
    "adata_early_death16 = adata_early_death[adata_early_death.obs['ROI'].isin(['C27_ROI1'])].copy()\n",
    "adata_early_death17 = adata_early_death[adata_early_death.obs['ROI'].isin(['C27_ROI2'])].copy()\n",
    "adata_early_death18 = adata_early_death[adata_early_death.obs['ROI'].isin(['C27_ROI3'])].copy()\n",
    "adata_early_death19 = adata_early_death[adata_early_death.obs['ROI'].isin(['C27_ROI4'])].copy()\n",
    "adata_early_death20 = adata_early_death[adata_early_death.obs['ROI'].isin(['C29_ROI2'])].copy()\n",
    "adata_early_death21 = adata_early_death[adata_early_death.obs['ROI'].isin(['C29_ROI3'])].copy()\n",
    "adata_early_death22 = adata_early_death[adata_early_death.obs['ROI'].isin(['C29_ROI4'])].copy()"
   ]
  },
  {
   "cell_type": "code",
   "execution_count": null,
   "id": "709cf5c3",
   "metadata": {
    "scrolled": true
   },
   "outputs": [],
   "source": [
    "adata_list4 = adata_early_death1, adata_early_death2, adata_early_death3, adata_early_death4, adata_early_death5, adata_early_death6, adata_early_death7, adata_early_death8, adata_early_death9, adata_early_death10, adata_early_death11, adata_early_death12, adata_early_death14, adata_early_death15, adata_early_death16, adata_early_death17, adata_early_death18, adata_early_death19, adata_early_death20, adata_early_death21, adata_early_death22\n",
    "for a in adata_list4:\n",
    "    sq.gr.spatial_neighbors(a, coord_type = 'generic', n_neighs=4)"
   ]
  },
  {
   "cell_type": "code",
   "execution_count": null,
   "id": "6ddb1908",
   "metadata": {
    "scrolled": true
   },
   "outputs": [],
   "source": [
    "adata_early_death_merge = ad.concat(adata_list4, uns_merge='same')"
   ]
  },
  {
   "cell_type": "code",
   "execution_count": null,
   "id": "f666a1dc",
   "metadata": {
    "scrolled": true
   },
   "outputs": [],
   "source": [
    "adata_early_death_merge.obsp['spatial_connectivities'] = block_diag([a.obsp['spatial_connectivities'] for a in adata_list4]).tocsr()\n",
    "adata_early_death_merge.obsp['spatial_distances'] = block_diag([a.obsp['spatial_distances'] for a in adata_list4]).tocsr()"
   ]
  },
  {
   "cell_type": "code",
   "execution_count": null,
   "id": "6b84d4b9",
   "metadata": {
    "scrolled": true
   },
   "outputs": [],
   "source": [
    "#Change type to categorical\n",
    "adata_early_death_merge.obs['pheno_cluster'] = adata_early_death_merge.obs['pheno_cluster'].astype('category')"
   ]
  },
  {
   "cell_type": "code",
   "execution_count": null,
   "id": "e247f88a",
   "metadata": {},
   "outputs": [],
   "source": [
    "#Re-annotation of the clusters in a dictionary file\n",
    "\n",
    "covid_dict = pd.read_csv('mikeimc_approach/Dictionaries/covid_pheno_cluster_edited_dict.csv')\n",
    "ep = covid_dict.set_index('pheno_cluster').to_dict()\n",
    "\n",
    "adata_early_death_merge.obs['pheno_cluster_edited']=adata_early_death_merge.obs['pheno_cluster'].map(ep['Cell_Class'])\n",
    "\n",
    "adata_early_death_merge.obs['pheno_cluster_edited']=adata_early_death_merge.obs['pheno_cluster_edited'].astype('category')"
   ]
  },
  {
   "cell_type": "code",
   "execution_count": null,
   "id": "411fd40e",
   "metadata": {},
   "outputs": [],
   "source": [
    "col_df = pd.read_csv('mikeimc_approach/colours/pheno_colours.csv')\n",
    "colour_palette = col_df.set_index('pheno_cluster').to_dict()\n",
    "colour_palette['colour']"
   ]
  },
  {
   "cell_type": "markdown",
   "id": "410877a7",
   "metadata": {},
   "source": [
    "# Run Squidpy in batch"
   ]
  },
  {
   "cell_type": "code",
   "execution_count": null,
   "id": "91dc83b0",
   "metadata": {
    "scrolled": true
   },
   "outputs": [],
   "source": [
    "import nhood_enrich as ne\n",
    "import nhood_enrich_radius as nr\n",
    "ne.nhood_enrichment_hyperion(adata_early_death,'pheno_cluster','ROI',average_over_rois=True)\n",
    "\n",
    "#nr.nhood_enrichment_hyperion(adata_early_death,'pheno_cluster','ROI',average_over_rois=True)"
   ]
  },
  {
   "cell_type": "code",
   "execution_count": null,
   "id": "e2fa13be",
   "metadata": {
    "scrolled": true
   },
   "outputs": [],
   "source": [
    "sq.pl.nhood_enrichment(adata_early_death, cluster_key=\"pheno_cluster\", cmap='bwr', mode='zscore', vmin=-2, vmax=2, palette = colour_palette['colour'], save='NE_ED_zscore_pheno_cluster_average.pdf')\n",
    "#method='ward', "
   ]
  },
  {
   "cell_type": "code",
   "execution_count": null,
   "id": "2f39fc25",
   "metadata": {},
   "outputs": [],
   "source": [
    "#RUN NE per covid case instead of disease group to extract the z-scores for specific clusters interactions to be added in the integration analysis with IHC data\n",
    "#prepare lists of adata objects per Case\n",
    "\n",
    "adata_C07 = adata_covid[adata_covid.obs['ROI'].isin(['C07_ROI1', 'C07_ROI2', 'C07_ROI3', 'C07_ROI4'])].copy()\n",
    "adata_C16 = adata_covid[adata_covid.obs['ROI'].isin(['C16_ROI1', 'C16_ROI2', 'C16_ROI3', 'C16_ROI4'])].copy()\n",
    "adata_C12 = adata_covid[adata_covid.obs['ROI'].isin(['C12_ROI1', 'C12_ROI2', 'C12_ROI3', 'C12_ROI4'])].copy()\n",
    "adata_C13 = adata_covid[adata_covid.obs['ROI'].isin(['C13_ROI1', 'C13_ROI2', 'C13_ROI3', 'C13_ROI4'])].copy()\n",
    "adata_C21 = adata_covid[adata_covid.obs['ROI'].isin(['C21_ROI1', 'C21_ROI2', 'C21_ROI4'])].copy()\n",
    "adata_C22 = adata_covid[adata_covid.obs['ROI'].isin(['C22_ROI1', 'C22_ROI2', 'C22_ROI3', 'C22_ROI4'])].copy()\n",
    "adata_C27 = adata_covid[adata_covid.obs['ROI'].isin(['C27_ROI1', 'C27_ROI2', 'C27_ROI3', 'C27_ROI4'])].copy()\n",
    "adata_C29 = adata_covid[adata_covid.obs['ROI'].isin(['C29_ROI2', 'C29_ROI3', 'C29_ROI4'])].copy()"
   ]
  },
  {
   "cell_type": "code",
   "execution_count": null,
   "id": "8e714959",
   "metadata": {},
   "outputs": [],
   "source": [
    "import nhood_enrich as ne\n",
    "ne.nhood_enrichment_hyperion(adata_covid17,'pheno_cluster','ROI',average_over_rois=True,run_initial=True)\n",
    "ne.nhood_enrichment_hyperion(adata_covid18,'pheno_cluster','ROI',average_over_rois=True,run_initial=True)\n",
    "ne.nhood_enrichment_hyperion(adata_covid19,'pheno_cluster','ROI',average_over_rois=True,run_initial=True)\n",
    "ne.nhood_enrichment_hyperion(adata_covid20,'pheno_cluster','ROI',average_over_rois=True,run_initial=True)"
   ]
  },
  {
   "cell_type": "code",
   "execution_count": null,
   "id": "4ec11702",
   "metadata": {},
   "outputs": [],
   "source": [
    "adata_covid30.uns['pheno_cluster_nhood_enrichment']"
   ]
  },
  {
   "cell_type": "code",
   "execution_count": null,
   "id": "90231d2d",
   "metadata": {
    "scrolled": true
   },
   "outputs": [],
   "source": [
    "sq.pl.nhood_enrichment(adata_covid20, cluster_key=\"pheno_cluster\", cmap='bwr', vmin=-2, vmax=2, mode='zscore', palette = colour_palette['colour']) "
   ]
  },
  {
   "cell_type": "markdown",
   "id": "e52c357e",
   "metadata": {},
   "source": [
    "# # Spatial neighbors and neighborhood enrichment"
   ]
  },
  {
   "cell_type": "code",
   "execution_count": null,
   "id": "30c2b540",
   "metadata": {
    "scrolled": true
   },
   "outputs": [],
   "source": [
    "sq.gr.spatial_neighbors(adata_early_death, coord_type = 'generic', n_neighs=4)\n",
    "#n_neighs=4, radius=2\n",
    "#delaunay"
   ]
  },
  {
   "cell_type": "code",
   "execution_count": null,
   "id": "b9bebd49",
   "metadata": {
    "scrolled": true
   },
   "outputs": [],
   "source": [
    "sq.gr.nhood_enrichment(adata_early_death, cluster_key=\"pheno_cluster\", seed=1234, copy=False)"
   ]
  },
  {
   "cell_type": "code",
   "execution_count": null,
   "id": "1db76b61",
   "metadata": {},
   "outputs": [],
   "source": [
    "adata_covid30.obs[\"ROI\"]"
   ]
  },
  {
   "cell_type": "code",
   "execution_count": null,
   "id": "7fc71a61",
   "metadata": {},
   "outputs": [],
   "source": [
    "fields=['C29_ROI4']\n",
    "for i in fields:\n",
    "    sc.pl.spatial(adata_covid[adata_covid.obs[\"ROI\"] == i], color ='pheno_cluster', neighbors_key=\"spatial_neighbors\", palette = colour_palette['colour'], spot_size=20, edges=True, edges_width=2, edges_color='black', img_key=None, title=i, add_outline=True,return_fig=True) "
   ]
  },
  {
   "cell_type": "code",
   "execution_count": null,
   "id": "978401f6",
   "metadata": {
    "scrolled": true
   },
   "outputs": [],
   "source": [
    "sq.pl.nhood_enrichment(adata_covid26, cluster_key=\"pheno_cluster\", cmap='bwr', mode='zscore', palette = colour_palette['colour']) \n",
    "\n",
    "#save='NE_COVID_zscore_pheno_cluster_ward.png')\n",
    "#method = 'ward',"
   ]
  },
  {
   "cell_type": "code",
   "execution_count": null,
   "id": "73e8b6fc",
   "metadata": {
    "scrolled": true
   },
   "outputs": [],
   "source": [
    "sq.pl.nhood_enrichment(adata_covid2, cluster_key=\"pheno_cluster\", vmax=100, cmap='bwr', palette = colour_palette['colour'], mode='count') \n",
    "                       #save='NE_LD_count_pheno_cluster.png')"
   ]
  },
  {
   "cell_type": "code",
   "execution_count": null,
   "id": "86032d9b",
   "metadata": {},
   "outputs": [],
   "source": [
    "adata_early_death"
   ]
  },
  {
   "cell_type": "code",
   "execution_count": null,
   "id": "e5412782",
   "metadata": {
    "scrolled": true
   },
   "outputs": [],
   "source": [
    "#Early death: use cases where there is no tissue image, compute a spatial graph based on a fixed neighbor radius that is informative given your experimental settings.\n",
    "#method: using outputs from Michael's function\n",
    "fields=['C12_ROI1','C12_ROI2','C12_ROI3','C12_ROI4','C13_ROI1','C13_ROI2','C13_ROI3','C13_ROI4',\n",
    "       'C21_ROI1','C21_ROI2','C21_ROI4','C22_ROI1','C22_ROI2','C22_ROI3','C22_ROI4',\n",
    "       'C27_ROI1','C27_ROI2','C27_ROI3','C27_ROI4','C29_ROI2','C29_ROI3','C29_ROI4']\n",
    "for i in fields:\n",
    "    sc.pl.spatial(adata_early_death[adata_early_death.obs[\"ROI\"] == i], color ='pheno_cluster', neighbors_key='spatial_neighbors', palette = colour_palette['colour'], spot_size=20, edges=True, edges_width=1, edges_color='black', img_key=None, title=i, add_outline=True,return_fig=True) "
   ]
  },
  {
   "cell_type": "code",
   "execution_count": null,
   "id": "2ed37e83",
   "metadata": {},
   "outputs": [],
   "source": [
    "#Early death: use cases where there is no tissue image, compute a spatial graph based on a fixed neighbor radius that is informative given your experimental settings.\n",
    "#method: using outputs from Michael's function and squidpy scatter function\n",
    "fields=['C12_ROI1','C12_ROI2','C12_ROI3','C12_ROI4','C13_ROI1','C13_ROI2','C13_ROI3','C13_ROI4',\n",
    "       'C21_ROI1','C21_ROI2','C21_ROI4','C22_ROI1','C22_ROI2','C22_ROI3','C22_ROI4',\n",
    "       'C27_ROI1','C27_ROI2','C27_ROI3','C27_ROI4','C29_ROI2','C29_ROI3','C29_ROI4']\n",
    "for i in fields:\n",
    "    sq.pl.spatial_scatter(adata_early_death[adata_early_death.obs[\"ROI\"] == i], shape=None, color ='pheno_cluster', palette=None, spatial_key='spatial', connectivity_key=\"spatial_connectivities\", size=20, edges_width=1, edges_color='black', title=i) "
   ]
  },
  {
   "cell_type": "code",
   "execution_count": null,
   "id": "e8c5ec27",
   "metadata": {},
   "outputs": [],
   "source": [
    "#Early death: use cases where there is no tissue image, compute a spatial graph based on a fixed neighbor radius that is informative given your experimental settings.\n",
    "#method: using outputs from Michael's function and selecting specific clusters of interactions\n",
    "fields=['C12_ROI1','C12_ROI2','C12_ROI3','C12_ROI4','C13_ROI1','C13_ROI2','C13_ROI3','C13_ROI4',\n",
    "       'C21_ROI1','C21_ROI2','C21_ROI4','C22_ROI1','C22_ROI2','C22_ROI3','C22_ROI4',\n",
    "       'C27_ROI1','C27_ROI2','C27_ROI3','C27_ROI4','C29_ROI2','C29_ROI3','C29_ROI4']\n",
    "for i in fields:\n",
    "    sc.pl.spatial(adata_early_death[adata_early_death.obs[\"ROI\"] == i], \n",
    "                  color ='pheno_cluster', \n",
    "                  palette = colour_palette['colour'], \n",
    "                  neighbors_key='spatial_neighbors', \n",
    "                  groups=[\"Interstitial Macrophage\", \"Virus-infected Epithelial cell\"], \n",
    "                  spot_size=30, edges=False, edges_width=10, edges_color='black',  na_color='white',\n",
    "                  img_key=None, title=i, add_outline=True,return_fig=True, save=str(i)+'.pdf') "
   ]
  },
  {
   "cell_type": "code",
   "execution_count": null,
   "id": "6dd6a7df",
   "metadata": {},
   "outputs": [],
   "source": [
    "#Late death: use cases where there is no tissue image, compute a spatial graph based on a fixed neighbor radius that is informative given your experimental settings.#\n",
    "#method: using outputs from Michael's function\n",
    "fields=['C07_ROI1','C07_ROI2','C07_ROI3','C07_ROI4',\n",
    "       'C16_ROI1','C16_ROI2','C16_ROI3','C16_ROI4']\n",
    "for i in fields:\n",
    "    sc.pl.spatial(adata_late_death[adata_late_death.obs[\"ROI\"] == i],\n",
    "                  color ='pheno_cluster', \n",
    "                  palette = colour_palette['colour'], \n",
    "                  neighbors_key='spatial_neighbors', \n",
    "                  groups=[\"CD66bHigh Neutrophil\", \"Virus-infected Epithelial cell\"], \n",
    "                  spot_size=30, edges=False, edges_width=10, edges_color='black',  na_color='white',\n",
    "                  img_key=None, title=i, add_outline=True,return_fig=True, save=str(i)+'.pdf')"
   ]
  },
  {
   "cell_type": "code",
   "execution_count": null,
   "id": "a667e427",
   "metadata": {
    "scrolled": false
   },
   "outputs": [],
   "source": [
    "#Early death: use cases where there is no tissue image, compute a spatial graph based on a fixed neighbor radius that is informative given your experimental settings.\n",
    "#method: using outputs from 10X Visium function and selecting specific clusters of interactions\n",
    "fields=['C12_ROI1','C12_ROI2','C12_ROI3','C12_ROI4','C13_ROI1','C13_ROI2','C13_ROI3','C13_ROI4',\n",
    "       'C21_ROI1','C21_ROI2','C21_ROI4','C22_ROI1','C22_ROI3','C22_ROI4',\n",
    "       'C27_ROI1','C27_ROI2','C27_ROI3','C27_ROI4','C29_ROI2','C29_ROI3','C29_ROI4']\n",
    "for i in fields:\n",
    "    sc.pl.spatial(adata_early_death_merge[adata_early_death_merge.obs[\"ROI\"] == i], color ='pheno_cluster_edited', palette = colour_palette['colour2'], neighbors_key=\"spatial_neighbors\", groups=[\"SARSCoV2+ Alveolar Macrophage\", \"Activated Endothelial cell\"], spot_size=30, edges=True, edges_width=1, edges_color='black', na_color=\"white\", na_in_legend=False, img_key=None, title=i, add_outline=True, outline_width=(0.3, 0.05), outline_color=('black', 'white'), return_fig=True) "
   ]
  },
  {
   "cell_type": "code",
   "execution_count": null,
   "id": "60c46e29",
   "metadata": {
    "scrolled": true
   },
   "outputs": [],
   "source": [
    "#Late death: use cases where there is no tissue image, compute a spatial graph based on a fixed neighbor radius that is informative given your experimental settings.#\n",
    "#method: using outputs from Michael's function\n",
    "fields=['C07_ROI1','C07_ROI2','C07_ROI3','C07_ROI4',\n",
    "       'C16_ROI1','C16_ROI2','C16_ROI3','C16_ROI4']\n",
    "for i in fields:\n",
    "    sc.pl.spatial(adata_late_death[adata_late_death.obs[\"ROI\"] == i], neighbors_key=\"spatial_neighbors\", palette = colour_palette['colour'], color=\"pheno_cluster\", spot_size=30, edges=True, edges_width=1, edges_color='black', na_color=\"white\", na_in_legend=False, img_key=None, title=i, add_outline=True, outline_width=(0.3, 0.05), outline_color=('black', 'white'), return_fig=True)    "
   ]
  },
  {
   "cell_type": "code",
   "execution_count": null,
   "id": "283cdeec",
   "metadata": {
    "scrolled": false
   },
   "outputs": [],
   "source": [
    "#Late death: use cases where there is no tissue image, compute a spatial graph based on a fixed neighbor radius that is informative given your experimental settings.\n",
    "#method: using outputs from 10X Visium function\n",
    "fields=['C07_ROI1','C07_ROI2','C07_ROI3','C07_ROI4',\n",
    "       'C16_ROI1','C16_ROI2','C16_ROI3','C16_ROI4']\n",
    "for i in fields:\n",
    "    sc.pl.spatial(adata_late_death_merge[adata_late_death_merge.obs[\"ROI\"] == i], neighbors_key=\"spatial_neighbors\", color=\"pheno_cluster_edited\", palette = colour_palette['colour2'], groups=[\"SARSCoV2+ Epithelial cell\"], spot_size=30, edges=True, edges_width=1, edges_color='black', na_color=\"white\", na_in_legend=False, img_key=None, title=i, add_outline=True, outline_width=(0.3, 0.05), outline_color=('black', 'white'), return_fig=True)\n",
    "    "
   ]
  },
  {
   "cell_type": "code",
   "execution_count": null,
   "id": "fac80305",
   "metadata": {
    "scrolled": true
   },
   "outputs": [],
   "source": [
    "#All COVID cases\n",
    "#method: using outputs from Michael's function\n",
    "fields=['C12_ROI1','C12_ROI2','C12_ROI3','C12_ROI4','C13_ROI1','C13_ROI2','C13_ROI3','C13_ROI4',\n",
    "       'C21_ROI1','C21_ROI2','C21_ROI4','C22_ROI1','C22_ROI2','C22_ROI3','C22_ROI4',\n",
    "       'C27_ROI1','C27_ROI2','C27_ROI3','C27_ROI4','C29_ROI2','C29_ROI3','C29_ROI4',\n",
    "       'C07_ROI1','C07_ROI2','C07_ROI3','C07_ROI4',\n",
    "       'C16_ROI1','C16_ROI2','C16_ROI3','C16_ROI4']\n",
    "for i in fields:\n",
    "    sc.pl.spatial(adata_covid[adata_covid.obs[\"ROI\"] == i], color ='pheno_cluster', palette = colour_palette['colour'], neighbors_key=\"spatial_neighbors\", spot_size=20, edges=True, edges_width=10, edges_color='black', img_key=None, title=i, add_outline=True,return_fig=True)\n",
    "    \n",
    "#groups=[\"Activated Endothelial cell\", \"Virus-infected Epithelial cell\"],"
   ]
  },
  {
   "cell_type": "code",
   "execution_count": null,
   "id": "5dd455c0",
   "metadata": {
    "scrolled": true
   },
   "outputs": [],
   "source": [
    "#All COVID cases\n",
    "#method: using outputs from 10X Visium function\n",
    "fields=['C12_ROI1','C12_ROI2','C12_ROI3','C12_ROI4','C13_ROI1','C13_ROI2','C13_ROI3','C13_ROI4',\n",
    "       'C21_ROI1','C21_ROI2','C21_ROI4','C22_ROI1','C22_ROI2','C22_ROI3','C22_ROI4',\n",
    "       'C27_ROI1','C27_ROI2','C27_ROI3','C27_ROI4','C29_ROI2','C29_ROI3','C29_ROI4',\n",
    "       'C07_ROI1','C07_ROI2','C07_ROI3','C07_ROI4',\n",
    "       'C16_ROI1','C16_ROI2','C16_ROI3','C16_ROI4']\n",
    "for i in fields:\n",
    "    sc.pl.spatial(adata_covid_merge[adata_covid_merge.obs[\"ROI\"] == i], color ='pheno_cluster', palette = colour_palette['colour'], neighbors_key=\"spatial_neighbors\", spot_size=30, edges=True, edges_width=1, edges_color='black', img_key=None, title=i, add_outline=True,return_fig=True)\n",
    "\n",
    "#groups=[\"Virus-infected Alveolar Macrophage\", \"Interstitial Macrophage\"],   \n"
   ]
  },
  {
   "cell_type": "markdown",
   "id": "8d339460",
   "metadata": {},
   "source": [
    "# Extract z-scores from Neighborhood Enrichment Analysis "
   ]
  },
  {
   "cell_type": "code",
   "execution_count": null,
   "id": "a516d877",
   "metadata": {},
   "outputs": [],
   "source": [
    "adata_early_death_merge"
   ]
  },
  {
   "cell_type": "code",
   "execution_count": null,
   "id": "28aa77c7",
   "metadata": {},
   "outputs": [],
   "source": [
    "adata_early_death"
   ]
  },
  {
   "cell_type": "code",
   "execution_count": null,
   "id": "20bf415f",
   "metadata": {},
   "outputs": [],
   "source": [
    "cat_name = 'pheno_cluster'\n",
    "sig_leiden = pd.DataFrame(columns=adata_early_death_merge.var_names, index=adata_early_death_merge.obs[cat_name].cat.categories)"
   ]
  },
  {
   "cell_type": "code",
   "execution_count": null,
   "id": "c77914da",
   "metadata": {},
   "outputs": [],
   "source": [
    "sig_leiden = sig_leiden.transpose()\n",
    "pheno_clusters = ['Cluster-' + str(x) for x in sig_leiden.columns.tolist()]"
   ]
  },
  {
   "cell_type": "code",
   "execution_count": null,
   "id": "fb735342",
   "metadata": {},
   "outputs": [],
   "source": [
    "pheno_clusters"
   ]
  },
  {
   "cell_type": "code",
   "execution_count": null,
   "id": "c2d26c21",
   "metadata": {},
   "outputs": [],
   "source": [
    "ser_counts = adata_early_death_merge.obs['pheno_cluster'].value_counts()\n",
    "ser_counts.name = 'cell counts'\n",
    "meta_leiden = pd.DataFrame(ser_counts)\n",
    "#meta_leiden.index = pheno_clusters.columns.tolist()"
   ]
  },
  {
   "cell_type": "code",
   "execution_count": null,
   "id": "eadd9f0d",
   "metadata": {},
   "outputs": [],
   "source": [
    "from scipy.cluster import hierarchy as sch\n",
    "n_clusters = [4]\n",
    "df_nhood_enr = pd.DataFrame(adata_early_death_merge.uns['pheno_cluster_nhood_enrichment']['zscore'], columns=pheno_clusters, index=pheno_clusters)\n",
    "nhood_cluster_levels = ['Level-' + str(x) for x in n_clusters]\n",
    "linkage = sch.linkage(df_nhood_enr, method='average')\n",
    "mat_nhood_clusters = sch.cut_tree(linkage, n_clusters=n_clusters)\n",
    "df_cluster = pd.DataFrame(mat_nhood_clusters, columns=nhood_cluster_levels,\n",
    "                                index=meta_leiden.index.tolist())"
   ]
  },
  {
   "cell_type": "code",
   "execution_count": null,
   "id": "5c70b4cc",
   "metadata": {},
   "outputs": [],
   "source": [
    "df_nhood_enr "
   ]
  },
  {
   "cell_type": "code",
   "execution_count": null,
   "id": "7d3cf7be",
   "metadata": {},
   "outputs": [],
   "source": [
    "inst_level = 'Level-' + str(n_clusters[0])\n",
    "all_clusters = list(df_cluster[inst_level].unique())\n",
    "# sc.set_figure_params(figsize=(10,10))\n",
    "for inst_cluster in all_clusters:\n",
    "  inst_clusters = df_cluster[df_cluster[inst_level] == inst_cluster].index.tolist()"
   ]
  },
  {
   "cell_type": "code",
   "execution_count": null,
   "id": "f92902aa",
   "metadata": {},
   "outputs": [],
   "source": [
    "fields=['C12_ROI1','C12_ROI2','C12_ROI3','C12_ROI4','C13_ROI1','C13_ROI2','C13_ROI3','C13_ROI4',\n",
    "       'C21_ROI1','C21_ROI2','C21_ROI4','C22_ROI1','C22_ROI2','C22_ROI3','C22_ROI4',\n",
    "       'C27_ROI1','C27_ROI2','C27_ROI3','C27_ROI4','C29_ROI2','C29_ROI3','C29_ROI4']\n",
    "for i in fields:\n",
    "    sc.pl.spatial(adata_early_death[adata_early_death.obs[\"ROI\"] == i], color ='pheno_cluster', palette=None, groups=inst_clusters,  neighbors_key=\"spatial_neighbors\", spot_size=20, edges=True, edges_width=1, edges_color='black', na_color=\"white\", na_in_legend=False, img_key=None, title=i, add_outline=True,return_fig=True) "
   ]
  },
  {
   "cell_type": "markdown",
   "id": "aea03c3c",
   "metadata": {},
   "source": [
    "# Interaction Matrix"
   ]
  },
  {
   "cell_type": "code",
   "execution_count": null,
   "id": "c058d37b",
   "metadata": {
    "scrolled": true
   },
   "outputs": [],
   "source": [
    "#The function computes the number of shared edges in the neighbor graph between clusters.\n",
    "sq.gr.interaction_matrix(adata_early_death_merge, cluster_key=\"pheno_cluster\", normalized=False)"
   ]
  },
  {
   "cell_type": "code",
   "execution_count": null,
   "id": "7b797b5e",
   "metadata": {
    "scrolled": true
   },
   "outputs": [],
   "source": [
    "sq.pl.interaction_matrix(adata_early_death_merge, cluster_key=\"pheno_cluster\", vmax=2000, cmap='inferno', palette = colour_palette['colour'], save='ED_interaction_matrix_pheno_cluster.pdf' )\n"
   ]
  },
  {
   "cell_type": "markdown",
   "id": "116b4559",
   "metadata": {},
   "source": [
    "# Ripley’s statistics"
   ]
  },
  {
   "cell_type": "code",
   "execution_count": null,
   "id": "8946113d",
   "metadata": {
    "scrolled": true
   },
   "outputs": [],
   "source": [
    "mode = \"L\"\n",
    "sq.gr.ripley(adata_early_death_merge, cluster_key=\"pheno_cluster_edited\", mode='L', max_dist=500, copy=False, seed=1234)"
   ]
  },
  {
   "cell_type": "code",
   "execution_count": null,
   "id": "92524536",
   "metadata": {
    "scrolled": true
   },
   "outputs": [],
   "source": [
    "sq.pl.ripley(adata_early_death_merge, cluster_key=\"pheno_cluster_edited\", palette=colour_palette['colour2'], mode=mode, save='ED_ripley_pheno_cluster.pdf')\n"
   ]
  },
  {
   "cell_type": "code",
   "execution_count": null,
   "id": "5f53827d",
   "metadata": {},
   "outputs": [],
   "source": [
    "#Plot spatial plots representing of the ripley's results"
   ]
  },
  {
   "cell_type": "code",
   "execution_count": null,
   "id": "c818212f",
   "metadata": {},
   "outputs": [],
   "source": [
    "#Early death: use cases where there is no tissue image, compute a spatial graph based on a fixed neighbor radius that is informative given your experimental settings.\n",
    "#method: using outputs from Michael's function and selecting specific clusters of interactions\n",
    "fields=['C12_ROI1','C12_ROI2','C12_ROI3','C12_ROI4','C13_ROI1','C13_ROI2','C13_ROI3','C13_ROI4',\n",
    "       'C21_ROI1','C21_ROI2','C21_ROI4','C22_ROI1','C22_ROI2','C22_ROI3','C22_ROI4',\n",
    "       'C27_ROI1','C27_ROI2','C27_ROI3','C27_ROI4','C29_ROI2','C29_ROI3','C29_ROI4']\n",
    "for i in fields:\n",
    "    sc.pl.spatial(adata_early_death[adata_early_death.obs[\"ROI\"] == i], color ='pheno_cluster', palette = colour_palette['colour'], neighbors_key='spatial_neighbors', groups=[\"Virus-infected Alveolar Macrophage\", \"Interstitial Macrophage\"], spot_size=20, edges=True, edges_width=10, edges_color='black', img_key=None, title=i, add_outline=True,return_fig=True) "
   ]
  },
  {
   "cell_type": "markdown",
   "id": "a75cd91f",
   "metadata": {},
   "source": [
    "# Centrality Scores"
   ]
  },
  {
   "cell_type": "code",
   "execution_count": null,
   "id": "4ddb9819",
   "metadata": {
    "scrolled": true
   },
   "outputs": [],
   "source": [
    "sq.gr.centrality_scores(\n",
    "    adata_early_death_merge,\n",
    "    cluster_key=\"pheno_cluster\", copy=False\n",
    ")"
   ]
  },
  {
   "cell_type": "code",
   "execution_count": null,
   "id": "c5732c67",
   "metadata": {
    "scrolled": true
   },
   "outputs": [],
   "source": [
    "sq.pl.centrality_scores(adata_early_death_merge, cluster_key=\"pheno_cluster\", palette=colour_palette['colour'], figsize=(20, 10), s=500, save='ED_centrality_scores_pheno_cluster.png')\n"
   ]
  },
  {
   "cell_type": "code",
   "execution_count": null,
   "id": "81fcac34",
   "metadata": {
    "scrolled": true
   },
   "outputs": [],
   "source": [
    "#Save output panda data frame to csv file\n",
    "df = sq.gr.centrality_scores(\n",
    "    adata_late_death,\n",
    "    cluster_key=\"pheno_cluster\", copy=True\n",
    ")\n",
    "\n",
    "compression_opts = dict(method='zip',\n",
    "                         archive_name='LD_centrality_scores_pheno_cluster.csv') \n",
    "df.to_csv('out.zip', index=True, compression=compression_opts)"
   ]
  },
  {
   "cell_type": "code",
   "execution_count": null,
   "id": "1ff095a4",
   "metadata": {
    "scrolled": true
   },
   "outputs": [],
   "source": [
    "#All COVID cases\n",
    "#method: using outputs from 10X Visium function\n",
    "fields=['C12_ROI1','C12_ROI2','C12_ROI3','C12_ROI4','C13_ROI1','C13_ROI2','C13_ROI3','C13_ROI4',\n",
    "       'C21_ROI1','C21_ROI2','C21_ROI4','C22_ROI1','C22_ROI2','C22_ROI3','C22_ROI4',\n",
    "       'C27_ROI1','C27_ROI2','C27_ROI3','C27_ROI4','C29_ROI2','C29_ROI3','C29_ROI4',\n",
    "       'C07_ROI1','C07_ROI2','C07_ROI3','C07_ROI4',\n",
    "       'C16_ROI1','C16_ROI2','C16_ROI3','C16_ROI4']\n",
    "for i in fields:\n",
    "    sc.pl.spatial(adata_covid_merge[adata_covid_merge.obs[\"ROI\"] == i], color ='pheno_cluster', palette = colour_palette['colour'], groups=[\"Activated Endothelial cell\"], neighbors_key=\"spatial_neighbors\", spot_size=30, edges=True, edges_width=1, edges_color='black', img_key=None, title=i, add_outline=True,return_fig=True)"
   ]
  },
  {
   "cell_type": "code",
   "execution_count": null,
   "id": "7d4be2ba",
   "metadata": {},
   "outputs": [],
   "source": [
    "cluster_key = \"pheno_cluster_edited\"\n",
    "sq.gr.centrality_scores(adata_early_death_merge, cluster_key, show_progress_bar=True)"
   ]
  },
  {
   "cell_type": "code",
   "execution_count": null,
   "id": "f2e39aeb",
   "metadata": {},
   "outputs": [],
   "source": [
    "data = adata_early_death_merge.uns[f'{cluster_key}_centrality_scores'].reset_index()\n",
    "\n",
    "fig, axs = plt.subplots(1, 3, figsize=(16, 6), dpi=300)\n",
    "fig.tight_layout()\n",
    "plt.subplots_adjust(wspace = 0.2)\n",
    "\n",
    "for count, i in enumerate(['closeness_centrality','degree_centrality','average_clustering']):\n",
    "\n",
    "    sb.barplot(data = data, \n",
    "               x = \"index\", \n",
    "               y = i, \n",
    "               ci=68,\n",
    "               ax=axs[count],\n",
    "               palette=colour_palette['colour2'],\n",
    "              order=data.sort_values(i)['index']\n",
    "              )\n",
    "    \n",
    "    #if i=='average_clustering':\n",
    "        #axs[count].set(ylim=(0.48, 0.52))\n",
    "    \n",
    "    axs[count].set_title(i)\n",
    "    axs[count].tick_params(axis='x', labelrotation = 90)\n",
    "    axs[count].tick_params(axis='y', labelsize=18)\n",
    "    plt.xticks(rotation=90)\n",
    "    #axs[count].set_ylabel('Difference', fontsize=12)\n",
    "\n",
    "fig.savefig('adata_ED_merge_network_centrality_scores.svg')"
   ]
  },
  {
   "cell_type": "markdown",
   "id": "ccec2c98",
   "metadata": {},
   "source": [
    "# Co-occurrence across spatial dimensions"
   ]
  },
  {
   "cell_type": "code",
   "execution_count": null,
   "id": "6ee9d765",
   "metadata": {
    "scrolled": true
   },
   "outputs": [],
   "source": [
    "#Plot co-occurence score to visualize cluster co-occurrence in spatial dimensions using the original spatial coordinates. \n",
    "#We visualize the result for two conditional groups, here use the virus-infected cells.\n",
    "sq.gr.co_occurrence(adata_early_death_merge, cluster_key='pheno_cluster_edited', spatial_key='spatial', copy=False)"
   ]
  },
  {
   "cell_type": "code",
   "execution_count": null,
   "id": "a2292e7d",
   "metadata": {
    "scrolled": true
   },
   "outputs": [],
   "source": [
    "#from matplotlib.colors import ListedColormap\n",
    "\n",
    "sq.pl.co_occurrence(\n",
    "    adata_early_death_merge,\n",
    "    cluster_key='pheno_cluster_edited',\n",
    "    clusters=['CD66bHigh Neutrophil'],\n",
    "    figsize=(20, 10), save='ED_ve_epithelial_cell_co_ocurrence.png'\n",
    ")"
   ]
  },
  {
   "cell_type": "code",
   "execution_count": null,
   "id": "d3de8015",
   "metadata": {
    "scrolled": true
   },
   "outputs": [],
   "source": [
    "#All COVID cases\n",
    "#method: using outputs from 10X Visium function\n",
    "fields=['C12_ROI1','C12_ROI2','C12_ROI3','C12_ROI4','C13_ROI1','C13_ROI2','C13_ROI3','C13_ROI4',\n",
    "       'C21_ROI1','C21_ROI2','C21_ROI4','C22_ROI1','C22_ROI2','C22_ROI3','C22_ROI4',\n",
    "       'C27_ROI1','C27_ROI2','C27_ROI3','C27_ROI4','C29_ROI2','C29_ROI3','C29_ROI4',\n",
    "       'C07_ROI1','C07_ROI2','C07_ROI3','C07_ROI4',\n",
    "       'C16_ROI1','C16_ROI2','C16_ROI3','C16_ROI4']\n",
    "for i in fields:\n",
    "    sc.pl.spatial(adata_covid_merge[adata_covid_merge.obs[\"ROI\"] == i], color ='pheno_cluster', palette = colour_palette['colour'], groups=[\"CD38+ CD4 T cell\"], neighbors_key=\"spatial_neighbors\", spot_size=30, edges=True, edges_width=1, edges_color='black', na_color=\"white\", na_in_legend=False, img_key=None, title=i, add_outline=True, outline_width=(0.3, 0.05), outline_color=('black', 'white'), return_fig=True)    \n",
    "    "
   ]
  },
  {
   "cell_type": "markdown",
   "id": "6c00e346",
   "metadata": {},
   "source": [
    "# Spatially variable proteins with spatial autocorrelation statistics"
   ]
  },
  {
   "cell_type": "code",
   "execution_count": null,
   "id": "21ab6551",
   "metadata": {
    "scrolled": true
   },
   "outputs": [],
   "source": [
    "#two spatial autocorrelation statistics: Moran’s I and Geary’s C*. \n",
    "#They provide a score on the degree of spatial variability of gene expression. \n",
    "#The statistic as well as the p-value are computed for each gene, and FDR correction is performed. \n",
    "df = sq.gr.spatial_autocorr(adata_covid_merge, mode=\"moran\")\n",
    "adata_covid_merge.uns[\"moranI\"].head(50)"
   ]
  },
  {
   "cell_type": "code",
   "execution_count": null,
   "id": "7c9dc0a5",
   "metadata": {
    "scrolled": true
   },
   "outputs": [],
   "source": [
    "#All COVID cases\n",
    "fields=['C12_ROI1','C12_ROI2','C12_ROI3','C12_ROI4','C13_ROI1','C13_ROI2','C13_ROI3','C13_ROI4',\n",
    "       'C21_ROI1','C21_ROI2','C21_ROI4','C22_ROI1','C22_ROI2','C22_ROI3','C22_ROI4',\n",
    "       'C27_ROI1','C27_ROI2','C27_ROI3','C27_ROI4','C29_ROI2','C29_ROI3','C29_ROI4',\n",
    "       'C07_ROI1','C07_ROI2','C07_ROI3','C07_ROI4',\n",
    "       'C16_ROI1','C16_ROI2','C16_ROI3','C16_ROI4']\n",
    "for i in fields:\n",
    "    sc.pl.spatial(adata_covid_merge[adata_covid_merge.obs[\"ROI\"] == i], neighbors_key=\"spatial_neighbors\", color=[\"SARSCoV2\", \"MHCI\"], spot_size=20, vmax=0.75, edges=False, edges_width=10, edges_color='black', img_key=None, title=i, add_outline=False,return_fig=True)"
   ]
  },
  {
   "cell_type": "code",
   "execution_count": null,
   "id": "9f20664b",
   "metadata": {
    "scrolled": true
   },
   "outputs": [],
   "source": [
    "from omnipath.interactions import import_intercell_network\n",
    "from omnipath import clear_cache\n",
    "\n",
    "clear_cache()\n",
    "df = import_intercell_network(transmitter_params={\"categories\": \"ligand\"}, receiver_params={\"categories\": \"receptor\"})\n",
    "\n",
    "print(df['source'].isnull().sum())  # should print 0"
   ]
  },
  {
   "cell_type": "code",
   "execution_count": null,
   "id": "46d37ae0",
   "metadata": {
    "scrolled": true
   },
   "outputs": [],
   "source": [
    "sq.gr.ligrec(\n",
    "    adata_covid_merge,\n",
    "    n_perms=100,\n",
    "    cluster_key=\"pheno_cluster\", use_raw=False\n",
    ")"
   ]
  },
  {
   "cell_type": "markdown",
   "id": "772e53e9",
   "metadata": {},
   "source": [
    "# Voroni plots"
   ]
  },
  {
   "cell_type": "code",
   "execution_count": null,
   "id": "5f8644dd",
   "metadata": {
    "scrolled": true
   },
   "outputs": [],
   "source": [
    "from voronoi_imc import draw_voronoi_scatter\n",
    "\n",
    "for i in adata_late_death.obs['ROI'].unique().tolist():\n",
    "\n",
    "    spot = adata_late_death.obs[adata_late_death.obs['ROI']==i]\n",
    "\n",
    "    _ = draw_voronoi_scatter(spot=spot,\n",
    "                             c=[],\n",
    "                             voronoi_palette = colour_palette['colour'],\n",
    "                             X='X_loc',\n",
    "                             Y='Y_loc',\n",
    "                             voronoi_hue='pheno_cluster')\n",
    "    plt.savefig(str(i)+'.png')"
   ]
  },
  {
   "cell_type": "markdown",
   "id": "eb12440d",
   "metadata": {},
   "source": [
    "# SAVING NE OUTPUT TO CSV - ATTENTION!"
   ]
  },
  {
   "cell_type": "code",
   "execution_count": null,
   "id": "3cb1289e",
   "metadata": {
    "scrolled": true
   },
   "outputs": [],
   "source": [
    "#save the output values of nhood_enrichment\n",
    "df = sq.gr.nhood_enrichment(adata_late_death, cluster_key=\"pheno_cluster\", seed=1234, copy=True)"
   ]
  },
  {
   "cell_type": "code",
   "execution_count": null,
   "id": "fd81208a",
   "metadata": {
    "scrolled": true
   },
   "outputs": [],
   "source": [
    "#save tuple output above to csv file to access raw data from the NE analysis\n",
    "#ATTENTION: WHEN RUNNING THIS CODE, FOR SOME REASON DILL.DUMP_SESSION CAN'T PICKLE THE CSV_WRITER AND BREAKS THE SESSION. \n",
    "#SO MAKE SURE TO RESTART THE KERNEL BEFORE SAVING THE SESSION AFTER RUNNING THIS\n",
    "import csv\n",
    "    \n",
    "with open(\"NE_LD_raw_data.csv\", \"w\") as qwert:\n",
    "    csv_writer = csv.writer(qwert)\n",
    "    for mytuple in df:\n",
    "        csv_writer.writerow(mytuple)"
   ]
  },
  {
   "cell_type": "code",
   "execution_count": null,
   "id": "aebc6317",
   "metadata": {
    "scrolled": true
   },
   "outputs": [],
   "source": [
    "df"
   ]
  },
  {
   "cell_type": "markdown",
   "id": "3856d206",
   "metadata": {},
   "source": [
    "# Bar graphs - frequency and counts"
   ]
  },
  {
   "cell_type": "code",
   "execution_count": null,
   "id": "6ecaec9c",
   "metadata": {},
   "outputs": [],
   "source": [
    "col_df = pd.read_csv('mikeimc_approach/colours/pheno_colours.csv')\n",
    "colour_palette = col_df.set_index('pheno_cluster').to_dict()\n",
    "colour_palette['colour']"
   ]
  },
  {
   "cell_type": "code",
   "execution_count": null,
   "id": "1f97c41c",
   "metadata": {},
   "outputs": [],
   "source": [
    "adata_subset5 = adata_subset4[~adata_subset4.obs['pheno_cluster'].isin(['CD38+ CD4 T cell']),:].copy()"
   ]
  },
  {
   "cell_type": "code",
   "execution_count": null,
   "id": "d3cab9d3",
   "metadata": {
    "scrolled": true
   },
   "outputs": [],
   "source": [
    "#stack bar code and extracting number of cells, distribution of each cluster per case or the cluster composition per case\n",
    "#for number of cells - don't use normalize\n",
    "#for distribution of each case per cluster - use normalize = \"index\"\n",
    "#for cluster composition per case - use normalize = \"columns\"\n",
    "tmp = pd.crosstab(adata_subset5.obs['pheno_cluster'],adata_subset5.obs['ROI'], margins=False, margins_name='Total', normalize='columns') \n",
    "#normalize='columns')"
   ]
  },
  {
   "cell_type": "code",
   "execution_count": null,
   "id": "1ab926e1",
   "metadata": {
    "scrolled": true
   },
   "outputs": [],
   "source": [
    "tmp"
   ]
  },
  {
   "cell_type": "code",
   "execution_count": null,
   "id": "32f313e1",
   "metadata": {
    "scrolled": true
   },
   "outputs": [],
   "source": [
    "tmp2 = tmp.reindex(['Virus-infected Alveolar Macrophage','Virus-infected Epithelial cell', 'Activated Endothelial cell', 'Classical Monocyte', 'Interstitial Macrophage',  'CD4 T cell', 'CD8 T cell', 'ColLow Fibroblast', \n",
    "                    'ColHigh Fibroblast', 'CD66bHigh Neutrophil','CD66bLow Neutrophil', 'Myofibroblast', 'Apoptotic Epithelial cell',  'Apoptotic Fibroblast', 'Apoptotic Myofibroblast', 'Apoptotic Neutrophil', 'Alveolar Macrophage', 'Epithelial cell', 'Endothelial cell', 'CD3+ cell'])"
   ]
  },
  {
   "cell_type": "code",
   "execution_count": null,
   "id": "22c3ff6e",
   "metadata": {
    "scrolled": true
   },
   "outputs": [],
   "source": [
    "#color for stack bars for the disease groups matching the other bar graphs\n",
    "#F08080 - light coral\n",
    "#87CEFA - lightskyblue\n",
    "#D3D3D3 - lightgrey\n",
    "\n",
    "pretty_colors = ['#F08080','#87CEFA','#D3D3D3']\n",
    "color_pal = sb.color_palette('Paired')\n",
    "\n",
    "tmp2.plot.bar(stacked=True,color=color_pal, figsize=(16, 6)).legend(bbox_to_anchor=(1, 1))"
   ]
  },
  {
   "cell_type": "code",
   "execution_count": null,
   "id": "a93ced4f",
   "metadata": {
    "scrolled": true
   },
   "outputs": [],
   "source": [
    "tmp3 = pd.DataFrame.transpose(tmp2)"
   ]
  },
  {
   "cell_type": "code",
   "execution_count": null,
   "id": "1764af8e",
   "metadata": {},
   "outputs": [],
   "source": [
    "tmp3"
   ]
  },
  {
   "cell_type": "code",
   "execution_count": null,
   "id": "39a4ba32",
   "metadata": {},
   "outputs": [],
   "source": [
    "#color for stack bars for the disease groups matching the other bar graphs\n",
    "#F08080 - light coral\n",
    "#87CEFA - lightskyblue\n",
    "#D3D3D3 - lightgrey\n",
    "\n",
    "pretty_colors = ['#F08080','#87CEFA','#D3D3D3']\n",
    "color_pal = sb.color_palette('Paired')\n",
    "#colour_palette['colour']\n",
    "tmp3.plot.bar(stacked=True, color=colour_palette['colour'], rot=90, figsize=(20, 8)).legend(bbox_to_anchor=(1, 1))  #use figsize=(16,6) or (8,8) for ROI\n",
    "plt.savefig(\"Frequency_celltypes_ROI.pdf\", format=\"pdf\", bbox_inches=\"tight\")"
   ]
  },
  {
   "cell_type": "code",
   "execution_count": null,
   "id": "5856d37e",
   "metadata": {},
   "outputs": [],
   "source": [
    "compression_opts = dict(method='zip',\n",
    "                         archive_name='Cell_type_number_per_ROI.csv') \n",
    "tmp3.to_csv('out.zip', index=True, compression=compression_opts)"
   ]
  },
  {
   "cell_type": "code",
   "execution_count": null,
   "id": "12ded2e8",
   "metadata": {},
   "outputs": [],
   "source": [
    "sc.pl.matrixplot(adata_covid, adata_covid.var_names, groupby='Type')\n",
    "\n",
    "#Number of cells per case\n",
    "print (adata_covid.obs['Type'].value_counts())"
   ]
  },
  {
   "cell_type": "code",
   "execution_count": null,
   "id": "746d6b42",
   "metadata": {},
   "outputs": [],
   "source": [
    "adata_covid"
   ]
  },
  {
   "cell_type": "code",
   "execution_count": null,
   "id": "2eb9d558",
   "metadata": {},
   "outputs": [],
   "source": [
    "adata_covid.write_csvs(dirname='./', skip_data=False)"
   ]
  },
  {
   "cell_type": "markdown",
   "id": "1c668182",
   "metadata": {},
   "source": [
    "# MEFISTO - SPATIAL COVARIATE"
   ]
  },
  {
   "cell_type": "code",
   "execution_count": null,
   "id": "babd20bd",
   "metadata": {},
   "outputs": [],
   "source": [
    "import cython"
   ]
  },
  {
   "cell_type": "markdown",
   "id": "083d4b16",
   "metadata": {},
   "source": [
    "Add spatial covariate to the .obs slot so that we can refer to them easily later. I will use X_loc and Y_loc instead of \"imagerow\", \"imagecol\" as in the tutorial - you can skip this as the spatial covariate data is already contained in the X_loc and Y_loc columns"
   ]
  },
  {
   "cell_type": "code",
   "execution_count": null,
   "id": "802a29d0",
   "metadata": {},
   "outputs": [],
   "source": [
    "#adata_covid.obs = pd.concat([adata_covid.obs, pd.DataFrame(adata_covid.obsm[\"spatial\"], index=adata_covid.obs_names)], axis=1)"
   ]
  },
  {
   "cell_type": "markdown",
   "id": "2e1a7c84",
   "metadata": {},
   "source": [
    "Train a MEFISTO model"
   ]
  },
  {
   "cell_type": "code",
   "execution_count": null,
   "id": "5f253a18",
   "metadata": {},
   "outputs": [],
   "source": [
    "ent = entry_point()"
   ]
  },
  {
   "cell_type": "code",
   "execution_count": null,
   "id": "efbec2a1",
   "metadata": {},
   "outputs": [],
   "source": [
    "ent.set_data_options(use_float32=True)"
   ]
  },
  {
   "cell_type": "code",
   "execution_count": null,
   "id": "126129f0",
   "metadata": {},
   "outputs": [],
   "source": [
    "ent.set_data_from_anndata(adata_covid1)"
   ]
  },
  {
   "cell_type": "code",
   "execution_count": null,
   "id": "5a388cbb",
   "metadata": {},
   "outputs": [],
   "source": [
    "ent.set_model_options(factors=4)\n",
    "ent.set_train_options(seed=2021)"
   ]
  },
  {
   "cell_type": "code",
   "execution_count": null,
   "id": "57c7f3d5",
   "metadata": {},
   "outputs": [],
   "source": [
    "# We use 1000 inducing points to learn spatial covariance patterns\n",
    "n_inducing = 1000\n",
    "\n",
    "ent.set_covariates([adata_covid1.obsm[\"spatial\"]], covariates_names=[\"X_loc\", \"Y_loc\"])\n",
    "ent.set_smooth_options(sparseGP=True, frac_inducing=n_inducing/adata_covid1.n_obs,\n",
    "                       start_opt=10, opt_freq=10)"
   ]
  },
  {
   "cell_type": "code",
   "execution_count": null,
   "id": "4aa4a216",
   "metadata": {},
   "outputs": [],
   "source": [
    "%load_ext cython"
   ]
  },
  {
   "cell_type": "code",
   "execution_count": null,
   "id": "e1e91cf9",
   "metadata": {},
   "outputs": [],
   "source": [
    "ent.build(adata_covid1)\n",
    "ent.run(adata_covid1)\n",
    "ent.save(\"Model_C07_ROI1.hdf5\")"
   ]
  },
  {
   "cell_type": "code",
   "execution_count": null,
   "id": "3e929a59",
   "metadata": {
    "scrolled": true
   },
   "outputs": [],
   "source": [
    "#Load all the ROIs in the adata\n",
    "\n",
    "ROI_list = adata_covid.obs[\"ROI\"].unique().tolist()\n",
    "\n",
    "for i in ROI_list:\n",
    "        \n",
    "        print('Calculating for '+i)\n",
    "        working_adata = adata_covid[adata_covid.obs[\"ROI\"]==i].copy()    \n",
    "        \n",
    "        ent = entry_point()\n",
    "        ent.set_data_from_anndata(working_adata)\n",
    "        ent.set_model_options(factors=2)\n",
    "        ent.set_train_options(seed=2021)\n",
    "        n_inducing = 1000\n",
    "        ent.set_covariates([working_adata.obsm[\"spatial\"]], covariates_names=[\"X_loc\", \"Y_loc\"])\n",
    "        ent.set_smooth_options(sparseGP=True, frac_inducing=n_inducing/working_adata.n_obs,\n",
    "                       start_opt=10, opt_freq=10)\n",
    "        ent.build()\n",
    "          \n",
    "        ent.run()\n",
    "         \n",
    "        ent.save('MEFISTO_model_'+i)\n"
   ]
  },
  {
   "cell_type": "markdown",
   "id": "497db2b7",
   "metadata": {},
   "source": [
    "# Downstream analyses"
   ]
  },
  {
   "cell_type": "code",
   "execution_count": null,
   "id": "a42b5d03",
   "metadata": {},
   "outputs": [],
   "source": [
    "import mofax\n",
    "m1 = mofax.mofa_model(\"MEFISTO_model_C13_ROI1\")\n",
    "m2 = mofax.mofa_model(\"MEFISTO_model_C13_ROI2\")\n",
    "m3 = mofax.mofa_model(\"MEFISTO_model_C13_ROI3\")\n",
    "m4 = mofax.mofa_model(\"MEFISTO_model_C13_ROI4\")"
   ]
  },
  {
   "cell_type": "code",
   "execution_count": null,
   "id": "6952daf3",
   "metadata": {},
   "outputs": [],
   "source": [
    "df1 = m1.get_factors(df=True)\n",
    "df2 = m2.get_factors(df=True)\n",
    "df3 = m3.get_factors(df=True)\n",
    "df4 = m4.get_factors(df=True)"
   ]
  },
  {
   "cell_type": "code",
   "execution_count": null,
   "id": "a2c25d29",
   "metadata": {},
   "outputs": [],
   "source": [
    "df4"
   ]
  },
  {
   "cell_type": "code",
   "execution_count": null,
   "id": "9a798b46",
   "metadata": {},
   "outputs": [],
   "source": [
    "#concatenate the df along rows\n",
    "df_final = pd.concat([df1, df2, df3, df4], axis=0)"
   ]
  },
  {
   "cell_type": "code",
   "execution_count": null,
   "id": "019dec62",
   "metadata": {},
   "outputs": [],
   "source": [
    "df_final"
   ]
  },
  {
   "cell_type": "markdown",
   "id": "8fafcb48",
   "metadata": {},
   "source": [
    "# Factors correlation"
   ]
  },
  {
   "cell_type": "code",
   "execution_count": null,
   "id": "20099a09",
   "metadata": {},
   "outputs": [],
   "source": [
    "mofax.plot_factors_correlation(m1);"
   ]
  },
  {
   "cell_type": "code",
   "execution_count": null,
   "id": "0ed4d8f6",
   "metadata": {},
   "outputs": [],
   "source": [
    "mofax.plot_factors_correlation(m2);"
   ]
  },
  {
   "cell_type": "code",
   "execution_count": null,
   "id": "27fa88af",
   "metadata": {},
   "outputs": [],
   "source": [
    "mofax.plot_factors_correlation(m3);"
   ]
  },
  {
   "cell_type": "code",
   "execution_count": null,
   "id": "cc36dfc7",
   "metadata": {},
   "outputs": [],
   "source": [
    "mofax.plot_factors_correlation(m4);"
   ]
  },
  {
   "cell_type": "markdown",
   "id": "e7e7df31",
   "metadata": {},
   "source": [
    "# Spatial factors"
   ]
  },
  {
   "cell_type": "markdown",
   "id": "04a50a20",
   "metadata": {},
   "source": [
    "We will then have a look at the spatial patterns that are captured by each factor."
   ]
  },
  {
   "cell_type": "code",
   "execution_count": null,
   "id": "ccdc45c8",
   "metadata": {},
   "outputs": [],
   "source": [
    "#adata.obs = adata.obs.join(m.get_factors(df=True))\n",
    "adata_C13.obs = adata_C13.obs.join(df_final)"
   ]
  },
  {
   "cell_type": "code",
   "execution_count": null,
   "id": "848cafb8",
   "metadata": {},
   "outputs": [],
   "source": [
    "adata_C13.obs"
   ]
  },
  {
   "cell_type": "code",
   "execution_count": null,
   "id": "f089a294",
   "metadata": {},
   "outputs": [],
   "source": [
    "fields=['C13_ROI1','C13_ROI2','C13_ROI3','C13_ROI4']\n",
    "for i in fields:\n",
    "    sc.pl.spatial(adata_C13[adata_C13.obs[\"ROI\"] == i], color=[f\"Factor{i+1}\" for i in range(2)], spot_size=15, img_key=None, title=i, add_outline=True,return_fig=True)"
   ]
  },
  {
   "cell_type": "markdown",
   "id": "4ce6e229",
   "metadata": {},
   "source": [
    "# Weights"
   ]
  },
  {
   "cell_type": "markdown",
   "id": "0e10c6bc",
   "metadata": {},
   "source": [
    "We will take Factor1 as an example to show the spatial expression pattern for genes that have the highest weights for that factor."
   ]
  },
  {
   "cell_type": "code",
   "execution_count": null,
   "id": "f58349e4",
   "metadata": {},
   "outputs": [],
   "source": [
    "top_features_f1 = m2.get_top_features(factors=\"Factor1\", n_features=10)\n",
    "top_features_f1"
   ]
  },
  {
   "cell_type": "code",
   "execution_count": null,
   "id": "86aff77e",
   "metadata": {},
   "outputs": [],
   "source": [
    "top_features_f2 = m.get_top_features(factors=\"Factor2\", n_features=10)\n",
    "top_features_f2"
   ]
  },
  {
   "cell_type": "code",
   "execution_count": null,
   "id": "67bba5f2",
   "metadata": {},
   "outputs": [],
   "source": [
    "top_features_f3 = m.get_top_features(factors=\"Factor3\", n_features=10)\n",
    "top_features_f3"
   ]
  },
  {
   "cell_type": "code",
   "execution_count": null,
   "id": "80882a28",
   "metadata": {},
   "outputs": [],
   "source": [
    "top_features_f4 = m.get_top_features(factors=\"Factor4\", n_features=10)\n",
    "top_features_f4"
   ]
  },
  {
   "cell_type": "code",
   "execution_count": null,
   "id": "001716ba",
   "metadata": {},
   "outputs": [],
   "source": [
    "fields=['C13_ROI1','C13_ROI2','C13_ROI3','C13_ROI4']\n",
    "for i in fields:\n",
    "    sc.pl.spatial(adata_C13[adata_C13.obs[\"ROI\"] == i], color=top_features_f1, spot_size=15, img_key=None, title=i, add_outline=True,return_fig=True)"
   ]
  },
  {
   "cell_type": "code",
   "execution_count": null,
   "id": "25f4dca3",
   "metadata": {},
   "outputs": [],
   "source": [
    "mofax.plot_smoothness(m2)"
   ]
  }
 ],
 "metadata": {
  "kernelspec": {
   "display_name": "Python 3 (ipykernel)",
   "language": "python",
   "name": "python3"
  },
  "language_info": {
   "codemirror_mode": {
    "name": "ipython",
    "version": 3
   },
   "file_extension": ".py",
   "mimetype": "text/x-python",
   "name": "python",
   "nbconvert_exporter": "python",
   "pygments_lexer": "ipython3",
   "version": "3.9.12"
  }
 },
 "nbformat": 4,
 "nbformat_minor": 5
}
