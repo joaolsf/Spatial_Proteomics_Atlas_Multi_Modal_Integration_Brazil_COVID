{
 "cells": [
  {
   "cell_type": "code",
   "execution_count": 1,
   "id": "a6e1ac55",
   "metadata": {
    "scrolled": true
   },
   "outputs": [
    {
     "name": "stderr",
     "output_type": "stream",
     "text": [
      "/Users/joaoluizsfilho/opt/anaconda3/envs/Squidpy/lib/python3.9/site-packages/geopandas/_compat.py:124: UserWarning: The Shapely GEOS version (3.11.1-CAPI-1.17.1) is incompatible with the GEOS version PyGEOS was compiled with (3.10.4-CAPI-1.16.2). Conversions between both will be slow.\n",
      "  warnings.warn(\n",
      "Global seed set to 0\n"
     ]
    }
   ],
   "source": [
    "import anndata as ad\n",
    "import pandas as pd\n",
    "import seaborn as sns\n",
    "import matplotlib.pyplot as plt\n",
    "import ehrapy as ep\n",
    "import numpy as np\n",
    "import cellrank as cr\n",
    "from cellrank.kernels import ConnectivityKernel\n",
    "from cellrank.kernels import PseudotimeKernel\n",
    "import scvelo as scv\n",
    "import dill\n",
    "import scanpy as sc"
   ]
  },
  {
   "cell_type": "markdown",
   "id": "3be510df",
   "metadata": {},
   "source": [
    "# 1- Dataset preparation"
   ]
  },
  {
   "cell_type": "code",
   "execution_count": 2,
   "id": "536eb6b4",
   "metadata": {},
   "outputs": [],
   "source": [
    "#Read in the data\n",
    "# missing data was imputed with the missMDA package with the imputeMFA function\n",
    "df = pd.read_csv('./COVID_early_late_death_MOFA_MEFISTO_missing_data_factor_values.csv') #data is not scaled \n"
   ]
  },
  {
   "cell_type": "code",
   "execution_count": 3,
   "id": "0fd4a8e4",
   "metadata": {},
   "outputs": [
    {
     "data": {
      "text/html": [
       "<div>\n",
       "<style scoped>\n",
       "    .dataframe tbody tr th:only-of-type {\n",
       "        vertical-align: middle;\n",
       "    }\n",
       "\n",
       "    .dataframe tbody tr th {\n",
       "        vertical-align: top;\n",
       "    }\n",
       "\n",
       "    .dataframe thead th {\n",
       "        text-align: right;\n",
       "    }\n",
       "</style>\n",
       "<table border=\"1\" class=\"dataframe\">\n",
       "  <thead>\n",
       "    <tr style=\"text-align: right;\">\n",
       "      <th></th>\n",
       "      <th>RecordID</th>\n",
       "      <th>SCF</th>\n",
       "      <th>OPN</th>\n",
       "      <th>Ang1</th>\n",
       "      <th>Ang2</th>\n",
       "      <th>ANG2_ANG1</th>\n",
       "      <th>ICAM1</th>\n",
       "      <th>VCAM1</th>\n",
       "      <th>Eselectin</th>\n",
       "      <th>Syndecan1</th>\n",
       "      <th>...</th>\n",
       "      <th>Activated_EC_MHCI</th>\n",
       "      <th>Activated_EC_MHCII</th>\n",
       "      <th>Activated_EC_HLADR</th>\n",
       "      <th>Activated_EC_CD107a</th>\n",
       "      <th>Activated_EC_GranzB</th>\n",
       "      <th>Factor1</th>\n",
       "      <th>Factor2</th>\n",
       "      <th>Factor3</th>\n",
       "      <th>Factor4</th>\n",
       "      <th>Factor5</th>\n",
       "    </tr>\n",
       "  </thead>\n",
       "  <tbody>\n",
       "    <tr>\n",
       "      <th>0</th>\n",
       "      <td>024d1_ED</td>\n",
       "      <td>363.81</td>\n",
       "      <td>537926.95</td>\n",
       "      <td>2867.01</td>\n",
       "      <td>20321.88</td>\n",
       "      <td>7.088179</td>\n",
       "      <td>903874.57</td>\n",
       "      <td>5520000.0</td>\n",
       "      <td>45008.15</td>\n",
       "      <td>15157.62</td>\n",
       "      <td>...</td>\n",
       "      <td>NaN</td>\n",
       "      <td>NaN</td>\n",
       "      <td>NaN</td>\n",
       "      <td>NaN</td>\n",
       "      <td>NaN</td>\n",
       "      <td>NaN</td>\n",
       "      <td>NaN</td>\n",
       "      <td>NaN</td>\n",
       "      <td>NaN</td>\n",
       "      <td>NaN</td>\n",
       "    </tr>\n",
       "    <tr>\n",
       "      <th>1</th>\n",
       "      <td>103d1_ED</td>\n",
       "      <td>84.14</td>\n",
       "      <td>4484.36</td>\n",
       "      <td>8400.70</td>\n",
       "      <td>1060.64</td>\n",
       "      <td>0.126256</td>\n",
       "      <td>450657.34</td>\n",
       "      <td>1240000.0</td>\n",
       "      <td>29687.34</td>\n",
       "      <td>2218.86</td>\n",
       "      <td>...</td>\n",
       "      <td>NaN</td>\n",
       "      <td>NaN</td>\n",
       "      <td>NaN</td>\n",
       "      <td>NaN</td>\n",
       "      <td>NaN</td>\n",
       "      <td>NaN</td>\n",
       "      <td>NaN</td>\n",
       "      <td>NaN</td>\n",
       "      <td>NaN</td>\n",
       "      <td>NaN</td>\n",
       "    </tr>\n",
       "    <tr>\n",
       "      <th>2</th>\n",
       "      <td>114d1_ED</td>\n",
       "      <td>242.85</td>\n",
       "      <td>236794.30</td>\n",
       "      <td>3901.34</td>\n",
       "      <td>10764.24</td>\n",
       "      <td>2.759114</td>\n",
       "      <td>711419.29</td>\n",
       "      <td>4750000.0</td>\n",
       "      <td>33173.58</td>\n",
       "      <td>10669.18</td>\n",
       "      <td>...</td>\n",
       "      <td>NaN</td>\n",
       "      <td>NaN</td>\n",
       "      <td>NaN</td>\n",
       "      <td>NaN</td>\n",
       "      <td>NaN</td>\n",
       "      <td>NaN</td>\n",
       "      <td>NaN</td>\n",
       "      <td>NaN</td>\n",
       "      <td>NaN</td>\n",
       "      <td>NaN</td>\n",
       "    </tr>\n",
       "    <tr>\n",
       "      <th>3</th>\n",
       "      <td>126d1_ED</td>\n",
       "      <td>52.92</td>\n",
       "      <td>212395.05</td>\n",
       "      <td>2077.95</td>\n",
       "      <td>6598.47</td>\n",
       "      <td>3.175471</td>\n",
       "      <td>691207.87</td>\n",
       "      <td>2820000.0</td>\n",
       "      <td>91261.55</td>\n",
       "      <td>5799.42</td>\n",
       "      <td>...</td>\n",
       "      <td>NaN</td>\n",
       "      <td>NaN</td>\n",
       "      <td>NaN</td>\n",
       "      <td>NaN</td>\n",
       "      <td>NaN</td>\n",
       "      <td>NaN</td>\n",
       "      <td>NaN</td>\n",
       "      <td>NaN</td>\n",
       "      <td>NaN</td>\n",
       "      <td>NaN</td>\n",
       "    </tr>\n",
       "    <tr>\n",
       "      <th>4</th>\n",
       "      <td>127d1_ED</td>\n",
       "      <td>60.76</td>\n",
       "      <td>119051.14</td>\n",
       "      <td>9466.12</td>\n",
       "      <td>4391.77</td>\n",
       "      <td>0.463946</td>\n",
       "      <td>748606.29</td>\n",
       "      <td>5460000.0</td>\n",
       "      <td>32138.99</td>\n",
       "      <td>6143.83</td>\n",
       "      <td>...</td>\n",
       "      <td>NaN</td>\n",
       "      <td>NaN</td>\n",
       "      <td>NaN</td>\n",
       "      <td>NaN</td>\n",
       "      <td>NaN</td>\n",
       "      <td>NaN</td>\n",
       "      <td>NaN</td>\n",
       "      <td>NaN</td>\n",
       "      <td>NaN</td>\n",
       "      <td>NaN</td>\n",
       "    </tr>\n",
       "    <tr>\n",
       "      <th>...</th>\n",
       "      <td>...</td>\n",
       "      <td>...</td>\n",
       "      <td>...</td>\n",
       "      <td>...</td>\n",
       "      <td>...</td>\n",
       "      <td>...</td>\n",
       "      <td>...</td>\n",
       "      <td>...</td>\n",
       "      <td>...</td>\n",
       "      <td>...</td>\n",
       "      <td>...</td>\n",
       "      <td>...</td>\n",
       "      <td>...</td>\n",
       "      <td>...</td>\n",
       "      <td>...</td>\n",
       "      <td>...</td>\n",
       "      <td>...</td>\n",
       "      <td>...</td>\n",
       "      <td>...</td>\n",
       "      <td>...</td>\n",
       "      <td>...</td>\n",
       "    </tr>\n",
       "    <tr>\n",
       "      <th>69</th>\n",
       "      <td>050d11_LD</td>\n",
       "      <td>103.66</td>\n",
       "      <td>398303.30</td>\n",
       "      <td>27890.76</td>\n",
       "      <td>38736.14</td>\n",
       "      <td>1.388852</td>\n",
       "      <td>1918656.70</td>\n",
       "      <td>4750600.0</td>\n",
       "      <td>65223.10</td>\n",
       "      <td>50727.10</td>\n",
       "      <td>...</td>\n",
       "      <td>NaN</td>\n",
       "      <td>NaN</td>\n",
       "      <td>NaN</td>\n",
       "      <td>NaN</td>\n",
       "      <td>NaN</td>\n",
       "      <td>0.298056</td>\n",
       "      <td>-0.579180</td>\n",
       "      <td>-0.018243</td>\n",
       "      <td>0.385138</td>\n",
       "      <td>-0.540270</td>\n",
       "    </tr>\n",
       "    <tr>\n",
       "      <th>70</th>\n",
       "      <td>146d11_LD</td>\n",
       "      <td>126.88</td>\n",
       "      <td>77571.84</td>\n",
       "      <td>882.08</td>\n",
       "      <td>10803.66</td>\n",
       "      <td>12.247937</td>\n",
       "      <td>2071800.00</td>\n",
       "      <td>12968400.0</td>\n",
       "      <td>49979.96</td>\n",
       "      <td>49274.22</td>\n",
       "      <td>...</td>\n",
       "      <td>NaN</td>\n",
       "      <td>NaN</td>\n",
       "      <td>NaN</td>\n",
       "      <td>NaN</td>\n",
       "      <td>NaN</td>\n",
       "      <td>0.526367</td>\n",
       "      <td>-0.589199</td>\n",
       "      <td>1.348493</td>\n",
       "      <td>-0.361768</td>\n",
       "      <td>0.022214</td>\n",
       "    </tr>\n",
       "    <tr>\n",
       "      <th>71</th>\n",
       "      <td>039d14_LD</td>\n",
       "      <td>135.64</td>\n",
       "      <td>783163.00</td>\n",
       "      <td>27229.54</td>\n",
       "      <td>39146.06</td>\n",
       "      <td>1.437632</td>\n",
       "      <td>1571219.60</td>\n",
       "      <td>8653800.0</td>\n",
       "      <td>164627.50</td>\n",
       "      <td>81311.38</td>\n",
       "      <td>...</td>\n",
       "      <td>0.519552</td>\n",
       "      <td>0.293499</td>\n",
       "      <td>0.203582</td>\n",
       "      <td>0.094379</td>\n",
       "      <td>0.067192</td>\n",
       "      <td>-0.239372</td>\n",
       "      <td>-0.353914</td>\n",
       "      <td>0.269814</td>\n",
       "      <td>5.589784</td>\n",
       "      <td>-0.098247</td>\n",
       "    </tr>\n",
       "    <tr>\n",
       "      <th>72</th>\n",
       "      <td>050d14_LD</td>\n",
       "      <td>134.18</td>\n",
       "      <td>345176.80</td>\n",
       "      <td>5413.44</td>\n",
       "      <td>23271.52</td>\n",
       "      <td>4.298841</td>\n",
       "      <td>1653960.00</td>\n",
       "      <td>2901000.0</td>\n",
       "      <td>55330.16</td>\n",
       "      <td>66617.00</td>\n",
       "      <td>...</td>\n",
       "      <td>NaN</td>\n",
       "      <td>NaN</td>\n",
       "      <td>NaN</td>\n",
       "      <td>NaN</td>\n",
       "      <td>NaN</td>\n",
       "      <td>0.891899</td>\n",
       "      <td>-0.825839</td>\n",
       "      <td>0.700832</td>\n",
       "      <td>-0.448248</td>\n",
       "      <td>0.498533</td>\n",
       "    </tr>\n",
       "    <tr>\n",
       "      <th>73</th>\n",
       "      <td>146d14_LD</td>\n",
       "      <td>126.88</td>\n",
       "      <td>117443.10</td>\n",
       "      <td>1331.14</td>\n",
       "      <td>12328.34</td>\n",
       "      <td>9.261490</td>\n",
       "      <td>2165000.00</td>\n",
       "      <td>13601400.0</td>\n",
       "      <td>54583.56</td>\n",
       "      <td>45508.62</td>\n",
       "      <td>...</td>\n",
       "      <td>NaN</td>\n",
       "      <td>NaN</td>\n",
       "      <td>NaN</td>\n",
       "      <td>NaN</td>\n",
       "      <td>NaN</td>\n",
       "      <td>0.027593</td>\n",
       "      <td>-0.238609</td>\n",
       "      <td>1.102648</td>\n",
       "      <td>-0.185315</td>\n",
       "      <td>-0.066024</td>\n",
       "    </tr>\n",
       "  </tbody>\n",
       "</table>\n",
       "<p>74 rows × 208 columns</p>\n",
       "</div>"
      ],
      "text/plain": [
       "     RecordID     SCF        OPN      Ang1      Ang2  ANG2_ANG1       ICAM1  \\\n",
       "0    024d1_ED  363.81  537926.95   2867.01  20321.88   7.088179   903874.57   \n",
       "1    103d1_ED   84.14    4484.36   8400.70   1060.64   0.126256   450657.34   \n",
       "2    114d1_ED  242.85  236794.30   3901.34  10764.24   2.759114   711419.29   \n",
       "3    126d1_ED   52.92  212395.05   2077.95   6598.47   3.175471   691207.87   \n",
       "4    127d1_ED   60.76  119051.14   9466.12   4391.77   0.463946   748606.29   \n",
       "..        ...     ...        ...       ...       ...        ...         ...   \n",
       "69  050d11_LD  103.66  398303.30  27890.76  38736.14   1.388852  1918656.70   \n",
       "70  146d11_LD  126.88   77571.84    882.08  10803.66  12.247937  2071800.00   \n",
       "71  039d14_LD  135.64  783163.00  27229.54  39146.06   1.437632  1571219.60   \n",
       "72  050d14_LD  134.18  345176.80   5413.44  23271.52   4.298841  1653960.00   \n",
       "73  146d14_LD  126.88  117443.10   1331.14  12328.34   9.261490  2165000.00   \n",
       "\n",
       "         VCAM1  Eselectin  Syndecan1  ...  Activated_EC_MHCI  \\\n",
       "0    5520000.0   45008.15   15157.62  ...                NaN   \n",
       "1    1240000.0   29687.34    2218.86  ...                NaN   \n",
       "2    4750000.0   33173.58   10669.18  ...                NaN   \n",
       "3    2820000.0   91261.55    5799.42  ...                NaN   \n",
       "4    5460000.0   32138.99    6143.83  ...                NaN   \n",
       "..         ...        ...        ...  ...                ...   \n",
       "69   4750600.0   65223.10   50727.10  ...                NaN   \n",
       "70  12968400.0   49979.96   49274.22  ...                NaN   \n",
       "71   8653800.0  164627.50   81311.38  ...           0.519552   \n",
       "72   2901000.0   55330.16   66617.00  ...                NaN   \n",
       "73  13601400.0   54583.56   45508.62  ...                NaN   \n",
       "\n",
       "    Activated_EC_MHCII  Activated_EC_HLADR  Activated_EC_CD107a  \\\n",
       "0                  NaN                 NaN                  NaN   \n",
       "1                  NaN                 NaN                  NaN   \n",
       "2                  NaN                 NaN                  NaN   \n",
       "3                  NaN                 NaN                  NaN   \n",
       "4                  NaN                 NaN                  NaN   \n",
       "..                 ...                 ...                  ...   \n",
       "69                 NaN                 NaN                  NaN   \n",
       "70                 NaN                 NaN                  NaN   \n",
       "71            0.293499            0.203582             0.094379   \n",
       "72                 NaN                 NaN                  NaN   \n",
       "73                 NaN                 NaN                  NaN   \n",
       "\n",
       "    Activated_EC_GranzB   Factor1   Factor2   Factor3   Factor4   Factor5  \n",
       "0                   NaN       NaN       NaN       NaN       NaN       NaN  \n",
       "1                   NaN       NaN       NaN       NaN       NaN       NaN  \n",
       "2                   NaN       NaN       NaN       NaN       NaN       NaN  \n",
       "3                   NaN       NaN       NaN       NaN       NaN       NaN  \n",
       "4                   NaN       NaN       NaN       NaN       NaN       NaN  \n",
       "..                  ...       ...       ...       ...       ...       ...  \n",
       "69                  NaN  0.298056 -0.579180 -0.018243  0.385138 -0.540270  \n",
       "70                  NaN  0.526367 -0.589199  1.348493 -0.361768  0.022214  \n",
       "71             0.067192 -0.239372 -0.353914  0.269814  5.589784 -0.098247  \n",
       "72                  NaN  0.891899 -0.825839  0.700832 -0.448248  0.498533  \n",
       "73                  NaN  0.027593 -0.238609  1.102648 -0.185315 -0.066024  \n",
       "\n",
       "[74 rows x 208 columns]"
      ]
     },
     "execution_count": 3,
     "metadata": {},
     "output_type": "execute_result"
    }
   ],
   "source": [
    "df"
   ]
  },
  {
   "cell_type": "code",
   "execution_count": 4,
   "id": "bc962c80",
   "metadata": {},
   "outputs": [
    {
     "name": "stdout",
     "output_type": "stream",
     "text": [
      "\u001b[1;35m2024-01-06 18:09:25,655\u001b[0m - \u001b[1;34mroot\u001b[0m \u001b[1;37mINFO - Transformed passed DataFrame into an AnnData object with n_obs x n_vars = `74` x `207`.\u001b[0m\n"
     ]
    }
   ],
   "source": [
    "adata = ep.ad.df_to_anndata(\n",
    "    df, index_column=\"RecordID\", \n",
    ")\n",
    "\n",
    "#columns_obs_only=[\"Category\"]"
   ]
  },
  {
   "cell_type": "code",
   "execution_count": null,
   "id": "81035429",
   "metadata": {},
   "outputs": [],
   "source": [
    "adata"
   ]
  },
  {
   "cell_type": "code",
   "execution_count": null,
   "id": "b2529298",
   "metadata": {},
   "outputs": [],
   "source": [
    "adata.obs"
   ]
  },
  {
   "cell_type": "code",
   "execution_count": null,
   "id": "982a10c1",
   "metadata": {},
   "outputs": [],
   "source": [
    "# The AnnData object also has data in the uns (unstructured) slot which denotes which columns are numerical columns and which ones aren’t.\n",
    "# This may be required for specific algorithms.\n",
    "adata.uns"
   ]
  },
  {
   "cell_type": "code",
   "execution_count": null,
   "id": "d7c2bb8b",
   "metadata": {},
   "outputs": [],
   "source": [
    "# Finally, the layers slot of our object saves all original values when the object was created. \n",
    "# We will constantly modify our X when applying algorithms to our object (e.g. scaling) and this layer is a copy of our original X \n",
    "# which will allow us to e.g. scale the age, but use the original values when coloring a UMAP plot.\n",
    "\n",
    "adata.layers[\"original\"]"
   ]
  },
  {
   "cell_type": "code",
   "execution_count": null,
   "id": "5dd98295",
   "metadata": {},
   "outputs": [],
   "source": [
    "ep.ad.type_overview(adata)"
   ]
  },
  {
   "cell_type": "markdown",
   "id": "29c8d71c",
   "metadata": {},
   "source": [
    "# 2- Preprocessing"
   ]
  },
  {
   "cell_type": "markdown",
   "id": "28cf8a2a",
   "metadata": {},
   "source": [
    "Quality control - missing values"
   ]
  },
  {
   "cell_type": "code",
   "execution_count": null,
   "id": "327bf72c",
   "metadata": {},
   "outputs": [],
   "source": [
    "obs_metric, var_metrics = ep.pp.qc_metrics(adata)\n"
   ]
  },
  {
   "cell_type": "code",
   "execution_count": null,
   "id": "b3990ad6",
   "metadata": {
    "scrolled": true
   },
   "outputs": [],
   "source": [
    "obs_metric"
   ]
  },
  {
   "cell_type": "code",
   "execution_count": null,
   "id": "e1c02470",
   "metadata": {},
   "outputs": [],
   "source": [
    "var_metrics"
   ]
  },
  {
   "cell_type": "code",
   "execution_count": null,
   "id": "b30995eb",
   "metadata": {},
   "outputs": [],
   "source": [
    "axd = plt.figure(constrained_layout=True, figsize=(8, 4), dpi=100).subplot_mosaic(\n",
    "    \"\"\"\n",
    "    AB\n",
    "    \"\"\"\n",
    ")\n",
    "\n",
    "sns.histplot(\n",
    "    adata.obs[\"missing_values_pct\"], ax=axd[\"A\"], bins=30, color=\"#54C285\"\n",
    ").set(title=\"pct of missing values: obs\")\n",
    "sns.histplot(\n",
    "    adata.var[\"missing_values_pct\"], ax=axd[\"B\"], bins=30, color=\"#1FA6C9\"\n",
    ").set(title=\"pct of missing values: var\")"
   ]
  },
  {
   "cell_type": "markdown",
   "id": "fd7ab5e7",
   "metadata": {},
   "source": [
    "Missing data imputation with KNN"
   ]
  },
  {
   "cell_type": "code",
   "execution_count": null,
   "id": "c799e3b9",
   "metadata": {
    "scrolled": false
   },
   "outputs": [],
   "source": [
    "adata2 = adata\n",
    "ep.pp.knn_impute(adata2)"
   ]
  },
  {
   "cell_type": "code",
   "execution_count": null,
   "id": "c3c14d51",
   "metadata": {},
   "outputs": [],
   "source": [
    "_ = ep.pp.qc_metrics(adata)"
   ]
  },
  {
   "cell_type": "code",
   "execution_count": null,
   "id": "ffe291ff",
   "metadata": {},
   "outputs": [],
   "source": [
    "axd = plt.figure(constrained_layout=True, figsize=(8, 3), dpi=100).subplot_mosaic(\n",
    "    \"\"\"\n",
    "    AB\n",
    "    \"\"\"\n",
    ")\n",
    "\n",
    "sns.histplot(adata.obs[\"missing_values_pct\"], ax=axd[\"A\"], bins=5, color=\"#54C285\").set(\n",
    "    title=\"pct of missing values: obs\", xlim=(0, 30)\n",
    ")\n",
    "sns.histplot(adata.var[\"missing_values_pct\"], ax=axd[\"B\"], bins=5, color=\"#1FA6C9\").set(\n",
    "    title=\"pct of missing values: var\", xlim=(0, 30)\n",
    ")"
   ]
  },
  {
   "cell_type": "code",
   "execution_count": null,
   "id": "d06da4d3",
   "metadata": {},
   "outputs": [],
   "source": [
    "adata.X"
   ]
  },
  {
   "cell_type": "code",
   "execution_count": null,
   "id": "50f2be31",
   "metadata": {},
   "outputs": [],
   "source": [
    "adata2.write_csvs(dirname='./', skip_data=False)"
   ]
  },
  {
   "cell_type": "markdown",
   "id": "399ccbc9",
   "metadata": {},
   "source": [
    "Missing data imputation with MissForest strategy"
   ]
  },
  {
   "cell_type": "code",
   "execution_count": null,
   "id": "11dea9f0",
   "metadata": {},
   "outputs": [],
   "source": [
    "adata3 = adata\n",
    "ep.pp.miss_forest_impute(adata3)"
   ]
  },
  {
   "cell_type": "code",
   "execution_count": null,
   "id": "4b7a060e",
   "metadata": {},
   "outputs": [],
   "source": [
    "adata3.write_csvs(dirname='./', skip_data=False)"
   ]
  },
  {
   "cell_type": "code",
   "execution_count": null,
   "id": "159a6556",
   "metadata": {},
   "outputs": [],
   "source": [
    "Missing data imputation with SoftImpute"
   ]
  },
  {
   "cell_type": "code",
   "execution_count": null,
   "id": "4c064e3d",
   "metadata": {},
   "outputs": [],
   "source": [
    "adata4 = adata\n",
    "ep.pp.soft_impute(adata4)"
   ]
  },
  {
   "cell_type": "code",
   "execution_count": null,
   "id": "7cc41f92",
   "metadata": {},
   "outputs": [],
   "source": [
    "adata4.write_csvs(dirname='./', skip_data=False)"
   ]
  },
  {
   "cell_type": "code",
   "execution_count": null,
   "id": "3c8a0af2",
   "metadata": {},
   "outputs": [],
   "source": [
    "Missing data imputation with IterativeSVD algorithm"
   ]
  },
  {
   "cell_type": "code",
   "execution_count": null,
   "id": "af2dac59",
   "metadata": {},
   "outputs": [],
   "source": [
    "adata5 = adata\n",
    "ep.pp.iterative_svd_impute(adata5)"
   ]
  },
  {
   "cell_type": "code",
   "execution_count": null,
   "id": "53fc34bd",
   "metadata": {},
   "outputs": [],
   "source": [
    "adata5.write_csvs(dirname='./', skip_data=False)"
   ]
  },
  {
   "cell_type": "code",
   "execution_count": null,
   "id": "16ddec37",
   "metadata": {},
   "outputs": [],
   "source": [
    "Missing data imputation with MatrixFactorization"
   ]
  },
  {
   "cell_type": "code",
   "execution_count": null,
   "id": "7cce44cd",
   "metadata": {},
   "outputs": [],
   "source": [
    "adata6 = adata\n",
    "ep.pp.matrix_factorization_impute(adata6)"
   ]
  },
  {
   "cell_type": "code",
   "execution_count": null,
   "id": "27c583b6",
   "metadata": {},
   "outputs": [],
   "source": [
    "adata6.X"
   ]
  },
  {
   "cell_type": "code",
   "execution_count": null,
   "id": "3012da03",
   "metadata": {},
   "outputs": [],
   "source": [
    "adata6.write_csvs(dirname='./', skip_data=False)"
   ]
  },
  {
   "cell_type": "code",
   "execution_count": null,
   "id": "0a78c5c1",
   "metadata": {},
   "outputs": [],
   "source": [
    "Missing data imputation with NuclearNormMinimization"
   ]
  },
  {
   "cell_type": "code",
   "execution_count": null,
   "id": "dc34ce16",
   "metadata": {},
   "outputs": [],
   "source": [
    "adata7 = adata\n",
    "ep.pp.nuclear_norm_minimization_impute(adata7)"
   ]
  },
  {
   "cell_type": "code",
   "execution_count": null,
   "id": "c6dd1ca7",
   "metadata": {},
   "outputs": [],
   "source": []
  },
  {
   "cell_type": "code",
   "execution_count": null,
   "id": "5ac3551f",
   "metadata": {},
   "outputs": [],
   "source": [
    "adata7.write_csvs(dirname='./', skip_data=False)"
   ]
  },
  {
   "cell_type": "code",
   "execution_count": null,
   "id": "0593a085",
   "metadata": {},
   "outputs": [],
   "source": [
    "adata7.X"
   ]
  },
  {
   "cell_type": "code",
   "execution_count": null,
   "id": "2c7a07d2",
   "metadata": {},
   "outputs": [],
   "source": [
    "Missing data imputation with miceforest"
   ]
  },
  {
   "cell_type": "code",
   "execution_count": null,
   "id": "f64412a2",
   "metadata": {},
   "outputs": [
    {
     "data": {
      "text/html": [
       "<pre style=\"white-space:pre;overflow-x:auto;line-height:normal;font-family:Menlo,'DejaVu Sans Mono',consolas,'Courier New',monospace\"><span style=\"color: #808000; text-decoration-color: #808000; font-weight: bold\">Quality control metrics missing. Calculating...</span>\n",
       "</pre>\n"
      ],
      "text/plain": [
       "\u001b[1;33mQuality control metrics missing. Calculating\u001b[0m\u001b[1;33m...\u001b[0m\n"
      ]
     },
     "metadata": {},
     "output_type": "display_data"
    },
    {
     "data": {
      "text/html": [
       "<pre style=\"white-space:pre;overflow-x:auto;line-height:normal;font-family:Menlo,'DejaVu Sans Mono',consolas,'Courier New',monospace\"><span style=\"color: #808000; text-decoration-color: #808000; font-weight: bold\">Feature </span><span style=\"color: #000080; text-decoration-color: #000080; font-weight: bold\">Freq_Apoptotic_Neutrophil </span><span style=\"color: #808000; text-decoration-color: #808000; font-weight: bold\">had more than </span><span style=\"color: #000080; text-decoration-color: #000080; font-weight: bold\">89.19</span><span style=\"color: #000080; text-decoration-color: #000080; font-weight: bold\">% </span><span style=\"color: #808000; text-decoration-color: #808000; font-weight: bold\">missing values!</span>\n",
       "</pre>\n"
      ],
      "text/plain": [
       "\u001b[1;33mFeature \u001b[0m\u001b[1;34mFreq_Apoptotic_Neutrophil \u001b[0m\u001b[1;33mhad more than \u001b[0m\u001b[1;34m89.19\u001b[0m\u001b[1;34m% \u001b[0m\u001b[1;33mmissing values!\u001b[0m\n"
      ]
     },
     "metadata": {},
     "output_type": "display_data"
    },
    {
     "data": {
      "text/html": [
       "<pre style=\"white-space:pre;overflow-x:auto;line-height:normal;font-family:Menlo,'DejaVu Sans Mono',consolas,'Courier New',monospace\"><span style=\"color: #808000; text-decoration-color: #808000; font-weight: bold\">Feature </span><span style=\"color: #000080; text-decoration-color: #000080; font-weight: bold\">Counts_Apoptotic_Fibroblast </span><span style=\"color: #808000; text-decoration-color: #808000; font-weight: bold\">had more than </span><span style=\"color: #000080; text-decoration-color: #000080; font-weight: bold\">89.19</span><span style=\"color: #000080; text-decoration-color: #000080; font-weight: bold\">% </span><span style=\"color: #808000; text-decoration-color: #808000; font-weight: bold\">missing values!</span>\n",
       "</pre>\n"
      ],
      "text/plain": [
       "\u001b[1;33mFeature \u001b[0m\u001b[1;34mCounts_Apoptotic_Fibroblast \u001b[0m\u001b[1;33mhad more than \u001b[0m\u001b[1;34m89.19\u001b[0m\u001b[1;34m% \u001b[0m\u001b[1;33mmissing values!\u001b[0m\n"
      ]
     },
     "metadata": {},
     "output_type": "display_data"
    },
    {
     "data": {
      "text/html": [
       "<pre style=\"white-space:pre;overflow-x:auto;line-height:normal;font-family:Menlo,'DejaVu Sans Mono',consolas,'Courier New',monospace\"><span style=\"color: #808000; text-decoration-color: #808000; font-weight: bold\">Feature </span><span style=\"color: #000080; text-decoration-color: #000080; font-weight: bold\">Freq_CD4_Tcell </span><span style=\"color: #808000; text-decoration-color: #808000; font-weight: bold\">had more than </span><span style=\"color: #000080; text-decoration-color: #000080; font-weight: bold\">89.19</span><span style=\"color: #000080; text-decoration-color: #000080; font-weight: bold\">% </span><span style=\"color: #808000; text-decoration-color: #808000; font-weight: bold\">missing values!</span>\n",
       "</pre>\n"
      ],
      "text/plain": [
       "\u001b[1;33mFeature \u001b[0m\u001b[1;34mFreq_CD4_Tcell \u001b[0m\u001b[1;33mhad more than \u001b[0m\u001b[1;34m89.19\u001b[0m\u001b[1;34m% \u001b[0m\u001b[1;33mmissing values!\u001b[0m\n"
      ]
     },
     "metadata": {},
     "output_type": "display_data"
    },
    {
     "data": {
      "text/html": [
       "<pre style=\"white-space:pre;overflow-x:auto;line-height:normal;font-family:Menlo,'DejaVu Sans Mono',consolas,'Courier New',monospace\"><span style=\"color: #808000; text-decoration-color: #808000; font-weight: bold\">Feature </span><span style=\"color: #000080; text-decoration-color: #000080; font-weight: bold\">Ve_Alveolar_Macrophage_CD66bHigh_Neutrophil </span><span style=\"color: #808000; text-decoration-color: #808000; font-weight: bold\">had more than </span><span style=\"color: #000080; text-decoration-color: #000080; font-weight: bold\">89.19</span><span style=\"color: #000080; text-decoration-color: #000080; font-weight: bold\">% </span><span style=\"color: #808000; text-decoration-color: #808000; font-weight: bold\">missing values!</span>\n",
       "</pre>\n"
      ],
      "text/plain": [
       "\u001b[1;33mFeature \u001b[0m\u001b[1;34mVe_Alveolar_Macrophage_CD66bHigh_Neutrophil \u001b[0m\u001b[1;33mhad more than \u001b[0m\u001b[1;34m89.19\u001b[0m\u001b[1;34m% \u001b[0m\u001b[1;33mmissing values!\u001b[0m\n"
      ]
     },
     "metadata": {},
     "output_type": "display_data"
    },
    {
     "data": {
      "text/html": [
       "<pre style=\"white-space:pre;overflow-x:auto;line-height:normal;font-family:Menlo,'DejaVu Sans Mono',consolas,'Courier New',monospace\"><span style=\"color: #808000; text-decoration-color: #808000; font-weight: bold\">Feature </span><span style=\"color: #000080; text-decoration-color: #000080; font-weight: bold\">Counts_ve_Epithelial_cell </span><span style=\"color: #808000; text-decoration-color: #808000; font-weight: bold\">had more than </span><span style=\"color: #000080; text-decoration-color: #000080; font-weight: bold\">89.19</span><span style=\"color: #000080; text-decoration-color: #000080; font-weight: bold\">% </span><span style=\"color: #808000; text-decoration-color: #808000; font-weight: bold\">missing values!</span>\n",
       "</pre>\n"
      ],
      "text/plain": [
       "\u001b[1;33mFeature \u001b[0m\u001b[1;34mCounts_ve_Epithelial_cell \u001b[0m\u001b[1;33mhad more than \u001b[0m\u001b[1;34m89.19\u001b[0m\u001b[1;34m% \u001b[0m\u001b[1;33mmissing values!\u001b[0m\n"
      ]
     },
     "metadata": {},
     "output_type": "display_data"
    },
    {
     "data": {
      "text/html": [
       "<pre style=\"white-space:pre;overflow-x:auto;line-height:normal;font-family:Menlo,'DejaVu Sans Mono',consolas,'Courier New',monospace\"><span style=\"color: #808000; text-decoration-color: #808000; font-weight: bold\">Feature </span><span style=\"color: #000080; text-decoration-color: #000080; font-weight: bold\">Activated_EC_ICAM1 </span><span style=\"color: #808000; text-decoration-color: #808000; font-weight: bold\">had more than </span><span style=\"color: #000080; text-decoration-color: #000080; font-weight: bold\">89.19</span><span style=\"color: #000080; text-decoration-color: #000080; font-weight: bold\">% </span><span style=\"color: #808000; text-decoration-color: #808000; font-weight: bold\">missing values!</span>\n",
       "</pre>\n"
      ],
      "text/plain": [
       "\u001b[1;33mFeature \u001b[0m\u001b[1;34mActivated_EC_ICAM1 \u001b[0m\u001b[1;33mhad more than \u001b[0m\u001b[1;34m89.19\u001b[0m\u001b[1;34m% \u001b[0m\u001b[1;33mmissing values!\u001b[0m\n"
      ]
     },
     "metadata": {},
     "output_type": "display_data"
    },
    {
     "data": {
      "text/html": [
       "<pre style=\"white-space:pre;overflow-x:auto;line-height:normal;font-family:Menlo,'DejaVu Sans Mono',consolas,'Courier New',monospace\"><span style=\"color: #808000; text-decoration-color: #808000; font-weight: bold\">Feature </span><span style=\"color: #000080; text-decoration-color: #000080; font-weight: bold\">Activated_EC_MHCII </span><span style=\"color: #808000; text-decoration-color: #808000; font-weight: bold\">had more than </span><span style=\"color: #000080; text-decoration-color: #000080; font-weight: bold\">89.19</span><span style=\"color: #000080; text-decoration-color: #000080; font-weight: bold\">% </span><span style=\"color: #808000; text-decoration-color: #808000; font-weight: bold\">missing values!</span>\n",
       "</pre>\n"
      ],
      "text/plain": [
       "\u001b[1;33mFeature \u001b[0m\u001b[1;34mActivated_EC_MHCII \u001b[0m\u001b[1;33mhad more than \u001b[0m\u001b[1;34m89.19\u001b[0m\u001b[1;34m% \u001b[0m\u001b[1;33mmissing values!\u001b[0m\n"
      ]
     },
     "metadata": {},
     "output_type": "display_data"
    },
    {
     "data": {
      "text/html": [
       "<pre style=\"white-space:pre;overflow-x:auto;line-height:normal;font-family:Menlo,'DejaVu Sans Mono',consolas,'Courier New',monospace\"><span style=\"color: #808000; text-decoration-color: #808000; font-weight: bold\">Feature </span><span style=\"color: #000080; text-decoration-color: #000080; font-weight: bold\">Ve_Epithelial_cell_Apoptotic_Myofibroblast </span><span style=\"color: #808000; text-decoration-color: #808000; font-weight: bold\">had more than </span><span style=\"color: #000080; text-decoration-color: #000080; font-weight: bold\">89.19</span><span style=\"color: #000080; text-decoration-color: #000080; font-weight: bold\">% </span><span style=\"color: #808000; text-decoration-color: #808000; font-weight: bold\">missing values!</span>\n",
       "</pre>\n"
      ],
      "text/plain": [
       "\u001b[1;33mFeature \u001b[0m\u001b[1;34mVe_Epithelial_cell_Apoptotic_Myofibroblast \u001b[0m\u001b[1;33mhad more than \u001b[0m\u001b[1;34m89.19\u001b[0m\u001b[1;34m% \u001b[0m\u001b[1;33mmissing values!\u001b[0m\n"
      ]
     },
     "metadata": {},
     "output_type": "display_data"
    },
    {
     "data": {
      "text/html": [
       "<pre style=\"white-space:pre;overflow-x:auto;line-height:normal;font-family:Menlo,'DejaVu Sans Mono',consolas,'Courier New',monospace\"><span style=\"color: #808000; text-decoration-color: #808000; font-weight: bold\">Feature </span><span style=\"color: #000080; text-decoration-color: #000080; font-weight: bold\">Ve_Epithelial_cell_CD8_Tcell </span><span style=\"color: #808000; text-decoration-color: #808000; font-weight: bold\">had more than </span><span style=\"color: #000080; text-decoration-color: #000080; font-weight: bold\">89.19</span><span style=\"color: #000080; text-decoration-color: #000080; font-weight: bold\">% </span><span style=\"color: #808000; text-decoration-color: #808000; font-weight: bold\">missing values!</span>\n",
       "</pre>\n"
      ],
      "text/plain": [
       "\u001b[1;33mFeature \u001b[0m\u001b[1;34mVe_Epithelial_cell_CD8_Tcell \u001b[0m\u001b[1;33mhad more than \u001b[0m\u001b[1;34m89.19\u001b[0m\u001b[1;34m% \u001b[0m\u001b[1;33mmissing values!\u001b[0m\n"
      ]
     },
     "metadata": {},
     "output_type": "display_data"
    },
    {
     "data": {
      "text/html": [
       "<pre style=\"white-space:pre;overflow-x:auto;line-height:normal;font-family:Menlo,'DejaVu Sans Mono',consolas,'Courier New',monospace\"><span style=\"color: #808000; text-decoration-color: #808000; font-weight: bold\">Feature </span><span style=\"color: #000080; text-decoration-color: #000080; font-weight: bold\">Counts_CD8 </span><span style=\"color: #808000; text-decoration-color: #808000; font-weight: bold\">had more than </span><span style=\"color: #000080; text-decoration-color: #000080; font-weight: bold\">89.19</span><span style=\"color: #000080; text-decoration-color: #000080; font-weight: bold\">% </span><span style=\"color: #808000; text-decoration-color: #808000; font-weight: bold\">missing values!</span>\n",
       "</pre>\n"
      ],
      "text/plain": [
       "\u001b[1;33mFeature \u001b[0m\u001b[1;34mCounts_CD8 \u001b[0m\u001b[1;33mhad more than \u001b[0m\u001b[1;34m89.19\u001b[0m\u001b[1;34m% \u001b[0m\u001b[1;33mmissing values!\u001b[0m\n"
      ]
     },
     "metadata": {},
     "output_type": "display_data"
    },
    {
     "data": {
      "text/html": [
       "<pre style=\"white-space:pre;overflow-x:auto;line-height:normal;font-family:Menlo,'DejaVu Sans Mono',consolas,'Courier New',monospace\"><span style=\"color: #808000; text-decoration-color: #808000; font-weight: bold\">Feature </span><span style=\"color: #000080; text-decoration-color: #000080; font-weight: bold\">Freq_Interstitial_Macrophage </span><span style=\"color: #808000; text-decoration-color: #808000; font-weight: bold\">had more than </span><span style=\"color: #000080; text-decoration-color: #000080; font-weight: bold\">89.19</span><span style=\"color: #000080; text-decoration-color: #000080; font-weight: bold\">% </span><span style=\"color: #808000; text-decoration-color: #808000; font-weight: bold\">missing values!</span>\n",
       "</pre>\n"
      ],
      "text/plain": [
       "\u001b[1;33mFeature \u001b[0m\u001b[1;34mFreq_Interstitial_Macrophage \u001b[0m\u001b[1;33mhad more than \u001b[0m\u001b[1;34m89.19\u001b[0m\u001b[1;34m% \u001b[0m\u001b[1;33mmissing values!\u001b[0m\n"
      ]
     },
     "metadata": {},
     "output_type": "display_data"
    },
    {
     "data": {
      "text/html": [
       "<pre style=\"white-space:pre;overflow-x:auto;line-height:normal;font-family:Menlo,'DejaVu Sans Mono',consolas,'Courier New',monospace\"><span style=\"color: #808000; text-decoration-color: #808000; font-weight: bold\">Feature </span><span style=\"color: #000080; text-decoration-color: #000080; font-weight: bold\">Ve_Alveolar_Macrophage_Interstitial_Macrophage </span><span style=\"color: #808000; text-decoration-color: #808000; font-weight: bold\">had more than </span><span style=\"color: #000080; text-decoration-color: #000080; font-weight: bold\">89.19</span><span style=\"color: #000080; text-decoration-color: #000080; font-weight: bold\">% </span><span style=\"color: #808000; text-decoration-color: #808000; font-weight: bold\">missing values!</span>\n",
       "</pre>\n"
      ],
      "text/plain": [
       "\u001b[1;33mFeature \u001b[0m\u001b[1;34mVe_Alveolar_Macrophage_Interstitial_Macrophage \u001b[0m\u001b[1;33mhad more than \u001b[0m\u001b[1;34m89.19\u001b[0m\u001b[1;34m% \u001b[0m\u001b[1;33mmissing values!\u001b[0m\n"
      ]
     },
     "metadata": {},
     "output_type": "display_data"
    },
    {
     "data": {
      "text/html": [
       "<pre style=\"white-space:pre;overflow-x:auto;line-height:normal;font-family:Menlo,'DejaVu Sans Mono',consolas,'Courier New',monospace\"><span style=\"color: #808000; text-decoration-color: #808000; font-weight: bold\">Feature </span><span style=\"color: #000080; text-decoration-color: #000080; font-weight: bold\">Ve_Epithelial_cell_CD38_CD4_Tcell </span><span style=\"color: #808000; text-decoration-color: #808000; font-weight: bold\">had more than </span><span style=\"color: #000080; text-decoration-color: #000080; font-weight: bold\">89.19</span><span style=\"color: #000080; text-decoration-color: #000080; font-weight: bold\">% </span><span style=\"color: #808000; text-decoration-color: #808000; font-weight: bold\">missing values!</span>\n",
       "</pre>\n"
      ],
      "text/plain": [
       "\u001b[1;33mFeature \u001b[0m\u001b[1;34mVe_Epithelial_cell_CD38_CD4_Tcell \u001b[0m\u001b[1;33mhad more than \u001b[0m\u001b[1;34m89.19\u001b[0m\u001b[1;34m% \u001b[0m\u001b[1;33mmissing values!\u001b[0m\n"
      ]
     },
     "metadata": {},
     "output_type": "display_data"
    },
    {
     "data": {
      "text/html": [
       "<pre style=\"white-space:pre;overflow-x:auto;line-height:normal;font-family:Menlo,'DejaVu Sans Mono',consolas,'Courier New',monospace\"><span style=\"color: #808000; text-decoration-color: #808000; font-weight: bold\">Feature </span><span style=\"color: #000080; text-decoration-color: #000080; font-weight: bold\">Freq_CD8 </span><span style=\"color: #808000; text-decoration-color: #808000; font-weight: bold\">had more than </span><span style=\"color: #000080; text-decoration-color: #000080; font-weight: bold\">89.19</span><span style=\"color: #000080; text-decoration-color: #000080; font-weight: bold\">% </span><span style=\"color: #808000; text-decoration-color: #808000; font-weight: bold\">missing values!</span>\n",
       "</pre>\n"
      ],
      "text/plain": [
       "\u001b[1;33mFeature \u001b[0m\u001b[1;34mFreq_CD8 \u001b[0m\u001b[1;33mhad more than \u001b[0m\u001b[1;34m89.19\u001b[0m\u001b[1;34m% \u001b[0m\u001b[1;33mmissing values!\u001b[0m\n"
      ]
     },
     "metadata": {},
     "output_type": "display_data"
    },
    {
     "data": {
      "text/html": [
       "<pre style=\"white-space:pre;overflow-x:auto;line-height:normal;font-family:Menlo,'DejaVu Sans Mono',consolas,'Courier New',monospace\"><span style=\"color: #808000; text-decoration-color: #808000; font-weight: bold\">Feature </span><span style=\"color: #000080; text-decoration-color: #000080; font-weight: bold\">Ve_Alveolar_Macrophage_Apoptotic_Neutrophil </span><span style=\"color: #808000; text-decoration-color: #808000; font-weight: bold\">had more than </span><span style=\"color: #000080; text-decoration-color: #000080; font-weight: bold\">89.19</span><span style=\"color: #000080; text-decoration-color: #000080; font-weight: bold\">% </span><span style=\"color: #808000; text-decoration-color: #808000; font-weight: bold\">missing values!</span>\n",
       "</pre>\n"
      ],
      "text/plain": [
       "\u001b[1;33mFeature \u001b[0m\u001b[1;34mVe_Alveolar_Macrophage_Apoptotic_Neutrophil \u001b[0m\u001b[1;33mhad more than \u001b[0m\u001b[1;34m89.19\u001b[0m\u001b[1;34m% \u001b[0m\u001b[1;33mmissing values!\u001b[0m\n"
      ]
     },
     "metadata": {},
     "output_type": "display_data"
    },
    {
     "data": {
      "text/html": [
       "<pre style=\"white-space:pre;overflow-x:auto;line-height:normal;font-family:Menlo,'DejaVu Sans Mono',consolas,'Courier New',monospace\"><span style=\"color: #808000; text-decoration-color: #808000; font-weight: bold\">Feature </span><span style=\"color: #000080; text-decoration-color: #000080; font-weight: bold\">Ve_Epithelial_cell_Apoptotic_Neutrophil </span><span style=\"color: #808000; text-decoration-color: #808000; font-weight: bold\">had more than </span><span style=\"color: #000080; text-decoration-color: #000080; font-weight: bold\">89.19</span><span style=\"color: #000080; text-decoration-color: #000080; font-weight: bold\">% </span><span style=\"color: #808000; text-decoration-color: #808000; font-weight: bold\">missing values!</span>\n",
       "</pre>\n"
      ],
      "text/plain": [
       "\u001b[1;33mFeature \u001b[0m\u001b[1;34mVe_Epithelial_cell_Apoptotic_Neutrophil \u001b[0m\u001b[1;33mhad more than \u001b[0m\u001b[1;34m89.19\u001b[0m\u001b[1;34m% \u001b[0m\u001b[1;33mmissing values!\u001b[0m\n"
      ]
     },
     "metadata": {},
     "output_type": "display_data"
    },
    {
     "data": {
      "text/html": [
       "<pre style=\"white-space:pre;overflow-x:auto;line-height:normal;font-family:Menlo,'DejaVu Sans Mono',consolas,'Courier New',monospace\"><span style=\"color: #808000; text-decoration-color: #808000; font-weight: bold\">Feature </span><span style=\"color: #000080; text-decoration-color: #000080; font-weight: bold\">Ve_Alveolar_Macrophage_HLADR </span><span style=\"color: #808000; text-decoration-color: #808000; font-weight: bold\">had more than </span><span style=\"color: #000080; text-decoration-color: #000080; font-weight: bold\">89.19</span><span style=\"color: #000080; text-decoration-color: #000080; font-weight: bold\">% </span><span style=\"color: #808000; text-decoration-color: #808000; font-weight: bold\">missing values!</span>\n",
       "</pre>\n"
      ],
      "text/plain": [
       "\u001b[1;33mFeature \u001b[0m\u001b[1;34mVe_Alveolar_Macrophage_HLADR \u001b[0m\u001b[1;33mhad more than \u001b[0m\u001b[1;34m89.19\u001b[0m\u001b[1;34m% \u001b[0m\u001b[1;33mmissing values!\u001b[0m\n"
      ]
     },
     "metadata": {},
     "output_type": "display_data"
    },
    {
     "data": {
      "text/html": [
       "<pre style=\"white-space:pre;overflow-x:auto;line-height:normal;font-family:Menlo,'DejaVu Sans Mono',consolas,'Courier New',monospace\"><span style=\"color: #808000; text-decoration-color: #808000; font-weight: bold\">Feature </span><span style=\"color: #000080; text-decoration-color: #000080; font-weight: bold\">Ve_Alveolar_Macrophage_Ve_Alveolar_Macrophage </span><span style=\"color: #808000; text-decoration-color: #808000; font-weight: bold\">had more than </span><span style=\"color: #000080; text-decoration-color: #000080; font-weight: bold\">89.19</span><span style=\"color: #000080; text-decoration-color: #000080; font-weight: bold\">% </span><span style=\"color: #808000; text-decoration-color: #808000; font-weight: bold\">missing values!</span>\n",
       "</pre>\n"
      ],
      "text/plain": [
       "\u001b[1;33mFeature \u001b[0m\u001b[1;34mVe_Alveolar_Macrophage_Ve_Alveolar_Macrophage \u001b[0m\u001b[1;33mhad more than \u001b[0m\u001b[1;34m89.19\u001b[0m\u001b[1;34m% \u001b[0m\u001b[1;33mmissing values!\u001b[0m\n"
      ]
     },
     "metadata": {},
     "output_type": "display_data"
    },
    {
     "data": {
      "text/html": [
       "<pre style=\"white-space:pre;overflow-x:auto;line-height:normal;font-family:Menlo,'DejaVu Sans Mono',consolas,'Courier New',monospace\"><span style=\"color: #808000; text-decoration-color: #808000; font-weight: bold\">Feature </span><span style=\"color: #000080; text-decoration-color: #000080; font-weight: bold\">Ve_Epithelial_cell_Apoptotic_Epithelial_cell </span><span style=\"color: #808000; text-decoration-color: #808000; font-weight: bold\">had more than </span><span style=\"color: #000080; text-decoration-color: #000080; font-weight: bold\">89.19</span><span style=\"color: #000080; text-decoration-color: #000080; font-weight: bold\">% </span><span style=\"color: #808000; text-decoration-color: #808000; font-weight: bold\">missing values!</span>\n",
       "</pre>\n"
      ],
      "text/plain": [
       "\u001b[1;33mFeature \u001b[0m\u001b[1;34mVe_Epithelial_cell_Apoptotic_Epithelial_cell \u001b[0m\u001b[1;33mhad more than \u001b[0m\u001b[1;34m89.19\u001b[0m\u001b[1;34m% \u001b[0m\u001b[1;33mmissing values!\u001b[0m\n"
      ]
     },
     "metadata": {},
     "output_type": "display_data"
    },
    {
     "data": {
      "text/html": [
       "<pre style=\"white-space:pre;overflow-x:auto;line-height:normal;font-family:Menlo,'DejaVu Sans Mono',consolas,'Courier New',monospace\"><span style=\"color: #808000; text-decoration-color: #808000; font-weight: bold\">Feature </span><span style=\"color: #000080; text-decoration-color: #000080; font-weight: bold\">Ve_Epithelial_cell_EC </span><span style=\"color: #808000; text-decoration-color: #808000; font-weight: bold\">had more than </span><span style=\"color: #000080; text-decoration-color: #000080; font-weight: bold\">89.19</span><span style=\"color: #000080; text-decoration-color: #000080; font-weight: bold\">% </span><span style=\"color: #808000; text-decoration-color: #808000; font-weight: bold\">missing values!</span>\n",
       "</pre>\n"
      ],
      "text/plain": [
       "\u001b[1;33mFeature \u001b[0m\u001b[1;34mVe_Epithelial_cell_EC \u001b[0m\u001b[1;33mhad more than \u001b[0m\u001b[1;34m89.19\u001b[0m\u001b[1;34m% \u001b[0m\u001b[1;33mmissing values!\u001b[0m\n"
      ]
     },
     "metadata": {},
     "output_type": "display_data"
    },
    {
     "data": {
      "text/html": [
       "<pre style=\"white-space:pre;overflow-x:auto;line-height:normal;font-family:Menlo,'DejaVu Sans Mono',consolas,'Courier New',monospace\"><span style=\"color: #808000; text-decoration-color: #808000; font-weight: bold\">Feature </span><span style=\"color: #000080; text-decoration-color: #000080; font-weight: bold\">Ve_Alveolar_Macrophage_CD66bLow_Neutrophil </span><span style=\"color: #808000; text-decoration-color: #808000; font-weight: bold\">had more than </span><span style=\"color: #000080; text-decoration-color: #000080; font-weight: bold\">89.19</span><span style=\"color: #000080; text-decoration-color: #000080; font-weight: bold\">% </span><span style=\"color: #808000; text-decoration-color: #808000; font-weight: bold\">missing values!</span>\n",
       "</pre>\n"
      ],
      "text/plain": [
       "\u001b[1;33mFeature \u001b[0m\u001b[1;34mVe_Alveolar_Macrophage_CD66bLow_Neutrophil \u001b[0m\u001b[1;33mhad more than \u001b[0m\u001b[1;34m89.19\u001b[0m\u001b[1;34m% \u001b[0m\u001b[1;33mmissing values!\u001b[0m\n"
      ]
     },
     "metadata": {},
     "output_type": "display_data"
    },
    {
     "data": {
      "text/html": [
       "<pre style=\"white-space:pre;overflow-x:auto;line-height:normal;font-family:Menlo,'DejaVu Sans Mono',consolas,'Courier New',monospace\"><span style=\"color: #808000; text-decoration-color: #808000; font-weight: bold\">Feature </span><span style=\"color: #000080; text-decoration-color: #000080; font-weight: bold\">Counts_CD4 </span><span style=\"color: #808000; text-decoration-color: #808000; font-weight: bold\">had more than </span><span style=\"color: #000080; text-decoration-color: #000080; font-weight: bold\">89.19</span><span style=\"color: #000080; text-decoration-color: #000080; font-weight: bold\">% </span><span style=\"color: #808000; text-decoration-color: #808000; font-weight: bold\">missing values!</span>\n",
       "</pre>\n"
      ],
      "text/plain": [
       "\u001b[1;33mFeature \u001b[0m\u001b[1;34mCounts_CD4 \u001b[0m\u001b[1;33mhad more than \u001b[0m\u001b[1;34m89.19\u001b[0m\u001b[1;34m% \u001b[0m\u001b[1;33mmissing values!\u001b[0m\n"
      ]
     },
     "metadata": {},
     "output_type": "display_data"
    },
    {
     "data": {
      "text/html": [
       "<pre style=\"white-space:pre;overflow-x:auto;line-height:normal;font-family:Menlo,'DejaVu Sans Mono',consolas,'Courier New',monospace\"><span style=\"color: #808000; text-decoration-color: #808000; font-weight: bold\">Feature </span><span style=\"color: #000080; text-decoration-color: #000080; font-weight: bold\">Ve_Alveolar_Macrophage_Apoptotic_Fibroblast </span><span style=\"color: #808000; text-decoration-color: #808000; font-weight: bold\">had more than </span><span style=\"color: #000080; text-decoration-color: #000080; font-weight: bold\">89.19</span><span style=\"color: #000080; text-decoration-color: #000080; font-weight: bold\">% </span><span style=\"color: #808000; text-decoration-color: #808000; font-weight: bold\">missing values!</span>\n",
       "</pre>\n"
      ],
      "text/plain": [
       "\u001b[1;33mFeature \u001b[0m\u001b[1;34mVe_Alveolar_Macrophage_Apoptotic_Fibroblast \u001b[0m\u001b[1;33mhad more than \u001b[0m\u001b[1;34m89.19\u001b[0m\u001b[1;34m% \u001b[0m\u001b[1;33mmissing values!\u001b[0m\n"
      ]
     },
     "metadata": {},
     "output_type": "display_data"
    },
    {
     "data": {
      "text/html": [
       "<pre style=\"white-space:pre;overflow-x:auto;line-height:normal;font-family:Menlo,'DejaVu Sans Mono',consolas,'Courier New',monospace\"><span style=\"color: #808000; text-decoration-color: #808000; font-weight: bold\">Feature </span><span style=\"color: #000080; text-decoration-color: #000080; font-weight: bold\">Count_Macrophage </span><span style=\"color: #808000; text-decoration-color: #808000; font-weight: bold\">had more than </span><span style=\"color: #000080; text-decoration-color: #000080; font-weight: bold\">89.19</span><span style=\"color: #000080; text-decoration-color: #000080; font-weight: bold\">% </span><span style=\"color: #808000; text-decoration-color: #808000; font-weight: bold\">missing values!</span>\n",
       "</pre>\n"
      ],
      "text/plain": [
       "\u001b[1;33mFeature \u001b[0m\u001b[1;34mCount_Macrophage \u001b[0m\u001b[1;33mhad more than \u001b[0m\u001b[1;34m89.19\u001b[0m\u001b[1;34m% \u001b[0m\u001b[1;33mmissing values!\u001b[0m\n"
      ]
     },
     "metadata": {},
     "output_type": "display_data"
    },
    {
     "data": {
      "text/html": [
       "<pre style=\"white-space:pre;overflow-x:auto;line-height:normal;font-family:Menlo,'DejaVu Sans Mono',consolas,'Courier New',monospace\"><span style=\"color: #808000; text-decoration-color: #808000; font-weight: bold\">Feature </span><span style=\"color: #000080; text-decoration-color: #000080; font-weight: bold\">Ve_Alveolar_Macrophage_CD3_cell </span><span style=\"color: #808000; text-decoration-color: #808000; font-weight: bold\">had more than </span><span style=\"color: #000080; text-decoration-color: #000080; font-weight: bold\">89.19</span><span style=\"color: #000080; text-decoration-color: #000080; font-weight: bold\">% </span><span style=\"color: #808000; text-decoration-color: #808000; font-weight: bold\">missing values!</span>\n",
       "</pre>\n"
      ],
      "text/plain": [
       "\u001b[1;33mFeature \u001b[0m\u001b[1;34mVe_Alveolar_Macrophage_CD3_cell \u001b[0m\u001b[1;33mhad more than \u001b[0m\u001b[1;34m89.19\u001b[0m\u001b[1;34m% \u001b[0m\u001b[1;33mmissing values!\u001b[0m\n"
      ]
     },
     "metadata": {},
     "output_type": "display_data"
    },
    {
     "data": {
      "text/html": [
       "<pre style=\"white-space:pre;overflow-x:auto;line-height:normal;font-family:Menlo,'DejaVu Sans Mono',consolas,'Courier New',monospace\"><span style=\"color: #808000; text-decoration-color: #808000; font-weight: bold\">Feature </span><span style=\"color: #000080; text-decoration-color: #000080; font-weight: bold\">Activated_EC_MHCI </span><span style=\"color: #808000; text-decoration-color: #808000; font-weight: bold\">had more than </span><span style=\"color: #000080; text-decoration-color: #000080; font-weight: bold\">89.19</span><span style=\"color: #000080; text-decoration-color: #000080; font-weight: bold\">% </span><span style=\"color: #808000; text-decoration-color: #808000; font-weight: bold\">missing values!</span>\n",
       "</pre>\n"
      ],
      "text/plain": [
       "\u001b[1;33mFeature \u001b[0m\u001b[1;34mActivated_EC_MHCI \u001b[0m\u001b[1;33mhad more than \u001b[0m\u001b[1;34m89.19\u001b[0m\u001b[1;34m% \u001b[0m\u001b[1;33mmissing values!\u001b[0m\n"
      ]
     },
     "metadata": {},
     "output_type": "display_data"
    },
    {
     "data": {
      "text/html": [
       "<pre style=\"white-space:pre;overflow-x:auto;line-height:normal;font-family:Menlo,'DejaVu Sans Mono',consolas,'Courier New',monospace\"><span style=\"color: #808000; text-decoration-color: #808000; font-weight: bold\">Feature </span><span style=\"color: #000080; text-decoration-color: #000080; font-weight: bold\">Counts_ve_Alveolar_Macrophage </span><span style=\"color: #808000; text-decoration-color: #808000; font-weight: bold\">had more than </span><span style=\"color: #000080; text-decoration-color: #000080; font-weight: bold\">89.19</span><span style=\"color: #000080; text-decoration-color: #000080; font-weight: bold\">% </span><span style=\"color: #808000; text-decoration-color: #808000; font-weight: bold\">missing values!</span>\n",
       "</pre>\n"
      ],
      "text/plain": [
       "\u001b[1;33mFeature \u001b[0m\u001b[1;34mCounts_ve_Alveolar_Macrophage \u001b[0m\u001b[1;33mhad more than \u001b[0m\u001b[1;34m89.19\u001b[0m\u001b[1;34m% \u001b[0m\u001b[1;33mmissing values!\u001b[0m\n"
      ]
     },
     "metadata": {},
     "output_type": "display_data"
    },
    {
     "data": {
      "text/html": [
       "<pre style=\"white-space:pre;overflow-x:auto;line-height:normal;font-family:Menlo,'DejaVu Sans Mono',consolas,'Courier New',monospace\"><span style=\"color: #808000; text-decoration-color: #808000; font-weight: bold\">Feature </span><span style=\"color: #000080; text-decoration-color: #000080; font-weight: bold\">Count_Epithelial </span><span style=\"color: #808000; text-decoration-color: #808000; font-weight: bold\">had more than </span><span style=\"color: #000080; text-decoration-color: #000080; font-weight: bold\">89.19</span><span style=\"color: #000080; text-decoration-color: #000080; font-weight: bold\">% </span><span style=\"color: #808000; text-decoration-color: #808000; font-weight: bold\">missing values!</span>\n",
       "</pre>\n"
      ],
      "text/plain": [
       "\u001b[1;33mFeature \u001b[0m\u001b[1;34mCount_Epithelial \u001b[0m\u001b[1;33mhad more than \u001b[0m\u001b[1;34m89.19\u001b[0m\u001b[1;34m% \u001b[0m\u001b[1;33mmissing values!\u001b[0m\n"
      ]
     },
     "metadata": {},
     "output_type": "display_data"
    },
    {
     "data": {
      "text/html": [
       "<pre style=\"white-space:pre;overflow-x:auto;line-height:normal;font-family:Menlo,'DejaVu Sans Mono',consolas,'Courier New',monospace\"><span style=\"color: #808000; text-decoration-color: #808000; font-weight: bold\">Feature </span><span style=\"color: #000080; text-decoration-color: #000080; font-weight: bold\">Ve_Epithelial_cell_MHCI </span><span style=\"color: #808000; text-decoration-color: #808000; font-weight: bold\">had more than </span><span style=\"color: #000080; text-decoration-color: #000080; font-weight: bold\">89.19</span><span style=\"color: #000080; text-decoration-color: #000080; font-weight: bold\">% </span><span style=\"color: #808000; text-decoration-color: #808000; font-weight: bold\">missing values!</span>\n",
       "</pre>\n"
      ],
      "text/plain": [
       "\u001b[1;33mFeature \u001b[0m\u001b[1;34mVe_Epithelial_cell_MHCI \u001b[0m\u001b[1;33mhad more than \u001b[0m\u001b[1;34m89.19\u001b[0m\u001b[1;34m% \u001b[0m\u001b[1;33mmissing values!\u001b[0m\n"
      ]
     },
     "metadata": {},
     "output_type": "display_data"
    },
    {
     "data": {
      "text/html": [
       "<pre style=\"white-space:pre;overflow-x:auto;line-height:normal;font-family:Menlo,'DejaVu Sans Mono',consolas,'Courier New',monospace\"><span style=\"color: #808000; text-decoration-color: #808000; font-weight: bold\">Feature </span><span style=\"color: #000080; text-decoration-color: #000080; font-weight: bold\">Counts_ColHigh_Fibroblast </span><span style=\"color: #808000; text-decoration-color: #808000; font-weight: bold\">had more than </span><span style=\"color: #000080; text-decoration-color: #000080; font-weight: bold\">89.19</span><span style=\"color: #000080; text-decoration-color: #000080; font-weight: bold\">% </span><span style=\"color: #808000; text-decoration-color: #808000; font-weight: bold\">missing values!</span>\n",
       "</pre>\n"
      ],
      "text/plain": [
       "\u001b[1;33mFeature \u001b[0m\u001b[1;34mCounts_ColHigh_Fibroblast \u001b[0m\u001b[1;33mhad more than \u001b[0m\u001b[1;34m89.19\u001b[0m\u001b[1;34m% \u001b[0m\u001b[1;33mmissing values!\u001b[0m\n"
      ]
     },
     "metadata": {},
     "output_type": "display_data"
    },
    {
     "data": {
      "text/html": [
       "<pre style=\"white-space:pre;overflow-x:auto;line-height:normal;font-family:Menlo,'DejaVu Sans Mono',consolas,'Courier New',monospace\"><span style=\"color: #808000; text-decoration-color: #808000; font-weight: bold\">Feature </span><span style=\"color: #000080; text-decoration-color: #000080; font-weight: bold\">Ve_Epithelial_cell_CD107a </span><span style=\"color: #808000; text-decoration-color: #808000; font-weight: bold\">had more than </span><span style=\"color: #000080; text-decoration-color: #000080; font-weight: bold\">89.19</span><span style=\"color: #000080; text-decoration-color: #000080; font-weight: bold\">% </span><span style=\"color: #808000; text-decoration-color: #808000; font-weight: bold\">missing values!</span>\n",
       "</pre>\n"
      ],
      "text/plain": [
       "\u001b[1;33mFeature \u001b[0m\u001b[1;34mVe_Epithelial_cell_CD107a \u001b[0m\u001b[1;33mhad more than \u001b[0m\u001b[1;34m89.19\u001b[0m\u001b[1;34m% \u001b[0m\u001b[1;33mmissing values!\u001b[0m\n"
      ]
     },
     "metadata": {},
     "output_type": "display_data"
    },
    {
     "data": {
      "text/html": [
       "<pre style=\"white-space:pre;overflow-x:auto;line-height:normal;font-family:Menlo,'DejaVu Sans Mono',consolas,'Courier New',monospace\"><span style=\"color: #808000; text-decoration-color: #808000; font-weight: bold\">Feature </span><span style=\"color: #000080; text-decoration-color: #000080; font-weight: bold\">Counts_CD4_Tcell </span><span style=\"color: #808000; text-decoration-color: #808000; font-weight: bold\">had more than </span><span style=\"color: #000080; text-decoration-color: #000080; font-weight: bold\">89.19</span><span style=\"color: #000080; text-decoration-color: #000080; font-weight: bold\">% </span><span style=\"color: #808000; text-decoration-color: #808000; font-weight: bold\">missing values!</span>\n",
       "</pre>\n"
      ],
      "text/plain": [
       "\u001b[1;33mFeature \u001b[0m\u001b[1;34mCounts_CD4_Tcell \u001b[0m\u001b[1;33mhad more than \u001b[0m\u001b[1;34m89.19\u001b[0m\u001b[1;34m% \u001b[0m\u001b[1;33mmissing values!\u001b[0m\n"
      ]
     },
     "metadata": {},
     "output_type": "display_data"
    },
    {
     "data": {
      "text/html": [
       "<pre style=\"white-space:pre;overflow-x:auto;line-height:normal;font-family:Menlo,'DejaVu Sans Mono',consolas,'Courier New',monospace\"><span style=\"color: #808000; text-decoration-color: #808000; font-weight: bold\">Feature </span><span style=\"color: #000080; text-decoration-color: #000080; font-weight: bold\">Counts_Apoptotic_Myofibroblast </span><span style=\"color: #808000; text-decoration-color: #808000; font-weight: bold\">had more than </span><span style=\"color: #000080; text-decoration-color: #000080; font-weight: bold\">89.19</span><span style=\"color: #000080; text-decoration-color: #000080; font-weight: bold\">% </span><span style=\"color: #808000; text-decoration-color: #808000; font-weight: bold\">missing values!</span>\n",
       "</pre>\n"
      ],
      "text/plain": [
       "\u001b[1;33mFeature \u001b[0m\u001b[1;34mCounts_Apoptotic_Myofibroblast \u001b[0m\u001b[1;33mhad more than \u001b[0m\u001b[1;34m89.19\u001b[0m\u001b[1;34m% \u001b[0m\u001b[1;33mmissing values!\u001b[0m\n"
      ]
     },
     "metadata": {},
     "output_type": "display_data"
    },
    {
     "data": {
      "text/html": [
       "<pre style=\"white-space:pre;overflow-x:auto;line-height:normal;font-family:Menlo,'DejaVu Sans Mono',consolas,'Courier New',monospace\"><span style=\"color: #808000; text-decoration-color: #808000; font-weight: bold\">Feature </span><span style=\"color: #000080; text-decoration-color: #000080; font-weight: bold\">Counts_CD66bHigh_Neutrophil </span><span style=\"color: #808000; text-decoration-color: #808000; font-weight: bold\">had more than </span><span style=\"color: #000080; text-decoration-color: #000080; font-weight: bold\">89.19</span><span style=\"color: #000080; text-decoration-color: #000080; font-weight: bold\">% </span><span style=\"color: #808000; text-decoration-color: #808000; font-weight: bold\">missing values!</span>\n",
       "</pre>\n"
      ],
      "text/plain": [
       "\u001b[1;33mFeature \u001b[0m\u001b[1;34mCounts_CD66bHigh_Neutrophil \u001b[0m\u001b[1;33mhad more than \u001b[0m\u001b[1;34m89.19\u001b[0m\u001b[1;34m% \u001b[0m\u001b[1;33mmissing values!\u001b[0m\n"
      ]
     },
     "metadata": {},
     "output_type": "display_data"
    },
    {
     "data": {
      "text/html": [
       "<pre style=\"white-space:pre;overflow-x:auto;line-height:normal;font-family:Menlo,'DejaVu Sans Mono',consolas,'Courier New',monospace\"><span style=\"color: #808000; text-decoration-color: #808000; font-weight: bold\">Feature </span><span style=\"color: #000080; text-decoration-color: #000080; font-weight: bold\">Freq_CD8_Tcell </span><span style=\"color: #808000; text-decoration-color: #808000; font-weight: bold\">had more than </span><span style=\"color: #000080; text-decoration-color: #000080; font-weight: bold\">89.19</span><span style=\"color: #000080; text-decoration-color: #000080; font-weight: bold\">% </span><span style=\"color: #808000; text-decoration-color: #808000; font-weight: bold\">missing values!</span>\n",
       "</pre>\n"
      ],
      "text/plain": [
       "\u001b[1;33mFeature \u001b[0m\u001b[1;34mFreq_CD8_Tcell \u001b[0m\u001b[1;33mhad more than \u001b[0m\u001b[1;34m89.19\u001b[0m\u001b[1;34m% \u001b[0m\u001b[1;33mmissing values!\u001b[0m\n"
      ]
     },
     "metadata": {},
     "output_type": "display_data"
    },
    {
     "data": {
      "text/html": [
       "<pre style=\"white-space:pre;overflow-x:auto;line-height:normal;font-family:Menlo,'DejaVu Sans Mono',consolas,'Courier New',monospace\"><span style=\"color: #808000; text-decoration-color: #808000; font-weight: bold\">Feature </span><span style=\"color: #000080; text-decoration-color: #000080; font-weight: bold\">Counts_Myofibroblast </span><span style=\"color: #808000; text-decoration-color: #808000; font-weight: bold\">had more than </span><span style=\"color: #000080; text-decoration-color: #000080; font-weight: bold\">89.19</span><span style=\"color: #000080; text-decoration-color: #000080; font-weight: bold\">% </span><span style=\"color: #808000; text-decoration-color: #808000; font-weight: bold\">missing values!</span>\n",
       "</pre>\n"
      ],
      "text/plain": [
       "\u001b[1;33mFeature \u001b[0m\u001b[1;34mCounts_Myofibroblast \u001b[0m\u001b[1;33mhad more than \u001b[0m\u001b[1;34m89.19\u001b[0m\u001b[1;34m% \u001b[0m\u001b[1;33mmissing values!\u001b[0m\n"
      ]
     },
     "metadata": {},
     "output_type": "display_data"
    },
    {
     "data": {
      "text/html": [
       "<pre style=\"white-space:pre;overflow-x:auto;line-height:normal;font-family:Menlo,'DejaVu Sans Mono',consolas,'Courier New',monospace\"><span style=\"color: #808000; text-decoration-color: #808000; font-weight: bold\">Feature </span><span style=\"color: #000080; text-decoration-color: #000080; font-weight: bold\">Activated_EC_vWF </span><span style=\"color: #808000; text-decoration-color: #808000; font-weight: bold\">had more than </span><span style=\"color: #000080; text-decoration-color: #000080; font-weight: bold\">89.19</span><span style=\"color: #000080; text-decoration-color: #000080; font-weight: bold\">% </span><span style=\"color: #808000; text-decoration-color: #808000; font-weight: bold\">missing values!</span>\n",
       "</pre>\n"
      ],
      "text/plain": [
       "\u001b[1;33mFeature \u001b[0m\u001b[1;34mActivated_EC_vWF \u001b[0m\u001b[1;33mhad more than \u001b[0m\u001b[1;34m89.19\u001b[0m\u001b[1;34m% \u001b[0m\u001b[1;33mmissing values!\u001b[0m\n"
      ]
     },
     "metadata": {},
     "output_type": "display_data"
    },
    {
     "data": {
      "text/html": [
       "<pre style=\"white-space:pre;overflow-x:auto;line-height:normal;font-family:Menlo,'DejaVu Sans Mono',consolas,'Courier New',monospace\"><span style=\"color: #808000; text-decoration-color: #808000; font-weight: bold\">Feature </span><span style=\"color: #000080; text-decoration-color: #000080; font-weight: bold\">Ve_Alveolar_Macrophage_SARSCoV2 </span><span style=\"color: #808000; text-decoration-color: #808000; font-weight: bold\">had more than </span><span style=\"color: #000080; text-decoration-color: #000080; font-weight: bold\">89.19</span><span style=\"color: #000080; text-decoration-color: #000080; font-weight: bold\">% </span><span style=\"color: #808000; text-decoration-color: #808000; font-weight: bold\">missing values!</span>\n",
       "</pre>\n"
      ],
      "text/plain": [
       "\u001b[1;33mFeature \u001b[0m\u001b[1;34mVe_Alveolar_Macrophage_SARSCoV2 \u001b[0m\u001b[1;33mhad more than \u001b[0m\u001b[1;34m89.19\u001b[0m\u001b[1;34m% \u001b[0m\u001b[1;33mmissing values!\u001b[0m\n"
      ]
     },
     "metadata": {},
     "output_type": "display_data"
    },
    {
     "data": {
      "text/html": [
       "<pre style=\"white-space:pre;overflow-x:auto;line-height:normal;font-family:Menlo,'DejaVu Sans Mono',consolas,'Courier New',monospace\"><span style=\"color: #808000; text-decoration-color: #808000; font-weight: bold\">Feature </span><span style=\"color: #000080; text-decoration-color: #000080; font-weight: bold\">Ve_Alveolar_Macrophage_CD38_CD4_Tcell </span><span style=\"color: #808000; text-decoration-color: #808000; font-weight: bold\">had more than </span><span style=\"color: #000080; text-decoration-color: #000080; font-weight: bold\">89.19</span><span style=\"color: #000080; text-decoration-color: #000080; font-weight: bold\">% </span><span style=\"color: #808000; text-decoration-color: #808000; font-weight: bold\">missing values!</span>\n",
       "</pre>\n"
      ],
      "text/plain": [
       "\u001b[1;33mFeature \u001b[0m\u001b[1;34mVe_Alveolar_Macrophage_CD38_CD4_Tcell \u001b[0m\u001b[1;33mhad more than \u001b[0m\u001b[1;34m89.19\u001b[0m\u001b[1;34m% \u001b[0m\u001b[1;33mmissing values!\u001b[0m\n"
      ]
     },
     "metadata": {},
     "output_type": "display_data"
    },
    {
     "data": {
      "text/html": [
       "<pre style=\"white-space:pre;overflow-x:auto;line-height:normal;font-family:Menlo,'DejaVu Sans Mono',consolas,'Courier New',monospace\"><span style=\"color: #808000; text-decoration-color: #808000; font-weight: bold\">Feature </span><span style=\"color: #000080; text-decoration-color: #000080; font-weight: bold\">Ve_Epithelial_cell_SARSCoV2 </span><span style=\"color: #808000; text-decoration-color: #808000; font-weight: bold\">had more than </span><span style=\"color: #000080; text-decoration-color: #000080; font-weight: bold\">89.19</span><span style=\"color: #000080; text-decoration-color: #000080; font-weight: bold\">% </span><span style=\"color: #808000; text-decoration-color: #808000; font-weight: bold\">missing values!</span>\n",
       "</pre>\n"
      ],
      "text/plain": [
       "\u001b[1;33mFeature \u001b[0m\u001b[1;34mVe_Epithelial_cell_SARSCoV2 \u001b[0m\u001b[1;33mhad more than \u001b[0m\u001b[1;34m89.19\u001b[0m\u001b[1;34m% \u001b[0m\u001b[1;33mmissing values!\u001b[0m\n"
      ]
     },
     "metadata": {},
     "output_type": "display_data"
    },
    {
     "data": {
      "text/html": [
       "<pre style=\"white-space:pre;overflow-x:auto;line-height:normal;font-family:Menlo,'DejaVu Sans Mono',consolas,'Courier New',monospace\"><span style=\"color: #808000; text-decoration-color: #808000; font-weight: bold\">Feature </span><span style=\"color: #000080; text-decoration-color: #000080; font-weight: bold\">Ve_Epithelial_cell_Ve_Alveolar_Macrophage </span><span style=\"color: #808000; text-decoration-color: #808000; font-weight: bold\">had more than </span><span style=\"color: #000080; text-decoration-color: #000080; font-weight: bold\">89.19</span><span style=\"color: #000080; text-decoration-color: #000080; font-weight: bold\">% </span><span style=\"color: #808000; text-decoration-color: #808000; font-weight: bold\">missing values!</span>\n",
       "</pre>\n"
      ],
      "text/plain": [
       "\u001b[1;33mFeature \u001b[0m\u001b[1;34mVe_Epithelial_cell_Ve_Alveolar_Macrophage \u001b[0m\u001b[1;33mhad more than \u001b[0m\u001b[1;34m89.19\u001b[0m\u001b[1;34m% \u001b[0m\u001b[1;33mmissing values!\u001b[0m\n"
      ]
     },
     "metadata": {},
     "output_type": "display_data"
    },
    {
     "data": {
      "text/html": [
       "<pre style=\"white-space:pre;overflow-x:auto;line-height:normal;font-family:Menlo,'DejaVu Sans Mono',consolas,'Courier New',monospace\"><span style=\"color: #808000; text-decoration-color: #808000; font-weight: bold\">Feature </span><span style=\"color: #000080; text-decoration-color: #000080; font-weight: bold\">Ve_Alveolar_Macrophage_Ve_Epithelial_cell </span><span style=\"color: #808000; text-decoration-color: #808000; font-weight: bold\">had more than </span><span style=\"color: #000080; text-decoration-color: #000080; font-weight: bold\">89.19</span><span style=\"color: #000080; text-decoration-color: #000080; font-weight: bold\">% </span><span style=\"color: #808000; text-decoration-color: #808000; font-weight: bold\">missing values!</span>\n",
       "</pre>\n"
      ],
      "text/plain": [
       "\u001b[1;33mFeature \u001b[0m\u001b[1;34mVe_Alveolar_Macrophage_Ve_Epithelial_cell \u001b[0m\u001b[1;33mhad more than \u001b[0m\u001b[1;34m89.19\u001b[0m\u001b[1;34m% \u001b[0m\u001b[1;33mmissing values!\u001b[0m\n"
      ]
     },
     "metadata": {},
     "output_type": "display_data"
    },
    {
     "data": {
      "text/html": [
       "<pre style=\"white-space:pre;overflow-x:auto;line-height:normal;font-family:Menlo,'DejaVu Sans Mono',consolas,'Courier New',monospace\"><span style=\"color: #808000; text-decoration-color: #808000; font-weight: bold\">Feature </span><span style=\"color: #000080; text-decoration-color: #000080; font-weight: bold\">Ve_Epithelial_cell_Apoptotic_Fibroblast </span><span style=\"color: #808000; text-decoration-color: #808000; font-weight: bold\">had more than </span><span style=\"color: #000080; text-decoration-color: #000080; font-weight: bold\">89.19</span><span style=\"color: #000080; text-decoration-color: #000080; font-weight: bold\">% </span><span style=\"color: #808000; text-decoration-color: #808000; font-weight: bold\">missing values!</span>\n",
       "</pre>\n"
      ],
      "text/plain": [
       "\u001b[1;33mFeature \u001b[0m\u001b[1;34mVe_Epithelial_cell_Apoptotic_Fibroblast \u001b[0m\u001b[1;33mhad more than \u001b[0m\u001b[1;34m89.19\u001b[0m\u001b[1;34m% \u001b[0m\u001b[1;33mmissing values!\u001b[0m\n"
      ]
     },
     "metadata": {},
     "output_type": "display_data"
    },
    {
     "data": {
      "text/html": [
       "<pre style=\"white-space:pre;overflow-x:auto;line-height:normal;font-family:Menlo,'DejaVu Sans Mono',consolas,'Courier New',monospace\"><span style=\"color: #808000; text-decoration-color: #808000; font-weight: bold\">Feature </span><span style=\"color: #000080; text-decoration-color: #000080; font-weight: bold\">Ve_Epithelial_cell_CD66bLow_Neutrophil </span><span style=\"color: #808000; text-decoration-color: #808000; font-weight: bold\">had more than </span><span style=\"color: #000080; text-decoration-color: #000080; font-weight: bold\">89.19</span><span style=\"color: #000080; text-decoration-color: #000080; font-weight: bold\">% </span><span style=\"color: #808000; text-decoration-color: #808000; font-weight: bold\">missing values!</span>\n",
       "</pre>\n"
      ],
      "text/plain": [
       "\u001b[1;33mFeature \u001b[0m\u001b[1;34mVe_Epithelial_cell_CD66bLow_Neutrophil \u001b[0m\u001b[1;33mhad more than \u001b[0m\u001b[1;34m89.19\u001b[0m\u001b[1;34m% \u001b[0m\u001b[1;33mmissing values!\u001b[0m\n"
      ]
     },
     "metadata": {},
     "output_type": "display_data"
    },
    {
     "data": {
      "text/html": [
       "<pre style=\"white-space:pre;overflow-x:auto;line-height:normal;font-family:Menlo,'DejaVu Sans Mono',consolas,'Courier New',monospace\"><span style=\"color: #808000; text-decoration-color: #808000; font-weight: bold\">Feature </span><span style=\"color: #000080; text-decoration-color: #000080; font-weight: bold\">Ve_Epithelial_cell_CD66bHigh_Neutrophil </span><span style=\"color: #808000; text-decoration-color: #808000; font-weight: bold\">had more than </span><span style=\"color: #000080; text-decoration-color: #000080; font-weight: bold\">89.19</span><span style=\"color: #000080; text-decoration-color: #000080; font-weight: bold\">% </span><span style=\"color: #808000; text-decoration-color: #808000; font-weight: bold\">missing values!</span>\n",
       "</pre>\n"
      ],
      "text/plain": [
       "\u001b[1;33mFeature \u001b[0m\u001b[1;34mVe_Epithelial_cell_CD66bHigh_Neutrophil \u001b[0m\u001b[1;33mhad more than \u001b[0m\u001b[1;34m89.19\u001b[0m\u001b[1;34m% \u001b[0m\u001b[1;33mmissing values!\u001b[0m\n"
      ]
     },
     "metadata": {},
     "output_type": "display_data"
    },
    {
     "data": {
      "text/html": [
       "<pre style=\"white-space:pre;overflow-x:auto;line-height:normal;font-family:Menlo,'DejaVu Sans Mono',consolas,'Courier New',monospace\"><span style=\"color: #808000; text-decoration-color: #808000; font-weight: bold\">Feature </span><span style=\"color: #000080; text-decoration-color: #000080; font-weight: bold\">Ve_Epithelial_cell_Alveolar_Macrophage </span><span style=\"color: #808000; text-decoration-color: #808000; font-weight: bold\">had more than </span><span style=\"color: #000080; text-decoration-color: #000080; font-weight: bold\">89.19</span><span style=\"color: #000080; text-decoration-color: #000080; font-weight: bold\">% </span><span style=\"color: #808000; text-decoration-color: #808000; font-weight: bold\">missing values!</span>\n",
       "</pre>\n"
      ],
      "text/plain": [
       "\u001b[1;33mFeature \u001b[0m\u001b[1;34mVe_Epithelial_cell_Alveolar_Macrophage \u001b[0m\u001b[1;33mhad more than \u001b[0m\u001b[1;34m89.19\u001b[0m\u001b[1;34m% \u001b[0m\u001b[1;33mmissing values!\u001b[0m\n"
      ]
     },
     "metadata": {},
     "output_type": "display_data"
    },
    {
     "data": {
      "text/html": [
       "<pre style=\"white-space:pre;overflow-x:auto;line-height:normal;font-family:Menlo,'DejaVu Sans Mono',consolas,'Courier New',monospace\"><span style=\"color: #808000; text-decoration-color: #808000; font-weight: bold\">Feature </span><span style=\"color: #000080; text-decoration-color: #000080; font-weight: bold\">Ve_Epithelial_cell_Ve_Epithelial_cell </span><span style=\"color: #808000; text-decoration-color: #808000; font-weight: bold\">had more than </span><span style=\"color: #000080; text-decoration-color: #000080; font-weight: bold\">89.19</span><span style=\"color: #000080; text-decoration-color: #000080; font-weight: bold\">% </span><span style=\"color: #808000; text-decoration-color: #808000; font-weight: bold\">missing values!</span>\n",
       "</pre>\n"
      ],
      "text/plain": [
       "\u001b[1;33mFeature \u001b[0m\u001b[1;34mVe_Epithelial_cell_Ve_Epithelial_cell \u001b[0m\u001b[1;33mhad more than \u001b[0m\u001b[1;34m89.19\u001b[0m\u001b[1;34m% \u001b[0m\u001b[1;33mmissing values!\u001b[0m\n"
      ]
     },
     "metadata": {},
     "output_type": "display_data"
    },
    {
     "data": {
      "text/html": [
       "<pre style=\"white-space:pre;overflow-x:auto;line-height:normal;font-family:Menlo,'DejaVu Sans Mono',consolas,'Courier New',monospace\"><span style=\"color: #808000; text-decoration-color: #808000; font-weight: bold\">Feature </span><span style=\"color: #000080; text-decoration-color: #000080; font-weight: bold\">Freq_Myofibroblast.</span><span style=\"color: #000080; text-decoration-color: #000080; font-weight: bold\">1</span><span style=\"color: #000080; text-decoration-color: #000080; font-weight: bold\"> </span><span style=\"color: #808000; text-decoration-color: #808000; font-weight: bold\">had more than </span><span style=\"color: #000080; text-decoration-color: #000080; font-weight: bold\">89.19</span><span style=\"color: #000080; text-decoration-color: #000080; font-weight: bold\">% </span><span style=\"color: #808000; text-decoration-color: #808000; font-weight: bold\">missing values!</span>\n",
       "</pre>\n"
      ],
      "text/plain": [
       "\u001b[1;33mFeature \u001b[0m\u001b[1;34mFreq_Myofibroblast.\u001b[0m\u001b[1;34m1\u001b[0m\u001b[1;34m \u001b[0m\u001b[1;33mhad more than \u001b[0m\u001b[1;34m89.19\u001b[0m\u001b[1;34m% \u001b[0m\u001b[1;33mmissing values!\u001b[0m\n"
      ]
     },
     "metadata": {},
     "output_type": "display_data"
    },
    {
     "data": {
      "text/html": [
       "<pre style=\"white-space:pre;overflow-x:auto;line-height:normal;font-family:Menlo,'DejaVu Sans Mono',consolas,'Courier New',monospace\"><span style=\"color: #808000; text-decoration-color: #808000; font-weight: bold\">Feature </span><span style=\"color: #000080; text-decoration-color: #000080; font-weight: bold\">Apoptotic_Epithelial_cell_GranzB </span><span style=\"color: #808000; text-decoration-color: #808000; font-weight: bold\">had more than </span><span style=\"color: #000080; text-decoration-color: #000080; font-weight: bold\">89.19</span><span style=\"color: #000080; text-decoration-color: #000080; font-weight: bold\">% </span><span style=\"color: #808000; text-decoration-color: #808000; font-weight: bold\">missing values!</span>\n",
       "</pre>\n"
      ],
      "text/plain": [
       "\u001b[1;33mFeature \u001b[0m\u001b[1;34mApoptotic_Epithelial_cell_GranzB \u001b[0m\u001b[1;33mhad more than \u001b[0m\u001b[1;34m89.19\u001b[0m\u001b[1;34m% \u001b[0m\u001b[1;33mmissing values!\u001b[0m\n"
      ]
     },
     "metadata": {},
     "output_type": "display_data"
    },
    {
     "data": {
      "text/html": [
       "<pre style=\"white-space:pre;overflow-x:auto;line-height:normal;font-family:Menlo,'DejaVu Sans Mono',consolas,'Courier New',monospace\"><span style=\"color: #808000; text-decoration-color: #808000; font-weight: bold\">Feature </span><span style=\"color: #000080; text-decoration-color: #000080; font-weight: bold\">Freq_Apoptotic_Fibroblast </span><span style=\"color: #808000; text-decoration-color: #808000; font-weight: bold\">had more than </span><span style=\"color: #000080; text-decoration-color: #000080; font-weight: bold\">89.19</span><span style=\"color: #000080; text-decoration-color: #000080; font-weight: bold\">% </span><span style=\"color: #808000; text-decoration-color: #808000; font-weight: bold\">missing values!</span>\n",
       "</pre>\n"
      ],
      "text/plain": [
       "\u001b[1;33mFeature \u001b[0m\u001b[1;34mFreq_Apoptotic_Fibroblast \u001b[0m\u001b[1;33mhad more than \u001b[0m\u001b[1;34m89.19\u001b[0m\u001b[1;34m% \u001b[0m\u001b[1;33mmissing values!\u001b[0m\n"
      ]
     },
     "metadata": {},
     "output_type": "display_data"
    },
    {
     "data": {
      "text/html": [
       "<pre style=\"white-space:pre;overflow-x:auto;line-height:normal;font-family:Menlo,'DejaVu Sans Mono',consolas,'Courier New',monospace\"><span style=\"color: #808000; text-decoration-color: #808000; font-weight: bold\">Feature </span><span style=\"color: #000080; text-decoration-color: #000080; font-weight: bold\">Counts_CD38_CD4_Tcell </span><span style=\"color: #808000; text-decoration-color: #808000; font-weight: bold\">had more than </span><span style=\"color: #000080; text-decoration-color: #000080; font-weight: bold\">89.19</span><span style=\"color: #000080; text-decoration-color: #000080; font-weight: bold\">% </span><span style=\"color: #808000; text-decoration-color: #808000; font-weight: bold\">missing values!</span>\n",
       "</pre>\n"
      ],
      "text/plain": [
       "\u001b[1;33mFeature \u001b[0m\u001b[1;34mCounts_CD38_CD4_Tcell \u001b[0m\u001b[1;33mhad more than \u001b[0m\u001b[1;34m89.19\u001b[0m\u001b[1;34m% \u001b[0m\u001b[1;33mmissing values!\u001b[0m\n"
      ]
     },
     "metadata": {},
     "output_type": "display_data"
    },
    {
     "data": {
      "text/html": [
       "<pre style=\"white-space:pre;overflow-x:auto;line-height:normal;font-family:Menlo,'DejaVu Sans Mono',consolas,'Courier New',monospace\"><span style=\"color: #808000; text-decoration-color: #808000; font-weight: bold\">Feature </span><span style=\"color: #000080; text-decoration-color: #000080; font-weight: bold\">Freq_Epithelial </span><span style=\"color: #808000; text-decoration-color: #808000; font-weight: bold\">had more than </span><span style=\"color: #000080; text-decoration-color: #000080; font-weight: bold\">89.19</span><span style=\"color: #000080; text-decoration-color: #000080; font-weight: bold\">% </span><span style=\"color: #808000; text-decoration-color: #808000; font-weight: bold\">missing values!</span>\n",
       "</pre>\n"
      ],
      "text/plain": [
       "\u001b[1;33mFeature \u001b[0m\u001b[1;34mFreq_Epithelial \u001b[0m\u001b[1;33mhad more than \u001b[0m\u001b[1;34m89.19\u001b[0m\u001b[1;34m% \u001b[0m\u001b[1;33mmissing values!\u001b[0m\n"
      ]
     },
     "metadata": {},
     "output_type": "display_data"
    },
    {
     "data": {
      "text/html": [
       "<pre style=\"white-space:pre;overflow-x:auto;line-height:normal;font-family:Menlo,'DejaVu Sans Mono',consolas,'Courier New',monospace\"><span style=\"color: #808000; text-decoration-color: #808000; font-weight: bold\">Feature </span><span style=\"color: #000080; text-decoration-color: #000080; font-weight: bold\">Ve_Alveolar_Macrophage_Apoptotic_Myofibroblast </span><span style=\"color: #808000; text-decoration-color: #808000; font-weight: bold\">had more than </span><span style=\"color: #000080; text-decoration-color: #000080; font-weight: bold\">89.19</span><span style=\"color: #000080; text-decoration-color: #000080; font-weight: bold\">% </span><span style=\"color: #808000; text-decoration-color: #808000; font-weight: bold\">missing values!</span>\n",
       "</pre>\n"
      ],
      "text/plain": [
       "\u001b[1;33mFeature \u001b[0m\u001b[1;34mVe_Alveolar_Macrophage_Apoptotic_Myofibroblast \u001b[0m\u001b[1;33mhad more than \u001b[0m\u001b[1;34m89.19\u001b[0m\u001b[1;34m% \u001b[0m\u001b[1;33mmissing values!\u001b[0m\n"
      ]
     },
     "metadata": {},
     "output_type": "display_data"
    },
    {
     "data": {
      "text/html": [
       "<pre style=\"white-space:pre;overflow-x:auto;line-height:normal;font-family:Menlo,'DejaVu Sans Mono',consolas,'Courier New',monospace\"><span style=\"color: #808000; text-decoration-color: #808000; font-weight: bold\">Feature </span><span style=\"color: #000080; text-decoration-color: #000080; font-weight: bold\">Freq_Neutrophil </span><span style=\"color: #808000; text-decoration-color: #808000; font-weight: bold\">had more than </span><span style=\"color: #000080; text-decoration-color: #000080; font-weight: bold\">89.19</span><span style=\"color: #000080; text-decoration-color: #000080; font-weight: bold\">% </span><span style=\"color: #808000; text-decoration-color: #808000; font-weight: bold\">missing values!</span>\n",
       "</pre>\n"
      ],
      "text/plain": [
       "\u001b[1;33mFeature \u001b[0m\u001b[1;34mFreq_Neutrophil \u001b[0m\u001b[1;33mhad more than \u001b[0m\u001b[1;34m89.19\u001b[0m\u001b[1;34m% \u001b[0m\u001b[1;33mmissing values!\u001b[0m\n"
      ]
     },
     "metadata": {},
     "output_type": "display_data"
    },
    {
     "data": {
      "text/html": [
       "<pre style=\"white-space:pre;overflow-x:auto;line-height:normal;font-family:Menlo,'DejaVu Sans Mono',consolas,'Courier New',monospace\"><span style=\"color: #808000; text-decoration-color: #808000; font-weight: bold\">Feature </span><span style=\"color: #000080; text-decoration-color: #000080; font-weight: bold\">Ve_Epithelial_cell_CD4_Tcell </span><span style=\"color: #808000; text-decoration-color: #808000; font-weight: bold\">had more than </span><span style=\"color: #000080; text-decoration-color: #000080; font-weight: bold\">89.19</span><span style=\"color: #000080; text-decoration-color: #000080; font-weight: bold\">% </span><span style=\"color: #808000; text-decoration-color: #808000; font-weight: bold\">missing values!</span>\n",
       "</pre>\n"
      ],
      "text/plain": [
       "\u001b[1;33mFeature \u001b[0m\u001b[1;34mVe_Epithelial_cell_CD4_Tcell \u001b[0m\u001b[1;33mhad more than \u001b[0m\u001b[1;34m89.19\u001b[0m\u001b[1;34m% \u001b[0m\u001b[1;33mmissing values!\u001b[0m\n"
      ]
     },
     "metadata": {},
     "output_type": "display_data"
    },
    {
     "data": {
      "text/html": [
       "<pre style=\"white-space:pre;overflow-x:auto;line-height:normal;font-family:Menlo,'DejaVu Sans Mono',consolas,'Courier New',monospace\"><span style=\"color: #808000; text-decoration-color: #808000; font-weight: bold\">Feature </span><span style=\"color: #000080; text-decoration-color: #000080; font-weight: bold\">Count_Endothelium </span><span style=\"color: #808000; text-decoration-color: #808000; font-weight: bold\">had more than </span><span style=\"color: #000080; text-decoration-color: #000080; font-weight: bold\">89.19</span><span style=\"color: #000080; text-decoration-color: #000080; font-weight: bold\">% </span><span style=\"color: #808000; text-decoration-color: #808000; font-weight: bold\">missing values!</span>\n",
       "</pre>\n"
      ],
      "text/plain": [
       "\u001b[1;33mFeature \u001b[0m\u001b[1;34mCount_Endothelium \u001b[0m\u001b[1;33mhad more than \u001b[0m\u001b[1;34m89.19\u001b[0m\u001b[1;34m% \u001b[0m\u001b[1;33mmissing values!\u001b[0m\n"
      ]
     },
     "metadata": {},
     "output_type": "display_data"
    },
    {
     "data": {
      "text/html": [
       "<pre style=\"white-space:pre;overflow-x:auto;line-height:normal;font-family:Menlo,'DejaVu Sans Mono',consolas,'Courier New',monospace\"><span style=\"color: #808000; text-decoration-color: #808000; font-weight: bold\">Feature </span><span style=\"color: #000080; text-decoration-color: #000080; font-weight: bold\">Ve_Epithelial_cell_HLADR </span><span style=\"color: #808000; text-decoration-color: #808000; font-weight: bold\">had more than </span><span style=\"color: #000080; text-decoration-color: #000080; font-weight: bold\">89.19</span><span style=\"color: #000080; text-decoration-color: #000080; font-weight: bold\">% </span><span style=\"color: #808000; text-decoration-color: #808000; font-weight: bold\">missing values!</span>\n",
       "</pre>\n"
      ],
      "text/plain": [
       "\u001b[1;33mFeature \u001b[0m\u001b[1;34mVe_Epithelial_cell_HLADR \u001b[0m\u001b[1;33mhad more than \u001b[0m\u001b[1;34m89.19\u001b[0m\u001b[1;34m% \u001b[0m\u001b[1;33mmissing values!\u001b[0m\n"
      ]
     },
     "metadata": {},
     "output_type": "display_data"
    },
    {
     "data": {
      "text/html": [
       "<pre style=\"white-space:pre;overflow-x:auto;line-height:normal;font-family:Menlo,'DejaVu Sans Mono',consolas,'Courier New',monospace\"><span style=\"color: #808000; text-decoration-color: #808000; font-weight: bold\">Feature </span><span style=\"color: #000080; text-decoration-color: #000080; font-weight: bold\">Activated_EC_HLADR </span><span style=\"color: #808000; text-decoration-color: #808000; font-weight: bold\">had more than </span><span style=\"color: #000080; text-decoration-color: #000080; font-weight: bold\">89.19</span><span style=\"color: #000080; text-decoration-color: #000080; font-weight: bold\">% </span><span style=\"color: #808000; text-decoration-color: #808000; font-weight: bold\">missing values!</span>\n",
       "</pre>\n"
      ],
      "text/plain": [
       "\u001b[1;33mFeature \u001b[0m\u001b[1;34mActivated_EC_HLADR \u001b[0m\u001b[1;33mhad more than \u001b[0m\u001b[1;34m89.19\u001b[0m\u001b[1;34m% \u001b[0m\u001b[1;33mmissing values!\u001b[0m\n"
      ]
     },
     "metadata": {},
     "output_type": "display_data"
    },
    {
     "data": {
      "text/html": [
       "<pre style=\"white-space:pre;overflow-x:auto;line-height:normal;font-family:Menlo,'DejaVu Sans Mono',consolas,'Courier New',monospace\"><span style=\"color: #808000; text-decoration-color: #808000; font-weight: bold\">Feature </span><span style=\"color: #000080; text-decoration-color: #000080; font-weight: bold\">Ve_Alveolar_Macrophage_Activated_EC </span><span style=\"color: #808000; text-decoration-color: #808000; font-weight: bold\">had more than </span><span style=\"color: #000080; text-decoration-color: #000080; font-weight: bold\">89.19</span><span style=\"color: #000080; text-decoration-color: #000080; font-weight: bold\">% </span><span style=\"color: #808000; text-decoration-color: #808000; font-weight: bold\">missing values!</span>\n",
       "</pre>\n"
      ],
      "text/plain": [
       "\u001b[1;33mFeature \u001b[0m\u001b[1;34mVe_Alveolar_Macrophage_Activated_EC \u001b[0m\u001b[1;33mhad more than \u001b[0m\u001b[1;34m89.19\u001b[0m\u001b[1;34m% \u001b[0m\u001b[1;33mmissing values!\u001b[0m\n"
      ]
     },
     "metadata": {},
     "output_type": "display_data"
    },
    {
     "data": {
      "text/html": [
       "<pre style=\"white-space:pre;overflow-x:auto;line-height:normal;font-family:Menlo,'DejaVu Sans Mono',consolas,'Courier New',monospace\"><span style=\"color: #808000; text-decoration-color: #808000; font-weight: bold\">Feature </span><span style=\"color: #000080; text-decoration-color: #000080; font-weight: bold\">Counts_CD66bLow_Neutrophil </span><span style=\"color: #808000; text-decoration-color: #808000; font-weight: bold\">had more than </span><span style=\"color: #000080; text-decoration-color: #000080; font-weight: bold\">89.19</span><span style=\"color: #000080; text-decoration-color: #000080; font-weight: bold\">% </span><span style=\"color: #808000; text-decoration-color: #808000; font-weight: bold\">missing values!</span>\n",
       "</pre>\n"
      ],
      "text/plain": [
       "\u001b[1;33mFeature \u001b[0m\u001b[1;34mCounts_CD66bLow_Neutrophil \u001b[0m\u001b[1;33mhad more than \u001b[0m\u001b[1;34m89.19\u001b[0m\u001b[1;34m% \u001b[0m\u001b[1;33mmissing values!\u001b[0m\n"
      ]
     },
     "metadata": {},
     "output_type": "display_data"
    },
    {
     "data": {
      "text/html": [
       "<pre style=\"white-space:pre;overflow-x:auto;line-height:normal;font-family:Menlo,'DejaVu Sans Mono',consolas,'Courier New',monospace\"><span style=\"color: #808000; text-decoration-color: #808000; font-weight: bold\">Feature </span><span style=\"color: #000080; text-decoration-color: #000080; font-weight: bold\">Freq_Endothelium </span><span style=\"color: #808000; text-decoration-color: #808000; font-weight: bold\">had more than </span><span style=\"color: #000080; text-decoration-color: #000080; font-weight: bold\">89.19</span><span style=\"color: #000080; text-decoration-color: #000080; font-weight: bold\">% </span><span style=\"color: #808000; text-decoration-color: #808000; font-weight: bold\">missing values!</span>\n",
       "</pre>\n"
      ],
      "text/plain": [
       "\u001b[1;33mFeature \u001b[0m\u001b[1;34mFreq_Endothelium \u001b[0m\u001b[1;33mhad more than \u001b[0m\u001b[1;34m89.19\u001b[0m\u001b[1;34m% \u001b[0m\u001b[1;33mmissing values!\u001b[0m\n"
      ]
     },
     "metadata": {},
     "output_type": "display_data"
    },
    {
     "data": {
      "text/html": [
       "<pre style=\"white-space:pre;overflow-x:auto;line-height:normal;font-family:Menlo,'DejaVu Sans Mono',consolas,'Courier New',monospace\"><span style=\"color: #808000; text-decoration-color: #808000; font-weight: bold\">Feature </span><span style=\"color: #000080; text-decoration-color: #000080; font-weight: bold\">Ve_Alveolar_Macrophage_ColLow_Fibroblast </span><span style=\"color: #808000; text-decoration-color: #808000; font-weight: bold\">had more than </span><span style=\"color: #000080; text-decoration-color: #000080; font-weight: bold\">89.19</span><span style=\"color: #000080; text-decoration-color: #000080; font-weight: bold\">% </span><span style=\"color: #808000; text-decoration-color: #808000; font-weight: bold\">missing values!</span>\n",
       "</pre>\n"
      ],
      "text/plain": [
       "\u001b[1;33mFeature \u001b[0m\u001b[1;34mVe_Alveolar_Macrophage_ColLow_Fibroblast \u001b[0m\u001b[1;33mhad more than \u001b[0m\u001b[1;34m89.19\u001b[0m\u001b[1;34m% \u001b[0m\u001b[1;33mmissing values!\u001b[0m\n"
      ]
     },
     "metadata": {},
     "output_type": "display_data"
    },
    {
     "data": {
      "text/html": [
       "<pre style=\"white-space:pre;overflow-x:auto;line-height:normal;font-family:Menlo,'DejaVu Sans Mono',consolas,'Courier New',monospace\"><span style=\"color: #808000; text-decoration-color: #808000; font-weight: bold\">Feature </span><span style=\"color: #000080; text-decoration-color: #000080; font-weight: bold\">Counts_ColLow_Fibroblast </span><span style=\"color: #808000; text-decoration-color: #808000; font-weight: bold\">had more than </span><span style=\"color: #000080; text-decoration-color: #000080; font-weight: bold\">89.19</span><span style=\"color: #000080; text-decoration-color: #000080; font-weight: bold\">% </span><span style=\"color: #808000; text-decoration-color: #808000; font-weight: bold\">missing values!</span>\n",
       "</pre>\n"
      ],
      "text/plain": [
       "\u001b[1;33mFeature \u001b[0m\u001b[1;34mCounts_ColLow_Fibroblast \u001b[0m\u001b[1;33mhad more than \u001b[0m\u001b[1;34m89.19\u001b[0m\u001b[1;34m% \u001b[0m\u001b[1;33mmissing values!\u001b[0m\n"
      ]
     },
     "metadata": {},
     "output_type": "display_data"
    },
    {
     "data": {
      "text/html": [
       "<pre style=\"white-space:pre;overflow-x:auto;line-height:normal;font-family:Menlo,'DejaVu Sans Mono',consolas,'Courier New',monospace\"><span style=\"color: #808000; text-decoration-color: #808000; font-weight: bold\">Feature </span><span style=\"color: #000080; text-decoration-color: #000080; font-weight: bold\">Ve_Epithelial_cell_Myofibroblast </span><span style=\"color: #808000; text-decoration-color: #808000; font-weight: bold\">had more than </span><span style=\"color: #000080; text-decoration-color: #000080; font-weight: bold\">89.19</span><span style=\"color: #000080; text-decoration-color: #000080; font-weight: bold\">% </span><span style=\"color: #808000; text-decoration-color: #808000; font-weight: bold\">missing values!</span>\n",
       "</pre>\n"
      ],
      "text/plain": [
       "\u001b[1;33mFeature \u001b[0m\u001b[1;34mVe_Epithelial_cell_Myofibroblast \u001b[0m\u001b[1;33mhad more than \u001b[0m\u001b[1;34m89.19\u001b[0m\u001b[1;34m% \u001b[0m\u001b[1;33mmissing values!\u001b[0m\n"
      ]
     },
     "metadata": {},
     "output_type": "display_data"
    },
    {
     "data": {
      "text/html": [
       "<pre style=\"white-space:pre;overflow-x:auto;line-height:normal;font-family:Menlo,'DejaVu Sans Mono',consolas,'Courier New',monospace\"><span style=\"color: #808000; text-decoration-color: #808000; font-weight: bold\">Feature </span><span style=\"color: #000080; text-decoration-color: #000080; font-weight: bold\">Freq_CD66bLow_Neutrophil </span><span style=\"color: #808000; text-decoration-color: #808000; font-weight: bold\">had more than </span><span style=\"color: #000080; text-decoration-color: #000080; font-weight: bold\">89.19</span><span style=\"color: #000080; text-decoration-color: #000080; font-weight: bold\">% </span><span style=\"color: #808000; text-decoration-color: #808000; font-weight: bold\">missing values!</span>\n",
       "</pre>\n"
      ],
      "text/plain": [
       "\u001b[1;33mFeature \u001b[0m\u001b[1;34mFreq_CD66bLow_Neutrophil \u001b[0m\u001b[1;33mhad more than \u001b[0m\u001b[1;34m89.19\u001b[0m\u001b[1;34m% \u001b[0m\u001b[1;33mmissing values!\u001b[0m\n"
      ]
     },
     "metadata": {},
     "output_type": "display_data"
    },
    {
     "data": {
      "text/html": [
       "<pre style=\"white-space:pre;overflow-x:auto;line-height:normal;font-family:Menlo,'DejaVu Sans Mono',consolas,'Courier New',monospace\"><span style=\"color: #808000; text-decoration-color: #808000; font-weight: bold\">Feature </span><span style=\"color: #000080; text-decoration-color: #000080; font-weight: bold\">Ve_Alveolar_Macrophage_CD8_Tcell </span><span style=\"color: #808000; text-decoration-color: #808000; font-weight: bold\">had more than </span><span style=\"color: #000080; text-decoration-color: #000080; font-weight: bold\">89.19</span><span style=\"color: #000080; text-decoration-color: #000080; font-weight: bold\">% </span><span style=\"color: #808000; text-decoration-color: #808000; font-weight: bold\">missing values!</span>\n",
       "</pre>\n"
      ],
      "text/plain": [
       "\u001b[1;33mFeature \u001b[0m\u001b[1;34mVe_Alveolar_Macrophage_CD8_Tcell \u001b[0m\u001b[1;33mhad more than \u001b[0m\u001b[1;34m89.19\u001b[0m\u001b[1;34m% \u001b[0m\u001b[1;33mmissing values!\u001b[0m\n"
      ]
     },
     "metadata": {},
     "output_type": "display_data"
    },
    {
     "data": {
      "text/html": [
       "<pre style=\"white-space:pre;overflow-x:auto;line-height:normal;font-family:Menlo,'DejaVu Sans Mono',consolas,'Courier New',monospace\"><span style=\"color: #808000; text-decoration-color: #808000; font-weight: bold\">Feature </span><span style=\"color: #000080; text-decoration-color: #000080; font-weight: bold\">Ve_Epithelial_cell_Epithelial_cell </span><span style=\"color: #808000; text-decoration-color: #808000; font-weight: bold\">had more than </span><span style=\"color: #000080; text-decoration-color: #000080; font-weight: bold\">89.19</span><span style=\"color: #000080; text-decoration-color: #000080; font-weight: bold\">% </span><span style=\"color: #808000; text-decoration-color: #808000; font-weight: bold\">missing values!</span>\n",
       "</pre>\n"
      ],
      "text/plain": [
       "\u001b[1;33mFeature \u001b[0m\u001b[1;34mVe_Epithelial_cell_Epithelial_cell \u001b[0m\u001b[1;33mhad more than \u001b[0m\u001b[1;34m89.19\u001b[0m\u001b[1;34m% \u001b[0m\u001b[1;33mmissing values!\u001b[0m\n"
      ]
     },
     "metadata": {},
     "output_type": "display_data"
    },
    {
     "data": {
      "text/html": [
       "<pre style=\"white-space:pre;overflow-x:auto;line-height:normal;font-family:Menlo,'DejaVu Sans Mono',consolas,'Courier New',monospace\"><span style=\"color: #808000; text-decoration-color: #808000; font-weight: bold\">Feature </span><span style=\"color: #000080; text-decoration-color: #000080; font-weight: bold\">Ve_Alveolar_Macrophage_CD4_Tcell </span><span style=\"color: #808000; text-decoration-color: #808000; font-weight: bold\">had more than </span><span style=\"color: #000080; text-decoration-color: #000080; font-weight: bold\">89.19</span><span style=\"color: #000080; text-decoration-color: #000080; font-weight: bold\">% </span><span style=\"color: #808000; text-decoration-color: #808000; font-weight: bold\">missing values!</span>\n",
       "</pre>\n"
      ],
      "text/plain": [
       "\u001b[1;33mFeature \u001b[0m\u001b[1;34mVe_Alveolar_Macrophage_CD4_Tcell \u001b[0m\u001b[1;33mhad more than \u001b[0m\u001b[1;34m89.19\u001b[0m\u001b[1;34m% \u001b[0m\u001b[1;33mmissing values!\u001b[0m\n"
      ]
     },
     "metadata": {},
     "output_type": "display_data"
    },
    {
     "data": {
      "text/html": [
       "<pre style=\"white-space:pre;overflow-x:auto;line-height:normal;font-family:Menlo,'DejaVu Sans Mono',consolas,'Courier New',monospace\"><span style=\"color: #808000; text-decoration-color: #808000; font-weight: bold\">Feature </span><span style=\"color: #000080; text-decoration-color: #000080; font-weight: bold\">Ve_Alveolar_Macrophage_CD107a </span><span style=\"color: #808000; text-decoration-color: #808000; font-weight: bold\">had more than </span><span style=\"color: #000080; text-decoration-color: #000080; font-weight: bold\">89.19</span><span style=\"color: #000080; text-decoration-color: #000080; font-weight: bold\">% </span><span style=\"color: #808000; text-decoration-color: #808000; font-weight: bold\">missing values!</span>\n",
       "</pre>\n"
      ],
      "text/plain": [
       "\u001b[1;33mFeature \u001b[0m\u001b[1;34mVe_Alveolar_Macrophage_CD107a \u001b[0m\u001b[1;33mhad more than \u001b[0m\u001b[1;34m89.19\u001b[0m\u001b[1;34m% \u001b[0m\u001b[1;33mmissing values!\u001b[0m\n"
      ]
     },
     "metadata": {},
     "output_type": "display_data"
    },
    {
     "data": {
      "text/html": [
       "<pre style=\"white-space:pre;overflow-x:auto;line-height:normal;font-family:Menlo,'DejaVu Sans Mono',consolas,'Courier New',monospace\"><span style=\"color: #808000; text-decoration-color: #808000; font-weight: bold\">Feature </span><span style=\"color: #000080; text-decoration-color: #000080; font-weight: bold\">Freq_CD3_cell </span><span style=\"color: #808000; text-decoration-color: #808000; font-weight: bold\">had more than </span><span style=\"color: #000080; text-decoration-color: #000080; font-weight: bold\">89.19</span><span style=\"color: #000080; text-decoration-color: #000080; font-weight: bold\">% </span><span style=\"color: #808000; text-decoration-color: #808000; font-weight: bold\">missing values!</span>\n",
       "</pre>\n"
      ],
      "text/plain": [
       "\u001b[1;33mFeature \u001b[0m\u001b[1;34mFreq_CD3_cell \u001b[0m\u001b[1;33mhad more than \u001b[0m\u001b[1;34m89.19\u001b[0m\u001b[1;34m% \u001b[0m\u001b[1;33mmissing values!\u001b[0m\n"
      ]
     },
     "metadata": {},
     "output_type": "display_data"
    },
    {
     "data": {
      "text/html": [
       "<pre style=\"white-space:pre;overflow-x:auto;line-height:normal;font-family:Menlo,'DejaVu Sans Mono',consolas,'Courier New',monospace\"><span style=\"color: #808000; text-decoration-color: #808000; font-weight: bold\">Feature </span><span style=\"color: #000080; text-decoration-color: #000080; font-weight: bold\">Ve_Alveolar_Macrophage_Classical_Monocyte </span><span style=\"color: #808000; text-decoration-color: #808000; font-weight: bold\">had more than </span><span style=\"color: #000080; text-decoration-color: #000080; font-weight: bold\">89.19</span><span style=\"color: #000080; text-decoration-color: #000080; font-weight: bold\">% </span><span style=\"color: #808000; text-decoration-color: #808000; font-weight: bold\">missing values!</span>\n",
       "</pre>\n"
      ],
      "text/plain": [
       "\u001b[1;33mFeature \u001b[0m\u001b[1;34mVe_Alveolar_Macrophage_Classical_Monocyte \u001b[0m\u001b[1;33mhad more than \u001b[0m\u001b[1;34m89.19\u001b[0m\u001b[1;34m% \u001b[0m\u001b[1;33mmissing values!\u001b[0m\n"
      ]
     },
     "metadata": {},
     "output_type": "display_data"
    },
    {
     "data": {
      "text/html": [
       "<pre style=\"white-space:pre;overflow-x:auto;line-height:normal;font-family:Menlo,'DejaVu Sans Mono',consolas,'Courier New',monospace\"><span style=\"color: #808000; text-decoration-color: #808000; font-weight: bold\">Feature </span><span style=\"color: #000080; text-decoration-color: #000080; font-weight: bold\">Ve_Epithelial_cell_CD3_cell </span><span style=\"color: #808000; text-decoration-color: #808000; font-weight: bold\">had more than </span><span style=\"color: #000080; text-decoration-color: #000080; font-weight: bold\">89.19</span><span style=\"color: #000080; text-decoration-color: #000080; font-weight: bold\">% </span><span style=\"color: #808000; text-decoration-color: #808000; font-weight: bold\">missing values!</span>\n",
       "</pre>\n"
      ],
      "text/plain": [
       "\u001b[1;33mFeature \u001b[0m\u001b[1;34mVe_Epithelial_cell_CD3_cell \u001b[0m\u001b[1;33mhad more than \u001b[0m\u001b[1;34m89.19\u001b[0m\u001b[1;34m% \u001b[0m\u001b[1;33mmissing values!\u001b[0m\n"
      ]
     },
     "metadata": {},
     "output_type": "display_data"
    },
    {
     "data": {
      "text/html": [
       "<pre style=\"white-space:pre;overflow-x:auto;line-height:normal;font-family:Menlo,'DejaVu Sans Mono',consolas,'Courier New',monospace\"><span style=\"color: #808000; text-decoration-color: #808000; font-weight: bold\">Feature </span><span style=\"color: #000080; text-decoration-color: #000080; font-weight: bold\">Ve_Epithelial_cell_Classical_Monocyte </span><span style=\"color: #808000; text-decoration-color: #808000; font-weight: bold\">had more than </span><span style=\"color: #000080; text-decoration-color: #000080; font-weight: bold\">89.19</span><span style=\"color: #000080; text-decoration-color: #000080; font-weight: bold\">% </span><span style=\"color: #808000; text-decoration-color: #808000; font-weight: bold\">missing values!</span>\n",
       "</pre>\n"
      ],
      "text/plain": [
       "\u001b[1;33mFeature \u001b[0m\u001b[1;34mVe_Epithelial_cell_Classical_Monocyte \u001b[0m\u001b[1;33mhad more than \u001b[0m\u001b[1;34m89.19\u001b[0m\u001b[1;34m% \u001b[0m\u001b[1;33mmissing values!\u001b[0m\n"
      ]
     },
     "metadata": {},
     "output_type": "display_data"
    },
    {
     "data": {
      "text/html": [
       "<pre style=\"white-space:pre;overflow-x:auto;line-height:normal;font-family:Menlo,'DejaVu Sans Mono',consolas,'Courier New',monospace\"><span style=\"color: #808000; text-decoration-color: #808000; font-weight: bold\">Feature </span><span style=\"color: #000080; text-decoration-color: #000080; font-weight: bold\">Ve_Alveolar_Macrophage_EC </span><span style=\"color: #808000; text-decoration-color: #808000; font-weight: bold\">had more than </span><span style=\"color: #000080; text-decoration-color: #000080; font-weight: bold\">89.19</span><span style=\"color: #000080; text-decoration-color: #000080; font-weight: bold\">% </span><span style=\"color: #808000; text-decoration-color: #808000; font-weight: bold\">missing values!</span>\n",
       "</pre>\n"
      ],
      "text/plain": [
       "\u001b[1;33mFeature \u001b[0m\u001b[1;34mVe_Alveolar_Macrophage_EC \u001b[0m\u001b[1;33mhad more than \u001b[0m\u001b[1;34m89.19\u001b[0m\u001b[1;34m% \u001b[0m\u001b[1;33mmissing values!\u001b[0m\n"
      ]
     },
     "metadata": {},
     "output_type": "display_data"
    },
    {
     "data": {
      "text/html": [
       "<pre style=\"white-space:pre;overflow-x:auto;line-height:normal;font-family:Menlo,'DejaVu Sans Mono',consolas,'Courier New',monospace\"><span style=\"color: #808000; text-decoration-color: #808000; font-weight: bold\">Feature </span><span style=\"color: #000080; text-decoration-color: #000080; font-weight: bold\">Ve_Alveolar_Macrophage_Epithelial_cell </span><span style=\"color: #808000; text-decoration-color: #808000; font-weight: bold\">had more than </span><span style=\"color: #000080; text-decoration-color: #000080; font-weight: bold\">89.19</span><span style=\"color: #000080; text-decoration-color: #000080; font-weight: bold\">% </span><span style=\"color: #808000; text-decoration-color: #808000; font-weight: bold\">missing values!</span>\n",
       "</pre>\n"
      ],
      "text/plain": [
       "\u001b[1;33mFeature \u001b[0m\u001b[1;34mVe_Alveolar_Macrophage_Epithelial_cell \u001b[0m\u001b[1;33mhad more than \u001b[0m\u001b[1;34m89.19\u001b[0m\u001b[1;34m% \u001b[0m\u001b[1;33mmissing values!\u001b[0m\n"
      ]
     },
     "metadata": {},
     "output_type": "display_data"
    },
    {
     "data": {
      "text/html": [
       "<pre style=\"white-space:pre;overflow-x:auto;line-height:normal;font-family:Menlo,'DejaVu Sans Mono',consolas,'Courier New',monospace\"><span style=\"color: #808000; text-decoration-color: #808000; font-weight: bold\">Feature </span><span style=\"color: #000080; text-decoration-color: #000080; font-weight: bold\">Counts_CD3_cell </span><span style=\"color: #808000; text-decoration-color: #808000; font-weight: bold\">had more than </span><span style=\"color: #000080; text-decoration-color: #000080; font-weight: bold\">89.19</span><span style=\"color: #000080; text-decoration-color: #000080; font-weight: bold\">% </span><span style=\"color: #808000; text-decoration-color: #808000; font-weight: bold\">missing values!</span>\n",
       "</pre>\n"
      ],
      "text/plain": [
       "\u001b[1;33mFeature \u001b[0m\u001b[1;34mCounts_CD3_cell \u001b[0m\u001b[1;33mhad more than \u001b[0m\u001b[1;34m89.19\u001b[0m\u001b[1;34m% \u001b[0m\u001b[1;33mmissing values!\u001b[0m\n"
      ]
     },
     "metadata": {},
     "output_type": "display_data"
    },
    {
     "data": {
      "text/html": [
       "<pre style=\"white-space:pre;overflow-x:auto;line-height:normal;font-family:Menlo,'DejaVu Sans Mono',consolas,'Courier New',monospace\"><span style=\"color: #808000; text-decoration-color: #808000; font-weight: bold\">Feature </span><span style=\"color: #000080; text-decoration-color: #000080; font-weight: bold\">Counts_Apoptotic_Neutrophil </span><span style=\"color: #808000; text-decoration-color: #808000; font-weight: bold\">had more than </span><span style=\"color: #000080; text-decoration-color: #000080; font-weight: bold\">89.19</span><span style=\"color: #000080; text-decoration-color: #000080; font-weight: bold\">% </span><span style=\"color: #808000; text-decoration-color: #808000; font-weight: bold\">missing values!</span>\n",
       "</pre>\n"
      ],
      "text/plain": [
       "\u001b[1;33mFeature \u001b[0m\u001b[1;34mCounts_Apoptotic_Neutrophil \u001b[0m\u001b[1;33mhad more than \u001b[0m\u001b[1;34m89.19\u001b[0m\u001b[1;34m% \u001b[0m\u001b[1;33mmissing values!\u001b[0m\n"
      ]
     },
     "metadata": {},
     "output_type": "display_data"
    },
    {
     "data": {
      "text/html": [
       "<pre style=\"white-space:pre;overflow-x:auto;line-height:normal;font-family:Menlo,'DejaVu Sans Mono',consolas,'Courier New',monospace\"><span style=\"color: #808000; text-decoration-color: #808000; font-weight: bold\">Feature </span><span style=\"color: #000080; text-decoration-color: #000080; font-weight: bold\">Freq_Classical_Monocyte </span><span style=\"color: #808000; text-decoration-color: #808000; font-weight: bold\">had more than </span><span style=\"color: #000080; text-decoration-color: #000080; font-weight: bold\">89.19</span><span style=\"color: #000080; text-decoration-color: #000080; font-weight: bold\">% </span><span style=\"color: #808000; text-decoration-color: #808000; font-weight: bold\">missing values!</span>\n",
       "</pre>\n"
      ],
      "text/plain": [
       "\u001b[1;33mFeature \u001b[0m\u001b[1;34mFreq_Classical_Monocyte \u001b[0m\u001b[1;33mhad more than \u001b[0m\u001b[1;34m89.19\u001b[0m\u001b[1;34m% \u001b[0m\u001b[1;33mmissing values!\u001b[0m\n"
      ]
     },
     "metadata": {},
     "output_type": "display_data"
    },
    {
     "data": {
      "text/html": [
       "<pre style=\"white-space:pre;overflow-x:auto;line-height:normal;font-family:Menlo,'DejaVu Sans Mono',consolas,'Courier New',monospace\"><span style=\"color: #808000; text-decoration-color: #808000; font-weight: bold\">Feature </span><span style=\"color: #000080; text-decoration-color: #000080; font-weight: bold\">Ve_Epithelial_cell_ColHIgh_Fibroblast </span><span style=\"color: #808000; text-decoration-color: #808000; font-weight: bold\">had more than </span><span style=\"color: #000080; text-decoration-color: #000080; font-weight: bold\">89.19</span><span style=\"color: #000080; text-decoration-color: #000080; font-weight: bold\">% </span><span style=\"color: #808000; text-decoration-color: #808000; font-weight: bold\">missing values!</span>\n",
       "</pre>\n"
      ],
      "text/plain": [
       "\u001b[1;33mFeature \u001b[0m\u001b[1;34mVe_Epithelial_cell_ColHIgh_Fibroblast \u001b[0m\u001b[1;33mhad more than \u001b[0m\u001b[1;34m89.19\u001b[0m\u001b[1;34m% \u001b[0m\u001b[1;33mmissing values!\u001b[0m\n"
      ]
     },
     "metadata": {},
     "output_type": "display_data"
    },
    {
     "data": {
      "text/html": [
       "<pre style=\"white-space:pre;overflow-x:auto;line-height:normal;font-family:Menlo,'DejaVu Sans Mono',consolas,'Courier New',monospace\"><span style=\"color: #808000; text-decoration-color: #808000; font-weight: bold\">Feature </span><span style=\"color: #000080; text-decoration-color: #000080; font-weight: bold\">Freq_CD66bHigh_Neutrophil </span><span style=\"color: #808000; text-decoration-color: #808000; font-weight: bold\">had more than </span><span style=\"color: #000080; text-decoration-color: #000080; font-weight: bold\">89.19</span><span style=\"color: #000080; text-decoration-color: #000080; font-weight: bold\">% </span><span style=\"color: #808000; text-decoration-color: #808000; font-weight: bold\">missing values!</span>\n",
       "</pre>\n"
      ],
      "text/plain": [
       "\u001b[1;33mFeature \u001b[0m\u001b[1;34mFreq_CD66bHigh_Neutrophil \u001b[0m\u001b[1;33mhad more than \u001b[0m\u001b[1;34m89.19\u001b[0m\u001b[1;34m% \u001b[0m\u001b[1;33mmissing values!\u001b[0m\n"
      ]
     },
     "metadata": {},
     "output_type": "display_data"
    },
    {
     "data": {
      "text/html": [
       "<pre style=\"white-space:pre;overflow-x:auto;line-height:normal;font-family:Menlo,'DejaVu Sans Mono',consolas,'Courier New',monospace\"><span style=\"color: #808000; text-decoration-color: #808000; font-weight: bold\">Feature </span><span style=\"color: #000080; text-decoration-color: #000080; font-weight: bold\">Ve_Alveolar_Macrophage_Apoptotic_Epithelial_cell </span><span style=\"color: #808000; text-decoration-color: #808000; font-weight: bold\">had more than </span><span style=\"color: #000080; text-decoration-color: #000080; font-weight: bold\">89.19</span><span style=\"color: #000080; text-decoration-color: #000080; font-weight: bold\">% </span><span style=\"color: #808000; text-decoration-color: #808000; font-weight: bold\">missing values!</span>\n",
       "</pre>\n"
      ],
      "text/plain": [
       "\u001b[1;33mFeature \u001b[0m\u001b[1;34mVe_Alveolar_Macrophage_Apoptotic_Epithelial_cell \u001b[0m\u001b[1;33mhad more than \u001b[0m\u001b[1;34m89.19\u001b[0m\u001b[1;34m% \u001b[0m\u001b[1;33mmissing values!\u001b[0m\n"
      ]
     },
     "metadata": {},
     "output_type": "display_data"
    },
    {
     "data": {
      "text/html": [
       "<pre style=\"white-space:pre;overflow-x:auto;line-height:normal;font-family:Menlo,'DejaVu Sans Mono',consolas,'Courier New',monospace\"><span style=\"color: #808000; text-decoration-color: #808000; font-weight: bold\">Feature </span><span style=\"color: #000080; text-decoration-color: #000080; font-weight: bold\">Activated_EC_CD107a </span><span style=\"color: #808000; text-decoration-color: #808000; font-weight: bold\">had more than </span><span style=\"color: #000080; text-decoration-color: #000080; font-weight: bold\">89.19</span><span style=\"color: #000080; text-decoration-color: #000080; font-weight: bold\">% </span><span style=\"color: #808000; text-decoration-color: #808000; font-weight: bold\">missing values!</span>\n",
       "</pre>\n"
      ],
      "text/plain": [
       "\u001b[1;33mFeature \u001b[0m\u001b[1;34mActivated_EC_CD107a \u001b[0m\u001b[1;33mhad more than \u001b[0m\u001b[1;34m89.19\u001b[0m\u001b[1;34m% \u001b[0m\u001b[1;33mmissing values!\u001b[0m\n"
      ]
     },
     "metadata": {},
     "output_type": "display_data"
    },
    {
     "data": {
      "text/html": [
       "<pre style=\"white-space:pre;overflow-x:auto;line-height:normal;font-family:Menlo,'DejaVu Sans Mono',consolas,'Courier New',monospace\"><span style=\"color: #808000; text-decoration-color: #808000; font-weight: bold\">Feature </span><span style=\"color: #000080; text-decoration-color: #000080; font-weight: bold\">Freq_ColHigh_Fibroblast </span><span style=\"color: #808000; text-decoration-color: #808000; font-weight: bold\">had more than </span><span style=\"color: #000080; text-decoration-color: #000080; font-weight: bold\">89.19</span><span style=\"color: #000080; text-decoration-color: #000080; font-weight: bold\">% </span><span style=\"color: #808000; text-decoration-color: #808000; font-weight: bold\">missing values!</span>\n",
       "</pre>\n"
      ],
      "text/plain": [
       "\u001b[1;33mFeature \u001b[0m\u001b[1;34mFreq_ColHigh_Fibroblast \u001b[0m\u001b[1;33mhad more than \u001b[0m\u001b[1;34m89.19\u001b[0m\u001b[1;34m% \u001b[0m\u001b[1;33mmissing values!\u001b[0m\n"
      ]
     },
     "metadata": {},
     "output_type": "display_data"
    },
    {
     "data": {
      "text/html": [
       "<pre style=\"white-space:pre;overflow-x:auto;line-height:normal;font-family:Menlo,'DejaVu Sans Mono',consolas,'Courier New',monospace\"><span style=\"color: #808000; text-decoration-color: #808000; font-weight: bold\">Feature </span><span style=\"color: #000080; text-decoration-color: #000080; font-weight: bold\">Ve_Alveolar_Macrophage_Alveolar_Macrophage </span><span style=\"color: #808000; text-decoration-color: #808000; font-weight: bold\">had more than </span><span style=\"color: #000080; text-decoration-color: #000080; font-weight: bold\">89.19</span><span style=\"color: #000080; text-decoration-color: #000080; font-weight: bold\">% </span><span style=\"color: #808000; text-decoration-color: #808000; font-weight: bold\">missing values!</span>\n",
       "</pre>\n"
      ],
      "text/plain": [
       "\u001b[1;33mFeature \u001b[0m\u001b[1;34mVe_Alveolar_Macrophage_Alveolar_Macrophage \u001b[0m\u001b[1;33mhad more than \u001b[0m\u001b[1;34m89.19\u001b[0m\u001b[1;34m% \u001b[0m\u001b[1;33mmissing values!\u001b[0m\n"
      ]
     },
     "metadata": {},
     "output_type": "display_data"
    },
    {
     "data": {
      "text/html": [
       "<pre style=\"white-space:pre;overflow-x:auto;line-height:normal;font-family:Menlo,'DejaVu Sans Mono',consolas,'Courier New',monospace\"><span style=\"color: #808000; text-decoration-color: #808000; font-weight: bold\">Feature </span><span style=\"color: #000080; text-decoration-color: #000080; font-weight: bold\">Counts_Activated_EC </span><span style=\"color: #808000; text-decoration-color: #808000; font-weight: bold\">had more than </span><span style=\"color: #000080; text-decoration-color: #000080; font-weight: bold\">89.19</span><span style=\"color: #000080; text-decoration-color: #000080; font-weight: bold\">% </span><span style=\"color: #808000; text-decoration-color: #808000; font-weight: bold\">missing values!</span>\n",
       "</pre>\n"
      ],
      "text/plain": [
       "\u001b[1;33mFeature \u001b[0m\u001b[1;34mCounts_Activated_EC \u001b[0m\u001b[1;33mhad more than \u001b[0m\u001b[1;34m89.19\u001b[0m\u001b[1;34m% \u001b[0m\u001b[1;33mmissing values!\u001b[0m\n"
      ]
     },
     "metadata": {},
     "output_type": "display_data"
    },
    {
     "data": {
      "text/html": [
       "<pre style=\"white-space:pre;overflow-x:auto;line-height:normal;font-family:Menlo,'DejaVu Sans Mono',consolas,'Courier New',monospace\"><span style=\"color: #808000; text-decoration-color: #808000; font-weight: bold\">Feature </span><span style=\"color: #000080; text-decoration-color: #000080; font-weight: bold\">Freq_Macrophage </span><span style=\"color: #808000; text-decoration-color: #808000; font-weight: bold\">had more than </span><span style=\"color: #000080; text-decoration-color: #000080; font-weight: bold\">89.19</span><span style=\"color: #000080; text-decoration-color: #000080; font-weight: bold\">% </span><span style=\"color: #808000; text-decoration-color: #808000; font-weight: bold\">missing values!</span>\n",
       "</pre>\n"
      ],
      "text/plain": [
       "\u001b[1;33mFeature \u001b[0m\u001b[1;34mFreq_Macrophage \u001b[0m\u001b[1;33mhad more than \u001b[0m\u001b[1;34m89.19\u001b[0m\u001b[1;34m% \u001b[0m\u001b[1;33mmissing values!\u001b[0m\n"
      ]
     },
     "metadata": {},
     "output_type": "display_data"
    },
    {
     "data": {
      "text/html": [
       "<pre style=\"white-space:pre;overflow-x:auto;line-height:normal;font-family:Menlo,'DejaVu Sans Mono',consolas,'Courier New',monospace\"><span style=\"color: #808000; text-decoration-color: #808000; font-weight: bold\">Feature </span><span style=\"color: #000080; text-decoration-color: #000080; font-weight: bold\">Counts_Interstitial_Macrophage </span><span style=\"color: #808000; text-decoration-color: #808000; font-weight: bold\">had more than </span><span style=\"color: #000080; text-decoration-color: #000080; font-weight: bold\">89.19</span><span style=\"color: #000080; text-decoration-color: #000080; font-weight: bold\">% </span><span style=\"color: #808000; text-decoration-color: #808000; font-weight: bold\">missing values!</span>\n",
       "</pre>\n"
      ],
      "text/plain": [
       "\u001b[1;33mFeature \u001b[0m\u001b[1;34mCounts_Interstitial_Macrophage \u001b[0m\u001b[1;33mhad more than \u001b[0m\u001b[1;34m89.19\u001b[0m\u001b[1;34m% \u001b[0m\u001b[1;33mmissing values!\u001b[0m\n"
      ]
     },
     "metadata": {},
     "output_type": "display_data"
    },
    {
     "data": {
      "text/html": [
       "<pre style=\"white-space:pre;overflow-x:auto;line-height:normal;font-family:Menlo,'DejaVu Sans Mono',consolas,'Courier New',monospace\"><span style=\"color: #808000; text-decoration-color: #808000; font-weight: bold\">Feature </span><span style=\"color: #000080; text-decoration-color: #000080; font-weight: bold\">Count_Fibroblast </span><span style=\"color: #808000; text-decoration-color: #808000; font-weight: bold\">had more than </span><span style=\"color: #000080; text-decoration-color: #000080; font-weight: bold\">89.19</span><span style=\"color: #000080; text-decoration-color: #000080; font-weight: bold\">% </span><span style=\"color: #808000; text-decoration-color: #808000; font-weight: bold\">missing values!</span>\n",
       "</pre>\n"
      ],
      "text/plain": [
       "\u001b[1;33mFeature \u001b[0m\u001b[1;34mCount_Fibroblast \u001b[0m\u001b[1;33mhad more than \u001b[0m\u001b[1;34m89.19\u001b[0m\u001b[1;34m% \u001b[0m\u001b[1;33mmissing values!\u001b[0m\n"
      ]
     },
     "metadata": {},
     "output_type": "display_data"
    },
    {
     "data": {
      "text/html": [
       "<pre style=\"white-space:pre;overflow-x:auto;line-height:normal;font-family:Menlo,'DejaVu Sans Mono',consolas,'Courier New',monospace\"><span style=\"color: #808000; text-decoration-color: #808000; font-weight: bold\">Feature </span><span style=\"color: #000080; text-decoration-color: #000080; font-weight: bold\">Ve_Epithelial_cell_Activated_EC </span><span style=\"color: #808000; text-decoration-color: #808000; font-weight: bold\">had more than </span><span style=\"color: #000080; text-decoration-color: #000080; font-weight: bold\">89.19</span><span style=\"color: #000080; text-decoration-color: #000080; font-weight: bold\">% </span><span style=\"color: #808000; text-decoration-color: #808000; font-weight: bold\">missing values!</span>\n",
       "</pre>\n"
      ],
      "text/plain": [
       "\u001b[1;33mFeature \u001b[0m\u001b[1;34mVe_Epithelial_cell_Activated_EC \u001b[0m\u001b[1;33mhad more than \u001b[0m\u001b[1;34m89.19\u001b[0m\u001b[1;34m% \u001b[0m\u001b[1;33mmissing values!\u001b[0m\n"
      ]
     },
     "metadata": {},
     "output_type": "display_data"
    },
    {
     "data": {
      "text/html": [
       "<pre style=\"white-space:pre;overflow-x:auto;line-height:normal;font-family:Menlo,'DejaVu Sans Mono',consolas,'Courier New',monospace\"><span style=\"color: #808000; text-decoration-color: #808000; font-weight: bold\">Feature </span><span style=\"color: #000080; text-decoration-color: #000080; font-weight: bold\">Freq_CD38_CD4_Tcell </span><span style=\"color: #808000; text-decoration-color: #808000; font-weight: bold\">had more than </span><span style=\"color: #000080; text-decoration-color: #000080; font-weight: bold\">89.19</span><span style=\"color: #000080; text-decoration-color: #000080; font-weight: bold\">% </span><span style=\"color: #808000; text-decoration-color: #808000; font-weight: bold\">missing values!</span>\n",
       "</pre>\n"
      ],
      "text/plain": [
       "\u001b[1;33mFeature \u001b[0m\u001b[1;34mFreq_CD38_CD4_Tcell \u001b[0m\u001b[1;33mhad more than \u001b[0m\u001b[1;34m89.19\u001b[0m\u001b[1;34m% \u001b[0m\u001b[1;33mmissing values!\u001b[0m\n"
      ]
     },
     "metadata": {},
     "output_type": "display_data"
    },
    {
     "data": {
      "text/html": [
       "<pre style=\"white-space:pre;overflow-x:auto;line-height:normal;font-family:Menlo,'DejaVu Sans Mono',consolas,'Courier New',monospace\"><span style=\"color: #808000; text-decoration-color: #808000; font-weight: bold\">Feature </span><span style=\"color: #000080; text-decoration-color: #000080; font-weight: bold\">Freq_Myofibroblast </span><span style=\"color: #808000; text-decoration-color: #808000; font-weight: bold\">had more than </span><span style=\"color: #000080; text-decoration-color: #000080; font-weight: bold\">89.19</span><span style=\"color: #000080; text-decoration-color: #000080; font-weight: bold\">% </span><span style=\"color: #808000; text-decoration-color: #808000; font-weight: bold\">missing values!</span>\n",
       "</pre>\n"
      ],
      "text/plain": [
       "\u001b[1;33mFeature \u001b[0m\u001b[1;34mFreq_Myofibroblast \u001b[0m\u001b[1;33mhad more than \u001b[0m\u001b[1;34m89.19\u001b[0m\u001b[1;34m% \u001b[0m\u001b[1;33mmissing values!\u001b[0m\n"
      ]
     },
     "metadata": {},
     "output_type": "display_data"
    },
    {
     "data": {
      "text/html": [
       "<pre style=\"white-space:pre;overflow-x:auto;line-height:normal;font-family:Menlo,'DejaVu Sans Mono',consolas,'Courier New',monospace\"><span style=\"color: #808000; text-decoration-color: #808000; font-weight: bold\">Feature </span><span style=\"color: #000080; text-decoration-color: #000080; font-weight: bold\">Ve_Epithelial_cell_MHCII </span><span style=\"color: #808000; text-decoration-color: #808000; font-weight: bold\">had more than </span><span style=\"color: #000080; text-decoration-color: #000080; font-weight: bold\">89.19</span><span style=\"color: #000080; text-decoration-color: #000080; font-weight: bold\">% </span><span style=\"color: #808000; text-decoration-color: #808000; font-weight: bold\">missing values!</span>\n",
       "</pre>\n"
      ],
      "text/plain": [
       "\u001b[1;33mFeature \u001b[0m\u001b[1;34mVe_Epithelial_cell_MHCII \u001b[0m\u001b[1;33mhad more than \u001b[0m\u001b[1;34m89.19\u001b[0m\u001b[1;34m% \u001b[0m\u001b[1;33mmissing values!\u001b[0m\n"
      ]
     },
     "metadata": {},
     "output_type": "display_data"
    },
    {
     "data": {
      "text/html": [
       "<pre style=\"white-space:pre;overflow-x:auto;line-height:normal;font-family:Menlo,'DejaVu Sans Mono',consolas,'Courier New',monospace\"><span style=\"color: #808000; text-decoration-color: #808000; font-weight: bold\">Feature </span><span style=\"color: #000080; text-decoration-color: #000080; font-weight: bold\">Counts_Apoptotic_Epithelial_cell </span><span style=\"color: #808000; text-decoration-color: #808000; font-weight: bold\">had more than </span><span style=\"color: #000080; text-decoration-color: #000080; font-weight: bold\">89.19</span><span style=\"color: #000080; text-decoration-color: #000080; font-weight: bold\">% </span><span style=\"color: #808000; text-decoration-color: #808000; font-weight: bold\">missing values!</span>\n",
       "</pre>\n"
      ],
      "text/plain": [
       "\u001b[1;33mFeature \u001b[0m\u001b[1;34mCounts_Apoptotic_Epithelial_cell \u001b[0m\u001b[1;33mhad more than \u001b[0m\u001b[1;34m89.19\u001b[0m\u001b[1;34m% \u001b[0m\u001b[1;33mmissing values!\u001b[0m\n"
      ]
     },
     "metadata": {},
     "output_type": "display_data"
    },
    {
     "data": {
      "text/html": [
       "<pre style=\"white-space:pre;overflow-x:auto;line-height:normal;font-family:Menlo,'DejaVu Sans Mono',consolas,'Courier New',monospace\"><span style=\"color: #808000; text-decoration-color: #808000; font-weight: bold\">Feature </span><span style=\"color: #000080; text-decoration-color: #000080; font-weight: bold\">Freq_ve_Epithelial_cell </span><span style=\"color: #808000; text-decoration-color: #808000; font-weight: bold\">had more than </span><span style=\"color: #000080; text-decoration-color: #000080; font-weight: bold\">89.19</span><span style=\"color: #000080; text-decoration-color: #000080; font-weight: bold\">% </span><span style=\"color: #808000; text-decoration-color: #808000; font-weight: bold\">missing values!</span>\n",
       "</pre>\n"
      ],
      "text/plain": [
       "\u001b[1;33mFeature \u001b[0m\u001b[1;34mFreq_ve_Epithelial_cell \u001b[0m\u001b[1;33mhad more than \u001b[0m\u001b[1;34m89.19\u001b[0m\u001b[1;34m% \u001b[0m\u001b[1;33mmissing values!\u001b[0m\n"
      ]
     },
     "metadata": {},
     "output_type": "display_data"
    },
    {
     "data": {
      "text/html": [
       "<pre style=\"white-space:pre;overflow-x:auto;line-height:normal;font-family:Menlo,'DejaVu Sans Mono',consolas,'Courier New',monospace\"><span style=\"color: #808000; text-decoration-color: #808000; font-weight: bold\">Feature </span><span style=\"color: #000080; text-decoration-color: #000080; font-weight: bold\">Freq_Apoptotic_Myofibroblast </span><span style=\"color: #808000; text-decoration-color: #808000; font-weight: bold\">had more than </span><span style=\"color: #000080; text-decoration-color: #000080; font-weight: bold\">89.19</span><span style=\"color: #000080; text-decoration-color: #000080; font-weight: bold\">% </span><span style=\"color: #808000; text-decoration-color: #808000; font-weight: bold\">missing values!</span>\n",
       "</pre>\n"
      ],
      "text/plain": [
       "\u001b[1;33mFeature \u001b[0m\u001b[1;34mFreq_Apoptotic_Myofibroblast \u001b[0m\u001b[1;33mhad more than \u001b[0m\u001b[1;34m89.19\u001b[0m\u001b[1;34m% \u001b[0m\u001b[1;33mmissing values!\u001b[0m\n"
      ]
     },
     "metadata": {},
     "output_type": "display_data"
    },
    {
     "data": {
      "text/html": [
       "<pre style=\"white-space:pre;overflow-x:auto;line-height:normal;font-family:Menlo,'DejaVu Sans Mono',consolas,'Courier New',monospace\"><span style=\"color: #808000; text-decoration-color: #808000; font-weight: bold\">Feature </span><span style=\"color: #000080; text-decoration-color: #000080; font-weight: bold\">Count_Neutrophil </span><span style=\"color: #808000; text-decoration-color: #808000; font-weight: bold\">had more than </span><span style=\"color: #000080; text-decoration-color: #000080; font-weight: bold\">89.19</span><span style=\"color: #000080; text-decoration-color: #000080; font-weight: bold\">% </span><span style=\"color: #808000; text-decoration-color: #808000; font-weight: bold\">missing values!</span>\n",
       "</pre>\n"
      ],
      "text/plain": [
       "\u001b[1;33mFeature \u001b[0m\u001b[1;34mCount_Neutrophil \u001b[0m\u001b[1;33mhad more than \u001b[0m\u001b[1;34m89.19\u001b[0m\u001b[1;34m% \u001b[0m\u001b[1;33mmissing values!\u001b[0m\n"
      ]
     },
     "metadata": {},
     "output_type": "display_data"
    },
    {
     "data": {
      "text/html": [
       "<pre style=\"white-space:pre;overflow-x:auto;line-height:normal;font-family:Menlo,'DejaVu Sans Mono',consolas,'Courier New',monospace\"><span style=\"color: #808000; text-decoration-color: #808000; font-weight: bold\">Feature </span><span style=\"color: #000080; text-decoration-color: #000080; font-weight: bold\">Freq_Activated_EC </span><span style=\"color: #808000; text-decoration-color: #808000; font-weight: bold\">had more than </span><span style=\"color: #000080; text-decoration-color: #000080; font-weight: bold\">89.19</span><span style=\"color: #000080; text-decoration-color: #000080; font-weight: bold\">% </span><span style=\"color: #808000; text-decoration-color: #808000; font-weight: bold\">missing values!</span>\n",
       "</pre>\n"
      ],
      "text/plain": [
       "\u001b[1;33mFeature \u001b[0m\u001b[1;34mFreq_Activated_EC \u001b[0m\u001b[1;33mhad more than \u001b[0m\u001b[1;34m89.19\u001b[0m\u001b[1;34m% \u001b[0m\u001b[1;33mmissing values!\u001b[0m\n"
      ]
     },
     "metadata": {},
     "output_type": "display_data"
    },
    {
     "data": {
      "text/html": [
       "<pre style=\"white-space:pre;overflow-x:auto;line-height:normal;font-family:Menlo,'DejaVu Sans Mono',consolas,'Courier New',monospace\"><span style=\"color: #808000; text-decoration-color: #808000; font-weight: bold\">Feature </span><span style=\"color: #000080; text-decoration-color: #000080; font-weight: bold\">Ve_Epithelial_cell_Interstitial_Macrophage </span><span style=\"color: #808000; text-decoration-color: #808000; font-weight: bold\">had more than </span><span style=\"color: #000080; text-decoration-color: #000080; font-weight: bold\">89.19</span><span style=\"color: #000080; text-decoration-color: #000080; font-weight: bold\">% </span><span style=\"color: #808000; text-decoration-color: #808000; font-weight: bold\">missing values!</span>\n",
       "</pre>\n"
      ],
      "text/plain": [
       "\u001b[1;33mFeature \u001b[0m\u001b[1;34mVe_Epithelial_cell_Interstitial_Macrophage \u001b[0m\u001b[1;33mhad more than \u001b[0m\u001b[1;34m89.19\u001b[0m\u001b[1;34m% \u001b[0m\u001b[1;33mmissing values!\u001b[0m\n"
      ]
     },
     "metadata": {},
     "output_type": "display_data"
    },
    {
     "data": {
      "text/html": [
       "<pre style=\"white-space:pre;overflow-x:auto;line-height:normal;font-family:Menlo,'DejaVu Sans Mono',consolas,'Courier New',monospace\"><span style=\"color: #808000; text-decoration-color: #808000; font-weight: bold\">Feature </span><span style=\"color: #000080; text-decoration-color: #000080; font-weight: bold\">Ve_Alveolar_Macrophage_MHCI </span><span style=\"color: #808000; text-decoration-color: #808000; font-weight: bold\">had more than </span><span style=\"color: #000080; text-decoration-color: #000080; font-weight: bold\">89.19</span><span style=\"color: #000080; text-decoration-color: #000080; font-weight: bold\">% </span><span style=\"color: #808000; text-decoration-color: #808000; font-weight: bold\">missing values!</span>\n",
       "</pre>\n"
      ],
      "text/plain": [
       "\u001b[1;33mFeature \u001b[0m\u001b[1;34mVe_Alveolar_Macrophage_MHCI \u001b[0m\u001b[1;33mhad more than \u001b[0m\u001b[1;34m89.19\u001b[0m\u001b[1;34m% \u001b[0m\u001b[1;33mmissing values!\u001b[0m\n"
      ]
     },
     "metadata": {},
     "output_type": "display_data"
    },
    {
     "data": {
      "text/html": [
       "<pre style=\"white-space:pre;overflow-x:auto;line-height:normal;font-family:Menlo,'DejaVu Sans Mono',consolas,'Courier New',monospace\"><span style=\"color: #808000; text-decoration-color: #808000; font-weight: bold\">Feature </span><span style=\"color: #000080; text-decoration-color: #000080; font-weight: bold\">Ve_Alveolar_Macrophage_Myofibroblast </span><span style=\"color: #808000; text-decoration-color: #808000; font-weight: bold\">had more than </span><span style=\"color: #000080; text-decoration-color: #000080; font-weight: bold\">89.19</span><span style=\"color: #000080; text-decoration-color: #000080; font-weight: bold\">% </span><span style=\"color: #808000; text-decoration-color: #808000; font-weight: bold\">missing values!</span>\n",
       "</pre>\n"
      ],
      "text/plain": [
       "\u001b[1;33mFeature \u001b[0m\u001b[1;34mVe_Alveolar_Macrophage_Myofibroblast \u001b[0m\u001b[1;33mhad more than \u001b[0m\u001b[1;34m89.19\u001b[0m\u001b[1;34m% \u001b[0m\u001b[1;33mmissing values!\u001b[0m\n"
      ]
     },
     "metadata": {},
     "output_type": "display_data"
    },
    {
     "data": {
      "text/html": [
       "<pre style=\"white-space:pre;overflow-x:auto;line-height:normal;font-family:Menlo,'DejaVu Sans Mono',consolas,'Courier New',monospace\"><span style=\"color: #808000; text-decoration-color: #808000; font-weight: bold\">Feature </span><span style=\"color: #000080; text-decoration-color: #000080; font-weight: bold\">Freq_ColLow_Fibroblast </span><span style=\"color: #808000; text-decoration-color: #808000; font-weight: bold\">had more than </span><span style=\"color: #000080; text-decoration-color: #000080; font-weight: bold\">89.19</span><span style=\"color: #000080; text-decoration-color: #000080; font-weight: bold\">% </span><span style=\"color: #808000; text-decoration-color: #808000; font-weight: bold\">missing values!</span>\n",
       "</pre>\n"
      ],
      "text/plain": [
       "\u001b[1;33mFeature \u001b[0m\u001b[1;34mFreq_ColLow_Fibroblast \u001b[0m\u001b[1;33mhad more than \u001b[0m\u001b[1;34m89.19\u001b[0m\u001b[1;34m% \u001b[0m\u001b[1;33mmissing values!\u001b[0m\n"
      ]
     },
     "metadata": {},
     "output_type": "display_data"
    },
    {
     "data": {
      "text/html": [
       "<pre style=\"white-space:pre;overflow-x:auto;line-height:normal;font-family:Menlo,'DejaVu Sans Mono',consolas,'Courier New',monospace\"><span style=\"color: #808000; text-decoration-color: #808000; font-weight: bold\">Feature </span><span style=\"color: #000080; text-decoration-color: #000080; font-weight: bold\">Ve_Alveolar_Macrophage_ColHIgh_Fibroblast </span><span style=\"color: #808000; text-decoration-color: #808000; font-weight: bold\">had more than </span><span style=\"color: #000080; text-decoration-color: #000080; font-weight: bold\">89.19</span><span style=\"color: #000080; text-decoration-color: #000080; font-weight: bold\">% </span><span style=\"color: #808000; text-decoration-color: #808000; font-weight: bold\">missing values!</span>\n",
       "</pre>\n"
      ],
      "text/plain": [
       "\u001b[1;33mFeature \u001b[0m\u001b[1;34mVe_Alveolar_Macrophage_ColHIgh_Fibroblast \u001b[0m\u001b[1;33mhad more than \u001b[0m\u001b[1;34m89.19\u001b[0m\u001b[1;34m% \u001b[0m\u001b[1;33mmissing values!\u001b[0m\n"
      ]
     },
     "metadata": {},
     "output_type": "display_data"
    },
    {
     "data": {
      "text/html": [
       "<pre style=\"white-space:pre;overflow-x:auto;line-height:normal;font-family:Menlo,'DejaVu Sans Mono',consolas,'Courier New',monospace\"><span style=\"color: #808000; text-decoration-color: #808000; font-weight: bold\">Feature </span><span style=\"color: #000080; text-decoration-color: #000080; font-weight: bold\">Freq_ve_Alveolar_Macrophage </span><span style=\"color: #808000; text-decoration-color: #808000; font-weight: bold\">had more than </span><span style=\"color: #000080; text-decoration-color: #000080; font-weight: bold\">89.19</span><span style=\"color: #000080; text-decoration-color: #000080; font-weight: bold\">% </span><span style=\"color: #808000; text-decoration-color: #808000; font-weight: bold\">missing values!</span>\n",
       "</pre>\n"
      ],
      "text/plain": [
       "\u001b[1;33mFeature \u001b[0m\u001b[1;34mFreq_ve_Alveolar_Macrophage \u001b[0m\u001b[1;33mhad more than \u001b[0m\u001b[1;34m89.19\u001b[0m\u001b[1;34m% \u001b[0m\u001b[1;33mmissing values!\u001b[0m\n"
      ]
     },
     "metadata": {},
     "output_type": "display_data"
    },
    {
     "data": {
      "text/html": [
       "<pre style=\"white-space:pre;overflow-x:auto;line-height:normal;font-family:Menlo,'DejaVu Sans Mono',consolas,'Courier New',monospace\"><span style=\"color: #808000; text-decoration-color: #808000; font-weight: bold\">Feature </span><span style=\"color: #000080; text-decoration-color: #000080; font-weight: bold\">Counts_CD8_Tcell </span><span style=\"color: #808000; text-decoration-color: #808000; font-weight: bold\">had more than </span><span style=\"color: #000080; text-decoration-color: #000080; font-weight: bold\">89.19</span><span style=\"color: #000080; text-decoration-color: #000080; font-weight: bold\">% </span><span style=\"color: #808000; text-decoration-color: #808000; font-weight: bold\">missing values!</span>\n",
       "</pre>\n"
      ],
      "text/plain": [
       "\u001b[1;33mFeature \u001b[0m\u001b[1;34mCounts_CD8_Tcell \u001b[0m\u001b[1;33mhad more than \u001b[0m\u001b[1;34m89.19\u001b[0m\u001b[1;34m% \u001b[0m\u001b[1;33mmissing values!\u001b[0m\n"
      ]
     },
     "metadata": {},
     "output_type": "display_data"
    },
    {
     "data": {
      "text/html": [
       "<pre style=\"white-space:pre;overflow-x:auto;line-height:normal;font-family:Menlo,'DejaVu Sans Mono',consolas,'Courier New',monospace\"><span style=\"color: #808000; text-decoration-color: #808000; font-weight: bold\">Feature </span><span style=\"color: #000080; text-decoration-color: #000080; font-weight: bold\">Ve_Epithelial_cell_ColLow_Fibroblast </span><span style=\"color: #808000; text-decoration-color: #808000; font-weight: bold\">had more than </span><span style=\"color: #000080; text-decoration-color: #000080; font-weight: bold\">89.19</span><span style=\"color: #000080; text-decoration-color: #000080; font-weight: bold\">% </span><span style=\"color: #808000; text-decoration-color: #808000; font-weight: bold\">missing values!</span>\n",
       "</pre>\n"
      ],
      "text/plain": [
       "\u001b[1;33mFeature \u001b[0m\u001b[1;34mVe_Epithelial_cell_ColLow_Fibroblast \u001b[0m\u001b[1;33mhad more than \u001b[0m\u001b[1;34m89.19\u001b[0m\u001b[1;34m% \u001b[0m\u001b[1;33mmissing values!\u001b[0m\n"
      ]
     },
     "metadata": {},
     "output_type": "display_data"
    },
    {
     "data": {
      "text/html": [
       "<pre style=\"white-space:pre;overflow-x:auto;line-height:normal;font-family:Menlo,'DejaVu Sans Mono',consolas,'Courier New',monospace\"><span style=\"color: #808000; text-decoration-color: #808000; font-weight: bold\">Feature </span><span style=\"color: #000080; text-decoration-color: #000080; font-weight: bold\">Count_Myofibroblast </span><span style=\"color: #808000; text-decoration-color: #808000; font-weight: bold\">had more than </span><span style=\"color: #000080; text-decoration-color: #000080; font-weight: bold\">89.19</span><span style=\"color: #000080; text-decoration-color: #000080; font-weight: bold\">% </span><span style=\"color: #808000; text-decoration-color: #808000; font-weight: bold\">missing values!</span>\n",
       "</pre>\n"
      ],
      "text/plain": [
       "\u001b[1;33mFeature \u001b[0m\u001b[1;34mCount_Myofibroblast \u001b[0m\u001b[1;33mhad more than \u001b[0m\u001b[1;34m89.19\u001b[0m\u001b[1;34m% \u001b[0m\u001b[1;33mmissing values!\u001b[0m\n"
      ]
     },
     "metadata": {},
     "output_type": "display_data"
    },
    {
     "data": {
      "text/html": [
       "<pre style=\"white-space:pre;overflow-x:auto;line-height:normal;font-family:Menlo,'DejaVu Sans Mono',consolas,'Courier New',monospace\"><span style=\"color: #808000; text-decoration-color: #808000; font-weight: bold\">Feature </span><span style=\"color: #000080; text-decoration-color: #000080; font-weight: bold\">Ve_Alveolar_Macrophage_MHCII </span><span style=\"color: #808000; text-decoration-color: #808000; font-weight: bold\">had more than </span><span style=\"color: #000080; text-decoration-color: #000080; font-weight: bold\">89.19</span><span style=\"color: #000080; text-decoration-color: #000080; font-weight: bold\">% </span><span style=\"color: #808000; text-decoration-color: #808000; font-weight: bold\">missing values!</span>\n",
       "</pre>\n"
      ],
      "text/plain": [
       "\u001b[1;33mFeature \u001b[0m\u001b[1;34mVe_Alveolar_Macrophage_MHCII \u001b[0m\u001b[1;33mhad more than \u001b[0m\u001b[1;34m89.19\u001b[0m\u001b[1;34m% \u001b[0m\u001b[1;33mmissing values!\u001b[0m\n"
      ]
     },
     "metadata": {},
     "output_type": "display_data"
    },
    {
     "data": {
      "text/html": [
       "<pre style=\"white-space:pre;overflow-x:auto;line-height:normal;font-family:Menlo,'DejaVu Sans Mono',consolas,'Courier New',monospace\"><span style=\"color: #808000; text-decoration-color: #808000; font-weight: bold\">Feature </span><span style=\"color: #000080; text-decoration-color: #000080; font-weight: bold\">Activated_EC_GranzB </span><span style=\"color: #808000; text-decoration-color: #808000; font-weight: bold\">had more than </span><span style=\"color: #000080; text-decoration-color: #000080; font-weight: bold\">89.19</span><span style=\"color: #000080; text-decoration-color: #000080; font-weight: bold\">% </span><span style=\"color: #808000; text-decoration-color: #808000; font-weight: bold\">missing values!</span>\n",
       "</pre>\n"
      ],
      "text/plain": [
       "\u001b[1;33mFeature \u001b[0m\u001b[1;34mActivated_EC_GranzB \u001b[0m\u001b[1;33mhad more than \u001b[0m\u001b[1;34m89.19\u001b[0m\u001b[1;34m% \u001b[0m\u001b[1;33mmissing values!\u001b[0m\n"
      ]
     },
     "metadata": {},
     "output_type": "display_data"
    },
    {
     "data": {
      "text/html": [
       "<pre style=\"white-space:pre;overflow-x:auto;line-height:normal;font-family:Menlo,'DejaVu Sans Mono',consolas,'Courier New',monospace\"><span style=\"color: #808000; text-decoration-color: #808000; font-weight: bold\">Feature </span><span style=\"color: #000080; text-decoration-color: #000080; font-weight: bold\">Freq_Apoptotic_Epithelial_cell </span><span style=\"color: #808000; text-decoration-color: #808000; font-weight: bold\">had more than </span><span style=\"color: #000080; text-decoration-color: #000080; font-weight: bold\">89.19</span><span style=\"color: #000080; text-decoration-color: #000080; font-weight: bold\">% </span><span style=\"color: #808000; text-decoration-color: #808000; font-weight: bold\">missing values!</span>\n",
       "</pre>\n"
      ],
      "text/plain": [
       "\u001b[1;33mFeature \u001b[0m\u001b[1;34mFreq_Apoptotic_Epithelial_cell \u001b[0m\u001b[1;33mhad more than \u001b[0m\u001b[1;34m89.19\u001b[0m\u001b[1;34m% \u001b[0m\u001b[1;33mmissing values!\u001b[0m\n"
      ]
     },
     "metadata": {},
     "output_type": "display_data"
    },
    {
     "data": {
      "text/html": [
       "<pre style=\"white-space:pre;overflow-x:auto;line-height:normal;font-family:Menlo,'DejaVu Sans Mono',consolas,'Courier New',monospace\"><span style=\"color: #808000; text-decoration-color: #808000; font-weight: bold\">Feature </span><span style=\"color: #000080; text-decoration-color: #000080; font-weight: bold\">Apoptotic_Epithelial_cell_ClvCaspase3 </span><span style=\"color: #808000; text-decoration-color: #808000; font-weight: bold\">had more than </span><span style=\"color: #000080; text-decoration-color: #000080; font-weight: bold\">89.19</span><span style=\"color: #000080; text-decoration-color: #000080; font-weight: bold\">% </span><span style=\"color: #808000; text-decoration-color: #808000; font-weight: bold\">missing values!</span>\n",
       "</pre>\n"
      ],
      "text/plain": [
       "\u001b[1;33mFeature \u001b[0m\u001b[1;34mApoptotic_Epithelial_cell_ClvCaspase3 \u001b[0m\u001b[1;33mhad more than \u001b[0m\u001b[1;34m89.19\u001b[0m\u001b[1;34m% \u001b[0m\u001b[1;33mmissing values!\u001b[0m\n"
      ]
     },
     "metadata": {},
     "output_type": "display_data"
    },
    {
     "data": {
      "text/html": [
       "<pre style=\"white-space:pre;overflow-x:auto;line-height:normal;font-family:Menlo,'DejaVu Sans Mono',consolas,'Courier New',monospace\"><span style=\"color: #808000; text-decoration-color: #808000; font-weight: bold\">Feature </span><span style=\"color: #000080; text-decoration-color: #000080; font-weight: bold\">Counts_Classical_Monocyte </span><span style=\"color: #808000; text-decoration-color: #808000; font-weight: bold\">had more than </span><span style=\"color: #000080; text-decoration-color: #000080; font-weight: bold\">89.19</span><span style=\"color: #000080; text-decoration-color: #000080; font-weight: bold\">% </span><span style=\"color: #808000; text-decoration-color: #808000; font-weight: bold\">missing values!</span>\n",
       "</pre>\n"
      ],
      "text/plain": [
       "\u001b[1;33mFeature \u001b[0m\u001b[1;34mCounts_Classical_Monocyte \u001b[0m\u001b[1;33mhad more than \u001b[0m\u001b[1;34m89.19\u001b[0m\u001b[1;34m% \u001b[0m\u001b[1;33mmissing values!\u001b[0m\n"
      ]
     },
     "metadata": {},
     "output_type": "display_data"
    },
    {
     "data": {
      "text/html": [
       "<pre style=\"white-space:pre;overflow-x:auto;line-height:normal;font-family:Menlo,'DejaVu Sans Mono',consolas,'Courier New',monospace\"><span style=\"color: #808000; text-decoration-color: #808000; font-weight: bold\">Feature </span><span style=\"color: #000080; text-decoration-color: #000080; font-weight: bold\">Freq_CD4 </span><span style=\"color: #808000; text-decoration-color: #808000; font-weight: bold\">had more than </span><span style=\"color: #000080; text-decoration-color: #000080; font-weight: bold\">89.19</span><span style=\"color: #000080; text-decoration-color: #000080; font-weight: bold\">% </span><span style=\"color: #808000; text-decoration-color: #808000; font-weight: bold\">missing values!</span>\n",
       "</pre>\n"
      ],
      "text/plain": [
       "\u001b[1;33mFeature \u001b[0m\u001b[1;34mFreq_CD4 \u001b[0m\u001b[1;33mhad more than \u001b[0m\u001b[1;34m89.19\u001b[0m\u001b[1;34m% \u001b[0m\u001b[1;33mmissing values!\u001b[0m\n"
      ]
     },
     "metadata": {},
     "output_type": "display_data"
    },
    {
     "data": {
      "text/html": [
       "<pre style=\"white-space:pre;overflow-x:auto;line-height:normal;font-family:Menlo,'DejaVu Sans Mono',consolas,'Courier New',monospace\"><span style=\"color: #808000; text-decoration-color: #808000; font-weight: bold\">Feature </span><span style=\"color: #000080; text-decoration-color: #000080; font-weight: bold\">Freq_Fibroblast </span><span style=\"color: #808000; text-decoration-color: #808000; font-weight: bold\">had more than </span><span style=\"color: #000080; text-decoration-color: #000080; font-weight: bold\">89.19</span><span style=\"color: #000080; text-decoration-color: #000080; font-weight: bold\">% </span><span style=\"color: #808000; text-decoration-color: #808000; font-weight: bold\">missing values!</span>\n",
       "</pre>\n"
      ],
      "text/plain": [
       "\u001b[1;33mFeature \u001b[0m\u001b[1;34mFreq_Fibroblast \u001b[0m\u001b[1;33mhad more than \u001b[0m\u001b[1;34m89.19\u001b[0m\u001b[1;34m% \u001b[0m\u001b[1;33mmissing values!\u001b[0m\n"
      ]
     },
     "metadata": {},
     "output_type": "display_data"
    },
    {
     "data": {
      "application/vnd.jupyter.widget-view+json": {
       "model_id": "c3ea3487313f495696bdae87b6472a7b",
       "version_major": 2,
       "version_minor": 0
      },
      "text/plain": [
       "Output()"
      ]
     },
     "metadata": {},
     "output_type": "display_data"
    }
   ],
   "source": [
    "adata8 = adata\n",
    "ep.pp.mice_forest_impute(adata8)"
   ]
  },
  {
   "cell_type": "code",
   "execution_count": null,
   "id": "64e35123",
   "metadata": {},
   "outputs": [],
   "source": [
    "adata8.write_csvs(dirname='./', skip_data=False)"
   ]
  },
  {
   "cell_type": "code",
   "execution_count": null,
   "id": "2be394d1",
   "metadata": {},
   "outputs": [],
   "source": []
  },
  {
   "cell_type": "markdown",
   "id": "63b6a21d",
   "metadata": {},
   "source": [
    "Data Distribution"
   ]
  },
  {
   "cell_type": "code",
   "execution_count": null,
   "id": "a1718afd",
   "metadata": {},
   "outputs": [],
   "source": [
    "# Depending on the measurement and the unit of a measurement the value ranges of features may be huge. \n",
    "# Clusterings and differential comparisons especially may be greatly influenced by exceptionally big values.\n",
    "\n",
    "_ = sns.displot(adata.var[\"min\"])\n",
    "plt.show()\n",
    "\n",
    "_ = sns.displot(adata.var[\"max\"])\n",
    "plt.show()\n",
    "\n",
    "_ = sns.displot(adata.var[\"standard_deviation\"])\n"
   ]
  },
  {
   "cell_type": "code",
   "execution_count": null,
   "id": "d4ac8839",
   "metadata": {},
   "outputs": [],
   "source": [
    "adata.var[adata.var[\"standard_deviation\"] > 500]"
   ]
  },
  {
   "cell_type": "code",
   "execution_count": null,
   "id": "1012e5cb",
   "metadata": {},
   "outputs": [],
   "source": [
    "ep.pp.pca(adata)\n",
    "ep.pp.neighbors(adata)\n",
    "ep.tl.umap(adata)\n",
    "ep.tl.leiden(adata, resolution=0.5, key_added=\"leiden_0_5\")"
   ]
  },
  {
   "cell_type": "code",
   "execution_count": null,
   "id": "4af73a2f",
   "metadata": {},
   "outputs": [],
   "source": [
    "ep.tl.leiden(adata, resolution=1, key_added=\"leiden_1\")"
   ]
  },
  {
   "cell_type": "code",
   "execution_count": null,
   "id": "49882994",
   "metadata": {},
   "outputs": [],
   "source": [
    "ep.pl.umap(adata, color=[\"leiden_0_5\"], title=\"Leiden 0.5\")"
   ]
  },
  {
   "cell_type": "code",
   "execution_count": null,
   "id": "8c5fe5a9",
   "metadata": {
    "scrolled": true
   },
   "outputs": [],
   "source": [
    "ep.pl.umap(adata, color=[\"leiden_1\"], title=\"Leiden 1\")"
   ]
  },
  {
   "cell_type": "code",
   "execution_count": null,
   "id": "27871b91",
   "metadata": {},
   "outputs": [],
   "source": []
  },
  {
   "cell_type": "code",
   "execution_count": null,
   "id": "518a65bd",
   "metadata": {},
   "outputs": [],
   "source": [
    "ep.pl.umap(\n",
    "    adata,\n",
    "    color=[\"Category2\", \"Day_of_Sampling\"],\n",
    "    wspace=0.5,\n",
    "    title=[\"Category2\", \"Day_of_Sampling\"],\n",
    ")"
   ]
  },
  {
   "cell_type": "markdown",
   "id": "d44d3a0c",
   "metadata": {},
   "source": [
    "# 3- Normalization and dimensionalty reduction"
   ]
  },
  {
   "cell_type": "markdown",
   "id": "7e0ded0c",
   "metadata": {},
   "source": [
    "Ehrapy offers several options to normalize data. While it is possible to normalize all numerical values at once with the same normalization function we might be able to get away with just normalizing per feature."
   ]
  },
  {
   "cell_type": "code",
   "execution_count": null,
   "id": "15a8e306",
   "metadata": {},
   "outputs": [],
   "source": [
    "# in the tutorial, the data was not normalised, but try here with normalised data\n",
    "adata_norm = ep.pp.scale_norm(adata, copy=True)"
   ]
  },
  {
   "cell_type": "code",
   "execution_count": null,
   "id": "6ecf9304",
   "metadata": {},
   "outputs": [],
   "source": [
    "_ = ep.pp.qc_metrics(adata_norm)\n",
    "ep.pl.qc_metrics"
   ]
  },
  {
   "cell_type": "code",
   "execution_count": null,
   "id": "06a8bf7f",
   "metadata": {},
   "outputs": [],
   "source": [
    "ep.pp.pca(adata_norm)\n",
    "ep.pp.neighbors(adata_norm)\n",
    "ep.tl.umap(adata_norm)\n",
    "ep.tl.leiden(adata_norm, resolution=0.5, key_added=\"leiden_0.5\")"
   ]
  },
  {
   "cell_type": "code",
   "execution_count": null,
   "id": "44745bea",
   "metadata": {},
   "outputs": [],
   "source": [
    "ep.tl.leiden(adata_norm, resolution=1, key_added=\"leiden_1\")"
   ]
  },
  {
   "cell_type": "code",
   "execution_count": null,
   "id": "be70d9cc",
   "metadata": {},
   "outputs": [],
   "source": [
    "ep.pl.umap(adata_norm, color=[\"leiden_0.5\"], title=\"Leiden 0.5\")"
   ]
  },
  {
   "cell_type": "code",
   "execution_count": null,
   "id": "d0796f35",
   "metadata": {
    "scrolled": true
   },
   "outputs": [],
   "source": [
    "ep.pl.umap(adata_norm, color=[\"leiden_1\"], title=\"Leiden 1\", save = \"_Leiden_res1.pdf\")"
   ]
  },
  {
   "cell_type": "code",
   "execution_count": null,
   "id": "bdecb5c1",
   "metadata": {},
   "outputs": [],
   "source": [
    "#F08080 - light coral\n",
    "#87CEFA - lightskyblue\n",
    "#D3D3D3 - lightgrey\n",
    "\n",
    "pretty_colors = ['#000066', '#D3D3D3']\n",
    "pretty_colors2 = ['#FA8072','#92C7F9', '#D3D3D3']\n",
    "color_pal = sns.color_palette(pretty_colors2)"
   ]
  },
  {
   "cell_type": "code",
   "execution_count": null,
   "id": "7b897239",
   "metadata": {},
   "outputs": [],
   "source": [
    "ep.pl.umap(\n",
    "    adata_norm,\n",
    "    wspace=0.3,color=[\"Category\"], palette = pretty_colors,\n",
    "    title=[\"COVID-19 outcome\"], save = \"_outcome.pdf\"\n",
    ")"
   ]
  },
  {
   "cell_type": "code",
   "execution_count": null,
   "id": "f7e0d40a",
   "metadata": {
    "scrolled": true
   },
   "outputs": [],
   "source": [
    "ep.pl.umap(\n",
    "    adata_norm,\n",
    "    color=[\"Category2\"], palette = pretty_colors2,\n",
    "    wspace=0.3,\n",
    "    title=[\"COVID-19 progression\"], save = \"_progression.pdf\",\n",
    ")"
   ]
  },
  {
   "cell_type": "code",
   "execution_count": null,
   "id": "aa130bc2",
   "metadata": {},
   "outputs": [],
   "source": [
    "ep.pl.umap(\n",
    "    adata_norm,\n",
    "    color=[\"Day_of_Sampling\"],\n",
    "    wspace=0.3, \n",
    "    title=[\"Day of Sampling\"],\n",
    ")"
   ]
  },
  {
   "cell_type": "markdown",
   "id": "56d6cecf",
   "metadata": {},
   "source": [
    "# 4- Determining patient fate using a ConnectivityKernel"
   ]
  },
  {
   "cell_type": "markdown",
   "id": "69f4da3c",
   "metadata": {},
   "source": [
    "Depending on the data it may not always be possible to clearly define a cluster or specific patients as the origin. When working with single-cell data this is easier because when stem cells are detected these are usually the origin of cell differentiation processes.\n",
    "\n",
    "In our case we do not have any clear origin and will therefore start with cellrank’s ConnectivityKernel. This kernel computes transition probabilities based on similarities among patients using a KNN graph.\n",
    "First we define the kernel, compute the transition matrix and a projection ontop of the UMAP."
   ]
  },
  {
   "cell_type": "code",
   "execution_count": null,
   "id": "f2edbb95",
   "metadata": {},
   "outputs": [],
   "source": [
    "# Based on the non-normalised data\n",
    "ck = ConnectivityKernel(adata)\n",
    "ck.compute_transition_matrix()\n",
    "ck.compute_projection(basis=\"umap\")"
   ]
  },
  {
   "cell_type": "markdown",
   "id": "9b6645a4",
   "metadata": {},
   "source": [
    "Note that ConnectivityKernel has a backward parameter which can be set to True to compute everything backwards in time.\n",
    "\n",
    "We can now visualize the project forwards and backwards in time using scvelo."
   ]
  },
  {
   "cell_type": "code",
   "execution_count": null,
   "id": "e74d5046",
   "metadata": {},
   "outputs": [],
   "source": [
    "scv.pl.velocity_embedding_stream(adata, vkey=\"T_fwd\", basis=\"umap\", color=\"leiden_0_5\")"
   ]
  },
  {
   "cell_type": "code",
   "execution_count": null,
   "id": "3b8942b4",
   "metadata": {},
   "outputs": [],
   "source": [
    "scv.pl.velocity_embedding_stream(adata, vkey=\"T_fwd\", basis=\"umap\", color=\"leiden_1\")"
   ]
  },
  {
   "cell_type": "code",
   "execution_count": null,
   "id": "98b1af4f",
   "metadata": {},
   "outputs": [],
   "source": [
    "ep.pl.umap(adata, color=\"Category\", title=\"Recovery vs Fatal\")"
   ]
  },
  {
   "cell_type": "code",
   "execution_count": null,
   "id": "8f4a7eeb",
   "metadata": {},
   "outputs": [],
   "source": [
    "# Using the normalised data\n",
    "ck2 = ConnectivityKernel(adata_norm)\n",
    "ck2.compute_transition_matrix()\n",
    "ck2.compute_projection(basis=\"umap\")"
   ]
  },
  {
   "cell_type": "code",
   "execution_count": null,
   "id": "ef163c39",
   "metadata": {},
   "outputs": [],
   "source": [
    "scv.pl.velocity_embedding_stream(adata_norm, vkey=\"T_fwd\", basis=\"umap\", color=\"leiden_0_5\")"
   ]
  },
  {
   "cell_type": "code",
   "execution_count": null,
   "id": "d6c5ea2b",
   "metadata": {},
   "outputs": [],
   "source": [
    "scv.pl.velocity_embedding_stream(adata_norm, vkey=\"T_fwd\", basis=\"umap\", density=3, arrow_size = 2, color=\"leiden_1\", save = \"trajectories.pdf\")"
   ]
  },
  {
   "cell_type": "markdown",
   "id": "36201f0c",
   "metadata": {},
   "source": [
    "# 5- Determining macrostates and terminal states"
   ]
  },
  {
   "cell_type": "markdown",
   "id": "a86ae2f5",
   "metadata": {},
   "source": [
    "Let’s try to find the origins of the “death clusters”. We will now define a GPCCA estimator to predict the patient fates using the above calculated transition matrix."
   ]
  },
  {
   "cell_type": "code",
   "execution_count": null,
   "id": "e1855448",
   "metadata": {},
   "outputs": [],
   "source": [
    "# Based on non-norm data\n",
    "g = cr.tl.estimators.GPCCA(ck)"
   ]
  },
  {
   "cell_type": "code",
   "execution_count": null,
   "id": "ff9f8751",
   "metadata": {},
   "outputs": [],
   "source": [
    "# As a first step we try to identify macrostates in the data.\n",
    "g.compute_macrostates(n_states=3, cluster_key=\"leiden_0_5\")\n",
    "g.macrostates_memberships"
   ]
  },
  {
   "cell_type": "code",
   "execution_count": null,
   "id": "9fee309a",
   "metadata": {},
   "outputs": [],
   "source": [
    "g.compute_macrostates(n_states=3, cluster_key=\"leiden_1\")\n",
    "g.macrostates_memberships"
   ]
  },
  {
   "cell_type": "code",
   "execution_count": null,
   "id": "152e90fd",
   "metadata": {},
   "outputs": [],
   "source": [
    "g.plot_macrostates()\n",
    "g.plot_macrostates(discrete=True)"
   ]
  },
  {
   "cell_type": "code",
   "execution_count": null,
   "id": "bbf660a0",
   "metadata": {},
   "outputs": [],
   "source": [
    "g.plot_macrostates(same_plot=False, ncols=2)"
   ]
  },
  {
   "cell_type": "code",
   "execution_count": null,
   "id": "2f35f026",
   "metadata": {},
   "outputs": [],
   "source": [
    "# define the macrostates as our terminal states.\n",
    "g.set_terminal_states_from_macrostates([\"1\", \"3\"])\n",
    "g.plot_terminal_states()"
   ]
  },
  {
   "cell_type": "code",
   "execution_count": null,
   "id": "6045513a",
   "metadata": {},
   "outputs": [],
   "source": [
    "# Based on norm data\n",
    "g2 = cr.tl.estimators.GPCCA(ck2)"
   ]
  },
  {
   "cell_type": "code",
   "execution_count": null,
   "id": "8a0fda5d",
   "metadata": {},
   "outputs": [],
   "source": [
    "# As a first step we try to identify macrostates in the data.\n",
    "g2.compute_macrostates(n_states=3, cluster_key=\"leiden_0_5\")\n",
    "g2.macrostates_memberships"
   ]
  },
  {
   "cell_type": "code",
   "execution_count": null,
   "id": "6b429953",
   "metadata": {},
   "outputs": [],
   "source": [
    "g2.compute_macrostates(n_states=3, cluster_key=\"leiden_1\")\n",
    "g2.macrostates_memberships"
   ]
  },
  {
   "cell_type": "code",
   "execution_count": null,
   "id": "dce6f5ba",
   "metadata": {},
   "outputs": [],
   "source": [
    "g2.plot_macrostates()\n",
    "g2.plot_macrostates(discrete=True)"
   ]
  },
  {
   "cell_type": "code",
   "execution_count": null,
   "id": "a2d79454",
   "metadata": {},
   "outputs": [],
   "source": [
    "g2.plot_macrostates(same_plot=False, ncols=2)"
   ]
  },
  {
   "cell_type": "code",
   "execution_count": null,
   "id": "77631090",
   "metadata": {},
   "outputs": [],
   "source": [
    "# define the macrostates as our terminal states.\n",
    "g2.set_terminal_states_from_macrostates([\"0\",\"1\",\"3\"])\n",
    "g2.plot_terminal_states()"
   ]
  },
  {
   "cell_type": "markdown",
   "id": "b4020d7c",
   "metadata": {},
   "source": [
    "# 6- Calculating absorption probabilities"
   ]
  },
  {
   "cell_type": "markdown",
   "id": "c56086f9",
   "metadata": {},
   "source": [
    "For each visit, this computes the probability of being absorbed in any of the terminal_states. In particular, this corresponds to the probability that a random walk initialized in transient visit will reach any visit from a fixed transient state before reaching a visit from any other transient state."
   ]
  },
  {
   "cell_type": "code",
   "execution_count": null,
   "id": "5f2d760d",
   "metadata": {},
   "outputs": [],
   "source": [
    "g2.compute_absorption_probabilities()"
   ]
  },
  {
   "cell_type": "code",
   "execution_count": null,
   "id": "34471b89",
   "metadata": {},
   "outputs": [],
   "source": [
    "g2.plot_absorption_probabilities()"
   ]
  },
  {
   "cell_type": "code",
   "execution_count": null,
   "id": "acb491e3",
   "metadata": {},
   "outputs": [],
   "source": [
    "# We can also calculate a pseudotime which is required for all patient visits to reach these states.\n",
    "g2.compute_absorption_probabilities(time_to_absorption=\"all\")\n",
    "g2.absorption_times\n"
   ]
  },
  {
   "cell_type": "code",
   "execution_count": null,
   "id": "ee9f8874",
   "metadata": {},
   "outputs": [],
   "source": [
    "adata_norm.obs[\"mean_time_to_absorption\"] = g2.absorption_times[\"0, 1, 3 mean\"]\n",
    "scv.pl.scatter(adata_norm, color=\"mean_time_to_absorption\")"
   ]
  },
  {
   "cell_type": "markdown",
   "id": "a5a0838a",
   "metadata": {},
   "source": [
    "# 7- Extracting lineage drivers"
   ]
  },
  {
   "cell_type": "markdown",
   "id": "d23992f4",
   "metadata": {},
   "source": [
    "As a next step we want to determine the major features driving these transitions and terminal states.\n"
   ]
  },
  {
   "cell_type": "code",
   "execution_count": null,
   "id": "52c73bef",
   "metadata": {},
   "outputs": [],
   "source": [
    "g2.compute_lineage_drivers()"
   ]
  },
  {
   "cell_type": "code",
   "execution_count": null,
   "id": "8763b08f",
   "metadata": {},
   "outputs": [],
   "source": [
    "g2.plot_lineage_drivers(lineage=\"0\", ncols=2, save = \".pdf\")"
   ]
  },
  {
   "cell_type": "code",
   "execution_count": null,
   "id": "4155bb5c",
   "metadata": {},
   "outputs": [],
   "source": [
    "g2.plot_lineage_drivers(lineage=\"1\", ncols=2)"
   ]
  },
  {
   "cell_type": "code",
   "execution_count": null,
   "id": "d3a8e834",
   "metadata": {},
   "outputs": [],
   "source": [
    "g2.plot_lineage_drivers(lineage=\"3\", ncols=2)"
   ]
  },
  {
   "cell_type": "markdown",
   "id": "677cf308",
   "metadata": {},
   "source": [
    "# 8- Exploring cluster fates"
   ]
  },
  {
   "cell_type": "code",
   "execution_count": null,
   "id": "8162d57a",
   "metadata": {},
   "outputs": [],
   "source": [
    "cr.pl.cluster_fates(adata_norm, mode=\"bar\", cluster_key=\"leiden_1\")"
   ]
  },
  {
   "cell_type": "code",
   "execution_count": null,
   "id": "ce206928",
   "metadata": {},
   "outputs": [],
   "source": [
    "cr.pl.cluster_fates(adata_norm, mode=\"heatmap\", cluster_key=\"leiden_1\")\n",
    "cr.pl.cluster_fates(adata_norm, mode=\"clustermap\", cluster_key=\"leiden_1\")"
   ]
  },
  {
   "cell_type": "markdown",
   "id": "b72763cd",
   "metadata": {},
   "source": [
    "We can also leverage PAGA to visualize this information in a PAGA graph"
   ]
  },
  {
   "cell_type": "code",
   "execution_count": null,
   "id": "e4b6465e",
   "metadata": {},
   "outputs": [],
   "source": [
    "ep.tl.paga(adata_norm, groups=\"leiden_1\")"
   ]
  },
  {
   "cell_type": "code",
   "execution_count": null,
   "id": "772c78d1",
   "metadata": {},
   "outputs": [],
   "source": [
    "cr.pl.cluster_fates(adata_norm, mode=\"paga_pie\", basis=\"umap\", cluster_key=\"leiden_1\")"
   ]
  },
  {
   "cell_type": "code",
   "execution_count": null,
   "id": "7854d6da",
   "metadata": {},
   "outputs": [],
   "source": [
    "cr.pl.cluster_fates(\n",
    "    adata_norm, mode=\"paga\", legend_loc=\"on data\", basis=\"umap\", cluster_key=\"leiden_1\"\n",
    ")"
   ]
  },
  {
   "cell_type": "code",
   "execution_count": null,
   "id": "b9336695",
   "metadata": {},
   "outputs": [],
   "source": [
    "cr.pl.circular_projection(\n",
    "    adata_norm, keys=[\"leiden_1\", \"kl_divergence\"], legend_loc=\"upper right\"\n",
    ")"
   ]
  },
  {
   "cell_type": "markdown",
   "id": "9804e6a9",
   "metadata": {},
   "source": [
    "# 9- Determining patient fate with a PseudotimeKernel"
   ]
  },
  {
   "cell_type": "markdown",
   "id": "f2a6f6a8",
   "metadata": {},
   "source": [
    "• We have now learnt that for example death dominated cluster 7 origins from cluster 10 (high IV). Hence, we will now set a patient from cluster 10 as our root for our pseudotime calculation and will verify that we would indeed end up in clusters 4, 7 and 8.\n",
    "• Using pseudotime to find terminal states is even more useful when the terminal states are unknown and only a root cluster is clear.\n",
    "• The Pseudotime kernel computes direct transition probabilities based on a KNN graph and pseudotime.\n",
    "• The KNN graph contains information about the (undirected) connectivities among cells, reflecting their similarity. Pseudotime can be used to either remove edges that point against the direction of increasing pseudotime, or to downweight them."
   ]
  },
  {
   "cell_type": "code",
   "execution_count": null,
   "id": "bcb82edb",
   "metadata": {},
   "outputs": [],
   "source": [
    "adata_norm.uns[\"iroot\"] = np.flatnonzero(adata_norm.obs[\"leiden_1\"] == \"5\")[0]\n",
    "ep.tl.dpt(adata_norm)"
   ]
  },
  {
   "cell_type": "code",
   "execution_count": null,
   "id": "be94a007",
   "metadata": {},
   "outputs": [],
   "source": [
    "pk = PseudotimeKernel(adata_norm)\n",
    "pk.compute_transition_matrix()\n",
    "pk.compute_projection(basis=\"umap\")"
   ]
  },
  {
   "cell_type": "code",
   "execution_count": null,
   "id": "06ec09f0",
   "metadata": {},
   "outputs": [],
   "source": [
    "scv.pl.velocity_embedding_stream(adata_norm, vkey=\"T_fwd\", basis=\"umap\", color=\"leiden_1\")"
   ]
  },
  {
   "cell_type": "markdown",
   "id": "3fea32e6",
   "metadata": {},
   "source": [
    "# 10- Simulating transitions with random walks"
   ]
  },
  {
   "cell_type": "markdown",
   "id": "592d9cac",
   "metadata": {},
   "source": [
    "Cellrank makes it easy to simulate the behavior of random walks from specific clusters. This allows us to not only visualize where the patients end up, but also roughly how many in which clusters after a defined number of iterations. We can either just start walking…"
   ]
  },
  {
   "cell_type": "code",
   "execution_count": null,
   "id": "d8e68804",
   "metadata": {},
   "outputs": [],
   "source": [
    "pk.plot_random_walks(\n",
    "    100,\n",
    "    start_ixs={\"leiden_1\": \"0\"},\n",
    "    max_iter=100,\n",
    "    show_progress_bar=False,\n",
    "    ixs_legend_loc=\"best\",\n",
    "    seed=42,\n",
    ")"
   ]
  },
  {
   "cell_type": "code",
   "execution_count": null,
   "id": "b3eff47f",
   "metadata": {},
   "outputs": [],
   "source": [
    "# … or set a number of required hits in one or more terminal clusters. Here, we require 50 hits in one of our three “death” clusters.\n",
    "pk.plot_random_walks(\n",
    "    200,\n",
    "    start_ixs={\"leiden_1\": \"1\"},\n",
    "    stop_ixs={\"leiden_1\": [\"0\", \"3\", \"6\"]},\n",
    "    max_iter=100,\n",
    "    successive_hits=50,\n",
    "    show_progress_bar=False,\n",
    "    cmap=\"viridis\",\n",
    "    seed=42,\n",
    ")"
   ]
  },
  {
   "cell_type": "markdown",
   "id": "7549fce7",
   "metadata": {},
   "source": [
    "# 11- Determining feature trends"
   ]
  },
  {
   "cell_type": "markdown",
   "id": "50965f98",
   "metadata": {},
   "source": [
    "cellrank uses Generalized Additive Models (GAMs) to determine trends of features."
   ]
  },
  {
   "cell_type": "code",
   "execution_count": null,
   "id": "f494d1f2",
   "metadata": {},
   "outputs": [],
   "source": [
    "model = cr.ul.models.GAM(adata_norm)\n",
    "cr.pl.gene_trends(\n",
    "    adata_norm,\n",
    "    model,\n",
    "    [\"TPO\"],\n",
    "    time_key=\"dpt_pseudotime\",\n",
    "    show_progress_bar=False,\n",
    ")"
   ]
  },
  {
   "cell_type": "code",
   "execution_count": null,
   "id": "e042f653",
   "metadata": {},
   "outputs": [],
   "source": [
    "cr.pl.gene_trends(\n",
    "    adata,\n",
    "    model,\n",
    "    [\"iv_day_1\"],\n",
    "    same_plot=True,\n",
    "    hide_cells=True,\n",
    "    time_key=\"dpt_pseudotime\",\n",
    "    show_progress_bar=False,\n",
    ")"
   ]
  },
  {
   "cell_type": "code",
   "execution_count": null,
   "id": "e3aff43f",
   "metadata": {},
   "outputs": [],
   "source": []
  }
 ],
 "metadata": {
  "kernelspec": {
   "display_name": "Python 3 (ipykernel)",
   "language": "python",
   "name": "python3"
  },
  "language_info": {
   "codemirror_mode": {
    "name": "ipython",
    "version": 3
   },
   "file_extension": ".py",
   "mimetype": "text/x-python",
   "name": "python",
   "nbconvert_exporter": "python",
   "pygments_lexer": "ipython3",
   "version": "3.9.13"
  }
 },
 "nbformat": 4,
 "nbformat_minor": 5
}
